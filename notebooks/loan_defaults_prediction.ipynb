{
 "cells": [
  {
   "cell_type": "markdown",
   "metadata": {},
   "source": [
    "# Loan defaults prediction using Sparkling Water"
   ]
  },
  {
   "cell_type": "markdown",
   "metadata": {},
   "source": [
    "## Outline:\n",
    "\n",
    "- Architecture\n",
    "    - environment set-up:\n",
    "        - `Pipenv`\n",
    "        - `Spark`\n",
    "        - `Jupyter`\n",
    "        - `H2O`\n",
    "    - how to run this notebook\n",
    "- Set-up datasets using local spark warehouse\n",
    "- `Spark:` Initial data exploration\n",
    "    - target variable distribution\n",
    "    - first hypotheses\n",
    "    - data pre-processing\n",
    "    - heavy feature engineering (leveraging Spark)\n",
    "        - averages using window functions\n",
    "        - removing non-significant keywords\n",
    "    - data cleaning (simple operations that can be done in Spark)\n",
    "- `H2O:`\n",
    "    - variable encoding\n",
    "    - outlier detection\n",
    "    - leveraging `scikit-learn` for small scale pre-processing\n",
    "    - set-up baseline model\n",
    "        - mean model\n",
    "    - develop more complex models (tracking performance with baseline to find the value of development)\n",
    "- Summary\n",
    "    - use AWS EC2 for reproducible and scalable model building\n",
    "        - we might at some point try to use a cluster of machines for that\n",
    "    - export **user settings** for the notebook\n",
    "    - **create functions** from code that will be reused more than once\n",
    "    - two stage models do not really work! (unless first level is very, very accurate)\n",
    "    - Always use simpler model from the very beginning that will open the road to smart feature engineering\n",
    "        - average rev per campaign\n",
    "        - avreage rev per account etcc\n",
    "    - All in all sampling and weighting can make a process much faste\n",
    "    - Balancing is a good idea but not in two step models (too much to be done in the end)\n",
    "    - Workflow with Sparkling water is very robust and enables to leverage a lot of Python libraries (scikit-learn, scipy)\n",
    "    - deep learning is not super fast (even on fast machine) so for big datasets like this one would probably still use XGboost\n",
    "\n",
    "\n"
   ]
  },
  {
   "cell_type": "markdown",
   "metadata": {},
   "source": [
    "## How to run this notebook on Amazon EC2 cluster:\n",
    "\n",
    " - clone the repo\n",
    " - run installation script\n",
    " - start jupyter notebook server\n",
    " - load the notebook\n",
    " - export Python envir for Spark\n",
    " - export AWS credentials for S3 bucket"
   ]
  },
  {
   "cell_type": "markdown",
   "metadata": {},
   "source": [
    "## Architecture details:"
   ]
  },
  {
   "cell_type": "markdown",
   "metadata": {},
   "source": [
    "![alt text](https://i0.wp.com/blog.h2o.ai/wp-content/uploads/2017/04/hdi-image5.jpg?resize=700%2C394)"
   ]
  },
  {
   "cell_type": "markdown",
   "metadata": {},
   "source": [
    "Note: also using `scikit-learn` utilities are much easier with H2O Data Frame than with pySpark (due to the unordered character of Spark DataFrame)"
   ]
  },
  {
   "cell_type": "markdown",
   "metadata": {
    "scrolled": false
   },
   "source": [
    "As a master node I'm using AWS `t2.x2large` instance with following specs:"
   ]
  },
  {
   "cell_type": "code",
   "execution_count": 1,
   "metadata": {
    "scrolled": false
   },
   "outputs": [
    {
     "name": "stdout",
     "output_type": "stream",
     "text": [
      "H/W path    Device  Class      Description\n",
      "==========================================\n",
      "                    system     HVM domU\n",
      "/0                  bus        Motherboard\n",
      "/0/0                memory     96KiB BIOS\n",
      "/0/401              processor  Intel(R) Xeon(R) CPU E5-2676 v3 @ 2.40GHz\n",
      "/0/402              processor  CPU\n",
      "/0/403              processor  CPU\n",
      "/0/404              processor  CPU\n",
      "/0/405              processor  CPU\n",
      "/0/406              processor  CPU\n",
      "/0/407              processor  CPU\n",
      "/0/408              processor  CPU\n",
      "/0/1000             memory     32GiB System Memory\n",
      "/0/1000/0           memory     16GiB DIMM RAM\n",
      "/0/1000/1           memory     16GiB DIMM RAM\n",
      "/0/100              bridge     440FX - 82441FX PMC [Natoma]\n",
      "/0/100/1            bridge     82371SB PIIX3 ISA [Natoma/Triton II]\n",
      "/0/100/1.1          storage    82371SB PIIX3 IDE [Natoma/Triton II]\n",
      "/0/100/1.3          bridge     82371AB/EB/MB PIIX4 ACPI\n",
      "/0/100/2            display    GD 5446\n",
      "/0/100/3            generic    Xen Platform Device\n",
      "/1          eth0    network    Ethernet interface\n"
     ]
    }
   ],
   "source": [
    "!sudo lshw -short"
   ]
  },
  {
   "cell_type": "markdown",
   "metadata": {},
   "source": [
    "## Task description:"
   ]
  },
  {
   "cell_type": "markdown",
   "metadata": {},
   "source": [
    "#### Advertiser programatic bidding:\n",
    "\n",
    " - The advertiser can set a price for each keyword/match type combination. \n",
    " - She can even refine her price setting by taking the device (computer, mobile, ...) into account. \n",
    " - She is furthermore free to update the prices whenever she wants. \n",
    "\n",
    "The set price mainly determines if her advertisement is shown to the user instead of a competitor’s one. Although the price decides on if the advertisement is shown, the advertiser only has to pay if the user clicks on the advertisement. A click redirects the user to the advertiser’s website offering him products that match what she was searching for. All the money the particular user spends in the next days on the advertiser’s website is attributed to the click, i.e. it is assumed that all the revenue the user generated with her conversions (=bookings, orders) after clicking on the advertisement was triggered by the advertisement.\n",
    "\n",
    "#### Keyword taxonomy:\n",
    "\n",
    "An online platform such as GetYourGuide provides easily thousands of products. Each product can have several relevant keywords such that the number of managed keywords is immense. Therefore, a hierarchy helps to categorize keywords:\n",
    "\n",
    " - **Keywords** belonging to the same product **are collected in an ad group**. \n",
    " - Several ad groups can contain the same keyword, the combination of keyword and ad group is then again unique. \n",
    " - **Ad groups** with a similar scope are bundled **in a campaign**. \n",
    " - **Campaigns** for a common target audience are collected **in the same account**.\n",
    "\n",
    "#### The question:\n",
    "\n",
    "A crucial question to answer when pricing the keywords is how much revenue one can expect from a click. In other words, what is the expected Revenue per Click (RPC). Answering this question is your task in this test."
   ]
  },
  {
   "cell_type": "markdown",
   "metadata": {},
   "source": [
    "#### Evaluation metrics:\n",
    "\n",
    "Click weighted squared distance:"
   ]
  },
  {
   "cell_type": "markdown",
   "metadata": {},
   "source": [
    "$$ cost = \\frac{1}{C} \\sum_{i=1}^{N} \\left[ c_n(r_n - \\hat{r_n})^2 \\right] $$"
   ]
  },
  {
   "cell_type": "markdown",
   "metadata": {},
   "source": [
    "This means that we can drop all rows from dataset where number of click was zero..."
   ]
  },
  {
   "cell_type": "markdown",
   "metadata": {},
   "source": [
    "-----"
   ]
  },
  {
   "cell_type": "markdown",
   "metadata": {},
   "source": [
    "### Model training assumptions\n",
    " \n",
    "- for now fit the models within channels from single periodicity tables\n",
    "- we might have models fit depending on coverage for other categories\n",
    "- no weighting/resmpling of outlets (we assume that within segments store pool is representative)\n",
    "- we tune regularisation parameters using k-fold cross validation\n",
    "- static model with time effects for some variables (also tested whether it improves model)\n",
    "- automatic detection of the features to be sumplemented with time dependency\n",
    "- we filter the data so it cover 95% of sales from items that we have seen product lifecycle from their very begining\n",
    "- we create table with launch dates within segments (to be replaced by separate Spark Job)\n",
    "- products doesn't have to end their plc, we will use normalized plc to discount achieved level of weighted distribution\n",
    "- create table with estimated product distribution\n",
    "- 2010 - 2017 (8 years)\n",
    "- create table with imputed prices (linear imputation)\n",
    "- no test if fit is close to cross-validation results\n",
    "- for now all items (we can aggregate long-tails later)\n",
    "- h2o model with Poisson multinomial trick as a benchmark for Michael pyTorch implementation"
   ]
  },
  {
   "cell_type": "markdown",
   "metadata": {},
   "source": [
    "## User specified parameters\n",
    "\n",
    "- `usr_fact_table: String` - name of the table with facts\n",
    "- `usr_item_keys: Array[String]` - name of the variables identifying stock-keeping unit (SKU)\n",
    "- `usr_item_table: String` - name of the table with imputed product features\n",
    "- `usr_launch_buffer: Int` - number of days that has to elapse since the begining of data to call first sales a launch"
   ]
  },
  {
   "cell_type": "code",
   "execution_count": 2,
   "metadata": {
    "scrolled": false
   },
   "outputs": [],
   "source": [
    "usr_s3_data_path = 's3n://jakubs-bucket/club_loan/loan.csv'\n",
    "usr_min_recall = .90"
   ]
  },
  {
   "cell_type": "markdown",
   "metadata": {},
   "source": [
    "## Setting data access\n",
    "\n",
    " - Loan csv file was loaded into the Amazon Simple Storage Service (S3) serving as a primary source of data and back-up\n",
    " - to speed up process of loading data into Spark DataFrame we loaded the data into local metastore"
   ]
  },
  {
   "cell_type": "raw",
   "metadata": {},
   "source": [
    "# move tables from s3 to local sql warehouse\n",
    "# spark.read.csv(\"s3n://jakubs-bucket/\", header=True, inferSchema=True)\n",
    "sdf_loan = spark.read.csv(usr_s3_data_path, header=True, inferSchema=True)\n",
    "sdf_loan.persist()\n",
    "print('Read {} cases from {}.'.format(sdf_loan.count(), usr_s3_data_path))"
   ]
  },
  {
   "cell_type": "raw",
   "metadata": {},
   "source": [
    "# spark.sql('create database loan')\n",
    "spark.sql('drop table if exists loan.data')\n",
    "sdf_loan.write.saveAsTable('loan.data')"
   ]
  },
  {
   "cell_type": "code",
   "execution_count": 3,
   "metadata": {},
   "outputs": [
    {
     "name": "stdout",
     "output_type": "stream",
     "text": [
      "\u001b[01;34m/home/ubuntu/spark-warehouse/\u001b[00m\r\n",
      "└── \u001b[01;34mloan.db\u001b[00m\r\n",
      "    └── \u001b[01;34mdata\u001b[00m\r\n",
      "        ├── part-00000-7d6d0974-d6d2-448a-b2fc-5f9c5ed96e66-c000.snappy.parquet\r\n",
      "        ├── part-00001-7d6d0974-d6d2-448a-b2fc-5f9c5ed96e66-c000.snappy.parquet\r\n",
      "        ├── part-00002-7d6d0974-d6d2-448a-b2fc-5f9c5ed96e66-c000.snappy.parquet\r\n",
      "        ├── part-00003-7d6d0974-d6d2-448a-b2fc-5f9c5ed96e66-c000.snappy.parquet\r\n",
      "        ├── part-00004-7d6d0974-d6d2-448a-b2fc-5f9c5ed96e66-c000.snappy.parquet\r\n",
      "        ├── part-00005-7d6d0974-d6d2-448a-b2fc-5f9c5ed96e66-c000.snappy.parquet\r\n",
      "        ├── part-00006-7d6d0974-d6d2-448a-b2fc-5f9c5ed96e66-c000.snappy.parquet\r\n",
      "        ├── part-00007-7d6d0974-d6d2-448a-b2fc-5f9c5ed96e66-c000.snappy.parquet\r\n",
      "        └── _SUCCESS\r\n",
      "\r\n",
      "2 directories, 9 files\r\n"
     ]
    }
   ],
   "source": [
    "!tree /home/ubuntu/spark-warehouse/"
   ]
  },
  {
   "cell_type": "markdown",
   "metadata": {},
   "source": [
    "## Data cleaning and feature engineering"
   ]
  },
  {
   "cell_type": "code",
   "execution_count": 4,
   "metadata": {},
   "outputs": [
    {
     "data": {
      "text/plain": [
       "887379"
      ]
     },
     "execution_count": 4,
     "metadata": {},
     "output_type": "execute_result"
    }
   ],
   "source": [
    "sdf_loan = spark \\\n",
    "    .sql('select * from loan.data') \\\n",
    "    .repartition(numPartitions=8) \\\n",
    "    .persist()\n",
    "    \n",
    "sdf_loan.count()"
   ]
  },
  {
   "cell_type": "code",
   "execution_count": 5,
   "metadata": {},
   "outputs": [],
   "source": [
    "from pyspark.sql.functions import udf, sum, col, when\n",
    " \n",
    "# TODO: move to functions and add doc-string\n",
    "def count_null_values(df):\n",
    "    cols = df.schema.names\n",
    "    cols = df.schema.names\n",
    "    expr = [sum(when(col(name).isNull(), 1).otherwise(0)).alias(name) for name in cols]\n",
    "    \n",
    "    return df.agg(*expr).toPandas()   "
   ]
  },
  {
   "cell_type": "code",
   "execution_count": 6,
   "metadata": {},
   "outputs": [],
   "source": [
    "def filter_and_cast(var, ctype, sdf):\n",
    "    res = sdf \\\n",
    "        .withColumn(var, col(var).cast(ctype)) \\\n",
    "        .filter(col(var).isNull() == False)\n",
    "    n1 = res.count()\n",
    "    n = sdf.count()\n",
    "    \n",
    "    print('Filtering and casting {}: removed {n} ({p:2.3f}%) cases due to the missing info '\n",
    "          .format(var, n=n-n1, p=(1-n1/n)* 100))\n",
    "    return res"
   ]
  },
  {
   "cell_type": "code",
   "execution_count": 7,
   "metadata": {},
   "outputs": [],
   "source": [
    "from pyspark.sql.functions import udf, month, year\n",
    "from pyspark.sql.types import DateType, datetime\n",
    "import re\n",
    "\n",
    "@udf(returnType=DateType())\n",
    "def udf_extract_date(x):\n",
    "    \n",
    "    year = int(re.search('(?<=-)\\w+', x).group(0))\n",
    "    return datetime.date(year, 1, 1)"
   ]
  },
  {
   "cell_type": "code",
   "execution_count": 8,
   "metadata": {},
   "outputs": [],
   "source": [
    "from pyspark.sql.functions import udf\n",
    "from pyspark.sql.types import StringType\n",
    "\n",
    "# generator function based on passed dictionary\n",
    "def udf_recode_string(d):\n",
    "    \n",
    "    def recode(x):\n",
    "        if x in d.keys():\n",
    "            return d[x]\n",
    "        else:\n",
    "            return None\n",
    "    return udf(recode, returnType=StringType())"
   ]
  },
  {
   "cell_type": "markdown",
   "metadata": {},
   "source": [
    "### Target variable (Loan status) preparation\n",
    "\n",
    " - Describe the rationale behind the recode"
   ]
  },
  {
   "cell_type": "code",
   "execution_count": 9,
   "metadata": {},
   "outputs": [
    {
     "data": {
      "text/plain": [
       "<matplotlib.axes._subplots.AxesSubplot at 0x7f119a3e6eb8>"
      ]
     },
     "execution_count": 9,
     "metadata": {},
     "output_type": "execute_result"
    }
   ],
   "source": [
    "tmp = sdf_loan.select('loan_status').groupBy('loan_status').count().orderBy('count').toPandas()\n",
    "tmp = tmp.set_index('loan_status')\n",
    "tmp.plot.barh()"
   ]
  },
  {
   "cell_type": "code",
   "execution_count": 10,
   "metadata": {},
   "outputs": [
    {
     "name": "stdout",
     "output_type": "stream",
     "text": [
      "Filtering and casting loan_status: removed 8461 (0.953%) cases due to the missing info \n",
      "Filtering and casting loan_default: removed 0 (0.000%) cases due to the missing info \n"
     ]
    }
   ],
   "source": [
    "loan_status_dict = {}\n",
    "loan_status_dict['Does not meet the credit policy. Status:Charged Off'] = 'Default'\n",
    "loan_status_dict['Default'] = 'Default'\n",
    "loan_status_dict['Does not meet the credit policy. Status:Fully Paid'] = 'Fully Paid'\n",
    "loan_status_dict['Late (16-30 days)'] = 'Current'\n",
    "loan_status_dict['In Grace Period'] = 'Current'\n",
    "loan_status_dict['Late (31-120 days)'] = 'Default'\n",
    "loan_status_dict['Charged Off'] = 'Default'\n",
    "loan_status_dict['Fully Paid'] = 'Fully Paid'\n",
    "loan_status_dict['Current'] = 'Current'\n",
    "loan_status_dict['Issued'] = None\n",
    "loan_status_dict['Oct-2015'] = None\n",
    "\n",
    "sdf_loan_clean = sdf_loan \\\n",
    "        .withColumn('loan_status', udf_recode_string(loan_status_dict)(col('loan_status'))) \\\n",
    "        .withColumn('loan_default', (col('loan_status') == 'Default').cast('int')) \\\n",
    "\n",
    "# remove observations with unclear data\n",
    "sdf_loan_clean = filter_and_cast('loan_status', 'string', sdf_loan_clean)\n",
    "sdf_loan_clean = filter_and_cast('loan_default', 'int', sdf_loan_clean)"
   ]
  },
  {
   "cell_type": "code",
   "execution_count": 11,
   "metadata": {
    "scrolled": false
   },
   "outputs": [
    {
     "data": {
      "text/plain": [
       "<matplotlib.axes._subplots.AxesSubplot at 0x7f1195817f60>"
      ]
     },
     "execution_count": 11,
     "metadata": {},
     "output_type": "execute_result"
    },
    {
     "data": {
      "image/png": "[encoded data removed]",
      "text/plain": [
       "<matplotlib.figure.Figure at 0x7f1195813e10>"
      ]
     },
     "metadata": {},
     "output_type": "display_data"
    }
   ],
   "source": [
    "tmp = sdf_loan_clean.select('loan_status').groupBy('loan_status').count().orderBy('count').toPandas()\n",
    "tmp = tmp.set_index('loan_status')\n",
    "tmp.plot.barh()"
   ]
  },
  {
   "cell_type": "markdown",
   "metadata": {},
   "source": [
    "### Loan variables preparation (here just summary of actions done)\n",
    "\n",
    "- cast numeric variables to float\n",
    "- filter cases with missing values\n",
    "- cast variables to numeric\n",
    "- cast date variables to datetime format\n",
    "- extract year and month from issue_d (not to be used in models though, see notes below)\n",
    "- `total_exp_pymnt` amount expected to be paid off\n",
    "- percentage of debt paid (to calculate ROI)"
   ]
  },
  {
   "cell_type": "code",
   "execution_count": 12,
   "metadata": {},
   "outputs": [],
   "source": [
    "from pyspark.sql.functions import unix_timestamp, from_unixtime, max, lit, datediff, add_months\n",
    "from pyspark.sql import Window\n",
    "\n",
    "w_all = Window.rowsBetween(Window.unboundedPreceding, Window.unboundedFollowing)"
   ]
  },
  {
   "cell_type": "code",
   "execution_count": 13,
   "metadata": {},
   "outputs": [
    {
     "name": "stdout",
     "output_type": "stream",
     "text": [
      "Filtering and casting total_pymnt: removed 68 (0.008%) cases due to the missing info \n",
      "Filtering and casting total_rec_prncp: removed 24 (0.003%) cases due to the missing info \n",
      "Filtering and casting out_prncp: removed 76 (0.009%) cases due to the missing info \n"
     ]
    }
   ],
   "source": [
    "# variables describing loan itself\n",
    "from pyspark.sql.functions import unix_timestamp, year, month, from_unixtime\n",
    "\n",
    "var_descr_loan = ['issue_d', \n",
    "            'issue_d_year',\n",
    "            'issue_d_month',\n",
    "            'loan_amnt',\n",
    "            'total_amnt_due',\n",
    "            'int_rate',\n",
    "            'installment',\n",
    "            'term', \n",
    "            'term_n',\n",
    "            'total_pymnt',\n",
    "            'total_rec_prncp',\n",
    "            'total_rec_prncp_perc',\n",
    "            'out_prncp',\n",
    "            'time_covered_prc'\n",
    "                 ]\n",
    "\n",
    "# filter null values and cast to appropriate types\n",
    "sdf_loan_clean = filter_and_cast('total_pymnt', 'double', sdf_loan_clean)\n",
    "sdf_loan_clean = filter_and_cast('total_rec_prncp', 'double', sdf_loan_clean)\n",
    "sdf_loan_clean = filter_and_cast('out_prncp', 'double', sdf_loan_clean)\n",
    "\n",
    "# create Spark dateteime object from issue_d\n",
    "sdf_loan_clean = sdf_loan_clean \\\n",
    "        .withColumn('issue_d_ts', from_unixtime(unix_timestamp(col('issue_d'), format='MMM-yyyy'))) \\\n",
    "        .withColumn('issue_d_year', year(col('issue_d_ts'))) \\\n",
    "        .withColumn('issue_d_month', month(col('issue_d_ts')))\n",
    "        \n",
    "# create number of installments\n",
    "sdf_loan_clean = sdf_loan_clean \\\n",
    "        .withColumn('term_n', when(col('term') == ' 36 months', lit(36.0)).otherwise(60))\n",
    "\n",
    "# create total ammount due\n",
    "sdf_loan_clean = sdf_loan_clean \\\n",
    "        .withColumn('total_amnt_due', col('term_n') * col('installment'))\n",
    "\n",
    "# create percentage of the timeline covered by the data\n",
    "max_issue_d = sdf_loan_clean.select('issue_d_ts').agg(max(col('issue_d_ts')).alias('m')).collect()\n",
    "max_issue_d = max_issue_d[0]['m']\n",
    "\n",
    "sdf_loan_clean = sdf_loan_clean \\\n",
    "    .withColumn('issue_d_ts_max', lit(max_issue_d)) \\\n",
    "    .withColumn('time_covered', datediff(col('issue_d_ts_max'), col('issue_d_ts'))) \\\n",
    "    .withColumn('time_to_payoff', col('term_n') * 30) \\\n",
    "    .withColumn('time_covered_prc', when(col('time_covered') / col('time_to_payoff') < 1.0,\n",
    "                                        col('time_covered') / col('time_to_payoff')).otherwise(1.0)) \\\n",
    "\n",
    "# create percentage of debt paid\n",
    "sdf_loan_clean = sdf_loan_clean \\\n",
    "        .withColumn('total_rec_prncp_perc', col('total_rec_prncp') / col('loan_amnt'))\n"
   ]
  },
  {
   "cell_type": "markdown",
   "metadata": {},
   "source": [
    "#### Quality checks"
   ]
  },
  {
   "cell_type": "code",
   "execution_count": 14,
   "metadata": {
    "scrolled": false
   },
   "outputs": [
    {
     "name": "stdout",
     "output_type": "stream",
     "text": [
      "root\n",
      " |-- issue_d: string (nullable = true)\n",
      " |-- issue_d_year: integer (nullable = true)\n",
      " |-- issue_d_month: integer (nullable = true)\n",
      " |-- loan_amnt: double (nullable = true)\n",
      " |-- total_amnt_due: double (nullable = true)\n",
      " |-- int_rate: double (nullable = true)\n",
      " |-- installment: double (nullable = true)\n",
      " |-- term: string (nullable = true)\n",
      " |-- term_n: double (nullable = false)\n",
      " |-- total_pymnt: double (nullable = true)\n",
      " |-- total_rec_prncp: double (nullable = true)\n",
      " |-- total_rec_prncp_perc: double (nullable = true)\n",
      " |-- out_prncp: double (nullable = true)\n",
      " |-- time_covered_prc: double (nullable = true)\n",
      "\n"
     ]
    },
    {
     "data": {
      "text/html": [
       "<div>\n",
       "<style scoped>\n",
       "    .dataframe tbody tr th:only-of-type {\n",
       "        vertical-align: middle;\n",
       "    }\n",
       "\n",
       "    .dataframe tbody tr th {\n",
       "        vertical-align: top;\n",
       "    }\n",
       "\n",
       "    .dataframe thead th {\n",
       "        text-align: right;\n",
       "    }\n",
       "</style>\n",
       "<table border=\"1\" class=\"dataframe\">\n",
       "  <thead>\n",
       "    <tr style=\"text-align: right;\">\n",
       "      <th></th>\n",
       "      <th>issue_d</th>\n",
       "      <th>issue_d_year</th>\n",
       "      <th>issue_d_month</th>\n",
       "      <th>loan_amnt</th>\n",
       "      <th>total_amnt_due</th>\n",
       "      <th>int_rate</th>\n",
       "      <th>installment</th>\n",
       "      <th>term</th>\n",
       "      <th>term_n</th>\n",
       "      <th>total_pymnt</th>\n",
       "      <th>total_rec_prncp</th>\n",
       "      <th>total_rec_prncp_perc</th>\n",
       "      <th>out_prncp</th>\n",
       "      <th>time_covered_prc</th>\n",
       "    </tr>\n",
       "  </thead>\n",
       "  <tbody>\n",
       "    <tr>\n",
       "      <th>0</th>\n",
       "      <td>0</td>\n",
       "      <td>0</td>\n",
       "      <td>0</td>\n",
       "      <td>0</td>\n",
       "      <td>0</td>\n",
       "      <td>0</td>\n",
       "      <td>0</td>\n",
       "      <td>0</td>\n",
       "      <td>0</td>\n",
       "      <td>0</td>\n",
       "      <td>0</td>\n",
       "      <td>0</td>\n",
       "      <td>0</td>\n",
       "      <td>0</td>\n",
       "    </tr>\n",
       "  </tbody>\n",
       "</table>\n",
       "</div>"
      ],
      "text/plain": [
       "   issue_d  issue_d_year  issue_d_month  loan_amnt  total_amnt_due  int_rate  \\\n",
       "0        0             0              0          0               0         0   \n",
       "\n",
       "   installment  term  term_n  total_pymnt  total_rec_prncp  \\\n",
       "0            0     0       0            0                0   \n",
       "\n",
       "   total_rec_prncp_perc  out_prncp  time_covered_prc  \n",
       "0                     0          0                 0  "
      ]
     },
     "execution_count": 14,
     "metadata": {},
     "output_type": "execute_result"
    }
   ],
   "source": [
    "tmp = sdf_loan_clean.select(*var_descr_loan)\n",
    "\n",
    "# check types and amount of missings\n",
    "tmp.printSchema()\n",
    "count_null_values(tmp)"
   ]
  },
  {
   "cell_type": "code",
   "execution_count": 15,
   "metadata": {},
   "outputs": [
    {
     "data": {
      "text/plain": [
       "878750"
      ]
     },
     "execution_count": 15,
     "metadata": {},
     "output_type": "execute_result"
    }
   ],
   "source": [
    "sdf_loan_clean.persist()\n",
    "sdf_loan_clean.count()"
   ]
  },
  {
   "cell_type": "code",
   "execution_count": 16,
   "metadata": {},
   "outputs": [
    {
     "data": {
      "image/png": "[encoded data removed]",
      "text/plain": [
       "<matplotlib.figure.Figure at 0x7f119584d0f0>"
      ]
     },
     "metadata": {},
     "output_type": "display_data"
    }
   ],
   "source": [
    "tmp = sdf_loan_clean \\\n",
    "    .select('loan_status', 'total_rec_prncp_perc') \\\n",
    "    .toPandas()\n",
    "\n",
    "p = tmp.groupby('loan_status').boxplot(figsize=(16, 5), layout=(1, 3))    "
   ]
  },
  {
   "cell_type": "code",
   "execution_count": 19,
   "metadata": {},
   "outputs": [
    {
     "data": {
      "image/png": "[encoded data removed]",
      "text/plain": [
       "<matplotlib.figure.Figure at 0x7f1194d101d0>"
      ]
     },
     "metadata": {},
     "output_type": "display_data"
    }
   ],
   "source": [
    "# create scatter of numerical variables (with a colour according to the class)\n",
    "import pandas as pd\n",
    "import matplotlib.pyplot as plt\n",
    "%matplotlib inline\n",
    "\n",
    "pdf = sdf_loan_clean \\\n",
    "    .select('installment', 'int_rate', 'loan_amnt', 'total_pymnt', 'total_rec_prncp', 'total_rec_prncp_perc',\n",
    "            'out_prncp', 'loan_default') \\\n",
    "    .sample(fraction=.01, withReplacement=False, seed=2014) \\\n",
    "    .toPandas()\n",
    "    \n",
    "p = pd.plotting.scatter_matrix(pdf.iloc[:, 0:-1], figsize=(11, 8), marker='o',\n",
    "                        hist_kwds={'bins': 20}, s=60, alpha=.8, c=pdf['loan_default'])"
   ]
  },
  {
   "cell_type": "code",
   "execution_count": 18,
   "metadata": {},
   "outputs": [
    {
     "data": {
      "text/html": [
       "<div>\n",
       "<style scoped>\n",
       "    .dataframe tbody tr th:only-of-type {\n",
       "        vertical-align: middle;\n",
       "    }\n",
       "\n",
       "    .dataframe tbody tr th {\n",
       "        vertical-align: top;\n",
       "    }\n",
       "\n",
       "    .dataframe thead th {\n",
       "        text-align: right;\n",
       "    }\n",
       "</style>\n",
       "<table border=\"1\" class=\"dataframe\">\n",
       "  <thead>\n",
       "    <tr style=\"text-align: right;\">\n",
       "      <th></th>\n",
       "      <th>installment</th>\n",
       "      <th>int_rate</th>\n",
       "      <th>loan_amnt</th>\n",
       "      <th>total_pymnt</th>\n",
       "      <th>total_rec_prncp</th>\n",
       "      <th>total_rec_prncp_perc</th>\n",
       "      <th>out_prncp</th>\n",
       "      <th>loan_default</th>\n",
       "    </tr>\n",
       "  </thead>\n",
       "  <tbody>\n",
       "    <tr>\n",
       "      <th>installment</th>\n",
       "      <td>1.000000</td>\n",
       "      <td>0.132509</td>\n",
       "      <td>0.944994</td>\n",
       "      <td>0.521701</td>\n",
       "      <td>0.455595</td>\n",
       "      <td>-0.059870</td>\n",
       "      <td>0.542506</td>\n",
       "      <td>0.012504</td>\n",
       "    </tr>\n",
       "    <tr>\n",
       "      <th>int_rate</th>\n",
       "      <td>0.132509</td>\n",
       "      <td>1.000000</td>\n",
       "      <td>0.145000</td>\n",
       "      <td>0.168839</td>\n",
       "      <td>0.052382</td>\n",
       "      <td>-0.018370</td>\n",
       "      <td>0.043561</td>\n",
       "      <td>0.171816</td>\n",
       "    </tr>\n",
       "    <tr>\n",
       "      <th>loan_amnt</th>\n",
       "      <td>0.944994</td>\n",
       "      <td>0.145000</td>\n",
       "      <td>1.000000</td>\n",
       "      <td>0.481677</td>\n",
       "      <td>0.396470</td>\n",
       "      <td>-0.137525</td>\n",
       "      <td>0.642907</td>\n",
       "      <td>0.000919</td>\n",
       "    </tr>\n",
       "    <tr>\n",
       "      <th>total_pymnt</th>\n",
       "      <td>0.521701</td>\n",
       "      <td>0.168839</td>\n",
       "      <td>0.481677</td>\n",
       "      <td>1.000000</td>\n",
       "      <td>0.969446</td>\n",
       "      <td>0.658406</td>\n",
       "      <td>-0.281817</td>\n",
       "      <td>-0.042638</td>\n",
       "    </tr>\n",
       "    <tr>\n",
       "      <th>total_rec_prncp</th>\n",
       "      <td>0.455595</td>\n",
       "      <td>0.052382</td>\n",
       "      <td>0.396470</td>\n",
       "      <td>0.969446</td>\n",
       "      <td>1.000000</td>\n",
       "      <td>0.730877</td>\n",
       "      <td>-0.366078</td>\n",
       "      <td>-0.094969</td>\n",
       "    </tr>\n",
       "    <tr>\n",
       "      <th>total_rec_prncp_perc</th>\n",
       "      <td>-0.059870</td>\n",
       "      <td>-0.018370</td>\n",
       "      <td>-0.137525</td>\n",
       "      <td>0.658406</td>\n",
       "      <td>0.730877</td>\n",
       "      <td>1.000000</td>\n",
       "      <td>-0.666972</td>\n",
       "      <td>-0.122561</td>\n",
       "    </tr>\n",
       "    <tr>\n",
       "      <th>out_prncp</th>\n",
       "      <td>0.542506</td>\n",
       "      <td>0.043561</td>\n",
       "      <td>0.642907</td>\n",
       "      <td>-0.281817</td>\n",
       "      <td>-0.366078</td>\n",
       "      <td>-0.666972</td>\n",
       "      <td>1.000000</td>\n",
       "      <td>-0.184320</td>\n",
       "    </tr>\n",
       "    <tr>\n",
       "      <th>loan_default</th>\n",
       "      <td>0.012504</td>\n",
       "      <td>0.171816</td>\n",
       "      <td>0.000919</td>\n",
       "      <td>-0.042638</td>\n",
       "      <td>-0.094969</td>\n",
       "      <td>-0.122561</td>\n",
       "      <td>-0.184320</td>\n",
       "      <td>1.000000</td>\n",
       "    </tr>\n",
       "  </tbody>\n",
       "</table>\n",
       "</div>"
      ],
      "text/plain": [
       "                      installment  int_rate  loan_amnt  total_pymnt  \\\n",
       "installment              1.000000  0.132509   0.944994     0.521701   \n",
       "int_rate                 0.132509  1.000000   0.145000     0.168839   \n",
       "loan_amnt                0.944994  0.145000   1.000000     0.481677   \n",
       "total_pymnt              0.521701  0.168839   0.481677     1.000000   \n",
       "total_rec_prncp          0.455595  0.052382   0.396470     0.969446   \n",
       "total_rec_prncp_perc    -0.059870 -0.018370  -0.137525     0.658406   \n",
       "out_prncp                0.542506  0.043561   0.642907    -0.281817   \n",
       "loan_default             0.012504  0.171816   0.000919    -0.042638   \n",
       "\n",
       "                      total_rec_prncp  total_rec_prncp_perc  out_prncp  \\\n",
       "installment                  0.455595             -0.059870   0.542506   \n",
       "int_rate                     0.052382             -0.018370   0.043561   \n",
       "loan_amnt                    0.396470             -0.137525   0.642907   \n",
       "total_pymnt                  0.969446              0.658406  -0.281817   \n",
       "total_rec_prncp              1.000000              0.730877  -0.366078   \n",
       "total_rec_prncp_perc         0.730877              1.000000  -0.666972   \n",
       "out_prncp                   -0.366078             -0.666972   1.000000   \n",
       "loan_default                -0.094969             -0.122561  -0.184320   \n",
       "\n",
       "                      loan_default  \n",
       "installment               0.012504  \n",
       "int_rate                  0.171816  \n",
       "loan_amnt                 0.000919  \n",
       "total_pymnt              -0.042638  \n",
       "total_rec_prncp          -0.094969  \n",
       "total_rec_prncp_perc     -0.122561  \n",
       "out_prncp                -0.184320  \n",
       "loan_default              1.000000  "
      ]
     },
     "execution_count": 18,
     "metadata": {},
     "output_type": "execute_result"
    }
   ],
   "source": [
    "pdf.corr()"
   ]
  },
  {
   "cell_type": "markdown",
   "metadata": {},
   "source": [
    "### Loan description variables\n",
    " - title\n",
    " - user comments"
   ]
  },
  {
   "cell_type": "code",
   "execution_count": 21,
   "metadata": {
    "scrolled": false
   },
   "outputs": [
    {
     "data": {
      "text/plain": [
       "<matplotlib.axes._subplots.AxesSubplot at 0x7f119a0f2160>"
      ]
     },
     "execution_count": 21,
     "metadata": {},
     "output_type": "execute_result"
    },
    {
     "data": {
      "image/png": "[encoded data removed]",
      "text/plain": [
       "<matplotlib.figure.Figure at 0x7f11957e45c0>"
      ]
     },
     "metadata": {},
     "output_type": "display_data"
    }
   ],
   "source": [
    "# frequency analysis of 'purpose'\n",
    "import numpy as np\n",
    "\n",
    "tmp = sdf_loan_clean.groupBy('purpose').count().orderBy(col('count').desc()).toPandas()\n",
    "tmp['count (%)'] = tmp['count'] / tmp['count'].sum() * 100\n",
    "tmp['count (cum %)'] = np.cumsum(tmp['count (%)'])\n",
    "tmp = tmp.loc[tmp['count'] > 1, ].set_index('purpose')\n",
    "tmp[['count (%)']].sort_values('count (%)', ascending=True).plot.barh()"
   ]
  },
  {
   "cell_type": "code",
   "execution_count": 22,
   "metadata": {},
   "outputs": [
    {
     "name": "stdout",
     "output_type": "stream",
     "text": [
      "Filtering and casting purpose: removed 86 (0.010%) cases due to the missing info \n"
     ]
    }
   ],
   "source": [
    "# keep only texts with count > 1\n",
    "loan_purpose_dict = {}\n",
    "for lev in tmp.index.values:\n",
    "    loan_purpose_dict[lev] = lev\n",
    "\n",
    "sdf_loan_clean = sdf_loan_clean \\\n",
    "        .withColumn('purpose', udf_recode_string(loan_purpose_dict)(col('purpose')))\n",
    "sdf_loan_clean = filter_and_cast('purpose', 'string', sdf_loan_clean)"
   ]
  },
  {
   "cell_type": "markdown",
   "metadata": {},
   "source": [
    "### Remove rare keywords using Chi-Square test of independence"
   ]
  },
  {
   "cell_type": "code",
   "execution_count": 23,
   "metadata": {},
   "outputs": [
    {
     "ename": "NameError",
     "evalue": "name 'sdf_exp_w' is not defined",
     "output_type": "error",
     "traceback": [
      "\u001b[0;31m---------------------------------------------------------------------------\u001b[0m",
      "\u001b[0;31mNameError\u001b[0m                                 Traceback (most recent call last)",
      "\u001b[0;32m<ipython-input-23-3483b0d9c871>\u001b[0m in \u001b[0;36m<module>\u001b[0;34m()\u001b[0m\n\u001b[1;32m      1\u001b[0m \u001b[0;32mfrom\u001b[0m \u001b[0mpyspark\u001b[0m\u001b[0;34m.\u001b[0m\u001b[0msql\u001b[0m\u001b[0;34m.\u001b[0m\u001b[0mfunctions\u001b[0m \u001b[0;32mimport\u001b[0m \u001b[0mpow\u001b[0m\u001b[0;34m\u001b[0m\u001b[0m\n\u001b[1;32m      2\u001b[0m \u001b[0;34m\u001b[0m\u001b[0m\n\u001b[0;32m----> 3\u001b[0;31m \u001b[0mtmp\u001b[0m \u001b[0;34m=\u001b[0m \u001b[0msdf_exp_w\u001b[0m         \u001b[0;34m.\u001b[0m\u001b[0mselect\u001b[0m\u001b[0;34m(\u001b[0m\u001b[0;34m'Keyword_ID'\u001b[0m\u001b[0;34m,\u001b[0m \u001b[0;34m'y'\u001b[0m\u001b[0;34m,\u001b[0m \u001b[0;34m'n'\u001b[0m\u001b[0;34m)\u001b[0m         \u001b[0;34m.\u001b[0m\u001b[0mgroupBy\u001b[0m\u001b[0;34m(\u001b[0m\u001b[0;34m'Keyword_ID'\u001b[0m\u001b[0;34m,\u001b[0m \u001b[0;34m'y'\u001b[0m\u001b[0;34m)\u001b[0m         \u001b[0;34m.\u001b[0m\u001b[0magg\u001b[0m\u001b[0;34m(\u001b[0m\u001b[0msum\u001b[0m\u001b[0;34m(\u001b[0m\u001b[0mcol\u001b[0m\u001b[0;34m(\u001b[0m\u001b[0;34m'n'\u001b[0m\u001b[0;34m)\u001b[0m\u001b[0;34m)\u001b[0m\u001b[0;34m.\u001b[0m\u001b[0malias\u001b[0m\u001b[0;34m(\u001b[0m\u001b[0;34m'n'\u001b[0m\u001b[0;34m)\u001b[0m\u001b[0;34m)\u001b[0m         \u001b[0;34m.\u001b[0m\u001b[0mgroupBy\u001b[0m\u001b[0;34m(\u001b[0m\u001b[0;34m'Keyword_ID'\u001b[0m\u001b[0;34m)\u001b[0m         \u001b[0;34m.\u001b[0m\u001b[0mpivot\u001b[0m\u001b[0;34m(\u001b[0m\u001b[0;34m'y'\u001b[0m\u001b[0;34m,\u001b[0m \u001b[0;34m[\u001b[0m\u001b[0;36m0\u001b[0m\u001b[0;34m,\u001b[0m \u001b[0;36m1\u001b[0m\u001b[0;34m]\u001b[0m\u001b[0;34m)\u001b[0m\u001b[0;34m.\u001b[0m\u001b[0msum\u001b[0m\u001b[0;34m(\u001b[0m\u001b[0;34m'n'\u001b[0m\u001b[0;34m)\u001b[0m         \u001b[0;34m.\u001b[0m\u001b[0mwithColumn\u001b[0m\u001b[0;34m(\u001b[0m\u001b[0;34m'1'\u001b[0m\u001b[0;34m,\u001b[0m \u001b[0mwhen\u001b[0m\u001b[0;34m(\u001b[0m\u001b[0mcol\u001b[0m\u001b[0;34m(\u001b[0m\u001b[0;34m'1'\u001b[0m\u001b[0;34m)\u001b[0m\u001b[0;34m.\u001b[0m\u001b[0misNull\u001b[0m\u001b[0;34m(\u001b[0m\u001b[0;34m)\u001b[0m\u001b[0;34m,\u001b[0m \u001b[0;36m0.0\u001b[0m\u001b[0;34m)\u001b[0m\u001b[0;34m.\u001b[0m\u001b[0motherwise\u001b[0m\u001b[0;34m(\u001b[0m\u001b[0mcol\u001b[0m\u001b[0;34m(\u001b[0m\u001b[0;34m'1'\u001b[0m\u001b[0;34m)\u001b[0m\u001b[0;34m)\u001b[0m\u001b[0;34m)\u001b[0m         \u001b[0;34m.\u001b[0m\u001b[0mwithColumn\u001b[0m\u001b[0;34m(\u001b[0m\u001b[0;34m'n'\u001b[0m\u001b[0;34m,\u001b[0m \u001b[0mcol\u001b[0m\u001b[0;34m(\u001b[0m\u001b[0;34m'0'\u001b[0m\u001b[0;34m)\u001b[0m \u001b[0;34m+\u001b[0m \u001b[0mcol\u001b[0m\u001b[0;34m(\u001b[0m\u001b[0;34m'1'\u001b[0m\u001b[0;34m)\u001b[0m\u001b[0;34m)\u001b[0m         \u001b[0;34m.\u001b[0m\u001b[0mwithColumn\u001b[0m\u001b[0;34m(\u001b[0m\u001b[0;34m'X'\u001b[0m\u001b[0;34m,\u001b[0m \u001b[0mpow\u001b[0m\u001b[0;34m(\u001b[0m\u001b[0mcol\u001b[0m\u001b[0;34m(\u001b[0m\u001b[0;34m'0'\u001b[0m\u001b[0;34m)\u001b[0m \u001b[0;34m-\u001b[0m \u001b[0mcol\u001b[0m\u001b[0;34m(\u001b[0m\u001b[0;34m'n'\u001b[0m\u001b[0;34m)\u001b[0m \u001b[0;34m*\u001b[0m \u001b[0;36m.5\u001b[0m\u001b[0;34m,\u001b[0m \u001b[0;36m2\u001b[0m\u001b[0;34m)\u001b[0m \u001b[0;34m/\u001b[0m \u001b[0;34m(\u001b[0m\u001b[0mcol\u001b[0m\u001b[0;34m(\u001b[0m\u001b[0;34m'n'\u001b[0m\u001b[0;34m)\u001b[0m \u001b[0;34m*\u001b[0m \u001b[0;36m.5\u001b[0m\u001b[0;34m)\u001b[0m \u001b[0;34m*\u001b[0m \u001b[0;36m2.0\u001b[0m\u001b[0;34m)\u001b[0m         \u001b[0;34m.\u001b[0m\u001b[0morderBy\u001b[0m\u001b[0;34m(\u001b[0m\u001b[0mcol\u001b[0m\u001b[0;34m(\u001b[0m\u001b[0;34m'n'\u001b[0m\u001b[0;34m)\u001b[0m\u001b[0;34m.\u001b[0m\u001b[0mdesc\u001b[0m\u001b[0;34m(\u001b[0m\u001b[0;34m)\u001b[0m\u001b[0;34m)\u001b[0m         \u001b[0;34m.\u001b[0m\u001b[0mpersist\u001b[0m\u001b[0;34m(\u001b[0m\u001b[0;34m)\u001b[0m\u001b[0;34m\u001b[0m\u001b[0m\n\u001b[0m\u001b[1;32m      4\u001b[0m \u001b[0;34m\u001b[0m\u001b[0m\n\u001b[1;32m      5\u001b[0m \u001b[0mtmp\u001b[0m\u001b[0;34m.\u001b[0m\u001b[0mshow\u001b[0m\u001b[0;34m(\u001b[0m\u001b[0;36m5\u001b[0m\u001b[0;34m)\u001b[0m\u001b[0;34m\u001b[0m\u001b[0m\n",
      "\u001b[0;31mNameError\u001b[0m: name 'sdf_exp_w' is not defined"
     ]
    }
   ],
   "source": [
    "from pyspark.sql.functions import pow\n",
    "\n",
    "tmp = sdf_exp_w \\\n",
    "        .select('Keyword_ID', 'y', 'n') \\\n",
    "        .groupBy('Keyword_ID', 'y') \\\n",
    "        .agg(sum(col('n')).alias('n')) \\\n",
    "        .groupBy('Keyword_ID') \\\n",
    "        .pivot('y', [0, 1]).sum('n') \\\n",
    "        .withColumn('1', when(col('1').isNull(), 0.0).otherwise(col('1'))) \\\n",
    "        .withColumn('n', col('0') + col('1')) \\\n",
    "        .withColumn('X', pow(col('0') - col('n') * .5, 2) / (col('n') * .5) * 2.0) \\\n",
    "        .orderBy(col('n').desc()) \\\n",
    "        .persist()\n",
    "        \n",
    "tmp.show(5)\n",
    "tmp.count()"
   ]
  },
  {
   "cell_type": "code",
   "execution_count": null,
   "metadata": {},
   "outputs": [],
   "source": [
    "tmp.select('X').sample(fraction=.1, withReplacement=False, seed=2014).toPandas()['X'] \\\n",
    "    .hist(bins=30, figsize=(13, 5), range=[0, 200])\n"
   ]
  },
  {
   "cell_type": "markdown",
   "metadata": {},
   "source": [
    "https://en.wikipedia.org/wiki/Chi-squared_distribution#Table_of_χ2_values_vs_p-values"
   ]
  },
  {
   "cell_type": "code",
   "execution_count": null,
   "metadata": {},
   "outputs": [],
   "source": [
    "# very at least 100 searches and Pval<.01\n",
    "\n",
    "print(tmp.count())\n",
    "print(tmp.filter(col('X') > 3.84).count())\n",
    "print(tmp.filter((col('n') > 100)).count())\n",
    "print(tmp.filter((col('X') > 6.63) & (col('n') > 100)).count())"
   ]
  },
  {
   "cell_type": "code",
   "execution_count": null,
   "metadata": {},
   "outputs": [],
   "source": [
    "# create sdf with pruned keyword variable\n",
    "\n",
    "from pyspark.sql.functions import lit\n",
    "sdf_rm_keywords = tmp.filter((col('X') > 6.63) & (col('n') > 100)).select('Keyword_ID').withColumn(\"valid\", lit(1)).persist()\n",
    "sdf_rm_keywords.count()"
   ]
  },
  {
   "cell_type": "code",
   "execution_count": null,
   "metadata": {},
   "outputs": [],
   "source": [
    "sdf_exp_w_r = sdf_exp_w.alias('A') \\\n",
    "        .join(sdf_rm_keywords.alias('B'), col('A.Keyword_ID') == col('B.Keyword_ID'), how='left') \\\n",
    "        .withColumn('valid', when(col('valid').isNull(), 0).otherwise(col('valid'))) \\\n",
    "        .drop(col('B.Keyword_ID')) \\\n",
    "        .withColumn('Keyword_ID_r', when(col('valid') == 1, col('Keyword_ID')).otherwise(0)) \\\n",
    "        .drop('valid') \\\n",
    "        .persist()\n",
    "        \n",
    "sdf_exp_w_r.count()"
   ]
  },
  {
   "cell_type": "code",
   "execution_count": null,
   "metadata": {},
   "outputs": [],
   "source": []
  },
  {
   "cell_type": "markdown",
   "metadata": {},
   "source": [
    "## Modeling\n",
    "\n",
    "### Sample composition"
   ]
  },
  {
   "cell_type": "code",
   "execution_count": 24,
   "metadata": {
    "scrolled": false
   },
   "outputs": [
    {
     "data": {
      "text/plain": [
       "<matplotlib.axes._subplots.AxesSubplot at 0x7f1193cd3240>"
      ]
     },
     "execution_count": 24,
     "metadata": {},
     "output_type": "execute_result"
    },
    {
     "data": {
      "image/png": "[encoded data removed]",
      "text/plain": [
       "<matplotlib.figure.Figure at 0x7f1193cf97b8>"
      ]
     },
     "metadata": {},
     "output_type": "display_data"
    }
   ],
   "source": [
    "import pandas as pd\n",
    "import numpy as np\n",
    "import matplotlib.pyplot as plt\n",
    "%matplotlib inline\n",
    "\n",
    "tmp = sdf_loan_clean \\\n",
    "    .select('loan_status', col('issue_d_year').alias('year')) \\\n",
    "    .groupBy('loan_status', 'year').count() \\\n",
    "    .orderBy(col('count').asc()) \\\n",
    "    .toPandas()\n",
    "    \n",
    "def tmp_lambda(x):\n",
    "    x[np.isnan(x)] = 0.0\n",
    "    x = x / x.sum()\n",
    "    return x\n",
    "    \n",
    "tmp \\\n",
    "    .pivot(index='year', columns='loan_status', values='count') \\\n",
    "    .apply(tmp_lambda, axis=1) \\\n",
    "    .plot.bar(figsize=(13, 5))"
   ]
  },
  {
   "cell_type": "markdown",
   "metadata": {},
   "source": [
    "TODO: bias in number of loans... (number of loans and amount of money per year)  \n",
    "TODO: total structure of the classes"
   ]
  },
  {
   "cell_type": "markdown",
   "metadata": {},
   "source": [
    "#### Conclusions:\n",
    "\n",
    " - we cannot use date as this would simply reflect the loan structure"
   ]
  },
  {
   "cell_type": "markdown",
   "metadata": {},
   "source": [
    "### Book ROI"
   ]
  },
  {
   "cell_type": "code",
   "execution_count": 25,
   "metadata": {},
   "outputs": [
    {
     "data": {
      "text/html": [
       "<div>\n",
       "<style scoped>\n",
       "    .dataframe tbody tr th:only-of-type {\n",
       "        vertical-align: middle;\n",
       "    }\n",
       "\n",
       "    .dataframe tbody tr th {\n",
       "        vertical-align: top;\n",
       "    }\n",
       "\n",
       "    .dataframe thead th {\n",
       "        text-align: right;\n",
       "    }\n",
       "</style>\n",
       "<table border=\"1\" class=\"dataframe\">\n",
       "  <thead>\n",
       "    <tr style=\"text-align: right;\">\n",
       "      <th></th>\n",
       "      <th>issue_d_year</th>\n",
       "      <th>loan_amnt</th>\n",
       "      <th>total_pymnt</th>\n",
       "      <th>REVENUE</th>\n",
       "      <th>PROFIT</th>\n",
       "      <th>ROI</th>\n",
       "    </tr>\n",
       "  </thead>\n",
       "  <tbody>\n",
       "    <tr>\n",
       "      <th>0</th>\n",
       "      <td>2007</td>\n",
       "      <td>4.970300e+06</td>\n",
       "      <td>4.716641e+06</td>\n",
       "      <td>4.716641</td>\n",
       "      <td>-0.253659</td>\n",
       "      <td>-0.051035</td>\n",
       "    </tr>\n",
       "    <tr>\n",
       "      <th>8</th>\n",
       "      <td>2008</td>\n",
       "      <td>2.073182e+07</td>\n",
       "      <td>1.995325e+07</td>\n",
       "      <td>19.953251</td>\n",
       "      <td>-0.778574</td>\n",
       "      <td>-0.037555</td>\n",
       "    </tr>\n",
       "    <tr>\n",
       "      <th>5</th>\n",
       "      <td>2009</td>\n",
       "      <td>5.065520e+07</td>\n",
       "      <td>5.456492e+07</td>\n",
       "      <td>54.564924</td>\n",
       "      <td>3.909724</td>\n",
       "      <td>0.077183</td>\n",
       "    </tr>\n",
       "    <tr>\n",
       "      <th>6</th>\n",
       "      <td>2010</td>\n",
       "      <td>1.308266e+08</td>\n",
       "      <td>1.395540e+08</td>\n",
       "      <td>139.554016</td>\n",
       "      <td>8.727380</td>\n",
       "      <td>0.066710</td>\n",
       "    </tr>\n",
       "    <tr>\n",
       "      <th>7</th>\n",
       "      <td>2011</td>\n",
       "      <td>2.553960e+08</td>\n",
       "      <td>2.835202e+08</td>\n",
       "      <td>283.520239</td>\n",
       "      <td>28.124230</td>\n",
       "      <td>0.110120</td>\n",
       "    </tr>\n",
       "    <tr>\n",
       "      <th>4</th>\n",
       "      <td>2012</td>\n",
       "      <td>6.876762e+08</td>\n",
       "      <td>7.728728e+08</td>\n",
       "      <td>772.872754</td>\n",
       "      <td>85.196515</td>\n",
       "      <td>0.123890</td>\n",
       "    </tr>\n",
       "    <tr>\n",
       "      <th>2</th>\n",
       "      <td>2013</td>\n",
       "      <td>1.626180e+09</td>\n",
       "      <td>1.875260e+09</td>\n",
       "      <td>1875.259800</td>\n",
       "      <td>249.080169</td>\n",
       "      <td>0.153169</td>\n",
       "    </tr>\n",
       "    <tr>\n",
       "      <th>3</th>\n",
       "      <td>2014</td>\n",
       "      <td>1.917261e+09</td>\n",
       "      <td>2.227741e+09</td>\n",
       "      <td>2227.741103</td>\n",
       "      <td>310.480481</td>\n",
       "      <td>0.161940</td>\n",
       "    </tr>\n",
       "    <tr>\n",
       "      <th>1</th>\n",
       "      <td>2015</td>\n",
       "      <td>1.088730e+09</td>\n",
       "      <td>1.326216e+09</td>\n",
       "      <td>1326.215767</td>\n",
       "      <td>237.485994</td>\n",
       "      <td>0.218131</td>\n",
       "    </tr>\n",
       "  </tbody>\n",
       "</table>\n",
       "</div>"
      ],
      "text/plain": [
       "   issue_d_year     loan_amnt   total_pymnt      REVENUE      PROFIT       ROI\n",
       "0          2007  4.970300e+06  4.716641e+06     4.716641   -0.253659 -0.051035\n",
       "8          2008  2.073182e+07  1.995325e+07    19.953251   -0.778574 -0.037555\n",
       "5          2009  5.065520e+07  5.456492e+07    54.564924    3.909724  0.077183\n",
       "6          2010  1.308266e+08  1.395540e+08   139.554016    8.727380  0.066710\n",
       "7          2011  2.553960e+08  2.835202e+08   283.520239   28.124230  0.110120\n",
       "4          2012  6.876762e+08  7.728728e+08   772.872754   85.196515  0.123890\n",
       "2          2013  1.626180e+09  1.875260e+09  1875.259800  249.080169  0.153169\n",
       "3          2014  1.917261e+09  2.227741e+09  2227.741103  310.480481  0.161940\n",
       "1          2015  1.088730e+09  1.326216e+09  1326.215767  237.485994  0.218131"
      ]
     },
     "execution_count": 25,
     "metadata": {},
     "output_type": "execute_result"
    }
   ],
   "source": [
    "tmp = sdf_loan_clean \\\n",
    "        .withColumn('loan_amnt', \n",
    "                    when(col('loan_status') == 'Current', col('total_rec_prncp')).otherwise(col('loan_amnt'))) \\\n",
    "        .select('loan_default', 'total_pymnt', 'loan_amnt', 'issue_d_year') \\\n",
    "        .groupBy('issue_d_year') \\\n",
    "        .agg(sum(col('loan_amnt')).alias('loan_amnt'), sum(col('total_pymnt')).alias('total_pymnt')) \\\n",
    "        .toPandas()\n",
    "\n",
    "tmp['REVENUE'] = tmp['total_pymnt']  / 1e6       \n",
    "tmp['PROFIT'] = (tmp['total_pymnt'] - tmp['loan_amnt']) / 1e6\n",
    "tmp['ROI'] = tmp['total_pymnt'] / tmp['loan_amnt'] - 1.0\n",
    "\n",
    "tmp.sort_values('issue_d_year', ascending=True)"
   ]
  },
  {
   "cell_type": "code",
   "execution_count": 26,
   "metadata": {
    "scrolled": true
   },
   "outputs": [
    {
     "data": {
      "text/html": [
       "<div>\n",
       "<style scoped>\n",
       "    .dataframe tbody tr th:only-of-type {\n",
       "        vertical-align: middle;\n",
       "    }\n",
       "\n",
       "    .dataframe tbody tr th {\n",
       "        vertical-align: top;\n",
       "    }\n",
       "\n",
       "    .dataframe thead th {\n",
       "        text-align: right;\n",
       "    }\n",
       "</style>\n",
       "<table border=\"1\" class=\"dataframe\">\n",
       "  <thead>\n",
       "    <tr style=\"text-align: right;\">\n",
       "      <th></th>\n",
       "      <th>issue_d_year</th>\n",
       "      <th>loan_amnt</th>\n",
       "      <th>total_pymnt</th>\n",
       "      <th>REVENUE</th>\n",
       "      <th>PROFIT</th>\n",
       "      <th>ROI</th>\n",
       "    </tr>\n",
       "  </thead>\n",
       "  <tbody>\n",
       "    <tr>\n",
       "      <th>0</th>\n",
       "      <td>2007</td>\n",
       "      <td>4.970300e+06</td>\n",
       "      <td>4.716641e+06</td>\n",
       "      <td>4.716641</td>\n",
       "      <td>-0.253659</td>\n",
       "      <td>-0.051035</td>\n",
       "    </tr>\n",
       "    <tr>\n",
       "      <th>8</th>\n",
       "      <td>2008</td>\n",
       "      <td>2.073182e+07</td>\n",
       "      <td>1.995325e+07</td>\n",
       "      <td>19.953251</td>\n",
       "      <td>-0.778574</td>\n",
       "      <td>-0.037555</td>\n",
       "    </tr>\n",
       "    <tr>\n",
       "      <th>5</th>\n",
       "      <td>2009</td>\n",
       "      <td>5.065520e+07</td>\n",
       "      <td>5.456492e+07</td>\n",
       "      <td>54.564924</td>\n",
       "      <td>3.909724</td>\n",
       "      <td>0.077183</td>\n",
       "    </tr>\n",
       "    <tr>\n",
       "      <th>6</th>\n",
       "      <td>2010</td>\n",
       "      <td>1.307404e+08</td>\n",
       "      <td>1.394336e+08</td>\n",
       "      <td>139.433611</td>\n",
       "      <td>8.693211</td>\n",
       "      <td>0.066492</td>\n",
       "    </tr>\n",
       "    <tr>\n",
       "      <th>7</th>\n",
       "      <td>2011</td>\n",
       "      <td>2.293101e+08</td>\n",
       "      <td>2.441772e+08</td>\n",
       "      <td>244.177160</td>\n",
       "      <td>14.867035</td>\n",
       "      <td>0.064834</td>\n",
       "    </tr>\n",
       "    <tr>\n",
       "      <th>4</th>\n",
       "      <td>2012</td>\n",
       "      <td>6.448271e+08</td>\n",
       "      <td>6.970647e+08</td>\n",
       "      <td>697.064715</td>\n",
       "      <td>52.237640</td>\n",
       "      <td>0.081010</td>\n",
       "    </tr>\n",
       "    <tr>\n",
       "      <th>2</th>\n",
       "      <td>2013</td>\n",
       "      <td>1.057088e+09</td>\n",
       "      <td>1.066991e+09</td>\n",
       "      <td>1066.990520</td>\n",
       "      <td>9.903020</td>\n",
       "      <td>0.009368</td>\n",
       "    </tr>\n",
       "    <tr>\n",
       "      <th>3</th>\n",
       "      <td>2014</td>\n",
       "      <td>1.061570e+09</td>\n",
       "      <td>9.552547e+08</td>\n",
       "      <td>955.254662</td>\n",
       "      <td>-106.315063</td>\n",
       "      <td>-0.100149</td>\n",
       "    </tr>\n",
       "    <tr>\n",
       "      <th>1</th>\n",
       "      <td>2015</td>\n",
       "      <td>4.520362e+08</td>\n",
       "      <td>3.633159e+08</td>\n",
       "      <td>363.315934</td>\n",
       "      <td>-88.720216</td>\n",
       "      <td>-0.196268</td>\n",
       "    </tr>\n",
       "  </tbody>\n",
       "</table>\n",
       "</div>"
      ],
      "text/plain": [
       "   issue_d_year     loan_amnt   total_pymnt      REVENUE      PROFIT       ROI\n",
       "0          2007  4.970300e+06  4.716641e+06     4.716641   -0.253659 -0.051035\n",
       "8          2008  2.073182e+07  1.995325e+07    19.953251   -0.778574 -0.037555\n",
       "5          2009  5.065520e+07  5.456492e+07    54.564924    3.909724  0.077183\n",
       "6          2010  1.307404e+08  1.394336e+08   139.433611    8.693211  0.066492\n",
       "7          2011  2.293101e+08  2.441772e+08   244.177160   14.867035  0.064834\n",
       "4          2012  6.448271e+08  6.970647e+08   697.064715   52.237640  0.081010\n",
       "2          2013  1.057088e+09  1.066991e+09  1066.990520    9.903020  0.009368\n",
       "3          2014  1.061570e+09  9.552547e+08   955.254662 -106.315063 -0.100149\n",
       "1          2015  4.520362e+08  3.633159e+08   363.315934  -88.720216 -0.196268"
      ]
     },
     "execution_count": 26,
     "metadata": {},
     "output_type": "execute_result"
    }
   ],
   "source": [
    "tmp = sdf_loan_clean \\\n",
    "        .filter(col('loan_status') != 'Current') \\\n",
    "        .select('loan_default', 'total_pymnt', 'loan_amnt', 'issue_d_year') \\\n",
    "        .groupBy('issue_d_year') \\\n",
    "        .agg(sum(col('loan_amnt')).alias('loan_amnt'), sum(col('total_pymnt')).alias('total_pymnt')) \\\n",
    "        .toPandas()\n",
    "\n",
    "tmp['REVENUE'] = tmp['total_pymnt']  / 1e6       \n",
    "tmp['PROFIT'] = (tmp['total_pymnt'] - tmp['loan_amnt']) / 1e6\n",
    "tmp['ROI'] = tmp['total_pymnt'] / tmp['loan_amnt'] - 1.0\n",
    "\n",
    "tmp.sort_values('issue_d_year', ascending=True)"
   ]
  },
  {
   "cell_type": "markdown",
   "metadata": {},
   "source": [
    "### Balance classes"
   ]
  },
  {
   "cell_type": "code",
   "execution_count": 27,
   "metadata": {},
   "outputs": [
    {
     "name": "stdout",
     "output_type": "stream",
     "text": [
      "Class percentage before weighting: Y==1: 6.69%, Y==0: 93.31%\n",
      "Class percentage after balancing: Y==1: 50.00%, Y==0: 50.00%\n"
     ]
    }
   ],
   "source": [
    "from pyspark.sql.functions import lit, when\n",
    "\n",
    "sdf_loan_clean = sdf_loan_clean.withColumn('w', lit(1.0))\n",
    "\n",
    "tmp_0 = sdf_loan_clean.filter(col('loan_default') == 0).agg(sum(col('w')).alias('w')).collect()[0].w\n",
    "tmp_1 = sdf_loan_clean.filter(col('loan_default') == 1).agg(sum(col('w')).alias('w')).collect()[0].w\n",
    "p_0 = tmp_0 / (tmp_0 + tmp_1) * 100\n",
    "print('Class percentage before weighting: Y==1: {:2.2f}%, Y==0: {:2.2f}%'.format(100 - p_0, p_0))\n",
    "\n",
    "# class weights\n",
    "N = tmp_0 + tmp_1\n",
    "w_0 = N * .5 / tmp_0\n",
    "w_1 = N * .5 / tmp_1\n",
    "\n",
    "# create weight column\n",
    "sdf_loan_clean = sdf_loan_clean \\\n",
    "            .withColumn('w', when(col('loan_default') == 1, col('w') * w_1).otherwise(col('w') * w_0))\n",
    "    \n",
    "# sanity check\n",
    "tmp_0 = sdf_loan_clean.filter(col('loan_default') == 0).agg(sum(col('w')).alias('w')).collect()[0].w\n",
    "tmp_1 = sdf_loan_clean.filter(col('loan_default') == 1).agg(sum(col('w')).alias('w')).collect()[0].w\n",
    "p_0 = tmp_0 / (tmp_0 + tmp_1) * 100\n",
    "print('Class percentage after balancing: Y==1: {:2.2f}%, Y==0: {:2.2f}%'.format(100 - p_0, p_0))"
   ]
  },
  {
   "cell_type": "markdown",
   "metadata": {},
   "source": [
    "### Transfer data from Spark to h2o"
   ]
  },
  {
   "cell_type": "code",
   "execution_count": 28,
   "metadata": {},
   "outputs": [],
   "source": [
    "model_ft = ['loan_default', \n",
    "            'installment', \n",
    "            'issue_d_month',\n",
    "            'loan_amnt', \n",
    "            'total_amnt_due',\n",
    "            'int_rate',\n",
    "            'term_n',\n",
    "            'purpose',\n",
    "            'w']"
   ]
  },
  {
   "cell_type": "code",
   "execution_count": 29,
   "metadata": {
    "scrolled": false
   },
   "outputs": [
    {
     "name": "stdout",
     "output_type": "stream",
     "text": [
      "Connecting to H2O server at http://172.31.46.219:54321... successful.\n"
     ]
    },
    {
     "data": {
      "text/html": [
       "<div style=\"overflow:auto\"><table style=\"width:50%\"><tr><td>H2O cluster uptime:</td>\n",
       "<td>06 secs</td></tr>\n",
       "<tr><td>H2O cluster version:</td>\n",
       "<td>3.16.0.2</td></tr>\n",
       "<tr><td>H2O cluster version age:</td>\n",
       "<td>1 month and 14 days </td></tr>\n",
       "<tr><td>H2O cluster name:</td>\n",
       "<td>sparkling-water-ubuntu_local-1515859930986</td></tr>\n",
       "<tr><td>H2O cluster total nodes:</td>\n",
       "<td>1</td></tr>\n",
       "<tr><td>H2O cluster free memory:</td>\n",
       "<td>14.22 Gb</td></tr>\n",
       "<tr><td>H2O cluster total cores:</td>\n",
       "<td>8</td></tr>\n",
       "<tr><td>H2O cluster allowed cores:</td>\n",
       "<td>8</td></tr>\n",
       "<tr><td>H2O cluster status:</td>\n",
       "<td>accepting new members, healthy</td></tr>\n",
       "<tr><td>H2O connection url:</td>\n",
       "<td>http://172.31.46.219:54321</td></tr>\n",
       "<tr><td>H2O connection proxy:</td>\n",
       "<td>None</td></tr>\n",
       "<tr><td>H2O internal security:</td>\n",
       "<td>False</td></tr>\n",
       "<tr><td>H2O API Extensions:</td>\n",
       "<td>XGBoost, Algos, AutoML, Core V3, Core V4</td></tr>\n",
       "<tr><td>Python version:</td>\n",
       "<td>3.5.2 final</td></tr></table></div>"
      ],
      "text/plain": [
       "--------------------------  ------------------------------------------\n",
       "H2O cluster uptime:         06 secs\n",
       "H2O cluster version:        3.16.0.2\n",
       "H2O cluster version age:    1 month and 14 days\n",
       "H2O cluster name:           sparkling-water-ubuntu_local-1515859930986\n",
       "H2O cluster total nodes:    1\n",
       "H2O cluster free memory:    14.22 Gb\n",
       "H2O cluster total cores:    8\n",
       "H2O cluster allowed cores:  8\n",
       "H2O cluster status:         accepting new members, healthy\n",
       "H2O connection url:         http://172.31.46.219:54321\n",
       "H2O connection proxy:\n",
       "H2O internal security:      False\n",
       "H2O API Extensions:         XGBoost, Algos, AutoML, Core V3, Core V4\n",
       "Python version:             3.5.2 final\n",
       "--------------------------  ------------------------------------------"
      ]
     },
     "metadata": {},
     "output_type": "display_data"
    },
    {
     "name": "stdout",
     "output_type": "stream",
     "text": [
      "\n",
      "Sparkling Water Context:\n",
      " * H2O name: sparkling-water-ubuntu_local-1515859930986\n",
      " * cluster size: 1\n",
      " * list of used nodes:\n",
      "  (executorId, host, port)\n",
      "  ------------------------\n",
      "  (driver,172.31.46.219,54321)\n",
      "  ------------------------\n",
      "\n",
      "  Open H2O Flow in browser: http://172.31.46.219:54321 (CMD + click in Mac OSX)\n",
      "\n",
      "    \n"
     ]
    }
   ],
   "source": [
    "import h2o\n",
    "from pysparkling import H2OContext\n",
    "hc = H2OContext.getOrCreate(spark)"
   ]
  },
  {
   "cell_type": "code",
   "execution_count": 30,
   "metadata": {},
   "outputs": [],
   "source": [
    "h2o.remove_all()\n",
    "df = hc.as_h2o_frame(sdf_loan_clean \\\n",
    "                     .select('issue_d_year',\n",
    "                             'loan_status', \n",
    "                             'total_pymnt',\n",
    "                             *model_ft), framename='sdf_loan')"
   ]
  },
  {
   "cell_type": "code",
   "execution_count": 31,
   "metadata": {},
   "outputs": [
    {
     "data": {
      "text/plain": [
       "{'installment': 'real',\n",
       " 'int_rate': 'real',\n",
       " 'issue_d_month': 'enum',\n",
       " 'issue_d_year': 'int',\n",
       " 'loan_amnt': 'real',\n",
       " 'loan_default': 'enum',\n",
       " 'loan_status': 'string',\n",
       " 'purpose': 'enum',\n",
       " 'term_n': 'enum',\n",
       " 'total_amnt_due': 'real',\n",
       " 'total_pymnt': 'real',\n",
       " 'w': 'real'}"
      ]
     },
     "execution_count": 31,
     "metadata": {},
     "output_type": "execute_result"
    }
   ],
   "source": [
    "df['loan_default'] = df['loan_default'].asfactor()\n",
    "df['loan_amnt'] = df['loan_amnt'].asnumeric()\n",
    "df['term_n'] = df['term_n'].asfactor()\n",
    "df['issue_d_month'] = df['issue_d_month'].asfactor()\n",
    "df['purpose'] = df['purpose'].asfactor()\n",
    "df.types"
   ]
  },
  {
   "cell_type": "markdown",
   "metadata": {},
   "source": [
    "### Model building process\n",
    "\n",
    "We keep track of the progress with respect to the 'trivial model' to evaluate dimnishing returns of model exploration process:\n",
    "\n",
    "- majority class assignment for `y`\n",
    "- dataset average for `m`\n",
    "\n",
    "Note: We evaluate model bulding progress using validation set."
   ]
  },
  {
   "cell_type": "markdown",
   "metadata": {},
   "source": [
    "### Test, Train, Validate\n",
    "\n",
    "Few comments about splitting the dataset (date and Keyword are the key)"
   ]
  },
  {
   "cell_type": "code",
   "execution_count": 32,
   "metadata": {},
   "outputs": [],
   "source": [
    "train, validate, test = df.split_frame([.5, .2], seed=2014)\n",
    "\n",
    "validate['w'] = 1.0\n",
    "test['w'] = 1.0\n",
    "\n",
    "predictors = model_ft[1:-1]\n",
    "response = model_ft[0]\n",
    "weight = model_ft[-1]"
   ]
  },
  {
   "cell_type": "markdown",
   "metadata": {},
   "source": [
    "### Baseline model: Lasso Logistic regression\n",
    "\n",
    "http://docs.h2o.ai/h2o/latest-stable/h2o-docs/booklets/GLMBooklet.pdf  \n",
    "http://docs.h2o.ai/h2o/latest-stable/h2o-docs/data-science/glm.html"
   ]
  },
  {
   "cell_type": "markdown",
   "metadata": {},
   "source": [
    "#### Tune lasso parameters"
   ]
  },
  {
   "cell_type": "code",
   "execution_count": 50,
   "metadata": {},
   "outputs": [
    {
     "name": "stdout",
     "output_type": "stream",
     "text": [
      "glm Grid Build progress: |████████████████████████████████████████████████| 100%\n"
     ]
    }
   ],
   "source": [
    "from h2o.grid import H2OGridSearch\n",
    "from h2o.estimators.glm import H2OGeneralizedLinearEstimator\n",
    "\n",
    "import numpy as np\n",
    "\n",
    "h2o.remove('glm_grid')\n",
    "lambda_grid = list(np.logspace(start=-7.0, stop=0.0, num=10, base=10.0))\n",
    "lambda_grid.append(0.0)\n",
    "\n",
    "glm_grid = H2OGridSearch(\n",
    "        model=H2OGeneralizedLinearEstimator(family=\"binomial\", alpha=1.0),\n",
    "        hyper_params={\"lambda\": lambda_grid},\n",
    "        grid_id='glm_grid'\n",
    "    )\n",
    "\n",
    "glm_grid.train(predictors, response, training_frame=train, validation_frame=validate, weights_column = weight)"
   ]
  },
  {
   "cell_type": "code",
   "execution_count": 51,
   "metadata": {
    "scrolled": true
   },
   "outputs": [
    {
     "data": {
      "text/html": [
       "<div>\n",
       "<style scoped>\n",
       "    .dataframe tbody tr th:only-of-type {\n",
       "        vertical-align: middle;\n",
       "    }\n",
       "\n",
       "    .dataframe tbody tr th {\n",
       "        vertical-align: top;\n",
       "    }\n",
       "\n",
       "    .dataframe thead th {\n",
       "        text-align: right;\n",
       "    }\n",
       "</style>\n",
       "<table border=\"1\" class=\"dataframe\">\n",
       "  <thead>\n",
       "    <tr style=\"text-align: right;\">\n",
       "      <th></th>\n",
       "      <th>Model_ID</th>\n",
       "      <th>AUC</th>\n",
       "      <th>lambda</th>\n",
       "    </tr>\n",
       "  </thead>\n",
       "  <tbody>\n",
       "    <tr>\n",
       "      <th>7</th>\n",
       "      <td>glm_grid_model_0</td>\n",
       "      <td>0.701876</td>\n",
       "      <td>1.000000e-07</td>\n",
       "    </tr>\n",
       "    <tr>\n",
       "      <th>3</th>\n",
       "      <td>glm_grid_model_1</td>\n",
       "      <td>0.701864</td>\n",
       "      <td>5.994843e-07</td>\n",
       "    </tr>\n",
       "    <tr>\n",
       "      <th>4</th>\n",
       "      <td>glm_grid_model_10</td>\n",
       "      <td>0.701861</td>\n",
       "      <td>0.000000e+00</td>\n",
       "    </tr>\n",
       "    <tr>\n",
       "      <th>2</th>\n",
       "      <td>glm_grid_model_2</td>\n",
       "      <td>0.701843</td>\n",
       "      <td>3.593814e-06</td>\n",
       "    </tr>\n",
       "    <tr>\n",
       "      <th>5</th>\n",
       "      <td>glm_grid_model_3</td>\n",
       "      <td>0.701828</td>\n",
       "      <td>2.154435e-05</td>\n",
       "    </tr>\n",
       "    <tr>\n",
       "      <th>9</th>\n",
       "      <td>glm_grid_model_4</td>\n",
       "      <td>0.701686</td>\n",
       "      <td>1.291550e-04</td>\n",
       "    </tr>\n",
       "    <tr>\n",
       "      <th>8</th>\n",
       "      <td>glm_grid_model_5</td>\n",
       "      <td>0.700741</td>\n",
       "      <td>7.742637e-04</td>\n",
       "    </tr>\n",
       "    <tr>\n",
       "      <th>6</th>\n",
       "      <td>glm_grid_model_6</td>\n",
       "      <td>0.694744</td>\n",
       "      <td>4.641589e-03</td>\n",
       "    </tr>\n",
       "    <tr>\n",
       "      <th>1</th>\n",
       "      <td>glm_grid_model_7</td>\n",
       "      <td>0.688535</td>\n",
       "      <td>2.782559e-02</td>\n",
       "    </tr>\n",
       "    <tr>\n",
       "      <th>0</th>\n",
       "      <td>glm_grid_model_9</td>\n",
       "      <td>0.500000</td>\n",
       "      <td>1.000000e+00</td>\n",
       "    </tr>\n",
       "    <tr>\n",
       "      <th>10</th>\n",
       "      <td>glm_grid_model_8</td>\n",
       "      <td>0.500000</td>\n",
       "      <td>1.668101e-01</td>\n",
       "    </tr>\n",
       "  </tbody>\n",
       "</table>\n",
       "</div>"
      ],
      "text/plain": [
       "             Model_ID       AUC        lambda\n",
       "7    glm_grid_model_0  0.701876  1.000000e-07\n",
       "3    glm_grid_model_1  0.701864  5.994843e-07\n",
       "4   glm_grid_model_10  0.701861  0.000000e+00\n",
       "2    glm_grid_model_2  0.701843  3.593814e-06\n",
       "5    glm_grid_model_3  0.701828  2.154435e-05\n",
       "9    glm_grid_model_4  0.701686  1.291550e-04\n",
       "8    glm_grid_model_5  0.700741  7.742637e-04\n",
       "6    glm_grid_model_6  0.694744  4.641589e-03\n",
       "1    glm_grid_model_7  0.688535  2.782559e-02\n",
       "0    glm_grid_model_9  0.500000  1.000000e+00\n",
       "10   glm_grid_model_8  0.500000  1.668101e-01"
      ]
     },
     "execution_count": 51,
     "metadata": {},
     "output_type": "execute_result"
    }
   ],
   "source": [
    "import pandas as pd\n",
    "\n",
    "# get the AUC on validation set:\n",
    "pd_auc = pd.DataFrame(list(glm_grid.auc(valid=True).items()), columns=['Model_ID', 'AUC']).sort_values('AUC', ascending=False)\n",
    "model_ids = pd_auc['Model_ID'].values\n",
    "pd_auc['lambda'] = np.array([glm_grid.get_hyperparams_dict(model, display=False)['lambda'] for model in model_ids])\n",
    "pd_auc = pd_auc.sort_values('AUC', ascending=False)\n",
    "\n",
    "# select best model hyperparameters\n",
    "glm_best_model_lambda = pd_auc['lambda'].values[0]\n",
    "glm_best_model_AUC = pd_auc['AUC'].values[0]\n",
    "\n",
    "pd_auc"
   ]
  },
  {
   "cell_type": "markdown",
   "metadata": {},
   "source": [
    "#### Final model\n",
    "\n",
    "- with 10 fold cross-validation for bulidng ensemble"
   ]
  },
  {
   "cell_type": "code",
   "execution_count": 52,
   "metadata": {},
   "outputs": [
    {
     "name": "stdout",
     "output_type": "stream",
     "text": [
      "glm Model Build progress: |███████████████████████████████████████████████| 100%\n"
     ]
    }
   ],
   "source": [
    "from h2o.estimators.glm import H2OGeneralizedLinearEstimator\n",
    "\n",
    "glm_model = H2OGeneralizedLinearEstimator(family=\"binomial\", \n",
    "                                          lambda_=glm_best_model_lambda, \n",
    "                                          standardize=True,\n",
    "                                          alpha=1.0,\n",
    "                                          max_iterations=100,\n",
    "                                          nfolds = 10,\n",
    "                                          seed = 2014,\n",
    "                                          keep_cross_validation_predictions=True\n",
    "                                         )\n",
    "\n",
    "glm_model.train(predictors, response, training_frame=train, validation_frame=validate, weights_column=weight)"
   ]
  },
  {
   "cell_type": "code",
   "execution_count": 53,
   "metadata": {
    "scrolled": false
   },
   "outputs": [
    {
     "name": "stdout",
     "output_type": "stream",
     "text": [
      "Could not find exact threshold 0.3; using closest threshold found 0.29919598781245593.\n",
      "Could not find exact threshold 0.31; using closest threshold found 0.31000092816488317.\n",
      "Could not find exact threshold 0.32; using closest threshold found 0.3197954315996597.\n",
      "Could not find exact threshold 0.33; using closest threshold found 0.33042152312881157.\n",
      "Could not find exact threshold 0.34; using closest threshold found 0.3403914689929474.\n",
      "Could not find exact threshold 0.35; using closest threshold found 0.34997347463129846.\n",
      "Could not find exact threshold 0.36; using closest threshold found 0.36018326101190673.\n",
      "Could not find exact threshold 0.37; using closest threshold found 0.370559680002501.\n",
      "Could not find exact threshold 0.38; using closest threshold found 0.3800094431758198.\n",
      "Could not find exact threshold 0.39; using closest threshold found 0.38944290397483394.\n",
      "Could not find exact threshold 0.3; using closest threshold found 0.29919598781245593.\n",
      "Could not find exact threshold 0.31; using closest threshold found 0.31000092816488317.\n",
      "Could not find exact threshold 0.32; using closest threshold found 0.3197954315996597.\n",
      "Could not find exact threshold 0.33; using closest threshold found 0.33042152312881157.\n",
      "Could not find exact threshold 0.34; using closest threshold found 0.3403914689929474.\n",
      "Could not find exact threshold 0.35; using closest threshold found 0.34997347463129846.\n",
      "Could not find exact threshold 0.36; using closest threshold found 0.36018326101190673.\n",
      "Could not find exact threshold 0.37; using closest threshold found 0.370559680002501.\n",
      "Could not find exact threshold 0.38; using closest threshold found 0.3800094431758198.\n",
      "Could not find exact threshold 0.39; using closest threshold found 0.38944290397483394.\n",
      "Could not find exact threshold 0.3; using closest threshold found 0.2997924557590855.\n",
      "Could not find exact threshold 0.31; using closest threshold found 0.3094708144972089.\n",
      "Could not find exact threshold 0.32; using closest threshold found 0.3205709937160571.\n",
      "Could not find exact threshold 0.33; using closest threshold found 0.3299845479396908.\n",
      "Could not find exact threshold 0.34; using closest threshold found 0.3393464327715789.\n",
      "Could not find exact threshold 0.35; using closest threshold found 0.35070474862675605.\n",
      "Could not find exact threshold 0.36; using closest threshold found 0.3598946838112216.\n",
      "Could not find exact threshold 0.37; using closest threshold found 0.36940655453020654.\n",
      "Could not find exact threshold 0.38; using closest threshold found 0.379464671584708.\n",
      "Could not find exact threshold 0.39; using closest threshold found 0.3898555461995845.\n",
      "Could not find exact threshold 0.3; using closest threshold found 0.2997924557590855.\n",
      "Could not find exact threshold 0.31; using closest threshold found 0.3094708144972089.\n",
      "Could not find exact threshold 0.32; using closest threshold found 0.3205709937160571.\n",
      "Could not find exact threshold 0.33; using closest threshold found 0.3299845479396908.\n",
      "Could not find exact threshold 0.34; using closest threshold found 0.3393464327715789.\n",
      "Could not find exact threshold 0.35; using closest threshold found 0.35070474862675605.\n",
      "Could not find exact threshold 0.36; using closest threshold found 0.3598946838112216.\n",
      "Could not find exact threshold 0.37; using closest threshold found 0.36940655453020654.\n",
      "Could not find exact threshold 0.38; using closest threshold found 0.379464671584708.\n",
      "Could not find exact threshold 0.39; using closest threshold found 0.3898555461995845.\n"
     ]
    },
    {
     "data": {
      "text/html": [
       "<div>\n",
       "<style scoped>\n",
       "    .dataframe tbody tr th:only-of-type {\n",
       "        vertical-align: middle;\n",
       "    }\n",
       "\n",
       "    .dataframe tbody tr th {\n",
       "        vertical-align: top;\n",
       "    }\n",
       "\n",
       "    .dataframe thead th {\n",
       "        text-align: right;\n",
       "    }\n",
       "</style>\n",
       "<table border=\"1\" class=\"dataframe\">\n",
       "  <thead>\n",
       "    <tr style=\"text-align: right;\">\n",
       "      <th></th>\n",
       "      <th>thr</th>\n",
       "      <th>RECALL</th>\n",
       "      <th>FPR</th>\n",
       "      <th>RECALL (valid)</th>\n",
       "      <th>FPR (valid)</th>\n",
       "      <th>&gt; min_recall</th>\n",
       "    </tr>\n",
       "  </thead>\n",
       "  <tbody>\n",
       "    <tr>\n",
       "      <th>0</th>\n",
       "      <td>0.30</td>\n",
       "      <td>0.942102</td>\n",
       "      <td>0.756382</td>\n",
       "      <td>0.942578</td>\n",
       "      <td>0.755046</td>\n",
       "      <td>True</td>\n",
       "    </tr>\n",
       "    <tr>\n",
       "      <th>1</th>\n",
       "      <td>0.31</td>\n",
       "      <td>0.932741</td>\n",
       "      <td>0.735339</td>\n",
       "      <td>0.935454</td>\n",
       "      <td>0.736741</td>\n",
       "      <td>True</td>\n",
       "    </tr>\n",
       "    <tr>\n",
       "      <th>2</th>\n",
       "      <td>0.32</td>\n",
       "      <td>0.925559</td>\n",
       "      <td>0.718257</td>\n",
       "      <td>0.925106</td>\n",
       "      <td>0.716885</td>\n",
       "      <td>True</td>\n",
       "    </tr>\n",
       "    <tr>\n",
       "      <th>3</th>\n",
       "      <td>0.33</td>\n",
       "      <td>0.916947</td>\n",
       "      <td>0.697336</td>\n",
       "      <td>0.915098</td>\n",
       "      <td>0.697939</td>\n",
       "      <td>True</td>\n",
       "    </tr>\n",
       "    <tr>\n",
       "      <th>4</th>\n",
       "      <td>0.34</td>\n",
       "      <td>0.906702</td>\n",
       "      <td>0.677985</td>\n",
       "      <td>0.906955</td>\n",
       "      <td>0.680555</td>\n",
       "      <td>True</td>\n",
       "    </tr>\n",
       "    <tr>\n",
       "      <th>5</th>\n",
       "      <td>0.35</td>\n",
       "      <td>0.897954</td>\n",
       "      <td>0.660453</td>\n",
       "      <td>0.896014</td>\n",
       "      <td>0.659961</td>\n",
       "      <td>False</td>\n",
       "    </tr>\n",
       "    <tr>\n",
       "      <th>6</th>\n",
       "      <td>0.36</td>\n",
       "      <td>0.886518</td>\n",
       "      <td>0.640112</td>\n",
       "      <td>0.886514</td>\n",
       "      <td>0.641429</td>\n",
       "      <td>False</td>\n",
       "    </tr>\n",
       "    <tr>\n",
       "      <th>7</th>\n",
       "      <td>0.37</td>\n",
       "      <td>0.873481</td>\n",
       "      <td>0.617925</td>\n",
       "      <td>0.872943</td>\n",
       "      <td>0.621000</td>\n",
       "      <td>False</td>\n",
       "    </tr>\n",
       "    <tr>\n",
       "      <th>8</th>\n",
       "      <td>0.38</td>\n",
       "      <td>0.861227</td>\n",
       "      <td>0.598603</td>\n",
       "      <td>0.861238</td>\n",
       "      <td>0.599967</td>\n",
       "      <td>False</td>\n",
       "    </tr>\n",
       "    <tr>\n",
       "      <th>9</th>\n",
       "      <td>0.39</td>\n",
       "      <td>0.848429</td>\n",
       "      <td>0.578796</td>\n",
       "      <td>0.846310</td>\n",
       "      <td>0.579019</td>\n",
       "      <td>False</td>\n",
       "    </tr>\n",
       "  </tbody>\n",
       "</table>\n",
       "</div>"
      ],
      "text/plain": [
       "    thr    RECALL       FPR  RECALL (valid)  FPR (valid)  > min_recall\n",
       "0  0.30  0.942102  0.756382        0.942578     0.755046          True\n",
       "1  0.31  0.932741  0.735339        0.935454     0.736741          True\n",
       "2  0.32  0.925559  0.718257        0.925106     0.716885          True\n",
       "3  0.33  0.916947  0.697336        0.915098     0.697939          True\n",
       "4  0.34  0.906702  0.677985        0.906955     0.680555          True\n",
       "5  0.35  0.897954  0.660453        0.896014     0.659961         False\n",
       "6  0.36  0.886518  0.640112        0.886514     0.641429         False\n",
       "7  0.37  0.873481  0.617925        0.872943     0.621000         False\n",
       "8  0.38  0.861227  0.598603        0.861238     0.599967         False\n",
       "9  0.39  0.848429  0.578796        0.846310     0.579019         False"
      ]
     },
     "execution_count": 53,
     "metadata": {},
     "output_type": "execute_result"
    }
   ],
   "source": [
    "thr_grid = [i / 100 for i in range(30, 40)]\n",
    "thr_grid_recall_train = pd.DataFrame(glm_model.recall(thr_grid, train=True), columns=['thr', 'RECALL'])\n",
    "thr_grid_fpr_train = pd.DataFrame(glm_model.fpr(thr_grid, train=True), columns=['thr', 'FPR'])\n",
    "thr_grid_recall_valid = pd.DataFrame(glm_model.recall(thr_grid, valid=True), columns=['thr', 'RECALL (valid)'])\n",
    "thr_grid_fpr_valid = pd.DataFrame(glm_model.fpr(thr_grid, valid=True), columns=['thr', 'FPR (valid)'])\n",
    "\n",
    "thr_grid = thr_grid_recall_train.merge(thr_grid_fpr_train).merge(thr_grid_recall_valid).merge(thr_grid_fpr_valid)\n",
    "thr_grid['> min_recall'] = thr_grid['RECALL'] >= usr_min_recall\n",
    "glm_thr_grid = thr_grid\n",
    "glm_sel_thr = thr_grid.loc[thr_grid['> min_recall'], 'thr'].max()\n",
    "\n",
    "glm_thr_grid"
   ]
  },
  {
   "cell_type": "code",
   "execution_count": 54,
   "metadata": {
    "scrolled": true
   },
   "outputs": [
    {
     "name": "stdout",
     "output_type": "stream",
     "text": [
      "Could not find exact threshold 0.34; using closest threshold found 0.3393464327715789.\n",
      "Could not find exact threshold 0.5; using closest threshold found 0.49997642405444476.\n",
      "Confusion Matrix (Act/Pred) @ threshold = 0.3393464327715789: \n"
     ]
    },
    {
     "data": {
      "text/html": [
       "<div style=\"overflow:auto\"><table style=\"width:50%\"><tr><td><b></b></td>\n",
       "<td><b>0</b></td>\n",
       "<td><b>1</b></td>\n",
       "<td><b>Error</b></td>\n",
       "<td><b>Rate</b></td></tr>\n",
       "<tr><td>0</td>\n",
       "<td>52352.0</td>\n",
       "<td>111532.0</td>\n",
       "<td>0.6806</td>\n",
       "<td> (111532.0/163884.0)</td></tr>\n",
       "<tr><td>1</td>\n",
       "<td>1097.0</td>\n",
       "<td>10693.0</td>\n",
       "<td>0.093</td>\n",
       "<td> (1097.0/11790.0)</td></tr>\n",
       "<tr><td>Total</td>\n",
       "<td>53449.0</td>\n",
       "<td>122225.0</td>\n",
       "<td>0.6411</td>\n",
       "<td> (112629.0/175674.0)</td></tr></table></div>"
      ],
      "text/plain": [
       "       0      1       Error    Rate\n",
       "-----  -----  ------  -------  -------------------\n",
       "0      52352  111532  0.6806   (111532.0/163884.0)\n",
       "1      1097   10693   0.093    (1097.0/11790.0)\n",
       "Total  53449  122225  0.6411   (112629.0/175674.0)"
      ]
     },
     "metadata": {},
     "output_type": "display_data"
    },
    {
     "name": "stdout",
     "output_type": "stream",
     "text": [
      "Confusion Matrix (Act/Pred) @ threshold = 0.49997642405444476: \n"
     ]
    },
    {
     "data": {
      "text/html": [
       "<div style=\"overflow:auto\"><table style=\"width:50%\"><tr><td><b></b></td>\n",
       "<td><b>0</b></td>\n",
       "<td><b>1</b></td>\n",
       "<td><b>Error</b></td>\n",
       "<td><b>Rate</b></td></tr>\n",
       "<tr><td>0</td>\n",
       "<td>106523.0</td>\n",
       "<td>57361.0</td>\n",
       "<td>0.35</td>\n",
       "<td> (57361.0/163884.0)</td></tr>\n",
       "<tr><td>1</td>\n",
       "<td>4239.0</td>\n",
       "<td>7551.0</td>\n",
       "<td>0.3595</td>\n",
       "<td> (4239.0/11790.0)</td></tr>\n",
       "<tr><td>Total</td>\n",
       "<td>110762.0</td>\n",
       "<td>64912.0</td>\n",
       "<td>0.3506</td>\n",
       "<td> (61600.0/175674.0)</td></tr></table></div>"
      ],
      "text/plain": [
       "       0       1      Error    Rate\n",
       "-----  ------  -----  -------  ------------------\n",
       "0      106523  57361  0.35     (57361.0/163884.0)\n",
       "1      4239    7551   0.3595   (4239.0/11790.0)\n",
       "Total  110762  64912  0.3506   (61600.0/175674.0)"
      ]
     },
     "metadata": {},
     "output_type": "display_data"
    },
    {
     "data": {
      "text/plain": [
       "[, ]"
      ]
     },
     "execution_count": 54,
     "metadata": {},
     "output_type": "execute_result"
    }
   ],
   "source": [
    "glm_model.model_performance(valid=True).confusion_matrix(thresholds=[glm_sel_thr, .5])"
   ]
  },
  {
   "cell_type": "code",
   "execution_count": 55,
   "metadata": {
    "scrolled": false
   },
   "outputs": [
    {
     "data": {
      "image/png": "[encoded data removed]",
      "text/plain": [
       "<matplotlib.figure.Figure at 0x7f11955f7b00>"
      ]
     },
     "metadata": {},
     "output_type": "display_data"
    }
   ],
   "source": [
    "tmp = glm_model.model_performance(valid=True)\n",
    "from matplotlib import pyplot as plt\n",
    "plt.figure(figsize=(6, 6))\n",
    "tmp.plot()\n",
    "\n",
    "# TODO: in presentation add line at y = .95"
   ]
  },
  {
   "cell_type": "markdown",
   "metadata": {},
   "source": [
    "### Business Metrics"
   ]
  },
  {
   "cell_type": "code",
   "execution_count": 57,
   "metadata": {
    "scrolled": false
   },
   "outputs": [
    {
     "name": "stdout",
     "output_type": "stream",
     "text": [
      "glm prediction progress: |████████████████████████████████████████████████| 100%\n"
     ]
    },
    {
     "data": {
      "text/html": [
       "<table>\n",
       "<thead>\n",
       "<tr><th style=\"text-align: right;\">  issue_d_year</th><th style=\"text-align: right;\">  REVENUE (in mln)</th><th style=\"text-align: right;\">  PROFIT (in mln)</th><th style=\"text-align: right;\">  ROI (%)</th><th style=\"text-align: right;\">  REVENUE1 (in mln)</th><th style=\"text-align: right;\">  PROFIT1 (in mln)</th><th style=\"text-align: right;\">  ROI1 (%)</th><th style=\"text-align: right;\">  REVENUE2 (in mln)</th><th style=\"text-align: right;\">  PROFIT2 (in mln)</th><th style=\"text-align: right;\">  ROI2 (%)</th></tr>\n",
       "</thead>\n",
       "<tbody>\n",
       "<tr><td style=\"text-align: right;\">          2007</td><td style=\"text-align: right;\">              1.04</td><td style=\"text-align: right;\">            -0.07</td><td style=\"text-align: right;\">    -6.3 </td><td style=\"text-align: right;\">               0.66</td><td style=\"text-align: right;\">              0.01</td><td style=\"text-align: right;\">      1.37</td><td style=\"text-align: right;\">               0.4 </td><td style=\"text-align: right;\">              0.02</td><td style=\"text-align: right;\">      6.3 </td></tr>\n",
       "<tr><td style=\"text-align: right;\">          2008</td><td style=\"text-align: right;\">              3.96</td><td style=\"text-align: right;\">            -0.29</td><td style=\"text-align: right;\">    -6.78</td><td style=\"text-align: right;\">               1.91</td><td style=\"text-align: right;\">             -0.13</td><td style=\"text-align: right;\">     -6.31</td><td style=\"text-align: right;\">               0.44</td><td style=\"text-align: right;\">             -0.02</td><td style=\"text-align: right;\">     -4.09</td></tr>\n",
       "<tr><td style=\"text-align: right;\">          2009</td><td style=\"text-align: right;\">             10.34</td><td style=\"text-align: right;\">             0.79</td><td style=\"text-align: right;\">     8.25</td><td style=\"text-align: right;\">               5.33</td><td style=\"text-align: right;\">              0.42</td><td style=\"text-align: right;\">      8.51</td><td style=\"text-align: right;\">               1.76</td><td style=\"text-align: right;\">              0.14</td><td style=\"text-align: right;\">      8.58</td></tr>\n",
       "<tr><td style=\"text-align: right;\">          2010</td><td style=\"text-align: right;\">             28.64</td><td style=\"text-align: right;\">             1.58</td><td style=\"text-align: right;\">     5.85</td><td style=\"text-align: right;\">              15.88</td><td style=\"text-align: right;\">              0.57</td><td style=\"text-align: right;\">      3.74</td><td style=\"text-align: right;\">               8.3 </td><td style=\"text-align: right;\">              0.03</td><td style=\"text-align: right;\">      0.37</td></tr>\n",
       "<tr><td style=\"text-align: right;\">          2011</td><td style=\"text-align: right;\">             47.4 </td><td style=\"text-align: right;\">             2.84</td><td style=\"text-align: right;\">     6.38</td><td style=\"text-align: right;\">              26.83</td><td style=\"text-align: right;\">              1.9 </td><td style=\"text-align: right;\">      7.64</td><td style=\"text-align: right;\">              15.1 </td><td style=\"text-align: right;\">              1.01</td><td style=\"text-align: right;\">      7.19</td></tr>\n",
       "<tr><td style=\"text-align: right;\">          2012</td><td style=\"text-align: right;\">            141.27</td><td style=\"text-align: right;\">            10.88</td><td style=\"text-align: right;\">     8.34</td><td style=\"text-align: right;\">              62.96</td><td style=\"text-align: right;\">              5.09</td><td style=\"text-align: right;\">      8.79</td><td style=\"text-align: right;\">              32.81</td><td style=\"text-align: right;\">              2.28</td><td style=\"text-align: right;\">      7.48</td></tr>\n",
       "<tr><td style=\"text-align: right;\">          2013</td><td style=\"text-align: right;\">            214.15</td><td style=\"text-align: right;\">             1.81</td><td style=\"text-align: right;\">     0.85</td><td style=\"text-align: right;\">              90.18</td><td style=\"text-align: right;\">              3.07</td><td style=\"text-align: right;\">      3.53</td><td style=\"text-align: right;\">              41.59</td><td style=\"text-align: right;\">              1.53</td><td style=\"text-align: right;\">      3.81</td></tr>\n",
       "<tr><td style=\"text-align: right;\">          2014</td><td style=\"text-align: right;\">            189.11</td><td style=\"text-align: right;\">           -21.43</td><td style=\"text-align: right;\">   -10.18</td><td style=\"text-align: right;\">              80   </td><td style=\"text-align: right;\">             -4.57</td><td style=\"text-align: right;\">     -5.41</td><td style=\"text-align: right;\">              39.87</td><td style=\"text-align: right;\">             -1.11</td><td style=\"text-align: right;\">     -2.7 </td></tr>\n",
       "<tr><td style=\"text-align: right;\">          2015</td><td style=\"text-align: right;\">             71.12</td><td style=\"text-align: right;\">           -17.86</td><td style=\"text-align: right;\">   -20.07</td><td style=\"text-align: right;\">              29.44</td><td style=\"text-align: right;\">             -3.81</td><td style=\"text-align: right;\">    -11.45</td><td style=\"text-align: right;\">              16.52</td><td style=\"text-align: right;\">             -1.46</td><td style=\"text-align: right;\">     -8.12</td></tr>\n",
       "</tbody>\n",
       "</table>"
      ]
     },
     "metadata": {},
     "output_type": "display_data"
    },
    {
     "data": {
      "text/plain": []
     },
     "execution_count": 57,
     "metadata": {},
     "output_type": "execute_result"
    }
   ],
   "source": [
    "glm_res = validate.cbind(glm_model.predict(validate))\n",
    "glm_res = glm_res[['issue_d_year', 'loan_status', 'loan_amnt', 'total_pymnt', 'p1']]\n",
    "glm_res['pred1'] = glm_res['p1'] > glm_model.find_threshold_by_max_metric('accuracy')\n",
    "glm_res['pred2'] = glm_res['p1'] > glm_sel_thr\n",
    "glm_res = glm_res[glm_res['loan_status'] != 'Current']\n",
    "\n",
    "glm_res['loan_amnt1'] = glm_res['loan_amnt'] * (1.0 - glm_res['pred1'])\n",
    "glm_res['loan_amnt2'] = glm_res['loan_amnt'] * (1.0 - glm_res['pred2'])\n",
    "\n",
    "glm_res['total_pymnt1'] = glm_res['total_pymnt'] * (1.0 - glm_res['pred1'])\n",
    "glm_res['total_pymnt2'] = glm_res['total_pymnt'] * (1.0 - glm_res['pred2'])\n",
    "\n",
    "tmp = glm_res.group_by('issue_d_year') \\\n",
    "    .sum('loan_amnt2') \\\n",
    "    .sum('loan_amnt1') \\\n",
    "    .sum('loan_amnt') \\\n",
    "    .sum('total_pymnt2') \\\n",
    "    .sum('total_pymnt1') \\\n",
    "    .sum('total_pymnt') \\\n",
    "    .get_frame()\n",
    "\n",
    "tmp['REVENUE (in mln)'] = (tmp['sum_total_pymnt']  / 1e6).round(2)\n",
    "tmp['PROFIT (in mln)'] = ((tmp['sum_total_pymnt'] - tmp['sum_loan_amnt']) / 1e6).round(2)\n",
    "tmp['ROI (%)'] = ((tmp['sum_total_pymnt'] / tmp['sum_loan_amnt'] - 1.0) * 100.0).round(2)\n",
    "\n",
    "tmp['REVENUE1 (in mln)'] = (tmp['sum_total_pymnt1']  / 1e6).round(2)\n",
    "tmp['PROFIT1 (in mln)'] = ((tmp['sum_total_pymnt1'] - tmp['sum_loan_amnt1']) / 1e6).round(2)\n",
    "tmp['ROI1 (%)'] = ((tmp['sum_total_pymnt1'] / tmp['sum_loan_amnt1'] - 1.0) * 100.0).round(2)\n",
    "\n",
    "tmp['REVENUE2 (in mln)'] = (tmp['sum_total_pymnt2']  / 1e6).round(2)\n",
    "tmp['PROFIT2 (in mln)'] = ((tmp['sum_total_pymnt2'] - tmp['sum_loan_amnt2']) / 1e6).round(2)\n",
    "tmp['ROI2 (%)'] = ((tmp['sum_total_pymnt2'] / tmp['sum_loan_amnt2'] - 1.0) * 100.0).round(2)\n",
    "\n",
    "tmp[['issue_d_year', \n",
    "     'REVENUE (in mln)', 'PROFIT (in mln)', 'ROI (%)',\n",
    "     'REVENUE1 (in mln)', 'PROFIT1 (in mln)', 'ROI1 (%)',\n",
    "     'REVENUE2 (in mln)', 'PROFIT2 (in mln)', 'ROI2 (%)'\n",
    "    ]]    "
   ]
  },
  {
   "cell_type": "markdown",
   "metadata": {},
   "source": [
    "### Distributed Random Forest\n",
    "\n",
    "http://docs.h2o.ai/h2o/latest-stable/h2o-docs/booklets/GLMBooklet.pdf  \n",
    "http://docs.h2o.ai/h2o/latest-stable/h2o-docs/data-science/glm.html"
   ]
  },
  {
   "cell_type": "markdown",
   "metadata": {},
   "source": [
    "#### Tune Forest Parameters"
   ]
  },
  {
   "cell_type": "code",
   "execution_count": 58,
   "metadata": {},
   "outputs": [
    {
     "name": "stdout",
     "output_type": "stream",
     "text": [
      "drf Grid Build progress: |████████████████████████████████████████████████| 100%\n"
     ]
    }
   ],
   "source": [
    "from h2o.grid import H2OGridSearch\n",
    "from h2o.estimators.random_forest import H2ORandomForestEstimator\n",
    "import numpy as np\n",
    "\n",
    "h2o.remove('drf_grid')\n",
    "ntrees_grid = [10, 50, 100]\n",
    "depth_grid = [2, 5, 7]\n",
    "\n",
    "drf_grid = H2OGridSearch(\n",
    "        model=H2ORandomForestEstimator(distribution='multinomial'),\n",
    "        hyper_params={'ntrees': ntrees_grid, \n",
    "                      'max_depth': depth_grid},\n",
    "        grid_id='drf_grid'\n",
    "    )\n",
    "\n",
    "drf_grid.train(predictors, response, training_frame=train, validation_frame=validate, weights_column = weight)"
   ]
  },
  {
   "cell_type": "code",
   "execution_count": 59,
   "metadata": {
    "scrolled": true
   },
   "outputs": [
    {
     "data": {
      "text/html": [
       "<div>\n",
       "<style scoped>\n",
       "    .dataframe tbody tr th:only-of-type {\n",
       "        vertical-align: middle;\n",
       "    }\n",
       "\n",
       "    .dataframe tbody tr th {\n",
       "        vertical-align: top;\n",
       "    }\n",
       "\n",
       "    .dataframe thead th {\n",
       "        text-align: right;\n",
       "    }\n",
       "</style>\n",
       "<table border=\"1\" class=\"dataframe\">\n",
       "  <thead>\n",
       "    <tr style=\"text-align: right;\">\n",
       "      <th></th>\n",
       "      <th>Model_ID</th>\n",
       "      <th>AUC</th>\n",
       "      <th>ntrees</th>\n",
       "      <th>max_depth</th>\n",
       "    </tr>\n",
       "  </thead>\n",
       "  <tbody>\n",
       "    <tr>\n",
       "      <th>8</th>\n",
       "      <td>drf_grid_model_8</td>\n",
       "      <td>0.714105</td>\n",
       "      <td>100</td>\n",
       "      <td>7</td>\n",
       "    </tr>\n",
       "    <tr>\n",
       "      <th>6</th>\n",
       "      <td>drf_grid_model_5</td>\n",
       "      <td>0.713934</td>\n",
       "      <td>50</td>\n",
       "      <td>7</td>\n",
       "    </tr>\n",
       "    <tr>\n",
       "      <th>0</th>\n",
       "      <td>drf_grid_model_2</td>\n",
       "      <td>0.710432</td>\n",
       "      <td>10</td>\n",
       "      <td>7</td>\n",
       "    </tr>\n",
       "    <tr>\n",
       "      <th>2</th>\n",
       "      <td>drf_grid_model_7</td>\n",
       "      <td>0.708753</td>\n",
       "      <td>100</td>\n",
       "      <td>5</td>\n",
       "    </tr>\n",
       "    <tr>\n",
       "      <th>7</th>\n",
       "      <td>drf_grid_model_1</td>\n",
       "      <td>0.707984</td>\n",
       "      <td>10</td>\n",
       "      <td>5</td>\n",
       "    </tr>\n",
       "  </tbody>\n",
       "</table>\n",
       "</div>"
      ],
      "text/plain": [
       "           Model_ID       AUC  ntrees  max_depth\n",
       "8  drf_grid_model_8  0.714105     100          7\n",
       "6  drf_grid_model_5  0.713934      50          7\n",
       "0  drf_grid_model_2  0.710432      10          7\n",
       "2  drf_grid_model_7  0.708753     100          5\n",
       "7  drf_grid_model_1  0.707984      10          5"
      ]
     },
     "execution_count": 59,
     "metadata": {},
     "output_type": "execute_result"
    }
   ],
   "source": [
    "# get the AUC on validation set:\n",
    "pd_auc = pd.DataFrame(list(drf_grid.auc(valid=True).items()), columns=['Model_ID', 'AUC']).sort_values('AUC', ascending=False)\n",
    "model_ids = pd_auc['Model_ID'].values\n",
    "\n",
    "pd_auc['ntrees'] = np.array([drf_grid.get_hyperparams_dict(model, display=False)['ntrees'] for model in model_ids])\n",
    "pd_auc['max_depth'] = np.array([drf_grid.get_hyperparams_dict(model, display=False)['max_depth'] for model in model_ids])\n",
    "\n",
    "pd_auc = pd_auc.sort_values('AUC', ascending=False)\n",
    "\n",
    "# select best model hyperparameters and remove the grid\n",
    "drf_best_model_depth = pd_auc['max_depth'].values[0]\n",
    "drf_best_model_ntrees = pd_auc['ntrees'].values[0]\n",
    "drf_best_model_AUC = pd_auc['AUC'].values[0]\n",
    "\n",
    "pd_auc.head()"
   ]
  },
  {
   "cell_type": "markdown",
   "metadata": {},
   "source": [
    "#### Final model\n",
    "\n",
    "- with 10 fold cross-validation for bulidng ensemble"
   ]
  },
  {
   "cell_type": "code",
   "execution_count": 60,
   "metadata": {},
   "outputs": [
    {
     "name": "stdout",
     "output_type": "stream",
     "text": [
      "drf Model Build progress: |███████████████████████████████████████████████| 100%\n"
     ]
    }
   ],
   "source": [
    "from h2o.estimators.random_forest import H2ORandomForestEstimator\n",
    "\n",
    "drf_model = H2ORandomForestEstimator(distribution=\"multinomial\", \n",
    "                                    ntrees=int(drf_best_model_ntrees), \n",
    "                                    max_depth=int(drf_best_model_depth), \n",
    "                                    nfolds = 10,\n",
    "                                    seed = 2014,\n",
    "                                    keep_cross_validation_predictions=True\n",
    "                                    )\n",
    "\n",
    "drf_model.train(predictors, response, training_frame=train, validation_frame=validate, weights_column=weight)"
   ]
  },
  {
   "cell_type": "code",
   "execution_count": 61,
   "metadata": {
    "scrolled": false
   },
   "outputs": [
    {
     "name": "stdout",
     "output_type": "stream",
     "text": [
      "Could not find exact threshold 0.33; using closest threshold found 0.3296575472986005.\n",
      "Could not find exact threshold 0.34; using closest threshold found 0.3392689427803905.\n",
      "Could not find exact threshold 0.35; using closest threshold found 0.3500047895552815.\n",
      "Could not find exact threshold 0.36; using closest threshold found 0.3603010333291063.\n",
      "Could not find exact threshold 0.37; using closest threshold found 0.37024529117514665.\n",
      "Could not find exact threshold 0.38; using closest threshold found 0.3797451489761215.\n",
      "Could not find exact threshold 0.33; using closest threshold found 0.3296575472986005.\n",
      "Could not find exact threshold 0.34; using closest threshold found 0.3392689427803905.\n",
      "Could not find exact threshold 0.35; using closest threshold found 0.3500047895552815.\n",
      "Could not find exact threshold 0.36; using closest threshold found 0.3603010333291063.\n",
      "Could not find exact threshold 0.37; using closest threshold found 0.37024529117514665.\n",
      "Could not find exact threshold 0.38; using closest threshold found 0.3797451489761215.\n",
      "Could not find exact threshold 0.33; using closest threshold found 0.330111470201873.\n",
      "Could not find exact threshold 0.34; using closest threshold found 0.34016118029363535.\n",
      "Could not find exact threshold 0.35; using closest threshold found 0.3502581317326168.\n",
      "Could not find exact threshold 0.36; using closest threshold found 0.3596030156782228.\n",
      "Could not find exact threshold 0.37; using closest threshold found 0.37079950299886455.\n",
      "Could not find exact threshold 0.38; using closest threshold found 0.3797499625778485.\n",
      "Could not find exact threshold 0.33; using closest threshold found 0.330111470201873.\n",
      "Could not find exact threshold 0.34; using closest threshold found 0.34016118029363535.\n",
      "Could not find exact threshold 0.35; using closest threshold found 0.3502581317326168.\n",
      "Could not find exact threshold 0.36; using closest threshold found 0.3596030156782228.\n",
      "Could not find exact threshold 0.37; using closest threshold found 0.37079950299886455.\n",
      "Could not find exact threshold 0.38; using closest threshold found 0.3797499625778485.\n"
     ]
    },
    {
     "data": {
      "text/html": [
       "<div>\n",
       "<style scoped>\n",
       "    .dataframe tbody tr th:only-of-type {\n",
       "        vertical-align: middle;\n",
       "    }\n",
       "\n",
       "    .dataframe tbody tr th {\n",
       "        vertical-align: top;\n",
       "    }\n",
       "\n",
       "    .dataframe thead th {\n",
       "        text-align: right;\n",
       "    }\n",
       "</style>\n",
       "<table border=\"1\" class=\"dataframe\">\n",
       "  <thead>\n",
       "    <tr style=\"text-align: right;\">\n",
       "      <th></th>\n",
       "      <th>thr</th>\n",
       "      <th>RECALL</th>\n",
       "      <th>FPR</th>\n",
       "      <th>RECALL (valid)</th>\n",
       "      <th>FPR (valid)</th>\n",
       "      <th>&gt; min_recall</th>\n",
       "    </tr>\n",
       "  </thead>\n",
       "  <tbody>\n",
       "    <tr>\n",
       "      <th>0</th>\n",
       "      <td>0.33</td>\n",
       "      <td>0.929916</td>\n",
       "      <td>0.707664</td>\n",
       "      <td>0.932400</td>\n",
       "      <td>0.708086</td>\n",
       "      <td>True</td>\n",
       "    </tr>\n",
       "    <tr>\n",
       "      <th>1</th>\n",
       "      <td>0.34</td>\n",
       "      <td>0.922768</td>\n",
       "      <td>0.689612</td>\n",
       "      <td>0.921798</td>\n",
       "      <td>0.687926</td>\n",
       "      <td>True</td>\n",
       "    </tr>\n",
       "    <tr>\n",
       "      <th>2</th>\n",
       "      <td>0.35</td>\n",
       "      <td>0.912318</td>\n",
       "      <td>0.668540</td>\n",
       "      <td>0.914673</td>\n",
       "      <td>0.669876</td>\n",
       "      <td>True</td>\n",
       "    </tr>\n",
       "    <tr>\n",
       "      <th>3</th>\n",
       "      <td>0.36</td>\n",
       "      <td>0.899860</td>\n",
       "      <td>0.644276</td>\n",
       "      <td>0.903223</td>\n",
       "      <td>0.646915</td>\n",
       "      <td>False</td>\n",
       "    </tr>\n",
       "    <tr>\n",
       "      <th>4</th>\n",
       "      <td>0.37</td>\n",
       "      <td>0.888288</td>\n",
       "      <td>0.621507</td>\n",
       "      <td>0.890416</td>\n",
       "      <td>0.621165</td>\n",
       "      <td>False</td>\n",
       "    </tr>\n",
       "    <tr>\n",
       "      <th>5</th>\n",
       "      <td>0.38</td>\n",
       "      <td>0.877498</td>\n",
       "      <td>0.603816</td>\n",
       "      <td>0.881934</td>\n",
       "      <td>0.604214</td>\n",
       "      <td>False</td>\n",
       "    </tr>\n",
       "  </tbody>\n",
       "</table>\n",
       "</div>"
      ],
      "text/plain": [
       "    thr    RECALL       FPR  RECALL (valid)  FPR (valid)  > min_recall\n",
       "0  0.33  0.929916  0.707664        0.932400     0.708086          True\n",
       "1  0.34  0.922768  0.689612        0.921798     0.687926          True\n",
       "2  0.35  0.912318  0.668540        0.914673     0.669876          True\n",
       "3  0.36  0.899860  0.644276        0.903223     0.646915         False\n",
       "4  0.37  0.888288  0.621507        0.890416     0.621165         False\n",
       "5  0.38  0.877498  0.603816        0.881934     0.604214         False"
      ]
     },
     "execution_count": 61,
     "metadata": {},
     "output_type": "execute_result"
    }
   ],
   "source": [
    "thr_grid = [i / 100 for i in range(33, 39)]\n",
    "thr_grid_recall_train = pd.DataFrame(drf_model.recall(thr_grid, train=True), columns=['thr', 'RECALL'])\n",
    "thr_grid_fpr_train = pd.DataFrame(drf_model.fpr(thr_grid, train=True), columns=['thr', 'FPR'])\n",
    "thr_grid_recall_valid = pd.DataFrame(drf_model.recall(thr_grid, valid=True), columns=['thr', 'RECALL (valid)'])\n",
    "thr_grid_fpr_valid = pd.DataFrame(drf_model.fpr(thr_grid, valid=True), columns=['thr', 'FPR (valid)'])\n",
    "\n",
    "thr_grid = thr_grid_recall_train.merge(thr_grid_fpr_train).merge(thr_grid_recall_valid).merge(thr_grid_fpr_valid)\n",
    "thr_grid['> min_recall'] = thr_grid['RECALL'] >= usr_min_recall\n",
    "drf_thr_grid = thr_grid\n",
    "drf_sel_thr = thr_grid.loc[thr_grid['> min_recall'], 'thr'].max()\n",
    "\n",
    "drf_thr_grid"
   ]
  },
  {
   "cell_type": "code",
   "execution_count": 62,
   "metadata": {
    "scrolled": true
   },
   "outputs": [
    {
     "name": "stdout",
     "output_type": "stream",
     "text": [
      "Could not find exact threshold 0.35; using closest threshold found 0.3502581317326168.\n",
      "Could not find exact threshold 0.5; using closest threshold found 0.4991864985407389.\n",
      "Confusion Matrix (Act/Pred) @ threshold = 0.3502581317326168: \n"
     ]
    },
    {
     "data": {
      "text/html": [
       "<div style=\"overflow:auto\"><table style=\"width:50%\"><tr><td><b></b></td>\n",
       "<td><b>0</b></td>\n",
       "<td><b>1</b></td>\n",
       "<td><b>Error</b></td>\n",
       "<td><b>Rate</b></td></tr>\n",
       "<tr><td>0</td>\n",
       "<td>54102.0</td>\n",
       "<td>109782.0</td>\n",
       "<td>0.6699</td>\n",
       "<td> (109782.0/163884.0)</td></tr>\n",
       "<tr><td>1</td>\n",
       "<td>1006.0</td>\n",
       "<td>10784.0</td>\n",
       "<td>0.0853</td>\n",
       "<td> (1006.0/11790.0)</td></tr>\n",
       "<tr><td>Total</td>\n",
       "<td>55108.0</td>\n",
       "<td>120566.0</td>\n",
       "<td>0.6306</td>\n",
       "<td> (110788.0/175674.0)</td></tr></table></div>"
      ],
      "text/plain": [
       "       0      1       Error    Rate\n",
       "-----  -----  ------  -------  -------------------\n",
       "0      54102  109782  0.6699   (109782.0/163884.0)\n",
       "1      1006   10784   0.0853   (1006.0/11790.0)\n",
       "Total  55108  120566  0.6306   (110788.0/175674.0)"
      ]
     },
     "metadata": {},
     "output_type": "display_data"
    },
    {
     "name": "stdout",
     "output_type": "stream",
     "text": [
      "Confusion Matrix (Act/Pred) @ threshold = 0.4991864985407389: \n"
     ]
    },
    {
     "data": {
      "text/html": [
       "<div style=\"overflow:auto\"><table style=\"width:50%\"><tr><td><b></b></td>\n",
       "<td><b>0</b></td>\n",
       "<td><b>1</b></td>\n",
       "<td><b>Error</b></td>\n",
       "<td><b>Rate</b></td></tr>\n",
       "<tr><td>0</td>\n",
       "<td>97472.0</td>\n",
       "<td>66412.0</td>\n",
       "<td>0.4052</td>\n",
       "<td> (66412.0/163884.0)</td></tr>\n",
       "<tr><td>1</td>\n",
       "<td>3327.0</td>\n",
       "<td>8463.0</td>\n",
       "<td>0.2822</td>\n",
       "<td> (3327.0/11790.0)</td></tr>\n",
       "<tr><td>Total</td>\n",
       "<td>100799.0</td>\n",
       "<td>74875.0</td>\n",
       "<td>0.397</td>\n",
       "<td> (69739.0/175674.0)</td></tr></table></div>"
      ],
      "text/plain": [
       "       0       1      Error    Rate\n",
       "-----  ------  -----  -------  ------------------\n",
       "0      97472   66412  0.4052   (66412.0/163884.0)\n",
       "1      3327    8463   0.2822   (3327.0/11790.0)\n",
       "Total  100799  74875  0.397    (69739.0/175674.0)"
      ]
     },
     "metadata": {},
     "output_type": "display_data"
    },
    {
     "data": {
      "text/plain": [
       "[, ]"
      ]
     },
     "execution_count": 62,
     "metadata": {},
     "output_type": "execute_result"
    }
   ],
   "source": [
    "drf_model.model_performance(valid=True).confusion_matrix(thresholds=[drf_sel_thr, .5])"
   ]
  },
  {
   "cell_type": "code",
   "execution_count": 63,
   "metadata": {
    "scrolled": false
   },
   "outputs": [
    {
     "data": {
      "image/png": "[encoded data removed]",
      "text/plain": [
       "<matplotlib.figure.Figure at 0x7f1194764da0>"
      ]
     },
     "metadata": {},
     "output_type": "display_data"
    }
   ],
   "source": [
    "tmp = drf_model.model_performance(valid=True)\n",
    "from matplotlib import pyplot as plt\n",
    "plt.figure(figsize=(6, 6))\n",
    "tmp.plot()\n",
    "\n",
    "# TODO: in presentation add line at y = .95"
   ]
  },
  {
   "cell_type": "markdown",
   "metadata": {},
   "source": [
    "### Business Metrics"
   ]
  },
  {
   "cell_type": "code",
   "execution_count": 64,
   "metadata": {
    "scrolled": true
   },
   "outputs": [
    {
     "name": "stdout",
     "output_type": "stream",
     "text": [
      "drf prediction progress: |████████████████████████████████████████████████| 100%\n"
     ]
    },
    {
     "data": {
      "text/html": [
       "<table>\n",
       "<thead>\n",
       "<tr><th style=\"text-align: right;\">  issue_d_year</th><th style=\"text-align: right;\">  REVENUE (in mln)</th><th style=\"text-align: right;\">  PROFIT (in mln)</th><th style=\"text-align: right;\">  ROI (%)</th><th style=\"text-align: right;\">  REVENUE1 (in mln)</th><th style=\"text-align: right;\">  PROFIT1 (in mln)</th><th style=\"text-align: right;\">  ROI1 (%)</th><th style=\"text-align: right;\">  REVENUE2 (in mln)</th><th style=\"text-align: right;\">  PROFIT2 (in mln)</th><th style=\"text-align: right;\">  ROI2 (%)</th></tr>\n",
       "</thead>\n",
       "<tbody>\n",
       "<tr><td style=\"text-align: right;\">          2007</td><td style=\"text-align: right;\">              1.04</td><td style=\"text-align: right;\">            -0.07</td><td style=\"text-align: right;\">    -6.3 </td><td style=\"text-align: right;\">               0.69</td><td style=\"text-align: right;\">             -0.01</td><td style=\"text-align: right;\">     -1.71</td><td style=\"text-align: right;\">               0.32</td><td style=\"text-align: right;\">              0.04</td><td style=\"text-align: right;\">     12.54</td></tr>\n",
       "<tr><td style=\"text-align: right;\">          2008</td><td style=\"text-align: right;\">              3.96</td><td style=\"text-align: right;\">            -0.29</td><td style=\"text-align: right;\">    -6.78</td><td style=\"text-align: right;\">               2.46</td><td style=\"text-align: right;\">             -0.18</td><td style=\"text-align: right;\">     -6.95</td><td style=\"text-align: right;\">               0.49</td><td style=\"text-align: right;\">             -0.04</td><td style=\"text-align: right;\">     -6.99</td></tr>\n",
       "<tr><td style=\"text-align: right;\">          2009</td><td style=\"text-align: right;\">             10.34</td><td style=\"text-align: right;\">             0.79</td><td style=\"text-align: right;\">     8.25</td><td style=\"text-align: right;\">               6.08</td><td style=\"text-align: right;\">              0.48</td><td style=\"text-align: right;\">      8.52</td><td style=\"text-align: right;\">               1.88</td><td style=\"text-align: right;\">              0.15</td><td style=\"text-align: right;\">      8.77</td></tr>\n",
       "<tr><td style=\"text-align: right;\">          2010</td><td style=\"text-align: right;\">             28.64</td><td style=\"text-align: right;\">             1.58</td><td style=\"text-align: right;\">     5.85</td><td style=\"text-align: right;\">              16.29</td><td style=\"text-align: right;\">              0.53</td><td style=\"text-align: right;\">      3.34</td><td style=\"text-align: right;\">               7.46</td><td style=\"text-align: right;\">             -0.04</td><td style=\"text-align: right;\">     -0.56</td></tr>\n",
       "<tr><td style=\"text-align: right;\">          2011</td><td style=\"text-align: right;\">             47.4 </td><td style=\"text-align: right;\">             2.84</td><td style=\"text-align: right;\">     6.38</td><td style=\"text-align: right;\">              27.65</td><td style=\"text-align: right;\">              2.05</td><td style=\"text-align: right;\">      8   </td><td style=\"text-align: right;\">              14.41</td><td style=\"text-align: right;\">              0.92</td><td style=\"text-align: right;\">      6.84</td></tr>\n",
       "<tr><td style=\"text-align: right;\">          2012</td><td style=\"text-align: right;\">            141.27</td><td style=\"text-align: right;\">            10.88</td><td style=\"text-align: right;\">     8.34</td><td style=\"text-align: right;\">              64.87</td><td style=\"text-align: right;\">              5.17</td><td style=\"text-align: right;\">      8.66</td><td style=\"text-align: right;\">              30.16</td><td style=\"text-align: right;\">              2.2 </td><td style=\"text-align: right;\">      7.88</td></tr>\n",
       "<tr><td style=\"text-align: right;\">          2013</td><td style=\"text-align: right;\">            214.15</td><td style=\"text-align: right;\">             1.81</td><td style=\"text-align: right;\">     0.85</td><td style=\"text-align: right;\">              96.31</td><td style=\"text-align: right;\">              3.54</td><td style=\"text-align: right;\">      3.82</td><td style=\"text-align: right;\">              40.4 </td><td style=\"text-align: right;\">              1.54</td><td style=\"text-align: right;\">      3.98</td></tr>\n",
       "<tr><td style=\"text-align: right;\">          2014</td><td style=\"text-align: right;\">            189.11</td><td style=\"text-align: right;\">           -21.43</td><td style=\"text-align: right;\">   -10.18</td><td style=\"text-align: right;\">              90.74</td><td style=\"text-align: right;\">             -4.88</td><td style=\"text-align: right;\">     -5.1 </td><td style=\"text-align: right;\">              38.92</td><td style=\"text-align: right;\">             -0.98</td><td style=\"text-align: right;\">     -2.45</td></tr>\n",
       "<tr><td style=\"text-align: right;\">          2015</td><td style=\"text-align: right;\">             71.12</td><td style=\"text-align: right;\">           -17.86</td><td style=\"text-align: right;\">   -20.07</td><td style=\"text-align: right;\">              37.57</td><td style=\"text-align: right;\">             -5.31</td><td style=\"text-align: right;\">    -12.39</td><td style=\"text-align: right;\">              18.37</td><td style=\"text-align: right;\">             -1.65</td><td style=\"text-align: right;\">     -8.22</td></tr>\n",
       "</tbody>\n",
       "</table>"
      ]
     },
     "metadata": {},
     "output_type": "display_data"
    },
    {
     "data": {
      "text/plain": []
     },
     "execution_count": 64,
     "metadata": {},
     "output_type": "execute_result"
    }
   ],
   "source": [
    "drf_res = validate.cbind(drf_model.predict(validate))\n",
    "drf_res = drf_res[['issue_d_year', 'loan_status', 'loan_amnt', 'total_pymnt', 'p1']]\n",
    "drf_res['pred1'] = drf_res['p1'] > drf_model.find_threshold_by_max_metric('accuracy')\n",
    "drf_res['pred2'] = drf_res['p1'] > drf_sel_thr\n",
    "drf_res = drf_res[drf_res['loan_status'] != 'Current']\n",
    "\n",
    "drf_res['loan_amnt1'] = drf_res['loan_amnt'] * (1.0 - drf_res['pred1'])\n",
    "drf_res['loan_amnt2'] = drf_res['loan_amnt'] * (1.0 - drf_res['pred2'])\n",
    "\n",
    "drf_res['total_pymnt1'] = drf_res['total_pymnt'] * (1.0 - drf_res['pred1'])\n",
    "drf_res['total_pymnt2'] = drf_res['total_pymnt'] * (1.0 - drf_res['pred2'])\n",
    "\n",
    "tmp = drf_res.group_by('issue_d_year') \\\n",
    "    .sum('loan_amnt2') \\\n",
    "    .sum('loan_amnt1') \\\n",
    "    .sum('loan_amnt') \\\n",
    "    .sum('total_pymnt2') \\\n",
    "    .sum('total_pymnt1') \\\n",
    "    .sum('total_pymnt') \\\n",
    "    .get_frame()\n",
    "\n",
    "tmp['REVENUE (in mln)'] = (tmp['sum_total_pymnt']  / 1e6).round(2)\n",
    "tmp['PROFIT (in mln)'] = ((tmp['sum_total_pymnt'] - tmp['sum_loan_amnt']) / 1e6).round(2)\n",
    "tmp['ROI (%)'] = ((tmp['sum_total_pymnt'] / tmp['sum_loan_amnt'] - 1.0) * 100.0).round(2)\n",
    "\n",
    "tmp['REVENUE1 (in mln)'] = (tmp['sum_total_pymnt1']  / 1e6).round(2)\n",
    "tmp['PROFIT1 (in mln)'] = ((tmp['sum_total_pymnt1'] - tmp['sum_loan_amnt1']) / 1e6).round(2)\n",
    "tmp['ROI1 (%)'] = ((tmp['sum_total_pymnt1'] / tmp['sum_loan_amnt1'] - 1.0) * 100.0).round(2)\n",
    "\n",
    "tmp['REVENUE2 (in mln)'] = (tmp['sum_total_pymnt2']  / 1e6).round(2)\n",
    "tmp['PROFIT2 (in mln)'] = ((tmp['sum_total_pymnt2'] - tmp['sum_loan_amnt2']) / 1e6).round(2)\n",
    "tmp['ROI2 (%)'] = ((tmp['sum_total_pymnt2'] / tmp['sum_loan_amnt2'] - 1.0) * 100.0).round(2)\n",
    "\n",
    "tmp[['issue_d_year', \n",
    "     'REVENUE (in mln)', 'PROFIT (in mln)', 'ROI (%)',\n",
    "     'REVENUE1 (in mln)', 'PROFIT1 (in mln)', 'ROI1 (%)',\n",
    "     'REVENUE2 (in mln)', 'PROFIT2 (in mln)', 'ROI2 (%)'\n",
    "    ]]\n",
    "\n",
    "#TODO: line plot for ROI's   "
   ]
  },
  {
   "cell_type": "markdown",
   "metadata": {},
   "source": [
    "### Stacked Ensemble\n",
    "\n",
    "TODO: add the article about consitent learning using ensembles  \n",
    "http://docs.h2o.ai/h2o/latest-stable/h2o-docs/booklets/GLMBooklet.pdf  \n",
    "http://docs.h2o.ai/h2o/latest-stable/h2o-docs/data-science/glm.html"
   ]
  },
  {
   "cell_type": "code",
   "execution_count": 65,
   "metadata": {},
   "outputs": [
    {
     "name": "stdout",
     "output_type": "stream",
     "text": [
      "stackedensemble Model Build progress: |███████████████████████████████████| 100%\n"
     ]
    }
   ],
   "source": [
    "from h2o.estimators.stackedensemble import H2OStackedEnsembleEstimator\n",
    "\n",
    "ens_model = H2OStackedEnsembleEstimator(base_models=[drf_model, glm_model])\n",
    "\n",
    "ens_model.train(predictors, response, training_frame=train)"
   ]
  },
  {
   "cell_type": "code",
   "execution_count": 66,
   "metadata": {
    "scrolled": false
   },
   "outputs": [
    {
     "name": "stdout",
     "output_type": "stream",
     "text": [
      "Could not find exact threshold 0.01; using closest threshold found 0.009884723978702457.\n",
      "Could not find exact threshold 0.02; using closest threshold found 0.019907233088456322.\n",
      "Could not find exact threshold 0.03; using closest threshold found 0.029979134241519143.\n",
      "Could not find exact threshold 0.04; using closest threshold found 0.04006450661383323.\n",
      "Could not find exact threshold 0.05; using closest threshold found 0.05013523977468975.\n",
      "Could not find exact threshold 0.06; using closest threshold found 0.059815503161473174.\n",
      "Could not find exact threshold 0.07; using closest threshold found 0.0699057176815873.\n",
      "Could not find exact threshold 0.08; using closest threshold found 0.0799811100279259.\n",
      "Could not find exact threshold 0.09; using closest threshold found 0.08988817342606739.\n",
      "Could not find exact threshold 0.01; using closest threshold found 0.009884723978702457.\n",
      "Could not find exact threshold 0.02; using closest threshold found 0.019907233088456322.\n",
      "Could not find exact threshold 0.03; using closest threshold found 0.029979134241519143.\n",
      "Could not find exact threshold 0.04; using closest threshold found 0.04006450661383323.\n",
      "Could not find exact threshold 0.05; using closest threshold found 0.05013523977468975.\n",
      "Could not find exact threshold 0.06; using closest threshold found 0.059815503161473174.\n",
      "Could not find exact threshold 0.07; using closest threshold found 0.0699057176815873.\n",
      "Could not find exact threshold 0.08; using closest threshold found 0.0799811100279259.\n",
      "Could not find exact threshold 0.09; using closest threshold found 0.08988817342606739.\n",
      "Could not find exact threshold 0.01; using closest threshold found 0.00969065987104252.\n",
      "Could not find exact threshold 0.02; using closest threshold found 0.019929821871010625.\n",
      "Could not find exact threshold 0.03; using closest threshold found 0.030019319356088193.\n",
      "Could not find exact threshold 0.04; using closest threshold found 0.039871949729269114.\n",
      "Could not find exact threshold 0.05; using closest threshold found 0.05017564045621915.\n",
      "Could not find exact threshold 0.06; using closest threshold found 0.06007882349749163.\n",
      "Could not find exact threshold 0.07; using closest threshold found 0.07007056710008147.\n",
      "Could not find exact threshold 0.08; using closest threshold found 0.07997571239065085.\n",
      "Could not find exact threshold 0.09; using closest threshold found 0.08975214328082125.\n",
      "Could not find exact threshold 0.01; using closest threshold found 0.00969065987104252.\n",
      "Could not find exact threshold 0.02; using closest threshold found 0.019929821871010625.\n",
      "Could not find exact threshold 0.03; using closest threshold found 0.030019319356088193.\n",
      "Could not find exact threshold 0.04; using closest threshold found 0.039871949729269114.\n",
      "Could not find exact threshold 0.05; using closest threshold found 0.05017564045621915.\n",
      "Could not find exact threshold 0.06; using closest threshold found 0.06007882349749163.\n",
      "Could not find exact threshold 0.07; using closest threshold found 0.07007056710008147.\n",
      "Could not find exact threshold 0.08; using closest threshold found 0.07997571239065085.\n",
      "Could not find exact threshold 0.09; using closest threshold found 0.08975214328082125.\n"
     ]
    },
    {
     "data": {
      "text/html": [
       "<div>\n",
       "<style scoped>\n",
       "    .dataframe tbody tr th:only-of-type {\n",
       "        vertical-align: middle;\n",
       "    }\n",
       "\n",
       "    .dataframe tbody tr th {\n",
       "        vertical-align: top;\n",
       "    }\n",
       "\n",
       "    .dataframe thead th {\n",
       "        text-align: right;\n",
       "    }\n",
       "</style>\n",
       "<table border=\"1\" class=\"dataframe\">\n",
       "  <thead>\n",
       "    <tr style=\"text-align: right;\">\n",
       "      <th></th>\n",
       "      <th>thr</th>\n",
       "      <th>RECALL</th>\n",
       "      <th>FPR</th>\n",
       "      <th>RECALL (valid)</th>\n",
       "      <th>FPR (valid)</th>\n",
       "      <th>&gt; min_recall</th>\n",
       "    </tr>\n",
       "  </thead>\n",
       "  <tbody>\n",
       "    <tr>\n",
       "      <th>0</th>\n",
       "      <td>0.01</td>\n",
       "      <td>1.000000</td>\n",
       "      <td>1.000000</td>\n",
       "      <td>1.000000</td>\n",
       "      <td>1.000000</td>\n",
       "      <td>True</td>\n",
       "    </tr>\n",
       "    <tr>\n",
       "      <th>1</th>\n",
       "      <td>0.02</td>\n",
       "      <td>0.973484</td>\n",
       "      <td>0.828171</td>\n",
       "      <td>0.972604</td>\n",
       "      <td>0.829093</td>\n",
       "      <td>True</td>\n",
       "    </tr>\n",
       "    <tr>\n",
       "      <th>2</th>\n",
       "      <td>0.03</td>\n",
       "      <td>0.924164</td>\n",
       "      <td>0.681084</td>\n",
       "      <td>0.919593</td>\n",
       "      <td>0.681232</td>\n",
       "      <td>True</td>\n",
       "    </tr>\n",
       "    <tr>\n",
       "      <th>3</th>\n",
       "      <td>0.04</td>\n",
       "      <td>0.859526</td>\n",
       "      <td>0.563449</td>\n",
       "      <td>0.860051</td>\n",
       "      <td>0.566401</td>\n",
       "      <td>False</td>\n",
       "    </tr>\n",
       "    <tr>\n",
       "      <th>4</th>\n",
       "      <td>0.05</td>\n",
       "      <td>0.787808</td>\n",
       "      <td>0.472606</td>\n",
       "      <td>0.784987</td>\n",
       "      <td>0.473329</td>\n",
       "      <td>False</td>\n",
       "    </tr>\n",
       "    <tr>\n",
       "      <th>5</th>\n",
       "      <td>0.06</td>\n",
       "      <td>0.746622</td>\n",
       "      <td>0.430532</td>\n",
       "      <td>0.741137</td>\n",
       "      <td>0.429871</td>\n",
       "      <td>False</td>\n",
       "    </tr>\n",
       "    <tr>\n",
       "      <th>6</th>\n",
       "      <td>0.07</td>\n",
       "      <td>0.710814</td>\n",
       "      <td>0.390403</td>\n",
       "      <td>0.703562</td>\n",
       "      <td>0.391454</td>\n",
       "      <td>False</td>\n",
       "    </tr>\n",
       "    <tr>\n",
       "      <th>7</th>\n",
       "      <td>0.08</td>\n",
       "      <td>0.664692</td>\n",
       "      <td>0.344716</td>\n",
       "      <td>0.656573</td>\n",
       "      <td>0.346251</td>\n",
       "      <td>False</td>\n",
       "    </tr>\n",
       "    <tr>\n",
       "      <th>8</th>\n",
       "      <td>0.09</td>\n",
       "      <td>0.605909</td>\n",
       "      <td>0.295918</td>\n",
       "      <td>0.596862</td>\n",
       "      <td>0.297894</td>\n",
       "      <td>False</td>\n",
       "    </tr>\n",
       "  </tbody>\n",
       "</table>\n",
       "</div>"
      ],
      "text/plain": [
       "    thr    RECALL       FPR  RECALL (valid)  FPR (valid)  > min_recall\n",
       "0  0.01  1.000000  1.000000        1.000000     1.000000          True\n",
       "1  0.02  0.973484  0.828171        0.972604     0.829093          True\n",
       "2  0.03  0.924164  0.681084        0.919593     0.681232          True\n",
       "3  0.04  0.859526  0.563449        0.860051     0.566401         False\n",
       "4  0.05  0.787808  0.472606        0.784987     0.473329         False\n",
       "5  0.06  0.746622  0.430532        0.741137     0.429871         False\n",
       "6  0.07  0.710814  0.390403        0.703562     0.391454         False\n",
       "7  0.08  0.664692  0.344716        0.656573     0.346251         False\n",
       "8  0.09  0.605909  0.295918        0.596862     0.297894         False"
      ]
     },
     "execution_count": 66,
     "metadata": {},
     "output_type": "execute_result"
    }
   ],
   "source": [
    "thr_grid = [i / 100 for i in range(1, 10)]\n",
    "thr_grid_recall_train = pd.DataFrame(ens_model.recall(thr_grid, train=True), columns=['thr', 'RECALL'])\n",
    "thr_grid_fpr_train = pd.DataFrame(ens_model.fpr(thr_grid, train=True), columns=['thr', 'FPR'])\n",
    "thr_grid_recall_valid = pd.DataFrame(ens_model.model_performance(validate).recall(thr_grid), \n",
    "                                     columns=['thr', 'RECALL (valid)'])\n",
    "thr_grid_fpr_valid = pd.DataFrame(ens_model.model_performance(validate).fpr(thr_grid), \n",
    "                                  columns=['thr', 'FPR (valid)'])\n",
    "\n",
    "thr_grid = thr_grid_recall_train.merge(thr_grid_fpr_train).merge(thr_grid_recall_valid).merge(thr_grid_fpr_valid)\n",
    "thr_grid['> min_recall'] = thr_grid['RECALL'] >= usr_min_recall\n",
    "ens_thr_grid = thr_grid\n",
    "ens_sel_thr = thr_grid.loc[thr_grid['> min_recall'], 'thr'].max()\n",
    "\n",
    "ens_thr_grid"
   ]
  },
  {
   "cell_type": "code",
   "execution_count": 67,
   "metadata": {
    "scrolled": true
   },
   "outputs": [
    {
     "name": "stdout",
     "output_type": "stream",
     "text": [
      "Could not find exact threshold 0.03; using closest threshold found 0.030019319356088193.\n",
      "Confusion Matrix (Act/Pred) @ threshold = 0.030019319356088193: \n"
     ]
    },
    {
     "data": {
      "text/html": [
       "<div style=\"overflow:auto\"><table style=\"width:50%\"><tr><td><b></b></td>\n",
       "<td><b>0</b></td>\n",
       "<td><b>1</b></td>\n",
       "<td><b>Error</b></td>\n",
       "<td><b>Rate</b></td></tr>\n",
       "<tr><td>0</td>\n",
       "<td>52241.0</td>\n",
       "<td>111643.0</td>\n",
       "<td>0.6812</td>\n",
       "<td> (111643.0/163884.0)</td></tr>\n",
       "<tr><td>1</td>\n",
       "<td>948.0</td>\n",
       "<td>10842.0</td>\n",
       "<td>0.0804</td>\n",
       "<td> (948.0/11790.0)</td></tr>\n",
       "<tr><td>Total</td>\n",
       "<td>53189.0</td>\n",
       "<td>122485.0</td>\n",
       "<td>0.6409</td>\n",
       "<td> (112591.0/175674.0)</td></tr></table></div>"
      ],
      "text/plain": [
       "       0      1       Error    Rate\n",
       "-----  -----  ------  -------  -------------------\n",
       "0      52241  111643  0.6812   (111643.0/163884.0)\n",
       "1      948    10842   0.0804   (948.0/11790.0)\n",
       "Total  53189  122485  0.6409   (112591.0/175674.0)"
      ]
     },
     "metadata": {},
     "output_type": "display_data"
    },
    {
     "name": "stdout",
     "output_type": "stream",
     "text": [
      "Confusion Matrix (Act/Pred) for max accuracy @ threshold = 0.2544249612644192: \n"
     ]
    },
    {
     "data": {
      "text/html": [
       "<div style=\"overflow:auto\"><table style=\"width:50%\"><tr><td><b></b></td>\n",
       "<td><b>0</b></td>\n",
       "<td><b>1</b></td>\n",
       "<td><b>Error</b></td>\n",
       "<td><b>Rate</b></td></tr>\n",
       "<tr><td>0</td>\n",
       "<td>163882.0</td>\n",
       "<td>2.0</td>\n",
       "<td>0.0</td>\n",
       "<td> (2.0/163884.0)</td></tr>\n",
       "<tr><td>1</td>\n",
       "<td>11788.0</td>\n",
       "<td>2.0</td>\n",
       "<td>0.9998</td>\n",
       "<td> (11788.0/11790.0)</td></tr>\n",
       "<tr><td>Total</td>\n",
       "<td>175670.0</td>\n",
       "<td>4.0</td>\n",
       "<td>0.0671</td>\n",
       "<td> (11790.0/175674.0)</td></tr></table></div>"
      ],
      "text/plain": [
       "       0       1    Error    Rate\n",
       "-----  ------  ---  -------  ------------------\n",
       "0      163882  2    0        (2.0/163884.0)\n",
       "1      11788   2    0.9998   (11788.0/11790.0)\n",
       "Total  175670  4    0.0671   (11790.0/175674.0)"
      ]
     },
     "metadata": {},
     "output_type": "display_data"
    },
    {
     "data": {
      "text/plain": [
       "[, ]"
      ]
     },
     "execution_count": 67,
     "metadata": {},
     "output_type": "execute_result"
    }
   ],
   "source": [
    "ens_model.model_performance(validate).confusion_matrix(thresholds=ens_sel_thr, metrics='accuracy')"
   ]
  },
  {
   "cell_type": "code",
   "execution_count": 68,
   "metadata": {
    "scrolled": false
   },
   "outputs": [
    {
     "data": {
      "image/png": "[encoded data removed]",
      "text/plain": [
       "<matplotlib.figure.Figure at 0x7f119558c908>"
      ]
     },
     "metadata": {},
     "output_type": "display_data"
    }
   ],
   "source": [
    "tmp = ens_model.model_performance(validate)\n",
    "from matplotlib import pyplot as plt\n",
    "plt.figure(figsize=(6, 6))\n",
    "tmp.plot()\n",
    "\n",
    "# TODO: in presentation add line at y = .95"
   ]
  },
  {
   "cell_type": "markdown",
   "metadata": {},
   "source": [
    "### Business Metrics"
   ]
  },
  {
   "cell_type": "code",
   "execution_count": 71,
   "metadata": {
    "scrolled": true
   },
   "outputs": [
    {
     "name": "stdout",
     "output_type": "stream",
     "text": [
      "stackedensemble prediction progress: |████████████████████████████████████| 100%\n"
     ]
    },
    {
     "data": {
      "text/html": [
       "<table>\n",
       "<thead>\n",
       "<tr><th style=\"text-align: right;\">  issue_d_year</th><th style=\"text-align: right;\">  REVENUE (in mln)</th><th style=\"text-align: right;\">  PROFIT (in mln)</th><th style=\"text-align: right;\">  ROI (%)</th><th style=\"text-align: right;\">  REVENUE1 (in mln)</th><th style=\"text-align: right;\">  PROFIT1 (in mln)</th><th style=\"text-align: right;\">  ROI1 (%)</th><th style=\"text-align: right;\">  REVENUE2 (in mln)</th><th style=\"text-align: right;\">  PROFIT2 (in mln)</th><th style=\"text-align: right;\">  ROI2 (%)</th></tr>\n",
       "</thead>\n",
       "<tbody>\n",
       "<tr><td style=\"text-align: right;\">          2007</td><td style=\"text-align: right;\">              1.04</td><td style=\"text-align: right;\">            -0.07</td><td style=\"text-align: right;\">    -6.3 </td><td style=\"text-align: right;\">               0.73</td><td style=\"text-align: right;\">              0   </td><td style=\"text-align: right;\">     -0.65</td><td style=\"text-align: right;\">               0.31</td><td style=\"text-align: right;\">              0.04</td><td style=\"text-align: right;\">     12.56</td></tr>\n",
       "<tr><td style=\"text-align: right;\">          2008</td><td style=\"text-align: right;\">              3.96</td><td style=\"text-align: right;\">            -0.29</td><td style=\"text-align: right;\">    -6.78</td><td style=\"text-align: right;\">               2.65</td><td style=\"text-align: right;\">             -0.17</td><td style=\"text-align: right;\">     -6.06</td><td style=\"text-align: right;\">               0.4 </td><td style=\"text-align: right;\">             -0.04</td><td style=\"text-align: right;\">     -9.48</td></tr>\n",
       "<tr><td style=\"text-align: right;\">          2009</td><td style=\"text-align: right;\">             10.34</td><td style=\"text-align: right;\">             0.79</td><td style=\"text-align: right;\">     8.25</td><td style=\"text-align: right;\">               6.23</td><td style=\"text-align: right;\">              0.48</td><td style=\"text-align: right;\">      8.3 </td><td style=\"text-align: right;\">               1.81</td><td style=\"text-align: right;\">              0.14</td><td style=\"text-align: right;\">      8.52</td></tr>\n",
       "<tr><td style=\"text-align: right;\">          2010</td><td style=\"text-align: right;\">             28.64</td><td style=\"text-align: right;\">             1.58</td><td style=\"text-align: right;\">     5.85</td><td style=\"text-align: right;\">              17.3 </td><td style=\"text-align: right;\">              0.65</td><td style=\"text-align: right;\">      3.93</td><td style=\"text-align: right;\">               7.16</td><td style=\"text-align: right;\">             -0.1 </td><td style=\"text-align: right;\">     -1.35</td></tr>\n",
       "<tr><td style=\"text-align: right;\">          2011</td><td style=\"text-align: right;\">             47.4 </td><td style=\"text-align: right;\">             2.84</td><td style=\"text-align: right;\">     6.38</td><td style=\"text-align: right;\">              29.27</td><td style=\"text-align: right;\">              2.09</td><td style=\"text-align: right;\">      7.7 </td><td style=\"text-align: right;\">              13.98</td><td style=\"text-align: right;\">              0.91</td><td style=\"text-align: right;\">      6.99</td></tr>\n",
       "<tr><td style=\"text-align: right;\">          2012</td><td style=\"text-align: right;\">            141.27</td><td style=\"text-align: right;\">            10.88</td><td style=\"text-align: right;\">     8.34</td><td style=\"text-align: right;\">              67.21</td><td style=\"text-align: right;\">              5.39</td><td style=\"text-align: right;\">      8.71</td><td style=\"text-align: right;\">              28.88</td><td style=\"text-align: right;\">              2.07</td><td style=\"text-align: right;\">      7.74</td></tr>\n",
       "<tr><td style=\"text-align: right;\">          2013</td><td style=\"text-align: right;\">            214.15</td><td style=\"text-align: right;\">             1.81</td><td style=\"text-align: right;\">     0.85</td><td style=\"text-align: right;\">             103.86</td><td style=\"text-align: right;\">              3.76</td><td style=\"text-align: right;\">      3.76</td><td style=\"text-align: right;\">              38.83</td><td style=\"text-align: right;\">              1.44</td><td style=\"text-align: right;\">      3.85</td></tr>\n",
       "<tr><td style=\"text-align: right;\">          2014</td><td style=\"text-align: right;\">            189.11</td><td style=\"text-align: right;\">           -21.43</td><td style=\"text-align: right;\">   -10.18</td><td style=\"text-align: right;\">              99.01</td><td style=\"text-align: right;\">             -5.92</td><td style=\"text-align: right;\">     -5.64</td><td style=\"text-align: right;\">              37.07</td><td style=\"text-align: right;\">             -0.98</td><td style=\"text-align: right;\">     -2.56</td></tr>\n",
       "<tr><td style=\"text-align: right;\">          2015</td><td style=\"text-align: right;\">             71.12</td><td style=\"text-align: right;\">           -17.86</td><td style=\"text-align: right;\">   -20.07</td><td style=\"text-align: right;\">              38.95</td><td style=\"text-align: right;\">             -5.67</td><td style=\"text-align: right;\">    -12.71</td><td style=\"text-align: right;\">              17.64</td><td style=\"text-align: right;\">             -1.61</td><td style=\"text-align: right;\">     -8.36</td></tr>\n",
       "</tbody>\n",
       "</table>"
      ]
     },
     "metadata": {},
     "output_type": "display_data"
    },
    {
     "data": {
      "text/plain": []
     },
     "execution_count": 71,
     "metadata": {},
     "output_type": "execute_result"
    }
   ],
   "source": [
    "ens_res = validate.cbind(ens_model.predict(validate))\n",
    "ens_res = ens_res[['issue_d_year', 'loan_status', 'loan_amnt', 'total_pymnt', 'p1']]\n",
    "ens_res['pred1'] = ens_res['p1'] > ens_model.find_threshold_by_max_metric('f2')\n",
    "ens_res['pred2'] = ens_res['p1'] > ens_sel_thr\n",
    "ens_res = ens_res[ens_res['loan_status'] != 'Current']\n",
    "\n",
    "ens_res['loan_amnt1'] = ens_res['loan_amnt'] * (1.0 - ens_res['pred1'])\n",
    "ens_res['loan_amnt2'] = ens_res['loan_amnt'] * (1.0 - ens_res['pred2'])\n",
    "\n",
    "ens_res['total_pymnt1'] = ens_res['total_pymnt'] * (1.0 - ens_res['pred1'])\n",
    "ens_res['total_pymnt2'] = ens_res['total_pymnt'] * (1.0 - ens_res['pred2'])\n",
    "\n",
    "tmp = ens_res.group_by('issue_d_year') \\\n",
    "    .sum('loan_amnt2') \\\n",
    "    .sum('loan_amnt1') \\\n",
    "    .sum('loan_amnt') \\\n",
    "    .sum('total_pymnt2') \\\n",
    "    .sum('total_pymnt1') \\\n",
    "    .sum('total_pymnt') \\\n",
    "    .get_frame()\n",
    "\n",
    "tmp['REVENUE (in mln)'] = (tmp['sum_total_pymnt']  / 1e6).round(2)\n",
    "tmp['PROFIT (in mln)'] = ((tmp['sum_total_pymnt'] - tmp['sum_loan_amnt']) / 1e6).round(2)\n",
    "tmp['ROI (%)'] = ((tmp['sum_total_pymnt'] / tmp['sum_loan_amnt'] - 1.0) * 100.0).round(2)\n",
    "\n",
    "tmp['REVENUE1 (in mln)'] = (tmp['sum_total_pymnt1']  / 1e6).round(2)\n",
    "tmp['PROFIT1 (in mln)'] = ((tmp['sum_total_pymnt1'] - tmp['sum_loan_amnt1']) / 1e6).round(2)\n",
    "tmp['ROI1 (%)'] = ((tmp['sum_total_pymnt1'] / tmp['sum_loan_amnt1'] - 1.0) * 100.0).round(2)\n",
    "\n",
    "tmp['REVENUE2 (in mln)'] = (tmp['sum_total_pymnt2']  / 1e6).round(2)\n",
    "tmp['PROFIT2 (in mln)'] = ((tmp['sum_total_pymnt2'] - tmp['sum_loan_amnt2']) / 1e6).round(2)\n",
    "tmp['ROI2 (%)'] = ((tmp['sum_total_pymnt2'] / tmp['sum_loan_amnt2'] - 1.0) * 100.0).round(2)\n",
    "\n",
    "tmp[['issue_d_year', \n",
    "     'REVENUE (in mln)', 'PROFIT (in mln)', 'ROI (%)',\n",
    "     'REVENUE1 (in mln)', 'PROFIT1 (in mln)', 'ROI1 (%)',\n",
    "     'REVENUE2 (in mln)', 'PROFIT2 (in mln)', 'ROI2 (%)'\n",
    "    ]]\n",
    "\n",
    " "
   ]
  },
  {
   "cell_type": "code",
   "execution_count": 77,
   "metadata": {},
   "outputs": [
    {
     "data": {
      "text/plain": [
       "PROFIT (in mln)    -21.75\n",
       "PROFIT1 (in mln)     0.61\n",
       "PROFIT2 (in mln)     1.87\n",
       "dtype: float64"
      ]
     },
     "execution_count": 77,
     "metadata": {},
     "output_type": "execute_result"
    }
   ],
   "source": [
    "tmp[['PROFIT (in mln)', 'PROFIT1 (in mln)', 'PROFIT2 (in mln)']].as_data_frame().apply(lambda x: np.sum(x), axis=0)   "
   ]
  },
  {
   "cell_type": "code",
   "execution_count": null,
   "metadata": {},
   "outputs": [],
   "source": []
  },
  {
   "cell_type": "code",
   "execution_count": null,
   "metadata": {},
   "outputs": [],
   "source": []
  },
  {
   "cell_type": "code",
   "execution_count": null,
   "metadata": {
    "scrolled": true
   },
   "outputs": [],
   "source": [
    "model_0_m_avg_per_conv = (train[['m']] * train[['n']]).sum() / train[train['y']=='1', 'n'].sum()\n",
    "print('Average revenue per conversion: {:.2f}$'.format(model_0_m_avg_per_conv))\n",
    "\n",
    "glm_model_pred = glm_model.predict(validate)\n",
    "glm_model_pred\n",
    "validate['pred_revenue'] = model_0_m_avg_per_conv * glm_model_pred['p1']\n",
    "\n",
    "pp = glm_model_pred['p1'].sum() / glm_model_pred['p1'].nrows\n",
    "validate['pred_revenue_uw'] = model_0_m_avg_per_conv * (glm_model_pred['p1'] / pp * .0138)\n",
    "\n",
    "# evaluate target metrics:\n",
    "\n",
    "frame = validate\n",
    "model_1_err1 = ((frame['pred_revenue'] - frame['rpc']) * (frame['pred_revenue'] - frame['rpc']) * frame['n']).sum() / frame['n'].sum()\n",
    "model_1_err2 = np.sqrt(model_1_err1)\n",
    "\n",
    "model_1_err1_uw = ((frame['pred_revenue_uw'] - frame['rpc']) * (frame['pred_revenue_uw'] - frame['rpc']) * frame['n_orig']).sum() / frame['n_orig'].sum()\n",
    "model_1_err2_uw = np.sqrt(model_1_err1_uw)\n",
    "\n",
    "print('RMSE: {:.2f}$'.format(model_1_err2))\n",
    "print('RMSE (unweighted): {:.2f}$'.format(model_1_err2_uw))"
   ]
  },
  {
   "cell_type": "code",
   "execution_count": null,
   "metadata": {},
   "outputs": [],
   "source": [
    "# add offsets to df's\n",
    "validate['offset'] = model_0_m_avg_per_conv * (glm_model.predict(validate)['p1'] / pp * .0138)\n",
    "train['offset'] = model_0_m_avg_per_conv * (glm_model.predict(train)['p1'] / pp * .0138)\n",
    "test['offset'] = model_0_m_avg_per_conv * (glm_model.predict(test)['p1'] / pp * .0138)"
   ]
  },
  {
   "cell_type": "code",
   "execution_count": null,
   "metadata": {},
   "outputs": [],
   "source": []
  },
  {
   "cell_type": "code",
   "execution_count": null,
   "metadata": {},
   "outputs": [],
   "source": []
  },
  {
   "cell_type": "code",
   "execution_count": null,
   "metadata": {},
   "outputs": [],
   "source": []
  },
  {
   "cell_type": "code",
   "execution_count": null,
   "metadata": {},
   "outputs": [],
   "source": []
  },
  {
   "cell_type": "code",
   "execution_count": null,
   "metadata": {},
   "outputs": [],
   "source": []
  },
  {
   "cell_type": "code",
   "execution_count": null,
   "metadata": {},
   "outputs": [],
   "source": []
  },
  {
   "cell_type": "code",
   "execution_count": null,
   "metadata": {},
   "outputs": [],
   "source": []
  },
  {
   "cell_type": "code",
   "execution_count": null,
   "metadata": {},
   "outputs": [],
   "source": []
  },
  {
   "cell_type": "code",
   "execution_count": null,
   "metadata": {},
   "outputs": [],
   "source": [
    "from pyspark.sql.functions import col, log, sum\n",
    "pdf = sdf \\\n",
    "        .withColumn('log_prob_of_conv', log(col('Conversions') / col('Clicks'))) \\\n",
    "        .withColumn('prob_of_conv', col('Conversions') / col('Clicks')) \\\n",
    "        .withColumn('log_of_revenue', log(1 + col('Revenue'))) \\\n",
    "        .withColumn('rpc', (col('Revenue') / col('Clicks'))) \\\n",
    "        .select('Clicks', 'Conversions' ,'log_prob_of_conv', 'log_of_revenue', 'rpc') \\\n",
    "        .sample(True, .01).toPandas()"
   ]
  },
  {
   "cell_type": "code",
   "execution_count": null,
   "metadata": {},
   "outputs": [],
   "source": [
    "pdf.corr()"
   ]
  },
  {
   "cell_type": "code",
   "execution_count": null,
   "metadata": {},
   "outputs": [],
   "source": [
    "pdf.describe()"
   ]
  },
  {
   "cell_type": "code",
   "execution_count": null,
   "metadata": {
    "scrolled": true
   },
   "outputs": [],
   "source": [
    "pdf['rpc'].hist(bins=40)"
   ]
  },
  {
   "cell_type": "code",
   "execution_count": null,
   "metadata": {},
   "outputs": [],
   "source": [
    "import pandas as pd\n",
    "import matplotlib.pyplot as plt\n",
    "%matplotlib inline\n",
    "\n",
    "p = pd.plotting.scatter_matrix(pdf, figsize=(11, 8), marker='o',\n",
    "                        hist_kwds={'bins': 20}, s=60, alpha=.8)"
   ]
  },
  {
   "cell_type": "markdown",
   "metadata": {},
   "source": [
    "## Data preparation\n",
    "\n",
    "TODO's:\n",
    "\n",
    " - explode and save spark data frame &#9989;\n",
    " - baseline model\n",
    " - maximum and minimum attainable accuracy\n",
    " - add weighting of classes as a parameter to be tunned\n",
    " - cleaning"
   ]
  },
  {
   "cell_type": "markdown",
   "metadata": {},
   "source": [
    "#### Class balancing"
   ]
  },
  {
   "cell_type": "code",
   "execution_count": null,
   "metadata": {},
   "outputs": [],
   "source": [
    "tmp_0 = sdf_exp.filter(col('y')==0).agg(sum(col('n')).alias('n')).collect()[0].n\n",
    "tmp_1 = sdf_exp.filter(col('y')==1).agg(sum(col('n')).alias('n')).collect()[0].n\n",
    "p_0 = tmp_0 / (tmp_0 + tmp_1) * 100\n",
    "print('Class percentage before weighting: Y==1: {:2.2f}%, Y==0: {:2.2f}%'.format(100 - p_0, p_0))"
   ]
  },
  {
   "cell_type": "code",
   "execution_count": null,
   "metadata": {},
   "outputs": [],
   "source": [
    "# class weights\n",
    "N = tmp_0 + tmp_1\n",
    "w_0 = N * .5 / tmp_0\n",
    "w_1 = N * .5 / tmp_1"
   ]
  },
  {
   "cell_type": "code",
   "execution_count": null,
   "metadata": {},
   "outputs": [],
   "source": [
    "from pyspark.sql.functions import when\n",
    "\n",
    "sdf_exp_w = sdf_exp \\\n",
    "            .withColumn('n_orig', col('n')) \\\n",
    "            .withColumn('n', when(col('y') == 1, col('n') * w_1).otherwise(col('n') * w_0))\n",
    "    \n",
    "tmp_0 = sdf_exp_w.filter(col('y')==0).agg(sum(col('n')).alias('n')).collect()[0].n\n",
    "tmp_1 = sdf_exp_w.filter(col('y')==1).agg(sum(col('n')).alias('n')).collect()[0].n\n",
    "p_0 = tmp_0 / (tmp_0 + tmp_1) * 100\n",
    "print('Class percentage after balancing: Y==1: {:2.2f}%, Y==0: {:2.2f}%'.format(100 - p_0, p_0))"
   ]
  },
  {
   "cell_type": "markdown",
   "metadata": {},
   "source": [
    "#### Maximum attainable accuracy (Move to the baseline setting)\n",
    "\n",
    "$$ \\frac{1}{C} \\sum_{n = 1}^N c_n * \\mathrm{max}_y\\{c(y) \\} $$\n",
    "\n",
    "where $c(y)$ is a number of click events that ended with state $y$."
   ]
  },
  {
   "cell_type": "code",
   "execution_count": null,
   "metadata": {},
   "outputs": [],
   "source": [
    "from pyspark.sql.functions import when\n",
    "\n",
    "tmp = sdf_exp_w \\\n",
    "    .groupBy('Date', 'Keyword_ID', 'Match_type_ID') \\\n",
    "    .agg(*[sum('n').alias('Clicks'), sum(when(col('y')==1, col('n')).otherwise(0)).alias('Conversions')]) \\\n",
    "    .select('Conversions', 'Clicks') \\\n",
    "    .withColumn('score', when((col('Clicks') - col('Conversions')) > col('Conversions'), \n",
    "                              col('Clicks') - col('Conversions')).otherwise(col('Conversions'))) \\\n",
    "    .agg(sum(col('score')).alias('score'), sum(col('Clicks')).alias('Clicks')) \\\n",
    "    .collect()\n",
    "    \n",
    "print('Minimum possible error: {:2.2f}%'.format(100 - tmp[0].score / tmp[0].Clicks * 100) )"
   ]
  },
  {
   "cell_type": "markdown",
   "metadata": {},
   "source": [
    "#### Minimum attainable accuracy\n",
    "\n",
    "- when we always assume lack of conversion"
   ]
  },
  {
   "cell_type": "code",
   "execution_count": null,
   "metadata": {},
   "outputs": [],
   "source": [
    "tmp = sdf_exp_w \\\n",
    "    .groupBy('Date', 'Keyword_ID', 'Match_type_ID') \\\n",
    "    .agg(*[sum('n').alias('Clicks'), sum(when(col('y')==1, col('n')).otherwise(0)).alias('Conversions')]) \\\n",
    "    .select('Conversions', 'Clicks') \\\n",
    "    .withColumn('score', col('Clicks') - col('Conversions')) \\\n",
    "    .agg(sum(col('score')).alias('score'), sum(col('Clicks')).alias('Clicks')) \\\n",
    "    .collect()\n",
    "    \n",
    "print('Class majority error: {:2.2f}%'.format(100 - tmp[0].score / tmp[0].Clicks * 100) )"
   ]
  },
  {
   "cell_type": "markdown",
   "metadata": {},
   "source": [
    "### Average probability of conversion over time"
   ]
  },
  {
   "cell_type": "code",
   "execution_count": null,
   "metadata": {},
   "outputs": [],
   "source": [
    "tmp = sdf \\\n",
    "        .groupBy('Date') \\\n",
    "        .agg(*[sum(col('Conversions')).alias('Conversions'), \n",
    "           sum(col('Clicks')).alias('Clicks'), \n",
    "           sum(col('Revenue')).alias('Revenue')]) \\\n",
    "        .withColumn('log_prob_of_conv', log(col('Conversions') / col('Clicks'))) \\\n",
    "        .withColumn('prob_of_conv', col('Conversions') / col('Clicks')) \\\n",
    "        .withColumn('log_of_revenue', log(1 + col('Revenue'))) \\\n",
    "        .withColumn('rpc', log(col('Revenue') / col('Clicks'))) \\\n",
    "        .orderBy(col('Date').asc()) \\\n",
    "        .toPandas()"
   ]
  },
  {
   "cell_type": "code",
   "execution_count": null,
   "metadata": {},
   "outputs": [],
   "source": [
    "from plotnine import ggplot, geom_line, aes, theme_bw\n",
    "import plotnine\n",
    "plotnine.options.figure_size = (11, 4)\n",
    "\n",
    "\n",
    "ggplot(aes(x='Date', y='prob_of_conv'), data=tmp) + geom_line() + theme_bw()"
   ]
  },
  {
   "cell_type": "markdown",
   "metadata": {},
   "source": [
    "### Remove rare keywords using Chi-Square test of independence"
   ]
  },
  {
   "cell_type": "code",
   "execution_count": null,
   "metadata": {},
   "outputs": [],
   "source": [
    "from pyspark.sql.functions import pow\n",
    "\n",
    "tmp = sdf_exp_w \\\n",
    "        .select('Keyword_ID', 'y', 'n') \\\n",
    "        .groupBy('Keyword_ID', 'y') \\\n",
    "        .agg(sum(col('n')).alias('n')) \\\n",
    "        .groupBy('Keyword_ID') \\\n",
    "        .pivot('y', [0, 1]).sum('n') \\\n",
    "        .withColumn('1', when(col('1').isNull(), 0.0).otherwise(col('1'))) \\\n",
    "        .withColumn('n', col('0') + col('1')) \\\n",
    "        .withColumn('X', pow(col('0') - col('n') * .5, 2) / (col('n') * .5) * 2.0) \\\n",
    "        .orderBy(col('n').desc()) \\\n",
    "        .persist()\n",
    "        \n",
    "tmp.show(5)\n",
    "tmp.count()"
   ]
  },
  {
   "cell_type": "code",
   "execution_count": null,
   "metadata": {},
   "outputs": [],
   "source": [
    "tmp.select('X').sample(fraction=.1, withReplacement=False, seed=2014).toPandas()['X'] \\\n",
    "    .hist(bins=30, figsize=(13, 5), range=[0, 200])\n"
   ]
  },
  {
   "cell_type": "markdown",
   "metadata": {},
   "source": [
    "https://en.wikipedia.org/wiki/Chi-squared_distribution#Table_of_χ2_values_vs_p-values"
   ]
  },
  {
   "cell_type": "code",
   "execution_count": null,
   "metadata": {},
   "outputs": [],
   "source": [
    "# very at least 100 searches and Pval<.01\n",
    "\n",
    "print(tmp.count())\n",
    "print(tmp.filter(col('X') > 3.84).count())\n",
    "print(tmp.filter((col('n') > 100)).count())\n",
    "print(tmp.filter((col('X') > 6.63) & (col('n') > 100)).count())"
   ]
  },
  {
   "cell_type": "code",
   "execution_count": null,
   "metadata": {},
   "outputs": [],
   "source": [
    "# create sdf with pruned keyword variable\n",
    "\n",
    "from pyspark.sql.functions import lit\n",
    "sdf_rm_keywords = tmp.filter((col('X') > 6.63) & (col('n') > 100)).select('Keyword_ID').withColumn(\"valid\", lit(1)).persist()\n",
    "sdf_rm_keywords.count()"
   ]
  },
  {
   "cell_type": "code",
   "execution_count": null,
   "metadata": {},
   "outputs": [],
   "source": [
    "sdf_exp_w_r = sdf_exp_w.alias('A') \\\n",
    "        .join(sdf_rm_keywords.alias('B'), col('A.Keyword_ID') == col('B.Keyword_ID'), how='left') \\\n",
    "        .withColumn('valid', when(col('valid').isNull(), 0).otherwise(col('valid'))) \\\n",
    "        .drop(col('B.Keyword_ID')) \\\n",
    "        .withColumn('Keyword_ID_r', when(col('valid') == 1, col('Keyword_ID')).otherwise(0)) \\\n",
    "        .drop('valid') \\\n",
    "        .persist()\n",
    "        \n",
    "sdf_exp_w_r.count()"
   ]
  },
  {
   "cell_type": "markdown",
   "metadata": {},
   "source": [
    "### Remove rare groups using Chi-Square test of independence"
   ]
  },
  {
   "cell_type": "code",
   "execution_count": null,
   "metadata": {},
   "outputs": [],
   "source": [
    "from pyspark.sql.functions import pow\n",
    "\n",
    "cat_var = 'Ad_group_ID'\n",
    "tmp = sdf_exp_w \\\n",
    "        .select(cat_var, 'y', 'n') \\\n",
    "        .groupBy(cat_var, 'y') \\\n",
    "        .agg(sum(col('n')).alias('n')) \\\n",
    "        .groupBy(cat_var) \\\n",
    "        .pivot('y', [0, 1]).sum('n') \\\n",
    "        .withColumn('1', when(col('1').isNull(), 0.0).otherwise(col('1'))) \\\n",
    "        .withColumn('n', col('0') + col('1')) \\\n",
    "        .withColumn('X', pow(col('0') - col('n') * .5, 2) / (col('n') * .5) * 2.0) \\\n",
    "        .orderBy(col('n').desc()) \\\n",
    "        .persist()\n",
    "        \n",
    "tmp.show(5)\n",
    "tmp.count()"
   ]
  },
  {
   "cell_type": "code",
   "execution_count": null,
   "metadata": {},
   "outputs": [],
   "source": [
    "tmp.select('X').sample(fraction=.1, withReplacement=False, seed=2014).toPandas()['X'] \\\n",
    "    .hist(bins=30, figsize=(13, 5), range=[0, 200])\n"
   ]
  },
  {
   "cell_type": "markdown",
   "metadata": {},
   "source": [
    "https://en.wikipedia.org/wiki/Chi-squared_distribution#Table_of_χ2_values_vs_p-values"
   ]
  },
  {
   "cell_type": "code",
   "execution_count": null,
   "metadata": {},
   "outputs": [],
   "source": [
    "# very at least 100 searches and Pval<.01\n",
    "\n",
    "print(tmp.count())\n",
    "print(tmp.filter(col('X') > 3.84).count())\n",
    "print(tmp.filter((col('n') > 100)).count())\n",
    "print(tmp.filter((col('X') > 6.63) & (col('n') > 100)).count())"
   ]
  },
  {
   "cell_type": "code",
   "execution_count": null,
   "metadata": {},
   "outputs": [],
   "source": [
    "# create sdf with pruned keyword variable\n",
    "\n",
    "from pyspark.sql.functions import lit\n",
    "sdf_rm_keywords = tmp.filter((col('X') > 6.63) & (col('n') > 100)).select(cat_var).withColumn(\"valid\", lit(1)).persist()\n",
    "sdf_rm_keywords.count()"
   ]
  },
  {
   "cell_type": "code",
   "execution_count": null,
   "metadata": {
    "scrolled": true
   },
   "outputs": [],
   "source": [
    "sdf_exp_w_r = sdf_exp_w_r.alias('A') \\\n",
    "        .join(sdf_rm_keywords.alias('B'), col('A.' + cat_var) == col('B.' + cat_var), how='left') \\\n",
    "        .withColumn('valid', when(col('valid').isNull(), 0).otherwise(col('valid'))) \\\n",
    "        .drop(col('B.' + cat_var)) \\\n",
    "        .withColumn(cat_var + '_r', when(col('valid') == 1, col(cat_var)).otherwise(0)) \\\n",
    "        .persist()\n",
    "        \n",
    "sdf_exp_w_r.count()"
   ]
  },
  {
   "cell_type": "markdown",
   "metadata": {},
   "source": [
    "### Clean the data"
   ]
  },
  {
   "cell_type": "code",
   "execution_count": null,
   "metadata": {},
   "outputs": [],
   "source": [
    "# remove 0.0$ conversions\n",
    "m_n_0 = sdf_exp_w_r.filter((col('y') > 0) & (col('m') == 0)).count()\n",
    "m_n = sdf_exp_w_r.filter((col('y') > 0)).count()\n",
    "\n",
    "print('Removing 0.0$ conversions: {} ({:2.2f}%)'.format(m_n_0, m_n_0 / m_n * 100))\n",
    "\n",
    "ff = ((col('y') > 0) & (col('m') > 0)) | (col('y') == 0)\n",
    "sdf_exp_w_r = sdf_exp_w_r.filter(ff).persist()\n",
    "sdf_exp_w_r.count()"
   ]
  },
  {
   "cell_type": "markdown",
   "metadata": {},
   "source": [
    "### Import data to h2o DataFrame"
   ]
  },
  {
   "cell_type": "code",
   "execution_count": null,
   "metadata": {
    "scrolled": false
   },
   "outputs": [],
   "source": [
    "import h2o\n",
    "from pysparkling import H2OContext\n",
    "hc = H2OContext.getOrCreate(spark)"
   ]
  },
  {
   "cell_type": "code",
   "execution_count": null,
   "metadata": {},
   "outputs": [],
   "source": [
    "h2o.remove_all()\n",
    "df = hc.as_h2o_frame(sdf_exp_w_r, framename='sdf_exp_w_r')"
   ]
  },
  {
   "cell_type": "code",
   "execution_count": null,
   "metadata": {},
   "outputs": [],
   "source": [
    "df['Keyword_ID'] = df['Keyword_ID'].asfactor()\n",
    "df['Keyword_ID_r'] = df['Keyword_ID_r'].asfactor()\n",
    "df['Ad_group_ID'] = df['Ad_group_ID'].asfactor()\n",
    "df['Ad_group_ID_r'] = df['Ad_group_ID_r'].asfactor()\n",
    "df['Campaign_ID'] = df['Campaign_ID'].asfactor()\n",
    "df['Match_type_ID'] = df['Match_type_ID'].asfactor()\n",
    "df['Device_ID'] = df['Device_ID'].asfactor()\n",
    "\n",
    "df['Month'] = df['Date'].month().asfactor()\n",
    "df['Week'] = df['Date'].week().asfactor()\n",
    "df['Day'] = df['Date'].dayOfWeek().asfactor()\n",
    "\n",
    "df['rpc'] = df['rpc'].asnumeric()\n",
    "\n",
    "df['y'] = df['y'].asfactor()"
   ]
  },
  {
   "cell_type": "code",
   "execution_count": null,
   "metadata": {},
   "outputs": [],
   "source": [
    "df.names"
   ]
  },
  {
   "cell_type": "markdown",
   "metadata": {},
   "source": [
    "### Detect outliers of m - on logarithmic scale (average Revenue per conversion)"
   ]
  },
  {
   "cell_type": "code",
   "execution_count": null,
   "metadata": {},
   "outputs": [],
   "source": [
    "tmp = df[['m', 'y']].as_data_frame()\n",
    "len(tmp)\n",
    "tmp.head()"
   ]
  },
  {
   "cell_type": "code",
   "execution_count": null,
   "metadata": {},
   "outputs": [],
   "source": [
    "# take log where it is positive, else we put NaN to capture possible errors when using wrong values\n",
    "tmp.loc[tmp['y'] > 0, 'log_m'] = np.log(tmp[tmp['y'] > 0]['m'])\n",
    "tmp.describe()"
   ]
  },
  {
   "cell_type": "code",
   "execution_count": null,
   "metadata": {},
   "outputs": [],
   "source": [
    "# remove outliers using EllipticEnvelope\n",
    "from sklearn.covariance import EllipticEnvelope\n",
    "\n",
    "ee = EllipticEnvelope()\n",
    "ee.fit(tmp[tmp['y'] > 0][['log_m']])\n",
    "tmp.loc[tmp['y'] > 0, 'outlier'] = ee.predict(tmp[tmp['y'] > 0][['log_m']])\n",
    "tmp.describe()"
   ]
  },
  {
   "cell_type": "code",
   "execution_count": null,
   "metadata": {
    "scrolled": false
   },
   "outputs": [],
   "source": [
    "tmp[tmp['y'] > 0][['log_m', 'outlier']].groupby('outlier').hist()"
   ]
  },
  {
   "cell_type": "code",
   "execution_count": null,
   "metadata": {},
   "outputs": [],
   "source": [
    "tmp.loc[np.isnan(tmp['outlier']), 'outlier'] = 0\n",
    "tmp.describe()"
   ]
  },
  {
   "cell_type": "code",
   "execution_count": null,
   "metadata": {},
   "outputs": [],
   "source": [
    "# merge back with h2o df:\n",
    "df_out_m = h2o.H2OFrame(tmp[['outlier']])"
   ]
  },
  {
   "cell_type": "code",
   "execution_count": null,
   "metadata": {},
   "outputs": [],
   "source": [
    "df = df.cbind(df_out_m)\n",
    "df.names"
   ]
  },
  {
   "cell_type": "markdown",
   "metadata": {},
   "source": [
    "### Test, Train, Validate\n",
    "\n",
    "Few comments about splitting the dataset (date and Keyword are the key)"
   ]
  },
  {
   "cell_type": "code",
   "execution_count": null,
   "metadata": {},
   "outputs": [],
   "source": [
    "train, validate, test = df[df['outlier'] > -1, :].split_frame([.8, .1], seed=2014)\n",
    "\n",
    "predictors = ['Keyword_ID_r', 'Ad_group_ID_r', 'Campaign_ID', \n",
    "              'Account_ID', 'Match_type_ID', 'Device_ID', 'Month', 'Day', 'Week']\n",
    "response = 'y'\n",
    "weights_col = 'n'"
   ]
  },
  {
   "cell_type": "markdown",
   "metadata": {},
   "source": [
    "### Model building process\n",
    "\n",
    "We keep track of the progress with respect to the 'trivial model' to evaluate dimnishing returns of model exploration process:\n",
    "\n",
    "- majority class assignment for `y`\n",
    "- dataset average for `m`\n",
    "\n",
    "Note: We evaluate model bulding progress using validation set."
   ]
  },
  {
   "cell_type": "code",
   "execution_count": null,
   "metadata": {},
   "outputs": [],
   "source": [
    "# trivial model predictions:\n",
    "\n",
    "model_0_m_avg = (train[['m']] * train[['n']]).sum() / train[['n']].sum()\n",
    "model_0_m_avg_uw = (train[['m']] * train[['n_orig']]).sum() / train[['n_orig']].sum()\n",
    "print('Average revenue per click: {:.2f}$'.format(model_0_m_avg))\n",
    "print('Average revenue per click (unweighted): {:.2f}$'.format(model_0_m_avg_uw))\n",
    "\n",
    "validate['pred_revenue'] = model_0_m_avg\n",
    "validate['pred_revenue_uw'] = model_0_m_avg_uw\n",
    "\n",
    "# evaluate target metrics:\n",
    "\n",
    "frame = validate\n",
    "model_0_err1 = ((frame['pred_revenue'] - frame['rpc']) * (frame['pred_revenue'] - frame['rpc']) * frame['n']).sum() / frame['n'].sum()\n",
    "model_0_err2 = np.sqrt(model_0_err1)\n",
    "\n",
    "model_0_err1_uw = ((frame['pred_revenue_uw'] - frame['rpc']) * (frame['pred_revenue_uw'] - frame['rpc']) * frame['n_orig']).sum() / frame['n_orig'].sum()\n",
    "model_0_err2_uw = np.sqrt(model_0_err1_uw)\n",
    "\n",
    "print('RMSE: {:.2f}$'.format(model_0_err2))\n",
    "print('RMSE (unweighted): {:.2f}$'.format(model_0_err2_uw))"
   ]
  },
  {
   "cell_type": "markdown",
   "metadata": {},
   "source": [
    "### Model for `P[Conversion]`: Lasso Logistic regression\n",
    "\n",
    "http://docs.h2o.ai/h2o/latest-stable/h2o-docs/booklets/GLMBooklet.pdf  \n",
    "http://docs.h2o.ai/h2o/latest-stable/h2o-docs/data-science/glm.html"
   ]
  },
  {
   "cell_type": "markdown",
   "metadata": {},
   "source": [
    "#### Tune lasso parameters"
   ]
  },
  {
   "cell_type": "code",
   "execution_count": null,
   "metadata": {},
   "outputs": [],
   "source": [
    "from h2o.grid import H2OGridSearch\n",
    "from h2o.estimators.glm import H2OGeneralizedLinearEstimator\n",
    "\n",
    "import numpy as np\n",
    "\n",
    "lambda_grid = list(np.logspace(start=-7.0, stop=-3.0, num=10, base=10.0))\n",
    "\n",
    "g = H2OGridSearch(\n",
    "        model=H2OGeneralizedLinearEstimator(family=\"binomial\", alpha=1.0),\n",
    "        hyper_params={\"lambda\": lambda_grid},\n",
    "        grid_id=\"glm_grid\"\n",
    "    )\n",
    "\n",
    "g.train(predictors, response, training_frame=train, validation_frame=validate, weights_column = weights_col)"
   ]
  },
  {
   "cell_type": "code",
   "execution_count": null,
   "metadata": {},
   "outputs": [],
   "source": [
    "import pandas as pd\n",
    "pd_auc = pd.DataFrame(list(g.auc().items()), columns=['Model_ID', 'AUC']).sort_values('AUC', ascending=False)\n",
    "model_ids = pd_auc['Model_ID'].values\n",
    "pd_auc['lambda'] = np.array([g.get_hyperparams_dict(model, display=False)['lambda'] for model in model_ids])\n",
    "pd_auc = pd_auc.sort_values('AUC', ascending=False)\n",
    "\n",
    "pd_auc\n",
    "\n",
    "# select best model and remove the rest\n",
    "# h2o.remove_all()"
   ]
  },
  {
   "cell_type": "code",
   "execution_count": null,
   "metadata": {},
   "outputs": [],
   "source": [
    "from h2o.estimators.glm import H2OGeneralizedLinearEstimator\n",
    "\n",
    "glm_model = H2OGeneralizedLinearEstimator(family=\"binomial\", \n",
    "                                          lambda_=1.668101e-05, \n",
    "                                          standardize=True,\n",
    "                                          alpha=1.0,\n",
    "                                          max_iterations=100)\n",
    "\n",
    "glm_model.train(predictors, response, training_frame=train, validation_frame=validate, weights_column = 'n')"
   ]
  },
  {
   "cell_type": "code",
   "execution_count": null,
   "metadata": {
    "scrolled": false
   },
   "outputs": [],
   "source": [
    "glm_model.model_performance(train).confusion_matrix(metrics='accuracy', thresholds=[.5])"
   ]
  },
  {
   "cell_type": "code",
   "execution_count": null,
   "metadata": {},
   "outputs": [],
   "source": [
    "glm_model.model_performance(validate).confusion_matrix(metrics='accuracy', thresholds=[.5])"
   ]
  },
  {
   "cell_type": "code",
   "execution_count": null,
   "metadata": {},
   "outputs": [],
   "source": [
    "tmp = glm_model.model_performance(train)\n",
    "from matplotlib import pyplot as plt\n",
    "# plt.figure(figsize=(7, 7))\n",
    "tmp.plot()"
   ]
  },
  {
   "cell_type": "markdown",
   "metadata": {},
   "source": [
    "### Validate model:\n",
    "\n",
    "We keep track of the progress with respect to the 'trivial model' to evaluate dimnishing returns of model exploration process:\n",
    "\n",
    "- class assignment for `y` according to `P[Conversion]` with tuned threshold\n",
    "- dataset average for `m`"
   ]
  },
  {
   "cell_type": "code",
   "execution_count": null,
   "metadata": {},
   "outputs": [],
   "source": []
  },
  {
   "cell_type": "code",
   "execution_count": null,
   "metadata": {
    "scrolled": true
   },
   "outputs": [],
   "source": [
    "model_0_m_avg_per_conv = (train[['m']] * train[['n']]).sum() / train[train['y']=='1', 'n'].sum()\n",
    "print('Average revenue per conversion: {:.2f}$'.format(model_0_m_avg_per_conv))\n",
    "\n",
    "glm_model_pred = glm_model.predict(validate)\n",
    "glm_model_pred\n",
    "validate['pred_revenue'] = model_0_m_avg_per_conv * glm_model_pred['p1']\n",
    "\n",
    "pp = glm_model_pred['p1'].sum() / glm_model_pred['p1'].nrows\n",
    "validate['pred_revenue_uw'] = model_0_m_avg_per_conv * (glm_model_pred['p1'] / pp * .0138)\n",
    "\n",
    "# evaluate target metrics:\n",
    "\n",
    "frame = validate\n",
    "model_1_err1 = ((frame['pred_revenue'] - frame['rpc']) * (frame['pred_revenue'] - frame['rpc']) * frame['n']).sum() / frame['n'].sum()\n",
    "model_1_err2 = np.sqrt(model_1_err1)\n",
    "\n",
    "model_1_err1_uw = ((frame['pred_revenue_uw'] - frame['rpc']) * (frame['pred_revenue_uw'] - frame['rpc']) * frame['n_orig']).sum() / frame['n_orig'].sum()\n",
    "model_1_err2_uw = np.sqrt(model_1_err1_uw)\n",
    "\n",
    "print('RMSE: {:.2f}$'.format(model_1_err2))\n",
    "print('RMSE (unweighted): {:.2f}$'.format(model_1_err2_uw))"
   ]
  },
  {
   "cell_type": "code",
   "execution_count": null,
   "metadata": {},
   "outputs": [],
   "source": [
    "# add offsets to df's\n",
    "validate['offset'] = model_0_m_avg_per_conv * (glm_model.predict(validate)['p1'] / pp * .0138)\n",
    "train['offset'] = model_0_m_avg_per_conv * (glm_model.predict(train)['p1'] / pp * .0138)\n",
    "test['offset'] = model_0_m_avg_per_conv * (glm_model.predict(test)['p1'] / pp * .0138)"
   ]
  },
  {
   "cell_type": "markdown",
   "metadata": {},
   "source": [
    "### Model for `E[logm]`: Lasso Linear Regression\n",
    "\n",
    "http://docs.h2o.ai/h2o/latest-stable/h2o-docs/booklets/GLMBooklet.pdf  \n",
    "http://docs.h2o.ai/h2o/latest-stable/h2o-docs/data-science/glm.html"
   ]
  },
  {
   "cell_type": "code",
   "execution_count": null,
   "metadata": {},
   "outputs": [],
   "source": [
    "predictors = ['Keyword_ID_r', 'Ad_group_ID_r', 'Campaign_ID', \n",
    "              'Account_ID', 'Match_type_ID', 'Device_ID', 'Month', 'Day', 'Week']\n",
    "response = 'rpc'\n",
    "weights_col = 'n_orig'"
   ]
  },
  {
   "cell_type": "markdown",
   "metadata": {},
   "source": [
    "#### Tune lasso parameters"
   ]
  },
  {
   "cell_type": "code",
   "execution_count": null,
   "metadata": {
    "scrolled": true
   },
   "outputs": [],
   "source": [
    "from h2o.grid import H2OGridSearch\n",
    "from h2o.estimators.glm import H2OGeneralizedLinearEstimator\n",
    "\n",
    "import numpy as np\n",
    "\n",
    "lambda_grid = list(np.logspace(start=-7.0, stop=-3.0, num=10, base=10.0))\n",
    "\n",
    "h2o.remove('lm_grid')\n",
    "g_lm = H2OGridSearch(\n",
    "        model=H2OGeneralizedLinearEstimator(family=\"gaussian\", alpha=1.0),\n",
    "        hyper_params={\"lambda\": lambda_grid},\n",
    "        grid_id=\"lm_grid\"\n",
    "    )\n",
    "\n",
    "g_lm.train(predictors, response, training_frame=train_m, validation_frame=validate_m, weights_column = weights_col)"
   ]
  },
  {
   "cell_type": "code",
   "execution_count": null,
   "metadata": {},
   "outputs": [],
   "source": [
    "import pandas as pd\n",
    "pd_dev = pd.DataFrame(list(g_lm.residual_deviance(valid=True).items()), columns=['Model_ID', 'DEV'])\n",
    "model_ids = pd_dev['Model_ID'].values\n",
    "pd_dev['lambda'] = np.array([g_lm.get_hyperparams_dict(model, display=False)['lambda'] for model in model_ids])\n",
    "pd_dev = pd_dev.sort_values('DEV', ascending=True)\n",
    "\n",
    "pd_dev"
   ]
  },
  {
   "cell_type": "code",
   "execution_count": null,
   "metadata": {},
   "outputs": [],
   "source": [
    "from h2o.estimators.glm import H2OGeneralizedLinearEstimator\n",
    "\n",
    "lm_model = H2OGeneralizedLinearEstimator(family=\"gaussian\", \n",
    "                                          lambda_=.00001, \n",
    "                                          standardize=True,\n",
    "                                          alpha=1.0,\n",
    "                                          max_iterations=100)\n",
    "\n",
    "lm_model.train(predictors, response, training_frame=train, validation_frame=validate, \n",
    "               weights_column = weights_col,\n",
    "               offset_column='offset')"
   ]
  },
  {
   "cell_type": "code",
   "execution_count": null,
   "metadata": {
    "scrolled": false
   },
   "outputs": [],
   "source": [
    "print(lm_model.model_performance(train).rmse())\n",
    "print(lm_model.model_performance(validate).rmse())"
   ]
  },
  {
   "cell_type": "markdown",
   "metadata": {},
   "source": [
    "### Validate model:\n",
    "\n",
    "We keep track of the progress with respect to the 'trivial model' to evaluate dimnishing returns of model exploration process:\n",
    "\n",
    "- class assignment for `y` according to `P[Conversion]` with tuned threshold\n",
    "- `m` as `$exp(E[m|data])$`"
   ]
  },
  {
   "cell_type": "code",
   "execution_count": null,
   "metadata": {
    "scrolled": false
   },
   "outputs": [],
   "source": [
    "glm_model_pred = glm_model.predict(validate)\n",
    "lm_model_pred = lm_model.predict(validate)\n",
    "\n",
    "# validate['pred_revenue'] = lm_model_pred\n",
    "validate['pred_revenue_uw'] = lm_model_pred\n",
    "\n",
    "# evaluate target metrics:\n",
    "\n",
    "frame = validate\n",
    "# model_1_err1 = ((frame['pred_revenue'] - frame['m']) * (frame['pred_revenue'] - frame['m']) * frame['n']).sum() / frame['n'].sum()\n",
    "# model_1_err2 = np.sqrt(model_1_err1)\n",
    "\n",
    "model_1_err1_uw = ((frame['pred_revenue_uw'] - frame['rpc']) * (frame['pred_revenue_uw'] - frame['rpc']) * frame['n_orig']).sum() / frame['n_orig'].sum()\n",
    "model_1_err2_uw = np.sqrt(model_1_err1_uw)\n",
    "\n",
    "# print('RMSE: {:.2f}$'.format(model_1_err2))\n",
    "print('RMSE (unweighted): {:.2f}$'.format(model_1_err2_uw))"
   ]
  },
  {
   "cell_type": "code",
   "execution_count": null,
   "metadata": {},
   "outputs": [],
   "source": [
    "tmp = validate[validate['rpc'] > 0, ['rpc', 'pred_revenue_uw', 'offset']].as_data_frame()\n",
    "\n",
    "import pandas as pd\n",
    "import matplotlib.pyplot as plt\n",
    "%matplotlib inline\n",
    "\n",
    "p = pd.plotting.scatter_matrix(tmp, figsize=(11, 8), marker='o',\n",
    "                        hist_kwds={'bins': 20}, s=60, alpha=.8)"
   ]
  },
  {
   "cell_type": "markdown",
   "metadata": {},
   "source": [
    "### Use simple deep learning model:"
   ]
  },
  {
   "cell_type": "code",
   "execution_count": null,
   "metadata": {},
   "outputs": [],
   "source": [
    "tt, _  = train.split_frame([.01], seed=2014)\n",
    "tt.nrows"
   ]
  },
  {
   "cell_type": "code",
   "execution_count": null,
   "metadata": {
    "scrolled": false
   },
   "outputs": [],
   "source": [
    "from h2o.estimators.glm import H2OGeneralizedLinearEstimator\n",
    "\n",
    "lm_model = H2OGeneralizedLinearEstimator(family=\"gaussian\", \n",
    "                                          lambda_=1.668101e-06, \n",
    "                                          standardize=True,\n",
    "                                          alpha=1.0,\n",
    "                                          max_iterations=100)\n",
    "\n",
    "lm_model.train(predictors, 'm', training_frame=train, validation_frame=validate, weights_column = 'n_orig')"
   ]
  },
  {
   "cell_type": "code",
   "execution_count": null,
   "metadata": {},
   "outputs": [],
   "source": [
    "print(lm_model.rmse(train=True))\n",
    "print(lm_model.rmse(valid=True))"
   ]
  },
  {
   "cell_type": "code",
   "execution_count": null,
   "metadata": {},
   "outputs": [],
   "source": [
    "lm_model_pred = lm_model.predict(validate)\n",
    "\n",
    "validate['pred_revenue'] = lm_model_pred\n",
    "validate['pred_revenue_uw'] = lm_model_pred\n",
    "\n",
    "# evaluate target metrics:\n",
    "\n",
    "frame = validate\n",
    "model_1_err1 = ((frame['pred_revenue'] - frame['m']) * (frame['pred_revenue'] - frame['m']) * frame['n']).sum() / frame['n'].sum()\n",
    "model_1_err2 = np.sqrt(model_1_err1)\n",
    "\n",
    "model_1_err1_uw = ((frame['pred_revenue_uw'] - frame['m']) * (frame['pred_revenue_uw'] - frame['m']) * frame['n_orig']).sum() / frame['n_orig'].sum()\n",
    "model_1_err2_uw = np.sqrt(model_1_err1_uw)\n",
    "\n",
    "print('RMSE: {:.2f}$'.format(model_1_err2))\n",
    "print('RMSE (unweighted): {:.2f}$'.format(model_1_err2_uw))"
   ]
  },
  {
   "cell_type": "markdown",
   "metadata": {},
   "source": [
    "### Summary\n",
    "\n",
    "- two stage models do not really work! (unless first level is very, very accurate)\n",
    "- Always use simpler model from the very beginning that will open the road to smart feature engineering\n",
    "    - average rev per campaign\n",
    "    - avreage rev per account etcc\n",
    "- All in all sampling and weighting can make a process much faste\n",
    "- Balancing is a good idea but not in two step models (too much to be done in the end)\n",
    "- Workflow with Sparkling water is very robust and enables to leverage a lot of Python libraries (scikit-learn, scipy)\n",
    "- deep learning is not super fast (even on fast machine) so for big datasets like this one would probably still use XGboost\n",
    "\n"
   ]
  },
  {
   "cell_type": "code",
   "execution_count": null,
   "metadata": {},
   "outputs": [],
   "source": []
  }
 ],
 "metadata": {
  "kernelspec": {
   "display_name": "Python 3",
   "language": "python",
   "name": "python3"
  },
  "language_info": {
   "codemirror_mode": {
    "name": "ipython",
    "version": 3
   },
   "file_extension": ".py",
   "mimetype": "text/x-python",
   "name": "python",
   "nbconvert_exporter": "python",
   "pygments_lexer": "ipython3",
   "version": "3.5.2"
  }
 },
 "nbformat": 4,
 "nbformat_minor": 2
}
