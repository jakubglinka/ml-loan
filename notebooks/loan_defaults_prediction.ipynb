{
 "cells": [
  {
   "cell_type": "markdown",
   "metadata": {},
   "source": [
    "# Loan defaults prediction using Sparkling Water"
   ]
  },
  {
   "cell_type": "markdown",
   "metadata": {},
   "source": [
    "## Sparkling water Pipeline outline:\n",
    "\n",
    "- Architecture\n",
    "    - environment set-up:\n",
    "        - `Pipenv`\n",
    "        - `Spark`\n",
    "        - `Jupyter`\n",
    "        - `H2O`\n",
    "    - how to run this notebook\n",
    "- Set-up datasets using local spark warehouse\n",
    "- `Spark:` Initial data exploration\n",
    "    - target variable distribution\n",
    "    - first hypotheses\n",
    "    - data pre-processing\n",
    "    - heavy feature engineering (leveraging Spark)\n",
    "        - averages using window functions\n",
    "        - removing non-significant keywords\n",
    "    - data cleaning (simple operations that can be done in Spark)\n",
    "- `H2O:`\n",
    "    - variable encoding\n",
    "    - outlier detection\n",
    "    - leveraging `scikit-learn` for small scale pre-processing\n",
    "    - set-up baseline model\n",
    "    - develop more complex models (tracking performance with baseline to find the value of development)"
   ]
  },
  {
   "cell_type": "markdown",
   "metadata": {},
   "source": [
    "![alt text](https://i0.wp.com/blog.h2o.ai/wp-content/uploads/2017/04/hdi-image5.jpg?resize=700%2C394)"
   ]
  },
  {
   "cell_type": "markdown",
   "metadata": {},
   "source": [
    "## How to run this notebook on Amazon EC2 cluster:\n",
    "\n",
    " - clone the repo\n",
    " - run installation script\n",
    " - start jupyter notebook server\n",
    " - load the notebook\n",
    " - export Python envir for Spark\n",
    " - export AWS credentials for S3 bucket"
   ]
  },
  {
   "cell_type": "markdown",
   "metadata": {},
   "source": [
    "Note: also using `scikit-learn` utilities are much easier with H2O Data Frame than with pySpark (due to the unordered character of Spark DataFrame)"
   ]
  },
  {
   "cell_type": "markdown",
   "metadata": {
    "scrolled": false
   },
   "source": [
    "As a master node I'm using AWS `t2.x2large` instance with following specs:"
   ]
  },
  {
   "cell_type": "code",
   "execution_count": 1,
   "metadata": {
    "scrolled": false
   },
   "outputs": [
    {
     "name": "stdout",
     "output_type": "stream",
     "text": [
      "H/W path    Device  Class      Description\n",
      "==========================================\n",
      "                    system     HVM domU\n",
      "/0                  bus        Motherboard\n",
      "/0/0                memory     96KiB BIOS\n",
      "/0/401              processor  Intel(R) Xeon(R) CPU E5-2676 v3 @ 2.40GHz\n",
      "/0/402              processor  CPU\n",
      "/0/403              processor  CPU\n",
      "/0/404              processor  CPU\n",
      "/0/405              processor  CPU\n",
      "/0/406              processor  CPU\n",
      "/0/407              processor  CPU\n",
      "/0/408              processor  CPU\n",
      "/0/1000             memory     32GiB System Memory\n",
      "/0/1000/0           memory     16GiB DIMM RAM\n",
      "/0/1000/1           memory     16GiB DIMM RAM\n",
      "/0/100              bridge     440FX - 82441FX PMC [Natoma]\n",
      "/0/100/1            bridge     82371SB PIIX3 ISA [Natoma/Triton II]\n",
      "/0/100/1.1          storage    82371SB PIIX3 IDE [Natoma/Triton II]\n",
      "/0/100/1.3          bridge     82371AB/EB/MB PIIX4 ACPI\n",
      "/0/100/2            display    GD 5446\n",
      "/0/100/3            generic    Xen Platform Device\n",
      "/1          eth0    network    Ethernet interface\n"
     ]
    }
   ],
   "source": [
    "!sudo lshw -short"
   ]
  },
  {
   "cell_type": "markdown",
   "metadata": {},
   "source": [
    "## Task description:"
   ]
  },
  {
   "cell_type": "markdown",
   "metadata": {},
   "source": [
    "Lending Club is a Peer-to-Peer lending company that utilizes a group of private investors to fund loan requests. \n",
    "\n",
    "Lending Club’s model for risk assessment categorizes borrowers by assigning them a grade and a subgrade based on their credit history.\n",
    "\n",
    "Investors are presented with a list of borrowers, along with their assigned risk assessment grades, and they have the opportunity to choose which borrowers they will fund, and the percentage of funding that they will cover.\n",
    "\n",
    "Our business problem is that investors require a more comprehensive assessment of these borrowers than what is presented by Lending Club in order to make a smart business decision, by identifying new borrowers that would likely default on their loans."
   ]
  },
  {
   "cell_type": "markdown",
   "metadata": {},
   "source": [
    "-----"
   ]
  },
  {
   "cell_type": "markdown",
   "metadata": {},
   "source": [
    "## User specified parameters\n",
    "\n",
    "- `usr_s3_data_path` - path to s3 bucket with loan data\n",
    "- `usr_min_error` - maximum acceptable FPR"
   ]
  },
  {
   "cell_type": "code",
   "execution_count": 2,
   "metadata": {
    "scrolled": false
   },
   "outputs": [],
   "source": [
    "usr_s3_data_path = 's3n://jakubs-bucket/club_loan/loan.csv'\n",
    "usr_min_error = .05"
   ]
  },
  {
   "cell_type": "markdown",
   "metadata": {},
   "source": [
    "## Setting data access\n",
    "\n",
    " - Loan csv file was loaded into the Amazon Simple Storage Service (S3) serving as a primary source of data and back-up\n",
    " - to speed up process of loading data into Spark DataFrame we loaded the data into local metastore"
   ]
  },
  {
   "cell_type": "raw",
   "metadata": {},
   "source": [
    "# move tables from s3 to local sql warehouse\n",
    "# spark.read.csv(\"s3n://jakubs-bucket/\", header=True, inferSchema=True)\n",
    "sdf_loan = spark.read.csv(usr_s3_data_path, header=True, inferSchema=True)\n",
    "sdf_loan.persist()\n",
    "print('Read {} cases from {}.'.format(sdf_loan.count(), usr_s3_data_path))"
   ]
  },
  {
   "cell_type": "raw",
   "metadata": {},
   "source": [
    "# spark.sql('create database loan')\n",
    "spark.sql('drop table if exists loan.data')\n",
    "sdf_loan.write.saveAsTable('loan.data')"
   ]
  },
  {
   "cell_type": "code",
   "execution_count": 3,
   "metadata": {
    "scrolled": false
   },
   "outputs": [
    {
     "name": "stdout",
     "output_type": "stream",
     "text": [
      "\u001b[01;34m/home/ubuntu/spark-warehouse/\u001b[00m\r\n",
      "└── \u001b[01;34mloan.db\u001b[00m\r\n",
      "    └── \u001b[01;34mdata\u001b[00m\r\n",
      "        ├── part-00000-7d6d0974-d6d2-448a-b2fc-5f9c5ed96e66-c000.snappy.parquet\r\n",
      "        ├── part-00001-7d6d0974-d6d2-448a-b2fc-5f9c5ed96e66-c000.snappy.parquet\r\n",
      "        ├── part-00002-7d6d0974-d6d2-448a-b2fc-5f9c5ed96e66-c000.snappy.parquet\r\n",
      "        ├── part-00003-7d6d0974-d6d2-448a-b2fc-5f9c5ed96e66-c000.snappy.parquet\r\n",
      "        ├── part-00004-7d6d0974-d6d2-448a-b2fc-5f9c5ed96e66-c000.snappy.parquet\r\n",
      "        ├── part-00005-7d6d0974-d6d2-448a-b2fc-5f9c5ed96e66-c000.snappy.parquet\r\n",
      "        ├── part-00006-7d6d0974-d6d2-448a-b2fc-5f9c5ed96e66-c000.snappy.parquet\r\n",
      "        ├── part-00007-7d6d0974-d6d2-448a-b2fc-5f9c5ed96e66-c000.snappy.parquet\r\n",
      "        └── _SUCCESS\r\n",
      "\r\n",
      "2 directories, 9 files\r\n"
     ]
    }
   ],
   "source": [
    "!tree /home/ubuntu/spark-warehouse/"
   ]
  },
  {
   "cell_type": "markdown",
   "metadata": {},
   "source": [
    "### H2O Server"
   ]
  },
  {
   "cell_type": "code",
   "execution_count": 4,
   "metadata": {
    "scrolled": false
   },
   "outputs": [
    {
     "name": "stdout",
     "output_type": "stream",
     "text": [
      "Connecting to H2O server at http://172.31.46.219:54321... successful.\n"
     ]
    },
    {
     "data": {
      "text/html": [
       "<div style=\"overflow:auto\"><table style=\"width:50%\"><tr><td>H2O cluster uptime:</td>\n",
       "<td>24 secs</td></tr>\n",
       "<tr><td>H2O cluster version:</td>\n",
       "<td>3.16.0.2</td></tr>\n",
       "<tr><td>H2O cluster version age:</td>\n",
       "<td>1 month and 21 days </td></tr>\n",
       "<tr><td>H2O cluster name:</td>\n",
       "<td>sparkling-water-ubuntu_local-1516483687011</td></tr>\n",
       "<tr><td>H2O cluster total nodes:</td>\n",
       "<td>1</td></tr>\n",
       "<tr><td>H2O cluster free memory:</td>\n",
       "<td>13.85 Gb</td></tr>\n",
       "<tr><td>H2O cluster total cores:</td>\n",
       "<td>8</td></tr>\n",
       "<tr><td>H2O cluster allowed cores:</td>\n",
       "<td>8</td></tr>\n",
       "<tr><td>H2O cluster status:</td>\n",
       "<td>accepting new members, healthy</td></tr>\n",
       "<tr><td>H2O connection url:</td>\n",
       "<td>http://172.31.46.219:54321</td></tr>\n",
       "<tr><td>H2O connection proxy:</td>\n",
       "<td>None</td></tr>\n",
       "<tr><td>H2O internal security:</td>\n",
       "<td>False</td></tr>\n",
       "<tr><td>H2O API Extensions:</td>\n",
       "<td>XGBoost, Algos, AutoML, Core V3, Core V4</td></tr>\n",
       "<tr><td>Python version:</td>\n",
       "<td>3.5.2 final</td></tr></table></div>"
      ],
      "text/plain": [
       "--------------------------  ------------------------------------------\n",
       "H2O cluster uptime:         24 secs\n",
       "H2O cluster version:        3.16.0.2\n",
       "H2O cluster version age:    1 month and 21 days\n",
       "H2O cluster name:           sparkling-water-ubuntu_local-1516483687011\n",
       "H2O cluster total nodes:    1\n",
       "H2O cluster free memory:    13.85 Gb\n",
       "H2O cluster total cores:    8\n",
       "H2O cluster allowed cores:  8\n",
       "H2O cluster status:         accepting new members, healthy\n",
       "H2O connection url:         http://172.31.46.219:54321\n",
       "H2O connection proxy:\n",
       "H2O internal security:      False\n",
       "H2O API Extensions:         XGBoost, Algos, AutoML, Core V3, Core V4\n",
       "Python version:             3.5.2 final\n",
       "--------------------------  ------------------------------------------"
      ]
     },
     "metadata": {},
     "output_type": "display_data"
    },
    {
     "name": "stdout",
     "output_type": "stream",
     "text": [
      "\n",
      "Sparkling Water Context:\n",
      " * H2O name: sparkling-water-ubuntu_local-1516483687011\n",
      " * cluster size: 1\n",
      " * list of used nodes:\n",
      "  (executorId, host, port)\n",
      "  ------------------------\n",
      "  (driver,172.31.46.219,54321)\n",
      "  ------------------------\n",
      "\n",
      "  Open H2O Flow in browser: http://172.31.46.219:54321 (CMD + click in Mac OSX)\n",
      "\n",
      "    \n"
     ]
    }
   ],
   "source": [
    "import h2o\n",
    "from pysparkling import H2OContext\n",
    "hc = H2OContext.getOrCreate(spark)"
   ]
  },
  {
   "cell_type": "markdown",
   "metadata": {},
   "source": [
    "## Data cleaning and feature engineering"
   ]
  },
  {
   "cell_type": "code",
   "execution_count": 5,
   "metadata": {},
   "outputs": [
    {
     "data": {
      "text/plain": [
       "887379"
      ]
     },
     "execution_count": 5,
     "metadata": {},
     "output_type": "execute_result"
    }
   ],
   "source": [
    "from pyspark.sql.functions import udf, sum, col, when\n",
    "from pyspark.sql.types import StringType\n",
    "from loan_utils import *\n",
    "\n",
    "sdf_loan = spark \\\n",
    "    .sql('select * from loan.data') \\\n",
    "    .persist()\n",
    "    \n",
    "sdf_loan.count()"
   ]
  },
  {
   "cell_type": "markdown",
   "metadata": {},
   "source": [
    "### Target variable (Loan status) preparation"
   ]
  },
  {
   "cell_type": "code",
   "execution_count": 6,
   "metadata": {
    "scrolled": true
   },
   "outputs": [
    {
     "data": {
      "text/plain": [
       "<matplotlib.axes._subplots.AxesSubplot at 0x7f0cb94ec320>"
      ]
     },
     "execution_count": 6,
     "metadata": {},
     "output_type": "execute_result"
    }
   ],
   "source": [
    "tmp = sdf_loan.select('loan_status').groupBy('loan_status').count().orderBy('count').toPandas()\n",
    "tmp = tmp.set_index('loan_status')\n",
    "tmp.plot.barh()"
   ]
  },
  {
   "cell_type": "code",
   "execution_count": 7,
   "metadata": {},
   "outputs": [
    {
     "name": "stdout",
     "output_type": "stream",
     "text": [
      "Filtering and casting loan_status: removed 8461 (0.953%) cases due to the missing info \n",
      "Filtering and casting loan_default: removed 0 (0.000%) cases due to the missing info \n"
     ]
    }
   ],
   "source": [
    "loan_status_dict = {}\n",
    "loan_status_dict['Does not meet the credit policy. Status:Charged Off'] = 'Default'\n",
    "loan_status_dict['Default'] = 'Default'\n",
    "loan_status_dict['Does not meet the credit policy. Status:Fully Paid'] = 'Fully Paid'\n",
    "loan_status_dict['Late (16-30 days)'] = 'Current'\n",
    "loan_status_dict['In Grace Period'] = 'Current'\n",
    "loan_status_dict['Late (31-120 days)'] = 'Default'\n",
    "loan_status_dict['Charged Off'] = 'Default'\n",
    "loan_status_dict['Fully Paid'] = 'Fully Paid'\n",
    "loan_status_dict['Current'] = 'Current'\n",
    "loan_status_dict['Issued'] = None\n",
    "loan_status_dict['Oct-2015'] = None\n",
    "\n",
    "sdf_loan_clean = sdf_loan \\\n",
    "        .withColumn('loan_status', udf_recode_string(loan_status_dict)(col('loan_status'))) \\\n",
    "        .withColumn('loan_default', (col('loan_status') == 'Default').cast('int')) \\\n",
    "\n",
    "# remove observations with unclear data\n",
    "sdf_loan_clean = filter_and_cast('loan_status', 'string', sdf_loan_clean)\n",
    "sdf_loan_clean = filter_and_cast('loan_default', 'int', sdf_loan_clean)"
   ]
  },
  {
   "cell_type": "code",
   "execution_count": 8,
   "metadata": {
    "scrolled": false
   },
   "outputs": [
    {
     "data": {
      "text/plain": [
       "<matplotlib.axes._subplots.AxesSubplot at 0x7f0cb4c522b0>"
      ]
     },
     "execution_count": 8,
     "metadata": {},
     "output_type": "execute_result"
    },
    {
     "data": {
      "image/png": "[encoded data removed]",
      "text/plain": [
       "<matplotlib.figure.Figure at 0x7f0cb4c4b550>"
      ]
     },
     "metadata": {},
     "output_type": "display_data"
    }
   ],
   "source": [
    "tmp = sdf_loan_clean.select('loan_status').groupBy('loan_status').count().orderBy('count').toPandas()\n",
    "tmp = tmp.set_index('loan_status')\n",
    "tmp.plot.barh()"
   ]
  },
  {
   "cell_type": "markdown",
   "metadata": {},
   "source": [
    "### Loan variables preparation"
   ]
  },
  {
   "cell_type": "code",
   "execution_count": 9,
   "metadata": {},
   "outputs": [],
   "source": [
    "from pyspark.sql.functions import unix_timestamp, from_unixtime, max, lit, datediff, add_months\n",
    "from pyspark.sql import Window\n",
    "\n",
    "w_all = Window.rowsBetween(Window.unboundedPreceding, Window.unboundedFollowing)"
   ]
  },
  {
   "cell_type": "code",
   "execution_count": 10,
   "metadata": {},
   "outputs": [
    {
     "data": {
      "text/html": [
       "<div>\n",
       "<style scoped>\n",
       "    .dataframe tbody tr th:only-of-type {\n",
       "        vertical-align: middle;\n",
       "    }\n",
       "\n",
       "    .dataframe tbody tr th {\n",
       "        vertical-align: top;\n",
       "    }\n",
       "\n",
       "    .dataframe thead th {\n",
       "        text-align: right;\n",
       "    }\n",
       "</style>\n",
       "<table border=\"1\" class=\"dataframe\">\n",
       "  <thead>\n",
       "    <tr style=\"text-align: right;\">\n",
       "      <th></th>\n",
       "      <th>grade</th>\n",
       "      <th>sub_grade</th>\n",
       "      <th>count</th>\n",
       "    </tr>\n",
       "  </thead>\n",
       "  <tbody>\n",
       "    <tr>\n",
       "      <th>0</th>\n",
       "      <td>B</td>\n",
       "      <td>B3</td>\n",
       "      <td>55777</td>\n",
       "    </tr>\n",
       "    <tr>\n",
       "      <th>1</th>\n",
       "      <td>B</td>\n",
       "      <td>B4</td>\n",
       "      <td>55094</td>\n",
       "    </tr>\n",
       "    <tr>\n",
       "      <th>2</th>\n",
       "      <td>C</td>\n",
       "      <td>C1</td>\n",
       "      <td>52799</td>\n",
       "    </tr>\n",
       "    <tr>\n",
       "      <th>3</th>\n",
       "      <td>C</td>\n",
       "      <td>C2</td>\n",
       "      <td>51724</td>\n",
       "    </tr>\n",
       "    <tr>\n",
       "      <th>4</th>\n",
       "      <td>C</td>\n",
       "      <td>C3</td>\n",
       "      <td>49680</td>\n",
       "    </tr>\n",
       "  </tbody>\n",
       "</table>\n",
       "</div>"
      ],
      "text/plain": [
       "  grade sub_grade  count\n",
       "0     B        B3  55777\n",
       "1     B        B4  55094\n",
       "2     C        C1  52799\n",
       "3     C        C2  51724\n",
       "4     C        C3  49680"
      ]
     },
     "execution_count": 10,
     "metadata": {},
     "output_type": "execute_result"
    }
   ],
   "source": [
    "sdf_loan_clean.groupBy('grade', 'sub_grade').count().orderBy(col('count').desc()).toPandas().head()"
   ]
  },
  {
   "cell_type": "code",
   "execution_count": 11,
   "metadata": {},
   "outputs": [
    {
     "name": "stdout",
     "output_type": "stream",
     "text": [
      "Filtering and casting total_pymnt: removed 68 (0.008%) cases due to the missing info \n",
      "Filtering and casting total_rec_prncp: removed 24 (0.003%) cases due to the missing info \n",
      "Filtering and casting out_prncp: removed 76 (0.009%) cases due to the missing info \n",
      "Filtering and casting grade: removed 0 (0.000%) cases due to the missing info \n",
      "Filtering and casting sub_grade: removed 0 (0.000%) cases due to the missing info \n"
     ]
    }
   ],
   "source": [
    "# variables describing loan itself\n",
    "from pyspark.sql.functions import unix_timestamp, year, month, from_unixtime\n",
    "\n",
    "var_descr_loan = ['issue_d', \n",
    "            'issue_d_year',\n",
    "            'issue_d_month',\n",
    "            'loan_amnt',\n",
    "            'total_amnt_due',\n",
    "            'int_rate',\n",
    "            'installment',\n",
    "            'term', \n",
    "            'term_n',\n",
    "            'total_pymnt',\n",
    "            'total_rec_prncp',\n",
    "            'total_rec_prncp_perc',\n",
    "            'out_prncp',\n",
    "            'time_covered_prc'\n",
    "                 ]\n",
    "\n",
    "# filter null values and cast to appropriate types\n",
    "sdf_loan_clean = filter_and_cast('total_pymnt', 'double', sdf_loan_clean)\n",
    "sdf_loan_clean = filter_and_cast('total_rec_prncp', 'double', sdf_loan_clean)\n",
    "sdf_loan_clean = filter_and_cast('out_prncp', 'double', sdf_loan_clean)\n",
    "\n",
    "# create Spark dateteime object from issue_d\n",
    "sdf_loan_clean = sdf_loan_clean \\\n",
    "        .withColumn('issue_d_ts', from_unixtime(unix_timestamp(col('issue_d'), format='MMM-yyyy'))) \\\n",
    "        .withColumn('issue_d_year', year(col('issue_d_ts'))) \\\n",
    "        .withColumn('issue_d_month', month(col('issue_d_ts')))\n",
    "        \n",
    "# create number of installments\n",
    "sdf_loan_clean = sdf_loan_clean \\\n",
    "        .withColumn('term_n', when(col('term') == ' 36 months', lit(36.0)).otherwise(60))\n",
    "\n",
    "# create total ammount due\n",
    "sdf_loan_clean = sdf_loan_clean \\\n",
    "        .withColumn('total_amnt_due', col('term_n') * col('installment'))\n",
    "\n",
    "# create percentage of the timeline covered by the data\n",
    "max_issue_d = sdf_loan_clean.select('issue_d_ts').agg(max(col('issue_d_ts')).alias('m')).collect()\n",
    "max_issue_d = max_issue_d[0]['m']\n",
    "\n",
    "sdf_loan_clean = sdf_loan_clean \\\n",
    "    .withColumn('issue_d_ts_max', lit(max_issue_d)) \\\n",
    "    .withColumn('time_covered', datediff(col('issue_d_ts_max'), col('issue_d_ts'))) \\\n",
    "    .withColumn('time_to_payoff', col('term_n') * 30) \\\n",
    "    .withColumn('time_covered_prc', when(col('time_covered') / col('time_to_payoff') < 1.0,\n",
    "                                        col('time_covered') / col('time_to_payoff')).otherwise(1.0)) \\\n",
    "\n",
    "# create percentage of debt paid\n",
    "sdf_loan_clean = sdf_loan_clean \\\n",
    "        .withColumn('total_rec_prncp_perc', col('total_rec_prncp') / col('loan_amnt'))\n",
    "    \n",
    "    \n",
    "# grade and subgrade\n",
    "sdf_loan_clean = filter_and_cast('grade', 'string', sdf_loan_clean)\n",
    "sdf_loan_clean = filter_and_cast('sub_grade', 'string', sdf_loan_clean)"
   ]
  },
  {
   "cell_type": "code",
   "execution_count": 12,
   "metadata": {
    "scrolled": false
   },
   "outputs": [
    {
     "name": "stdout",
     "output_type": "stream",
     "text": [
      "root\n",
      " |-- issue_d: string (nullable = true)\n",
      " |-- issue_d_year: integer (nullable = true)\n",
      " |-- issue_d_month: integer (nullable = true)\n",
      " |-- loan_amnt: double (nullable = true)\n",
      " |-- total_amnt_due: double (nullable = true)\n",
      " |-- int_rate: double (nullable = true)\n",
      " |-- installment: double (nullable = true)\n",
      " |-- term: string (nullable = true)\n",
      " |-- term_n: double (nullable = false)\n",
      " |-- total_pymnt: double (nullable = true)\n",
      " |-- total_rec_prncp: double (nullable = true)\n",
      " |-- total_rec_prncp_perc: double (nullable = true)\n",
      " |-- out_prncp: double (nullable = true)\n",
      " |-- time_covered_prc: double (nullable = true)\n",
      "\n"
     ]
    },
    {
     "data": {
      "text/html": [
       "<div>\n",
       "<style scoped>\n",
       "    .dataframe tbody tr th:only-of-type {\n",
       "        vertical-align: middle;\n",
       "    }\n",
       "\n",
       "    .dataframe tbody tr th {\n",
       "        vertical-align: top;\n",
       "    }\n",
       "\n",
       "    .dataframe thead th {\n",
       "        text-align: right;\n",
       "    }\n",
       "</style>\n",
       "<table border=\"1\" class=\"dataframe\">\n",
       "  <thead>\n",
       "    <tr style=\"text-align: right;\">\n",
       "      <th></th>\n",
       "      <th>issue_d</th>\n",
       "      <th>issue_d_year</th>\n",
       "      <th>issue_d_month</th>\n",
       "      <th>loan_amnt</th>\n",
       "      <th>total_amnt_due</th>\n",
       "      <th>int_rate</th>\n",
       "      <th>installment</th>\n",
       "      <th>term</th>\n",
       "      <th>term_n</th>\n",
       "      <th>total_pymnt</th>\n",
       "      <th>total_rec_prncp</th>\n",
       "      <th>total_rec_prncp_perc</th>\n",
       "      <th>out_prncp</th>\n",
       "      <th>time_covered_prc</th>\n",
       "    </tr>\n",
       "  </thead>\n",
       "  <tbody>\n",
       "    <tr>\n",
       "      <th>0</th>\n",
       "      <td>0</td>\n",
       "      <td>0</td>\n",
       "      <td>0</td>\n",
       "      <td>0</td>\n",
       "      <td>0</td>\n",
       "      <td>0</td>\n",
       "      <td>0</td>\n",
       "      <td>0</td>\n",
       "      <td>0</td>\n",
       "      <td>0</td>\n",
       "      <td>0</td>\n",
       "      <td>0</td>\n",
       "      <td>0</td>\n",
       "      <td>0</td>\n",
       "    </tr>\n",
       "  </tbody>\n",
       "</table>\n",
       "</div>"
      ],
      "text/plain": [
       "   issue_d  issue_d_year  issue_d_month  loan_amnt  total_amnt_due  int_rate  \\\n",
       "0        0             0              0          0               0         0   \n",
       "\n",
       "   installment  term  term_n  total_pymnt  total_rec_prncp  \\\n",
       "0            0     0       0            0                0   \n",
       "\n",
       "   total_rec_prncp_perc  out_prncp  time_covered_prc  \n",
       "0                     0          0                 0  "
      ]
     },
     "execution_count": 12,
     "metadata": {},
     "output_type": "execute_result"
    }
   ],
   "source": [
    "tmp = sdf_loan_clean.select(*var_descr_loan)\n",
    "\n",
    "# check types and amount of missings\n",
    "tmp.printSchema()\n",
    "count_null_values(tmp)"
   ]
  },
  {
   "cell_type": "code",
   "execution_count": 13,
   "metadata": {},
   "outputs": [
    {
     "data": {
      "text/plain": [
       "878750"
      ]
     },
     "execution_count": 13,
     "metadata": {},
     "output_type": "execute_result"
    }
   ],
   "source": [
    "sdf_loan_clean.persist()\n",
    "sdf_loan_clean.count()"
   ]
  },
  {
   "cell_type": "code",
   "execution_count": 14,
   "metadata": {},
   "outputs": [
    {
     "data": {
      "image/png": "[encoded data removed]",
      "text/plain": [
       "<matplotlib.figure.Figure at 0x7f0cb4b9d358>"
      ]
     },
     "metadata": {},
     "output_type": "display_data"
    }
   ],
   "source": [
    "tmp = sdf_loan_clean \\\n",
    "    .select('loan_status', 'time_covered_prc') \\\n",
    "    .toPandas()\n",
    "\n",
    "p = tmp.groupby('loan_status').boxplot(figsize=(16, 5), layout=(1, 3))    "
   ]
  },
  {
   "cell_type": "markdown",
   "metadata": {},
   "source": [
    "### Loan description variables\n",
    " - title\n",
    " - user comments"
   ]
  },
  {
   "cell_type": "code",
   "execution_count": 15,
   "metadata": {
    "scrolled": true
   },
   "outputs": [
    {
     "data": {
      "text/plain": [
       "<matplotlib.axes._subplots.AxesSubplot at 0x7f0cacb65c88>"
      ]
     },
     "execution_count": 15,
     "metadata": {},
     "output_type": "execute_result"
    },
    {
     "data": {
      "image/png": "[encoded data removed]",
      "text/plain": [
       "<matplotlib.figure.Figure at 0x7f0cb46f8da0>"
      ]
     },
     "metadata": {},
     "output_type": "display_data"
    }
   ],
   "source": [
    "# frequency analysis of 'purpose'\n",
    "import numpy as np\n",
    "\n",
    "tmp = sdf_loan_clean.groupBy('purpose').count().orderBy(col('count').desc()).toPandas()\n",
    "tmp['count (%)'] = tmp['count'] / tmp['count'].sum() * 100\n",
    "tmp['count (cum %)'] = np.cumsum(tmp['count (%)'])\n",
    "tmp = tmp.loc[tmp['count'] > 1, ].set_index('purpose')\n",
    "tmp[['count (%)']].sort_values('count (%)', ascending=True).plot.barh()"
   ]
  },
  {
   "cell_type": "code",
   "execution_count": 16,
   "metadata": {},
   "outputs": [
    {
     "name": "stdout",
     "output_type": "stream",
     "text": [
      "Filtering and casting purpose: removed 86 (0.010%) cases due to the missing info \n"
     ]
    }
   ],
   "source": [
    "# keep only texts with count > 1\n",
    "loan_purpose_dict = {}\n",
    "for lev in tmp.index.values:\n",
    "    loan_purpose_dict[lev] = lev\n",
    "\n",
    "sdf_loan_clean = sdf_loan_clean \\\n",
    "        .withColumn('purpose', udf_recode_string(loan_purpose_dict)(col('purpose')))\n",
    "sdf_loan_clean = filter_and_cast('purpose', 'string', sdf_loan_clean)"
   ]
  },
  {
   "cell_type": "markdown",
   "metadata": {},
   "source": [
    "### Generate key-words and 2-grams for title field\n",
    "\n",
    "https://en.wikipedia.org/wiki/N-gram"
   ]
  },
  {
   "cell_type": "code",
   "execution_count": 17,
   "metadata": {},
   "outputs": [
    {
     "name": "stdout",
     "output_type": "stream",
     "text": [
      "19025\n"
     ]
    },
    {
     "data": {
      "text/html": [
       "<div>\n",
       "<style scoped>\n",
       "    .dataframe tbody tr th:only-of-type {\n",
       "        vertical-align: middle;\n",
       "    }\n",
       "\n",
       "    .dataframe tbody tr th {\n",
       "        vertical-align: top;\n",
       "    }\n",
       "\n",
       "    .dataframe thead th {\n",
       "        text-align: right;\n",
       "    }\n",
       "</style>\n",
       "<table border=\"1\" class=\"dataframe\">\n",
       "  <thead>\n",
       "    <tr style=\"text-align: right;\">\n",
       "      <th></th>\n",
       "      <th>title</th>\n",
       "      <th>count</th>\n",
       "      <th>count (%)</th>\n",
       "      <th>count (cum %)</th>\n",
       "    </tr>\n",
       "  </thead>\n",
       "  <tbody>\n",
       "    <tr>\n",
       "      <th>0</th>\n",
       "      <td>Debt consolidation</td>\n",
       "      <td>409265</td>\n",
       "      <td>46.578100</td>\n",
       "      <td>46.578100</td>\n",
       "    </tr>\n",
       "    <tr>\n",
       "      <th>1</th>\n",
       "      <td>Credit card refinancing</td>\n",
       "      <td>162289</td>\n",
       "      <td>18.469973</td>\n",
       "      <td>65.048073</td>\n",
       "    </tr>\n",
       "    <tr>\n",
       "      <th>2</th>\n",
       "      <td>Home improvement</td>\n",
       "      <td>39631</td>\n",
       "      <td>4.510370</td>\n",
       "      <td>69.558443</td>\n",
       "    </tr>\n",
       "    <tr>\n",
       "      <th>3</th>\n",
       "      <td>Other</td>\n",
       "      <td>31422</td>\n",
       "      <td>3.576111</td>\n",
       "      <td>73.134554</td>\n",
       "    </tr>\n",
       "    <tr>\n",
       "      <th>4</th>\n",
       "      <td>Debt Consolidation</td>\n",
       "      <td>15757</td>\n",
       "      <td>1.793291</td>\n",
       "      <td>74.927845</td>\n",
       "    </tr>\n",
       "  </tbody>\n",
       "</table>\n",
       "</div>"
      ],
      "text/plain": [
       "                     title   count  count (%)  count (cum %)\n",
       "0       Debt consolidation  409265  46.578100      46.578100\n",
       "1  Credit card refinancing  162289  18.469973      65.048073\n",
       "2         Home improvement   39631   4.510370      69.558443\n",
       "3                    Other   31422   3.576111      73.134554\n",
       "4       Debt Consolidation   15757   1.793291      74.927845"
      ]
     },
     "execution_count": 17,
     "metadata": {},
     "output_type": "execute_result"
    }
   ],
   "source": [
    "# frequency analysis of 'title' (too many levels for categorical variable)\n",
    "\n",
    "tmp = sdf_loan_clean.groupBy('title').count().orderBy(col('count').desc()).toPandas()\n",
    "tmp['count (%)'] = tmp['count'] / tmp['count'].sum() * 100\n",
    "tmp['count (cum %)'] = np.cumsum(tmp['count (%)'])\n",
    "\n",
    "print(len(tmp.loc[tmp['count (cum %)'] < 95, 'count']))\n",
    "tmp.head()"
   ]
  },
  {
   "cell_type": "code",
   "execution_count": 18,
   "metadata": {},
   "outputs": [
    {
     "data": {
      "text/plain": [
       "878664"
      ]
     },
     "execution_count": 18,
     "metadata": {},
     "output_type": "execute_result"
    }
   ],
   "source": [
    "sdf_loan_clean = sdf_loan_clean.drop('title_tokens',\n",
    "                                     'title_words',\n",
    "                                     'title_ngrams',\n",
    "                                     'title_words_vec',\n",
    "                                     'title_ngrams_vec',\n",
    "                                     'title_words_vec_sig', \n",
    "                                     'title_ngrams_vec_sig').persist()\n",
    "\n",
    "sdf_loan_clean.count()"
   ]
  },
  {
   "cell_type": "code",
   "execution_count": 19,
   "metadata": {},
   "outputs": [
    {
     "name": "stdout",
     "output_type": "stream",
     "text": [
      "Filtering and casting title: removed 34 (0.004%) cases due to the missing info \n"
     ]
    }
   ],
   "source": [
    "from pyspark.ml.feature import Tokenizer, StopWordsRemover, NGram, CountVectorizer, VectorAssembler\n",
    "from pyspark.ml.feature import ChiSqSelector\n",
    "from pyspark.ml.linalg import Vectors\n",
    "\n",
    "\n",
    "# remove records with null title value\n",
    "sdf_loan_clean = filter_and_cast('title', 'string', sdf_loan_clean)\n",
    "\n",
    "# split tile into words\n",
    "tmp_tokenizer = Tokenizer(inputCol=\"title\", outputCol=\"title_tokens\")\n",
    "sdf_loan_clean = tmp_tokenizer.transform(sdf_loan_clean)\n",
    "\n",
    "# remove English stop words\n",
    "tmp_remover = StopWordsRemover(inputCol=\"title_tokens\",\n",
    "                               outputCol=\"title_words\",\n",
    "                               stopWords=StopWordsRemover.loadDefaultStopWords('english'))\n",
    "sdf_loan_clean = tmp_remover.transform(sdf_loan_clean)\n",
    "\n",
    "# create n-grams\n",
    "tmp_ngram = NGram(n=2, inputCol=\"title_words\", outputCol=\"title_ngrams\")\n",
    "sdf_loan_clean = tmp_ngram.transform(sdf_loan_clean)\n",
    "\n"
   ]
  },
  {
   "cell_type": "code",
   "execution_count": 20,
   "metadata": {},
   "outputs": [
    {
     "data": {
      "text/plain": [
       "878630"
      ]
     },
     "execution_count": 20,
     "metadata": {},
     "output_type": "execute_result"
    }
   ],
   "source": [
    "# create binary representation\n",
    "cv = CountVectorizer(inputCol=\"title_words\", \n",
    "                     outputCol=\"title_words_vec\", \n",
    "                     binary=True,\n",
    "                     minDF=100)\n",
    "\n",
    "cv_fit = cv.fit(sdf_loan_clean)\n",
    "\n",
    "sdf_loan_clean = cv_fit.transform(sdf_loan_clean).persist()\n",
    "sdf_loan_clean.count()"
   ]
  },
  {
   "cell_type": "code",
   "execution_count": 21,
   "metadata": {
    "scrolled": true
   },
   "outputs": [
    {
     "name": "stdout",
     "output_type": "stream",
     "text": [
      "263\n"
     ]
    },
    {
     "data": {
      "text/plain": [
       "['consolidation',\n",
       " 'debt',\n",
       " 'credit',\n",
       " 'card',\n",
       " 'refinancing',\n",
       " 'home',\n",
       " 'improvement',\n",
       " 'loan',\n",
       " 'purchase',\n",
       " 'major']"
      ]
     },
     "execution_count": 21,
     "metadata": {},
     "output_type": "execute_result"
    }
   ],
   "source": [
    "print(len(cv_fit.vocabulary))\n",
    "cv_fit.vocabulary[0:10]"
   ]
  },
  {
   "cell_type": "code",
   "execution_count": 22,
   "metadata": {
    "scrolled": false
   },
   "outputs": [
    {
     "name": "stdout",
     "output_type": "stream",
     "text": [
      "+------------+-------------------------------------------+-------------------------------------+\n",
      "|loan_default|title_words                                |title_words_vec                      |\n",
      "+------------+-------------------------------------------+-------------------------------------+\n",
      "|0           |[computer]                                 |(263,[],[])                          |\n",
      "|1           |[bike]                                     |(263,[246],[1.0])                    |\n",
      "|0           |[real, estate, business]                   |(263,[10],[1.0])                     |\n",
      "|0           |[personel]                                 |(263,[],[])                          |\n",
      "|0           |[personal]                                 |(263,[16],[1.0])                     |\n",
      "|0           |[wedding, loan, promise, pay, back]        |(263,[7,12,28,54],[1.0,1.0,1.0,1.0]) |\n",
      "|0           |[loan]                                     |(263,[7],[1.0])                      |\n",
      "|0           |[car, downpayment]                         |(263,[15],[1.0])                     |\n",
      "|1           |[expand, business, &, buy, debt, portfolio]|(263,[1,10,47,141],[1.0,1.0,1.0,1.0])|\n",
      "|1           |[building, credit, history.]               |(263,[2],[1.0])                      |\n",
      "|0           |[high, intrest, consolidation]             |(263,[0,37],[1.0,1.0])               |\n",
      "|0           |[consolidation]                            |(263,[0],[1.0])                      |\n",
      "|1           |[freedom]                                  |(263,[26],[1.0])                     |\n",
      "|0           |[citicard, fund]                           |(263,[102],[1.0])                    |\n",
      "|1           |[loan]                                     |(263,[7],[1.0])                      |\n",
      "|0           |[debt, consolidation, loan]                |(263,[0,1,7],[1.0,1.0,1.0])          |\n",
      "|0           |[home]                                     |(263,[5],[1.0])                      |\n",
      "|0           |[holiday]                                  |(263,[],[])                          |\n",
      "|0           |[medical]                                  |(263,[13],[1.0])                     |\n",
      "|0           |[lowerratemeanseasiertogetoutofdebt!]      |(263,[],[])                          |\n",
      "+------------+-------------------------------------------+-------------------------------------+\n",
      "only showing top 20 rows\n",
      "\n"
     ]
    }
   ],
   "source": [
    "sdf_loan_clean.select('loan_default', 'title_words', 'title_words_vec').show(truncate=False)"
   ]
  },
  {
   "cell_type": "code",
   "execution_count": 23,
   "metadata": {},
   "outputs": [],
   "source": [
    "title_word_sel = ChiSqSelector(fpr=.01, \n",
    "                               featuresCol=\"title_words_vec\",\n",
    "                               outputCol=\"title_words_vec_sig\", \n",
    "                               labelCol=\"loan_default\", \n",
    "                               selectorType='fpr')\n",
    "\n",
    "sdf_loan_clean = title_word_sel.fit(sdf_loan_clean).transform(sdf_loan_clean)"
   ]
  },
  {
   "cell_type": "code",
   "execution_count": 24,
   "metadata": {},
   "outputs": [
    {
     "name": "stdout",
     "output_type": "stream",
     "text": [
      "+------------+-------------------------------------------+-------------------------------------+\n",
      "|loan_default|title_words                                |title_words_vec_sig                  |\n",
      "+------------+-------------------------------------------+-------------------------------------+\n",
      "|0           |[computer]                                 |(190,[],[])                          |\n",
      "|1           |[bike]                                     |(190,[],[])                          |\n",
      "|0           |[real, estate, business]                   |(190,[10],[1.0])                     |\n",
      "|0           |[personel]                                 |(190,[],[])                          |\n",
      "|0           |[personal]                                 |(190,[15],[1.0])                     |\n",
      "|0           |[wedding, loan, promise, pay, back]        |(190,[7,12,25,50],[1.0,1.0,1.0,1.0]) |\n",
      "|0           |[loan]                                     |(190,[7],[1.0])                      |\n",
      "|0           |[car, downpayment]                         |(190,[],[])                          |\n",
      "|1           |[expand, business, &, buy, debt, portfolio]|(190,[1,10,43,119],[1.0,1.0,1.0,1.0])|\n",
      "|1           |[building, credit, history.]               |(190,[2],[1.0])                      |\n",
      "|0           |[high, intrest, consolidation]             |(190,[0,34],[1.0,1.0])               |\n",
      "|0           |[consolidation]                            |(190,[0],[1.0])                      |\n",
      "|1           |[freedom]                                  |(190,[24],[1.0])                     |\n",
      "|0           |[citicard, fund]                           |(190,[90],[1.0])                     |\n",
      "|1           |[loan]                                     |(190,[7],[1.0])                      |\n",
      "|0           |[debt, consolidation, loan]                |(190,[0,1,7],[1.0,1.0,1.0])          |\n",
      "|0           |[home]                                     |(190,[5],[1.0])                      |\n",
      "|0           |[holiday]                                  |(190,[],[])                          |\n",
      "|0           |[medical]                                  |(190,[13],[1.0])                     |\n",
      "|0           |[lowerratemeanseasiertogetoutofdebt!]      |(190,[],[])                          |\n",
      "+------------+-------------------------------------------+-------------------------------------+\n",
      "only showing top 20 rows\n",
      "\n"
     ]
    }
   ],
   "source": [
    "sdf_loan_clean.select('loan_default', 'title_words', 'title_words_vec_sig').show(truncate=False)"
   ]
  },
  {
   "cell_type": "code",
   "execution_count": 25,
   "metadata": {},
   "outputs": [
    {
     "data": {
      "text/plain": [
       "878630"
      ]
     },
     "execution_count": 25,
     "metadata": {},
     "output_type": "execute_result"
    }
   ],
   "source": [
    "# create binary representation\n",
    "cv_ng = CountVectorizer(inputCol=\"title_ngrams\", \n",
    "                     outputCol=\"title_ngrams_vec\", \n",
    "                     binary=True,\n",
    "                     minDF=10)\n",
    "\n",
    "cv_ng_fit = cv_ng.fit(sdf_loan_clean)\n",
    "\n",
    "sdf_loan_clean = cv_ng_fit.transform(sdf_loan_clean).persist()\n",
    "sdf_loan_clean.count()"
   ]
  },
  {
   "cell_type": "code",
   "execution_count": 26,
   "metadata": {},
   "outputs": [
    {
     "name": "stdout",
     "output_type": "stream",
     "text": [
      "1456\n"
     ]
    },
    {
     "data": {
      "text/plain": [
       "['debt consolidation',\n",
       " 'credit card',\n",
       " 'card refinancing',\n",
       " 'home improvement',\n",
       " 'major purchase',\n",
       " 'consolidation loan',\n",
       " 'medical expenses',\n",
       " 'car financing',\n",
       " 'credit cards',\n",
       " 'card consolidation']"
      ]
     },
     "execution_count": 26,
     "metadata": {},
     "output_type": "execute_result"
    }
   ],
   "source": [
    "print(len(cv_ng_fit.vocabulary))\n",
    "cv_ng_fit.vocabulary[0:10]"
   ]
  },
  {
   "cell_type": "code",
   "execution_count": 27,
   "metadata": {},
   "outputs": [
    {
     "name": "stdout",
     "output_type": "stream",
     "text": [
      "+------------+--------------------------------------------------------------+-------------------------+\n",
      "|loan_default|title_ngrams                                                  |title_ngrams_vec         |\n",
      "+------------+--------------------------------------------------------------+-------------------------+\n",
      "|0           |[]                                                            |(1456,[],[])             |\n",
      "|1           |[]                                                            |(1456,[],[])             |\n",
      "|0           |[real estate, estate business]                                |(1456,[277],[1.0])       |\n",
      "|0           |[]                                                            |(1456,[],[])             |\n",
      "|0           |[]                                                            |(1456,[],[])             |\n",
      "|0           |[wedding loan, loan promise, promise pay, pay back]           |(1456,[35,234],[1.0,1.0])|\n",
      "|0           |[]                                                            |(1456,[],[])             |\n",
      "|0           |[car downpayment]                                             |(1456,[],[])             |\n",
      "|1           |[expand business, business &, & buy, buy debt, debt portfolio]|(1456,[],[])             |\n",
      "|1           |[building credit, credit history.]                            |(1456,[1368],[1.0])      |\n",
      "|0           |[high intrest, intrest consolidation]                         |(1456,[411],[1.0])       |\n",
      "|0           |[]                                                            |(1456,[],[])             |\n",
      "|1           |[]                                                            |(1456,[],[])             |\n",
      "|0           |[citicard fund]                                               |(1456,[],[])             |\n",
      "|1           |[]                                                            |(1456,[],[])             |\n",
      "|0           |[debt consolidation, consolidation loan]                      |(1456,[0,5],[1.0,1.0])   |\n",
      "|0           |[]                                                            |(1456,[],[])             |\n",
      "|0           |[]                                                            |(1456,[],[])             |\n",
      "|0           |[]                                                            |(1456,[],[])             |\n",
      "|0           |[]                                                            |(1456,[],[])             |\n",
      "+------------+--------------------------------------------------------------+-------------------------+\n",
      "only showing top 20 rows\n",
      "\n"
     ]
    }
   ],
   "source": [
    "sdf_loan_clean.select('loan_default', 'title_ngrams', 'title_ngrams_vec').show(truncate=False)"
   ]
  },
  {
   "cell_type": "code",
   "execution_count": 28,
   "metadata": {},
   "outputs": [],
   "source": [
    "title_ngrams_sel = ChiSqSelector(fpr=.01, \n",
    "                               featuresCol=\"title_ngrams_vec\",\n",
    "                               outputCol=\"title_ngrams_vec_sig\", \n",
    "                               labelCol=\"loan_default\", \n",
    "                               selectorType='fpr')\n",
    "\n",
    "sdf_loan_clean = title_ngrams_sel.fit(sdf_loan_clean).transform(sdf_loan_clean)"
   ]
  },
  {
   "cell_type": "code",
   "execution_count": 29,
   "metadata": {
    "scrolled": false
   },
   "outputs": [
    {
     "name": "stdout",
     "output_type": "stream",
     "text": [
      "+--------------------------------------------------------------+---------------------+\n",
      "|title_ngrams                                                  |title_ngrams_vec_sig |\n",
      "+--------------------------------------------------------------+---------------------+\n",
      "|[]                                                            |(366,[],[])          |\n",
      "|[]                                                            |(366,[],[])          |\n",
      "|[real estate, estate business]                                |(366,[],[])          |\n",
      "|[]                                                            |(366,[],[])          |\n",
      "|[]                                                            |(366,[],[])          |\n",
      "|[wedding loan, loan promise, promise pay, pay back]           |(366,[29],[1.0])     |\n",
      "|[]                                                            |(366,[],[])          |\n",
      "|[car downpayment]                                             |(366,[],[])          |\n",
      "|[expand business, business &, & buy, buy debt, debt portfolio]|(366,[],[])          |\n",
      "|[building credit, credit history.]                            |(366,[357],[1.0])    |\n",
      "|[high intrest, intrest consolidation]                         |(366,[],[])          |\n",
      "|[]                                                            |(366,[],[])          |\n",
      "|[]                                                            |(366,[],[])          |\n",
      "|[citicard fund]                                               |(366,[],[])          |\n",
      "|[]                                                            |(366,[],[])          |\n",
      "|[debt consolidation, consolidation loan]                      |(366,[0,5],[1.0,1.0])|\n",
      "|[]                                                            |(366,[],[])          |\n",
      "|[]                                                            |(366,[],[])          |\n",
      "|[]                                                            |(366,[],[])          |\n",
      "|[]                                                            |(366,[],[])          |\n",
      "+--------------------------------------------------------------+---------------------+\n",
      "only showing top 20 rows\n",
      "\n"
     ]
    }
   ],
   "source": [
    "sdf_loan_clean.select('title_ngrams', 'title_ngrams_vec_sig').show(truncate=False)"
   ]
  },
  {
   "cell_type": "markdown",
   "metadata": {},
   "source": [
    "### Job information"
   ]
  },
  {
   "cell_type": "code",
   "execution_count": 30,
   "metadata": {},
   "outputs": [],
   "source": [
    "from pyspark.ml.feature import Tokenizer, StopWordsRemover, NGram, CountVectorizer, VectorAssembler\n",
    "\n",
    "# recode missing to 'None'\n",
    "sdf_loan_clean = sdf_loan_clean \\\n",
    "    .withColumn('emp_title', when(col('emp_title').isNull(), 'None').otherwise(col('emp_title')))"
   ]
  },
  {
   "cell_type": "code",
   "execution_count": 31,
   "metadata": {},
   "outputs": [],
   "source": [
    "# split tile into words\n",
    "tmp_tokenizer = Tokenizer(inputCol=\"emp_title\", outputCol=\"emp_title_tokens\")\n",
    "sdf_loan_clean = tmp_tokenizer.transform(sdf_loan_clean)\n",
    "\n",
    "# remove English stop words\n",
    "tmp_remover = StopWordsRemover(inputCol=\"emp_title_tokens\",\n",
    "                               outputCol=\"emp_title_words\",\n",
    "                               stopWords=StopWordsRemover.loadDefaultStopWords('english'))\n",
    "sdf_loan_clean = tmp_remover.transform(sdf_loan_clean)"
   ]
  },
  {
   "cell_type": "code",
   "execution_count": 32,
   "metadata": {},
   "outputs": [
    {
     "data": {
      "text/plain": [
       "878630"
      ]
     },
     "execution_count": 32,
     "metadata": {},
     "output_type": "execute_result"
    }
   ],
   "source": [
    "# create binary representation\n",
    "cv_emp = CountVectorizer(inputCol=\"emp_title_words\", \n",
    "                     outputCol=\"emp_title_words_vec\", \n",
    "                     binary=True,\n",
    "                     minDF=.01)\n",
    "\n",
    "cv_emp_fit = cv_emp.fit(sdf_loan_clean)\n",
    "\n",
    "sdf_loan_clean = cv_emp_fit.transform(sdf_loan_clean).persist()\n",
    "sdf_loan_clean.count()"
   ]
  },
  {
   "cell_type": "code",
   "execution_count": 33,
   "metadata": {},
   "outputs": [
    {
     "name": "stdout",
     "output_type": "stream",
     "text": [
      "Detected 253494 levels for job title\n"
     ]
    }
   ],
   "source": [
    "tmp = sdf_loan_clean.groupBy('emp_title').count().orderBy(col('count').desc()).toPandas()\n",
    "tmp['cum_freq'] = np.cumsum(tmp['count']) / tmp['count'].sum()\n",
    "tmp_levs = tmp.loc[tmp['cum_freq'] <= .95, 'emp_title'].values\n",
    "\n",
    "print('Detected {} levels for job title'.format(len(tmp_levs)))"
   ]
  },
  {
   "cell_type": "code",
   "execution_count": 34,
   "metadata": {},
   "outputs": [
    {
     "data": {
      "text/plain": [
       "['manager',\n",
       " 'none',\n",
       " 'director',\n",
       " 'sales',\n",
       " 'assistant',\n",
       " 'supervisor',\n",
       " 'teacher',\n",
       " 'engineer',\n",
       " 'senior',\n",
       " 'specialist']"
      ]
     },
     "execution_count": 34,
     "metadata": {},
     "output_type": "execute_result"
    }
   ],
   "source": [
    "cv_emp_fit.vocabulary[0:10]"
   ]
  },
  {
   "cell_type": "code",
   "execution_count": 35,
   "metadata": {},
   "outputs": [
    {
     "name": "stdout",
     "output_type": "stream",
     "text": [
      "+-------------------+\n",
      "|emp_title_words_vec|\n",
      "+-------------------+\n",
      "|(26,[1],[1.0])     |\n",
      "|(26,[],[])         |\n",
      "|(26,[1],[1.0])     |\n",
      "|(26,[],[])         |\n",
      "|(26,[],[])         |\n",
      "|(26,[],[])         |\n",
      "|(26,[],[])         |\n",
      "|(26,[],[])         |\n",
      "|(26,[1],[1.0])     |\n",
      "|(26,[],[])         |\n",
      "|(26,[],[])         |\n",
      "|(26,[],[])         |\n",
      "|(26,[],[])         |\n",
      "|(26,[],[])         |\n",
      "|(26,[],[])         |\n",
      "|(26,[11],[1.0])    |\n",
      "|(26,[],[])         |\n",
      "|(26,[],[])         |\n",
      "|(26,[],[])         |\n",
      "|(26,[11],[1.0])    |\n",
      "+-------------------+\n",
      "only showing top 20 rows\n",
      "\n"
     ]
    }
   ],
   "source": [
    "sdf_loan_clean.select('emp_title_words_vec').show(truncate=False)"
   ]
  },
  {
   "cell_type": "code",
   "execution_count": 36,
   "metadata": {},
   "outputs": [
    {
     "name": "stdout",
     "output_type": "stream",
     "text": [
      "+----------+------+\n",
      "|emp_length| count|\n",
      "+----------+------+\n",
      "| 10+ years|288708|\n",
      "|   2 years| 78131|\n",
      "|  < 1 year| 69786|\n",
      "|   3 years| 69312|\n",
      "|    1 year| 56513|\n",
      "|   5 years| 55175|\n",
      "|   4 years| 52007|\n",
      "|   7 years| 44320|\n",
      "|       n/a| 44187|\n",
      "|   8 years| 43522|\n",
      "|   6 years| 42616|\n",
      "|   9 years| 34353|\n",
      "+----------+------+\n",
      "\n",
      "Filtering and casting emp_length: removed 0 (0.000%) cases due to the missing info \n"
     ]
    }
   ],
   "source": [
    "# employment length\n",
    "sdf_loan_clean.groupBy('emp_length').count().orderBy(col('count').desc()).show(20)\n",
    "sdf_loan_clean = sdf_loan_clean \\\n",
    "    .withColumn('emp_length', when(col('emp_length').isNull(), 'Unknown').otherwise(col('emp_length')))\n",
    "    \n",
    "sdf_loan_clean = filter_and_cast('emp_length', 'string', sdf_loan_clean)"
   ]
  },
  {
   "cell_type": "code",
   "execution_count": 37,
   "metadata": {},
   "outputs": [
    {
     "name": "stdout",
     "output_type": "stream",
     "text": [
      "+--------------+------+\n",
      "|home_ownership| count|\n",
      "+--------------+------+\n",
      "|      MORTGAGE|439221|\n",
      "|          RENT|352768|\n",
      "|           OWN| 86407|\n",
      "|         OTHER|   181|\n",
      "|          NONE|    50|\n",
      "|           ANY|     3|\n",
      "+--------------+------+\n",
      "\n",
      "Filtering and casting home_ownership: removed 0 (0.000%) cases due to the missing info \n"
     ]
    }
   ],
   "source": [
    "# home ownership\n",
    "sdf_loan_clean.groupBy('home_ownership').count().orderBy(col('count').desc()).show(20)\n",
    "sdf_loan_clean = filter_and_cast('home_ownership', 'string', sdf_loan_clean)"
   ]
  },
  {
   "cell_type": "code",
   "execution_count": 38,
   "metadata": {},
   "outputs": [
    {
     "name": "stdout",
     "output_type": "stream",
     "text": [
      "Filtering and casting annual_inc: removed 4 (0.000%) cases due to the missing info \n"
     ]
    }
   ],
   "source": [
    "# annual inc\n",
    "sdf_loan_clean = filter_and_cast('annual_inc', 'double', sdf_loan_clean)\n",
    "\n",
    "# loan share of the annual income \n",
    "sdf_loan_clean = sdf_loan_clean \\\n",
    "    .withColumn('loan_amnt_in_annual_inc', col('installment') * 12 / col('annual_inc'))"
   ]
  },
  {
   "cell_type": "code",
   "execution_count": 39,
   "metadata": {},
   "outputs": [
    {
     "name": "stdout",
     "output_type": "stream",
     "text": [
      "+-------------------+------+\n",
      "|verification_status| count|\n",
      "+-------------------+------+\n",
      "|       Not Verified|263794|\n",
      "|           Verified|288149|\n",
      "|    Source Verified|326683|\n",
      "+-------------------+------+\n",
      "\n",
      "Filtering and casting verification_status: removed 0 (0.000%) cases due to the missing info \n"
     ]
    }
   ],
   "source": [
    "# verification status\n",
    "sdf_loan_clean.groupBy('verification_status').count() \\\n",
    "    .orderBy('count').show()\n",
    "    \n",
    "vs_dict = {}\n",
    "vs_dict['Not Verified'] = 'Not Verified'\n",
    "vs_dict['Verified'] = 'Verified'\n",
    "vs_dict['Source Verified'] = 'Verified'\n",
    "\n",
    "sdf_loan_clean = sdf_loan_clean \\\n",
    "        .withColumn('verification_status', udf_recode_string(vs_dict)(col('verification_status'))) \\\n",
    "\n",
    "# remove observations with unclear data\n",
    "sdf_loan_clean = filter_and_cast('verification_status', 'string', sdf_loan_clean)\n",
    "\n"
   ]
  },
  {
   "cell_type": "code",
   "execution_count": 40,
   "metadata": {
    "scrolled": true
   },
   "outputs": [
    {
     "name": "stdout",
     "output_type": "stream",
     "text": [
      "Filtering and casting zip_code: removed 0 (0.000%) cases due to the missing info \n",
      "581\n"
     ]
    },
    {
     "data": {
      "text/html": [
       "<div>\n",
       "<style scoped>\n",
       "    .dataframe tbody tr th:only-of-type {\n",
       "        vertical-align: middle;\n",
       "    }\n",
       "\n",
       "    .dataframe tbody tr th {\n",
       "        vertical-align: top;\n",
       "    }\n",
       "\n",
       "    .dataframe thead th {\n",
       "        text-align: right;\n",
       "    }\n",
       "</style>\n",
       "<table border=\"1\" class=\"dataframe\">\n",
       "  <thead>\n",
       "    <tr style=\"text-align: right;\">\n",
       "      <th></th>\n",
       "      <th>zip_code</th>\n",
       "      <th>count</th>\n",
       "      <th>count (%)</th>\n",
       "      <th>count (cum %)</th>\n",
       "    </tr>\n",
       "  </thead>\n",
       "  <tbody>\n",
       "    <tr>\n",
       "      <th>0</th>\n",
       "      <td>945xx</td>\n",
       "      <td>9680</td>\n",
       "      <td>1.101720</td>\n",
       "      <td>1.101720</td>\n",
       "    </tr>\n",
       "    <tr>\n",
       "      <th>1</th>\n",
       "      <td>750xx</td>\n",
       "      <td>9333</td>\n",
       "      <td>1.062227</td>\n",
       "      <td>2.163947</td>\n",
       "    </tr>\n",
       "    <tr>\n",
       "      <th>2</th>\n",
       "      <td>112xx</td>\n",
       "      <td>9163</td>\n",
       "      <td>1.042878</td>\n",
       "      <td>3.206825</td>\n",
       "    </tr>\n",
       "    <tr>\n",
       "      <th>3</th>\n",
       "      <td>606xx</td>\n",
       "      <td>8560</td>\n",
       "      <td>0.974248</td>\n",
       "      <td>4.181074</td>\n",
       "    </tr>\n",
       "    <tr>\n",
       "      <th>4</th>\n",
       "      <td>300xx</td>\n",
       "      <td>8036</td>\n",
       "      <td>0.914610</td>\n",
       "      <td>5.095683</td>\n",
       "    </tr>\n",
       "  </tbody>\n",
       "</table>\n",
       "</div>"
      ],
      "text/plain": [
       "  zip_code  count  count (%)  count (cum %)\n",
       "0    945xx   9680   1.101720       1.101720\n",
       "1    750xx   9333   1.062227       2.163947\n",
       "2    112xx   9163   1.042878       3.206825\n",
       "3    606xx   8560   0.974248       4.181074\n",
       "4    300xx   8036   0.914610       5.095683"
      ]
     },
     "execution_count": 40,
     "metadata": {},
     "output_type": "execute_result"
    }
   ],
   "source": [
    "# zip code\n",
    "sdf_loan_clean = filter_and_cast('zip_code', 'string', sdf_loan_clean)\n",
    "\n",
    "tmp = sdf_loan_clean.groupBy('zip_code').count().orderBy(col('count').desc()).toPandas()\n",
    "tmp['count (%)'] = tmp['count'] / tmp['count'].sum() * 100\n",
    "tmp['count (cum %)'] = np.cumsum(tmp['count (%)'])\n",
    "\n",
    "print(len(tmp.loc[tmp['count (cum %)'] < 95, 'count']))\n",
    "tmp.head()"
   ]
  },
  {
   "cell_type": "code",
   "execution_count": 41,
   "metadata": {},
   "outputs": [
    {
     "name": "stdout",
     "output_type": "stream",
     "text": [
      "Filtering and casting addr_state: removed 0 (0.000%) cases due to the missing info \n",
      "32\n"
     ]
    },
    {
     "data": {
      "text/html": [
       "<div>\n",
       "<style scoped>\n",
       "    .dataframe tbody tr th:only-of-type {\n",
       "        vertical-align: middle;\n",
       "    }\n",
       "\n",
       "    .dataframe tbody tr th {\n",
       "        vertical-align: top;\n",
       "    }\n",
       "\n",
       "    .dataframe thead th {\n",
       "        text-align: right;\n",
       "    }\n",
       "</style>\n",
       "<table border=\"1\" class=\"dataframe\">\n",
       "  <thead>\n",
       "    <tr style=\"text-align: right;\">\n",
       "      <th></th>\n",
       "      <th>addr_state</th>\n",
       "      <th>count</th>\n",
       "      <th>count (%)</th>\n",
       "      <th>count (cum %)</th>\n",
       "    </tr>\n",
       "  </thead>\n",
       "  <tbody>\n",
       "    <tr>\n",
       "      <th>0</th>\n",
       "      <td>CA</td>\n",
       "      <td>128313</td>\n",
       "      <td>14.603825</td>\n",
       "      <td>14.603825</td>\n",
       "    </tr>\n",
       "    <tr>\n",
       "      <th>1</th>\n",
       "      <td>NY</td>\n",
       "      <td>73342</td>\n",
       "      <td>8.347351</td>\n",
       "      <td>22.951176</td>\n",
       "    </tr>\n",
       "    <tr>\n",
       "      <th>2</th>\n",
       "      <td>TX</td>\n",
       "      <td>70428</td>\n",
       "      <td>8.015697</td>\n",
       "      <td>30.966873</td>\n",
       "    </tr>\n",
       "    <tr>\n",
       "      <th>3</th>\n",
       "      <td>FL</td>\n",
       "      <td>60311</td>\n",
       "      <td>6.864240</td>\n",
       "      <td>37.831114</td>\n",
       "    </tr>\n",
       "    <tr>\n",
       "      <th>4</th>\n",
       "      <td>IL</td>\n",
       "      <td>35157</td>\n",
       "      <td>4.001361</td>\n",
       "      <td>41.832475</td>\n",
       "    </tr>\n",
       "  </tbody>\n",
       "</table>\n",
       "</div>"
      ],
      "text/plain": [
       "  addr_state   count  count (%)  count (cum %)\n",
       "0         CA  128313  14.603825      14.603825\n",
       "1         NY   73342   8.347351      22.951176\n",
       "2         TX   70428   8.015697      30.966873\n",
       "3         FL   60311   6.864240      37.831114\n",
       "4         IL   35157   4.001361      41.832475"
      ]
     },
     "execution_count": 41,
     "metadata": {},
     "output_type": "execute_result"
    }
   ],
   "source": [
    "### address state\n",
    "\n",
    "sdf_loan_clean = filter_and_cast('addr_state', 'string', sdf_loan_clean)\n",
    "\n",
    "tmp = sdf_loan_clean.groupBy('addr_state').count().orderBy(col('count').desc()).toPandas()\n",
    "tmp['count (%)'] = tmp['count'] / tmp['count'].sum() * 100\n",
    "tmp['count (cum %)'] = np.cumsum(tmp['count (%)'])\n",
    "\n",
    "print(len(tmp.loc[tmp['count (cum %)'] < 95, 'count']))\n",
    "tmp.head()"
   ]
  },
  {
   "cell_type": "markdown",
   "metadata": {},
   "source": [
    "### Credit info"
   ]
  },
  {
   "cell_type": "code",
   "execution_count": 42,
   "metadata": {},
   "outputs": [
    {
     "name": "stdout",
     "output_type": "stream",
     "text": [
      "Filtering and casting dti: removed 0 (0.000%) cases due to the missing info \n",
      "root\n",
      " |-- id: integer (nullable = true)\n",
      " |-- dti: double (nullable = true)\n",
      "\n",
      "1.138140687846706e-05\n",
      "Filtering and casting dti: removed 10 (0.001%) cases due to the missing info \n"
     ]
    },
    {
     "data": {
      "image/png": "[encoded data removed]",
      "text/plain": [
       "<matplotlib.figure.Figure at 0x7f0cb06f3908>"
      ]
     },
     "metadata": {},
     "output_type": "display_data"
    }
   ],
   "source": [
    "### dti\n",
    "sdf_loan_clean = filter_and_cast('dti', 'double', sdf_loan_clean)\n",
    "sdf_loan_clean.select('id','dti').printSchema()\n",
    "sdf_loan_clean.select('id','dti').describe().toPandas()\n",
    "\n",
    "tmp = sdf_loan_clean.select('dti').toPandas()\n",
    "print((tmp['dti'] > 100).mean())\n",
    "\n",
    "tmp[tmp['dti'] <= 100.0].hist()\n",
    "\n",
    "sdf_loan_clean = sdf_loan_clean \\\n",
    "    .withColumn('dti', when(col('dti') > 100.0, None).otherwise(col('dti')))\n",
    "    \n",
    "sdf_loan_clean = filter_and_cast('dti', 'double', sdf_loan_clean)"
   ]
  },
  {
   "cell_type": "code",
   "execution_count": 43,
   "metadata": {
    "scrolled": false
   },
   "outputs": [
    {
     "name": "stdout",
     "output_type": "stream",
     "text": [
      "Filtering and casting delinq_2yrs: removed 25 (0.003%) cases due to the missing info \n",
      "root\n",
      " |-- id: integer (nullable = true)\n",
      " |-- delinq_2yrs: integer (nullable = true)\n",
      "\n"
     ]
    },
    {
     "data": {
      "text/plain": [
       "array([[<matplotlib.axes._subplots.AxesSubplot object at 0x7f0caff3ff98>]],\n",
       "      dtype=object)"
      ]
     },
     "execution_count": 43,
     "metadata": {},
     "output_type": "execute_result"
    },
    {
     "data": {
      "image/png": "[encoded data removed]",
      "text/plain": [
       "<matplotlib.figure.Figure at 0x7f0cb4aa7048>"
      ]
     },
     "metadata": {},
     "output_type": "display_data"
    }
   ],
   "source": [
    "### delinq_2yrs\n",
    "sdf_loan_clean = filter_and_cast('delinq_2yrs', 'integer', sdf_loan_clean)\n",
    "sdf_loan_clean.select('id','delinq_2yrs').printSchema()\n",
    "sdf_loan_clean.select('id','delinq_2yrs').describe().toPandas()\n",
    "\n",
    "tmp = sdf_loan_clean.select('delinq_2yrs').toPandas()\n",
    "tmp[tmp['delinq_2yrs'] <= 10.0].hist()"
   ]
  },
  {
   "cell_type": "markdown",
   "metadata": {},
   "source": [
    "## Modeling\n",
    "\n",
    "### Sample composition"
   ]
  },
  {
   "cell_type": "code",
   "execution_count": 44,
   "metadata": {
    "scrolled": false
   },
   "outputs": [
    {
     "data": {
      "text/plain": [
       "<matplotlib.axes._subplots.AxesSubplot at 0x7f0caff0fb70>"
      ]
     },
     "execution_count": 44,
     "metadata": {},
     "output_type": "execute_result"
    },
    {
     "data": {
      "image/png": "[encoded data removed]",
      "text/plain": [
       "<matplotlib.figure.Figure at 0x7f0caff0fcf8>"
      ]
     },
     "metadata": {},
     "output_type": "display_data"
    }
   ],
   "source": [
    "import pandas as pd\n",
    "import numpy as np\n",
    "import matplotlib.pyplot as plt\n",
    "%matplotlib inline\n",
    "\n",
    "tmp = sdf_loan_clean \\\n",
    "    .select('loan_status', col('issue_d_year').alias('year')) \\\n",
    "    .groupBy('loan_status', 'year').count() \\\n",
    "    .orderBy(col('count').asc()) \\\n",
    "    .toPandas()\n",
    "\n",
    "def tmp_lambda(x):\n",
    "    x[np.isnan(x)] = 0.0\n",
    "    x = x / x.sum()\n",
    "    return x\n",
    "    \n",
    "tmp \\\n",
    "    .pivot(index='year', columns='loan_status', values='count') \\\n",
    "    .apply(tmp_lambda, axis=1) \\\n",
    "    .plot.bar(figsize=(13, 5))"
   ]
  },
  {
   "cell_type": "markdown",
   "metadata": {},
   "source": [
    "### Book ROI"
   ]
  },
  {
   "cell_type": "code",
   "execution_count": 45,
   "metadata": {},
   "outputs": [
    {
     "data": {
      "text/html": [
       "<div>\n",
       "<style scoped>\n",
       "    .dataframe tbody tr th:only-of-type {\n",
       "        vertical-align: middle;\n",
       "    }\n",
       "\n",
       "    .dataframe tbody tr th {\n",
       "        vertical-align: top;\n",
       "    }\n",
       "\n",
       "    .dataframe thead th {\n",
       "        text-align: right;\n",
       "    }\n",
       "</style>\n",
       "<table border=\"1\" class=\"dataframe\">\n",
       "  <thead>\n",
       "    <tr style=\"text-align: right;\">\n",
       "      <th></th>\n",
       "      <th>issue_d_year</th>\n",
       "      <th>loan_amnt</th>\n",
       "      <th>total_pymnt</th>\n",
       "      <th>REVENUE</th>\n",
       "      <th>PROFIT</th>\n",
       "      <th>ROI</th>\n",
       "    </tr>\n",
       "  </thead>\n",
       "  <tbody>\n",
       "    <tr>\n",
       "      <th>0</th>\n",
       "      <td>2007</td>\n",
       "      <td>4.857100e+06</td>\n",
       "      <td>4.592342e+06</td>\n",
       "      <td>4.592342</td>\n",
       "      <td>-0.264758</td>\n",
       "      <td>-0.054510</td>\n",
       "    </tr>\n",
       "    <tr>\n",
       "      <th>8</th>\n",
       "      <td>2008</td>\n",
       "      <td>2.073080e+07</td>\n",
       "      <td>1.995242e+07</td>\n",
       "      <td>19.952424</td>\n",
       "      <td>-0.778376</td>\n",
       "      <td>-0.037547</td>\n",
       "    </tr>\n",
       "    <tr>\n",
       "      <th>5</th>\n",
       "      <td>2009</td>\n",
       "      <td>5.065520e+07</td>\n",
       "      <td>5.456492e+07</td>\n",
       "      <td>54.564924</td>\n",
       "      <td>3.909724</td>\n",
       "      <td>0.077183</td>\n",
       "    </tr>\n",
       "    <tr>\n",
       "      <th>6</th>\n",
       "      <td>2010</td>\n",
       "      <td>1.307162e+08</td>\n",
       "      <td>1.394485e+08</td>\n",
       "      <td>139.448501</td>\n",
       "      <td>8.732315</td>\n",
       "      <td>0.066804</td>\n",
       "    </tr>\n",
       "    <tr>\n",
       "      <th>7</th>\n",
       "      <td>2011</td>\n",
       "      <td>2.553960e+08</td>\n",
       "      <td>2.835202e+08</td>\n",
       "      <td>283.520239</td>\n",
       "      <td>28.124230</td>\n",
       "      <td>0.110120</td>\n",
       "    </tr>\n",
       "    <tr>\n",
       "      <th>4</th>\n",
       "      <td>2012</td>\n",
       "      <td>6.876583e+08</td>\n",
       "      <td>7.728441e+08</td>\n",
       "      <td>772.844089</td>\n",
       "      <td>85.185791</td>\n",
       "      <td>0.123878</td>\n",
       "    </tr>\n",
       "    <tr>\n",
       "      <th>2</th>\n",
       "      <td>2013</td>\n",
       "      <td>1.626120e+09</td>\n",
       "      <td>1.875183e+09</td>\n",
       "      <td>1875.182561</td>\n",
       "      <td>249.062767</td>\n",
       "      <td>0.153164</td>\n",
       "    </tr>\n",
       "    <tr>\n",
       "      <th>3</th>\n",
       "      <td>2014</td>\n",
       "      <td>1.917261e+09</td>\n",
       "      <td>2.227741e+09</td>\n",
       "      <td>2227.741103</td>\n",
       "      <td>310.480481</td>\n",
       "      <td>0.161940</td>\n",
       "    </tr>\n",
       "    <tr>\n",
       "      <th>1</th>\n",
       "      <td>2015</td>\n",
       "      <td>1.088725e+09</td>\n",
       "      <td>1.326208e+09</td>\n",
       "      <td>1326.207798</td>\n",
       "      <td>237.483261</td>\n",
       "      <td>0.218130</td>\n",
       "    </tr>\n",
       "  </tbody>\n",
       "</table>\n",
       "</div>"
      ],
      "text/plain": [
       "   issue_d_year     loan_amnt   total_pymnt      REVENUE      PROFIT       ROI\n",
       "0          2007  4.857100e+06  4.592342e+06     4.592342   -0.264758 -0.054510\n",
       "8          2008  2.073080e+07  1.995242e+07    19.952424   -0.778376 -0.037547\n",
       "5          2009  5.065520e+07  5.456492e+07    54.564924    3.909724  0.077183\n",
       "6          2010  1.307162e+08  1.394485e+08   139.448501    8.732315  0.066804\n",
       "7          2011  2.553960e+08  2.835202e+08   283.520239   28.124230  0.110120\n",
       "4          2012  6.876583e+08  7.728441e+08   772.844089   85.185791  0.123878\n",
       "2          2013  1.626120e+09  1.875183e+09  1875.182561  249.062767  0.153164\n",
       "3          2014  1.917261e+09  2.227741e+09  2227.741103  310.480481  0.161940\n",
       "1          2015  1.088725e+09  1.326208e+09  1326.207798  237.483261  0.218130"
      ]
     },
     "execution_count": 45,
     "metadata": {},
     "output_type": "execute_result"
    }
   ],
   "source": [
    "tmp = sdf_loan_clean \\\n",
    "        .withColumn('loan_amnt', \n",
    "                    when(col('loan_status') == 'Current', col('total_rec_prncp')).otherwise(col('loan_amnt'))) \\\n",
    "        .select('loan_default', 'total_pymnt', 'loan_amnt', 'issue_d_year') \\\n",
    "        .groupBy('issue_d_year') \\\n",
    "        .agg(sum(col('loan_amnt')).alias('loan_amnt'), sum(col('total_pymnt')).alias('total_pymnt')) \\\n",
    "        .toPandas()\n",
    "\n",
    "tmp['REVENUE'] = tmp['total_pymnt']  / 1e6       \n",
    "tmp['PROFIT'] = (tmp['total_pymnt'] - tmp['loan_amnt']) / 1e6\n",
    "tmp['ROI'] = tmp['total_pymnt'] / tmp['loan_amnt'] - 1.0\n",
    "\n",
    "tmp.sort_values('issue_d_year', ascending=True)"
   ]
  },
  {
   "cell_type": "code",
   "execution_count": 46,
   "metadata": {
    "scrolled": true
   },
   "outputs": [
    {
     "name": "stdout",
     "output_type": "stream",
     "text": [
      "+----------+------+\n",
      "|      term| count|\n",
      "+----------+------+\n",
      "| 36 months|614844|\n",
      "| 60 months|263747|\n",
      "+----------+------+\n",
      "\n"
     ]
    }
   ],
   "source": [
    "sdf_loan_clean.groupBy('term').count().show()"
   ]
  },
  {
   "cell_type": "code",
   "execution_count": 47,
   "metadata": {
    "scrolled": true
   },
   "outputs": [
    {
     "data": {
      "text/html": [
       "<div>\n",
       "<style scoped>\n",
       "    .dataframe tbody tr th:only-of-type {\n",
       "        vertical-align: middle;\n",
       "    }\n",
       "\n",
       "    .dataframe tbody tr th {\n",
       "        vertical-align: top;\n",
       "    }\n",
       "\n",
       "    .dataframe thead th {\n",
       "        text-align: right;\n",
       "    }\n",
       "</style>\n",
       "<table border=\"1\" class=\"dataframe\">\n",
       "  <thead>\n",
       "    <tr style=\"text-align: right;\">\n",
       "      <th></th>\n",
       "      <th>issue_d_year</th>\n",
       "      <th>loan_amnt</th>\n",
       "      <th>total_pymnt</th>\n",
       "      <th>n_defaults</th>\n",
       "      <th>n_loans</th>\n",
       "      <th>total_pymnt_def</th>\n",
       "      <th>loan_amnt_def</th>\n",
       "      <th>REVENUE</th>\n",
       "      <th>PROFIT</th>\n",
       "      <th>ROI</th>\n",
       "      <th>DRATE</th>\n",
       "      <th>LOSS</th>\n",
       "    </tr>\n",
       "  </thead>\n",
       "  <tbody>\n",
       "    <tr>\n",
       "      <th>0</th>\n",
       "      <td>2007</td>\n",
       "      <td>4.857100e+06</td>\n",
       "      <td>4.592342e+06</td>\n",
       "      <td>154</td>\n",
       "      <td>572</td>\n",
       "      <td>7.974882e+05</td>\n",
       "      <td>1538675.0</td>\n",
       "      <td>4.592342</td>\n",
       "      <td>-0.264758</td>\n",
       "      <td>-0.054510</td>\n",
       "      <td>0.269231</td>\n",
       "      <td>0.741187</td>\n",
       "    </tr>\n",
       "    <tr>\n",
       "      <th>8</th>\n",
       "      <td>2008</td>\n",
       "      <td>2.073080e+07</td>\n",
       "      <td>1.995242e+07</td>\n",
       "      <td>486</td>\n",
       "      <td>2352</td>\n",
       "      <td>2.343035e+06</td>\n",
       "      <td>4890725.0</td>\n",
       "      <td>19.952424</td>\n",
       "      <td>-0.778376</td>\n",
       "      <td>-0.037547</td>\n",
       "      <td>0.206633</td>\n",
       "      <td>2.547690</td>\n",
       "    </tr>\n",
       "    <tr>\n",
       "      <th>5</th>\n",
       "      <td>2009</td>\n",
       "      <td>5.065520e+07</td>\n",
       "      <td>5.456492e+07</td>\n",
       "      <td>702</td>\n",
       "      <td>5159</td>\n",
       "      <td>3.895991e+06</td>\n",
       "      <td>7401525.0</td>\n",
       "      <td>54.564924</td>\n",
       "      <td>3.909724</td>\n",
       "      <td>0.077183</td>\n",
       "      <td>0.136073</td>\n",
       "      <td>3.505534</td>\n",
       "    </tr>\n",
       "    <tr>\n",
       "      <th>6</th>\n",
       "      <td>2010</td>\n",
       "      <td>1.306300e+08</td>\n",
       "      <td>1.393281e+08</td>\n",
       "      <td>1745</td>\n",
       "      <td>12434</td>\n",
       "      <td>1.044114e+07</td>\n",
       "      <td>18419650.0</td>\n",
       "      <td>139.328097</td>\n",
       "      <td>8.698147</td>\n",
       "      <td>0.066586</td>\n",
       "      <td>0.140341</td>\n",
       "      <td>7.978511</td>\n",
       "    </tr>\n",
       "    <tr>\n",
       "      <th>7</th>\n",
       "      <td>2011</td>\n",
       "      <td>2.293101e+08</td>\n",
       "      <td>2.441772e+08</td>\n",
       "      <td>3259</td>\n",
       "      <td>19724</td>\n",
       "      <td>2.441386e+07</td>\n",
       "      <td>42674050.0</td>\n",
       "      <td>244.177160</td>\n",
       "      <td>14.867035</td>\n",
       "      <td>0.064834</td>\n",
       "      <td>0.165230</td>\n",
       "      <td>18.260190</td>\n",
       "    </tr>\n",
       "    <tr>\n",
       "      <th>4</th>\n",
       "      <td>2012</td>\n",
       "      <td>6.448179e+08</td>\n",
       "      <td>6.970534e+08</td>\n",
       "      <td>8334</td>\n",
       "      <td>49812</td>\n",
       "      <td>7.197315e+07</td>\n",
       "      <td>120365725.0</td>\n",
       "      <td>697.053381</td>\n",
       "      <td>52.235506</td>\n",
       "      <td>0.081008</td>\n",
       "      <td>0.167309</td>\n",
       "      <td>48.392571</td>\n",
       "    </tr>\n",
       "    <tr>\n",
       "      <th>2</th>\n",
       "      <td>2013</td>\n",
       "      <td>1.057072e+09</td>\n",
       "      <td>1.066971e+09</td>\n",
       "      <td>16798</td>\n",
       "      <td>73193</td>\n",
       "      <td>1.359862e+08</td>\n",
       "      <td>254241200.0</td>\n",
       "      <td>1066.971203</td>\n",
       "      <td>9.899703</td>\n",
       "      <td>0.009365</td>\n",
       "      <td>0.229503</td>\n",
       "      <td>118.254978</td>\n",
       "    </tr>\n",
       "    <tr>\n",
       "      <th>3</th>\n",
       "      <td>2014</td>\n",
       "      <td>1.061570e+09</td>\n",
       "      <td>9.552547e+08</td>\n",
       "      <td>19441</td>\n",
       "      <td>74154</td>\n",
       "      <td>1.041935e+08</td>\n",
       "      <td>293884575.0</td>\n",
       "      <td>955.254662</td>\n",
       "      <td>-106.315063</td>\n",
       "      <td>-0.100149</td>\n",
       "      <td>0.262171</td>\n",
       "      <td>189.691103</td>\n",
       "    </tr>\n",
       "    <tr>\n",
       "      <th>1</th>\n",
       "      <td>2015</td>\n",
       "      <td>4.520362e+08</td>\n",
       "      <td>3.633159e+08</td>\n",
       "      <td>7851</td>\n",
       "      <td>30835</td>\n",
       "      <td>1.854959e+07</td>\n",
       "      <td>120906075.0</td>\n",
       "      <td>363.315934</td>\n",
       "      <td>-88.720216</td>\n",
       "      <td>-0.196268</td>\n",
       "      <td>0.254613</td>\n",
       "      <td>102.356486</td>\n",
       "    </tr>\n",
       "  </tbody>\n",
       "</table>\n",
       "</div>"
      ],
      "text/plain": [
       "   issue_d_year     loan_amnt   total_pymnt  n_defaults  n_loans  \\\n",
       "0          2007  4.857100e+06  4.592342e+06         154      572   \n",
       "8          2008  2.073080e+07  1.995242e+07         486     2352   \n",
       "5          2009  5.065520e+07  5.456492e+07         702     5159   \n",
       "6          2010  1.306300e+08  1.393281e+08        1745    12434   \n",
       "7          2011  2.293101e+08  2.441772e+08        3259    19724   \n",
       "4          2012  6.448179e+08  6.970534e+08        8334    49812   \n",
       "2          2013  1.057072e+09  1.066971e+09       16798    73193   \n",
       "3          2014  1.061570e+09  9.552547e+08       19441    74154   \n",
       "1          2015  4.520362e+08  3.633159e+08        7851    30835   \n",
       "\n",
       "   total_pymnt_def  loan_amnt_def      REVENUE      PROFIT       ROI  \\\n",
       "0     7.974882e+05      1538675.0     4.592342   -0.264758 -0.054510   \n",
       "8     2.343035e+06      4890725.0    19.952424   -0.778376 -0.037547   \n",
       "5     3.895991e+06      7401525.0    54.564924    3.909724  0.077183   \n",
       "6     1.044114e+07     18419650.0   139.328097    8.698147  0.066586   \n",
       "7     2.441386e+07     42674050.0   244.177160   14.867035  0.064834   \n",
       "4     7.197315e+07    120365725.0   697.053381   52.235506  0.081008   \n",
       "2     1.359862e+08    254241200.0  1066.971203    9.899703  0.009365   \n",
       "3     1.041935e+08    293884575.0   955.254662 -106.315063 -0.100149   \n",
       "1     1.854959e+07    120906075.0   363.315934  -88.720216 -0.196268   \n",
       "\n",
       "      DRATE        LOSS  \n",
       "0  0.269231    0.741187  \n",
       "8  0.206633    2.547690  \n",
       "5  0.136073    3.505534  \n",
       "6  0.140341    7.978511  \n",
       "7  0.165230   18.260190  \n",
       "4  0.167309   48.392571  \n",
       "2  0.229503  118.254978  \n",
       "3  0.262171  189.691103  \n",
       "1  0.254613  102.356486  "
      ]
     },
     "execution_count": 47,
     "metadata": {},
     "output_type": "execute_result"
    }
   ],
   "source": [
    "# Statistics for expired contracts\n",
    "from pyspark.sql.functions import count\n",
    "\n",
    "tmp = sdf_loan_clean \\\n",
    "        .filter(col('loan_status') != 'Current') \\\n",
    "        .select('loan_default', 'total_pymnt', 'loan_amnt', 'issue_d_year') \\\n",
    "        .groupBy('issue_d_year') \\\n",
    "        .agg(sum(col('loan_amnt')).alias('loan_amnt'), \n",
    "             sum(col('total_pymnt')).alias('total_pymnt'),\n",
    "             sum(col('loan_default')).alias('n_defaults'),\n",
    "             count(col('loan_default')).alias('n_loans'),\n",
    "             sum(col('loan_default') * col('total_pymnt')).alias('total_pymnt_def'),\n",
    "             sum(col('loan_default') * col('loan_amnt')).alias('loan_amnt_def')\n",
    "            ) \\\n",
    "        .toPandas()\n",
    "\n",
    "tmp['REVENUE'] = tmp['total_pymnt']  / 1e6       \n",
    "tmp['PROFIT'] = (tmp['total_pymnt'] - tmp['loan_amnt']) / 1e6\n",
    "tmp['ROI'] = tmp['total_pymnt'] / tmp['loan_amnt'] - 1.0\n",
    "tmp['DRATE'] = tmp['n_defaults'] / tmp['n_loans']\n",
    "tmp['LOSS'] = -(tmp['total_pymnt_def'] - tmp['loan_amnt_def']) / 1e6\n",
    "\n",
    "tmp.sort_values('issue_d_year', ascending=True)"
   ]
  },
  {
   "cell_type": "markdown",
   "metadata": {},
   "source": [
    "http://www.lendingmemo.com/lending-club-prosper-default-rates/\n",
    "\n",
    "One of the main concerns people have in this investment is its average default rate, which means, the rate at which people fail to pay back these loans. This is a really valid issue considering the investor takes the full brunt of the loss when a borrower defaults. Risks like a platform bankruptcy or new regulatory burdens are important to keep in mind, but nothing has a more direct and negative impact upon our investment’s overall return than the rate at which our borrowers default on their loans."
   ]
  },
  {
   "cell_type": "markdown",
   "metadata": {},
   "source": [
    "### Balance classes"
   ]
  },
  {
   "cell_type": "code",
   "execution_count": 48,
   "metadata": {},
   "outputs": [
    {
     "name": "stdout",
     "output_type": "stream",
     "text": [
      "Class percentage before weighting: Y==1: 6.69%, Y==0: 93.31%\n",
      "Class percentage after balancing: Y==1: 50.00%, Y==0: 50.00%\n"
     ]
    }
   ],
   "source": [
    "from pyspark.sql.functions import lit, when\n",
    "\n",
    "sdf_loan_clean = sdf_loan_clean.withColumn('w', lit(1.0))\n",
    "\n",
    "tmp_0 = sdf_loan_clean.filter(col('loan_default') == 0).agg(sum(col('w')).alias('w')).collect()[0].w\n",
    "tmp_1 = sdf_loan_clean.filter(col('loan_default') == 1).agg(sum(col('w')).alias('w')).collect()[0].w\n",
    "p_0 = tmp_0 / (tmp_0 + tmp_1) * 100\n",
    "print('Class percentage before weighting: Y==1: {:2.2f}%, Y==0: {:2.2f}%'.format(100 - p_0, p_0))\n",
    "\n",
    "# class weights\n",
    "N = tmp_0 + tmp_1\n",
    "w_0 = N * .5 / tmp_0\n",
    "w_1 = N * .5 / tmp_1\n",
    "\n",
    "# create weight column\n",
    "sdf_loan_clean = sdf_loan_clean \\\n",
    "            .withColumn('w', when(col('loan_default') == 1, col('w') * w_1).otherwise(col('w') * w_0))\n",
    "    \n",
    "# sanity check\n",
    "tmp_0 = sdf_loan_clean.filter(col('loan_default') == 0).agg(sum(col('w')).alias('w')).collect()[0].w\n",
    "tmp_1 = sdf_loan_clean.filter(col('loan_default') == 1).agg(sum(col('w')).alias('w')).collect()[0].w\n",
    "p_0 = tmp_0 / (tmp_0 + tmp_1) * 100\n",
    "print('Class percentage after balancing: Y==1: {:2.2f}%, Y==0: {:2.2f}%'.format(100 - p_0, p_0))"
   ]
  },
  {
   "cell_type": "markdown",
   "metadata": {},
   "source": [
    "### Transfer data from Spark to h2o"
   ]
  },
  {
   "cell_type": "code",
   "execution_count": 92,
   "metadata": {},
   "outputs": [],
   "source": [
    "h2o.remove_all()"
   ]
  },
  {
   "cell_type": "code",
   "execution_count": 93,
   "metadata": {},
   "outputs": [],
   "source": [
    "sdf_ft = ['loan_default', \n",
    "            'installment', \n",
    "            'issue_d_month',\n",
    "            'loan_amnt', \n",
    "            'total_amnt_due',\n",
    "            'int_rate',\n",
    "            'grade',\n",
    "            'sub_grade',\n",
    "            'term_n',\n",
    "            'purpose',\n",
    "            'emp_length',\n",
    "            'home_ownership',\n",
    "            'annual_inc',\n",
    "            'loan_amnt_in_annual_inc',\n",
    "            'verification_status',\n",
    "            'zip_code',\n",
    "            'addr_state',\n",
    "            'dti',\n",
    "            'delinq_2yrs',\n",
    "            'w']\n",
    "\n",
    "df = hc.as_h2o_frame(sdf_loan_clean \\\n",
    "                     .select('issue_d_year',\n",
    "                             'loan_status', \n",
    "                             'total_pymnt',\n",
    "                             'title_words_vec_sig',\n",
    "                             'title_ngrams_vec_sig',\n",
    "                             'emp_title_words_vec',\n",
    "                             *sdf_ft), framename='sdf_loan')"
   ]
  },
  {
   "cell_type": "code",
   "execution_count": 94,
   "metadata": {
    "scrolled": false
   },
   "outputs": [],
   "source": [
    "df['loan_default_fact'] = df['loan_default'].asfactor()\n",
    "df['term_n_fact'] = df['term_n'].asfactor()\n",
    "df['issue_d_month_fact'] = df['issue_d_month'].asfactor()\n",
    "df['purpose_fact'] = df['purpose'].asfactor()\n",
    "df['grade_fact'] = df['grade'].asfactor()\n",
    "df['sub_grade_fact'] = df['sub_grade'].asfactor()\n",
    "\n",
    "df['emp_length_fact'] = df['emp_length'].asfactor()\n",
    "df['home_ownership_fact'] = df['home_ownership'].asfactor()\n",
    "df['verification_status_fact'] = df['verification_status'].asfactor()\n",
    "df['zip_code_fact'] = df['zip_code'].asfactor()\n",
    "df['addr_state_fact'] = df['addr_state'].asfactor()\n",
    "df['delinq_2yrs_fact'] = df['delinq_2yrs'].asfactor()"
   ]
  },
  {
   "cell_type": "code",
   "execution_count": 95,
   "metadata": {},
   "outputs": [],
   "source": [
    "model_ft = ['loan_default_fact', \n",
    "            'installment', \n",
    "            'issue_d_month_fact',\n",
    "            'loan_amnt', \n",
    "            'total_amnt_due',\n",
    "            'int_rate',\n",
    "            'grade_fact',\n",
    "            'sub_grade_fact',\n",
    "            'term_n_fact',\n",
    "            'purpose_fact',\n",
    "            'emp_length_fact',\n",
    "            'home_ownership_fact',\n",
    "            'annual_inc',\n",
    "            'loan_amnt_in_annual_inc',\n",
    "            'verification_status_fact',\n",
    "            'zip_code_fact',\n",
    "            'addr_state_fact',\n",
    "            'delinq_2yrs_fact',\n",
    "            'dti',\n",
    "            'w']"
   ]
  },
  {
   "cell_type": "code",
   "execution_count": 96,
   "metadata": {},
   "outputs": [],
   "source": [
    "nmes = df[1:10, :].as_data_frame()\n",
    "nmes = list(nmes.columns)"
   ]
  },
  {
   "cell_type": "code",
   "execution_count": 97,
   "metadata": {},
   "outputs": [],
   "source": [
    "ind = pd.DataFrame([(nme[0:19] == 'title_words_vec_sig', nme) for nme in nmes], columns=['match', 'nme'])\n",
    "model_title_word_ft = list(ind[ind['match']]['nme'].values)\n",
    "\n",
    "ind = pd.DataFrame([(nme[0:20] == 'title_ngrams_vec_sig', nme) for nme in nmes], columns=['match', 'nme'])\n",
    "model_title_ngram_ft = list(ind[ind['match']]['nme'].values)\n",
    "\n",
    "ind = pd.DataFrame([(nme[0:19] == 'emp_title_words_vec', nme) for nme in nmes], columns=['match', 'nme'])\n",
    "model_emp_title_ft = list(ind[ind['match']]['nme'].values)"
   ]
  },
  {
   "cell_type": "markdown",
   "metadata": {},
   "source": [
    "### Test, Train, Validate\n",
    "\n",
    "Few comments about splitting the dataset (date and Keyword are the key)"
   ]
  },
  {
   "cell_type": "code",
   "execution_count": 143,
   "metadata": {},
   "outputs": [
    {
     "data": {
      "text/plain": [
       "439500"
      ]
     },
     "execution_count": 143,
     "metadata": {},
     "output_type": "execute_result"
    }
   ],
   "source": [
    "predictors = model_ft[1:-1] + model_title_word_ft + model_title_ngram_ft + model_emp_title_ft\n",
    "response = 'loan_default_fact'\n",
    "weight = model_ft[-1]\n",
    "\n",
    "train, validate, test = df.split_frame([.5, .2], seed=2014)\n",
    "\n",
    "test['w'] = 1.0\n",
    "\n",
    "\n",
    "# TODO: print samlple sizes\n",
    "train.nrows"
   ]
  },
  {
   "cell_type": "markdown",
   "metadata": {},
   "source": [
    "### Baseline model: Lasso Logistic regression\n",
    "\n",
    "http://docs.h2o.ai/h2o/latest-stable/h2o-docs/booklets/GLMBooklet.pdf  \n",
    "http://docs.h2o.ai/h2o/latest-stable/h2o-docs/data-science/glm.html"
   ]
  },
  {
   "cell_type": "markdown",
   "metadata": {},
   "source": [
    "#### Tune lasso parameters"
   ]
  },
  {
   "cell_type": "code",
   "execution_count": 127,
   "metadata": {},
   "outputs": [
    {
     "name": "stdout",
     "output_type": "stream",
     "text": [
      "glm Grid Build progress: |████████████████████████████████████████████████| 100%\n"
     ]
    }
   ],
   "source": [
    "from h2o.grid import H2OGridSearch\n",
    "from h2o.estimators.glm import H2OGeneralizedLinearEstimator\n",
    "\n",
    "import numpy as np\n",
    "\n",
    "h2o.remove('glm_grid')\n",
    "lambda_grid = list(np.logspace(start=-7.0, stop=0.0, num=10, base=10.0))\n",
    "lambda_grid.append(0.0)\n",
    "\n",
    "glm_grid = H2OGridSearch(\n",
    "        model=H2OGeneralizedLinearEstimator(family=\"binomial\", alpha=1.0),\n",
    "        hyper_params={\"lambda\": lambda_grid},\n",
    "        grid_id='glm_grid'\n",
    "    )\n",
    "\n",
    "glm_grid.train(predictors, response, training_frame=train, validation_frame=validate, weights_column=weight)"
   ]
  },
  {
   "cell_type": "code",
   "execution_count": 128,
   "metadata": {
    "scrolled": false
   },
   "outputs": [
    {
     "data": {
      "text/html": [
       "<div>\n",
       "<style scoped>\n",
       "    .dataframe tbody tr th:only-of-type {\n",
       "        vertical-align: middle;\n",
       "    }\n",
       "\n",
       "    .dataframe tbody tr th {\n",
       "        vertical-align: top;\n",
       "    }\n",
       "\n",
       "    .dataframe thead th {\n",
       "        text-align: right;\n",
       "    }\n",
       "</style>\n",
       "<table border=\"1\" class=\"dataframe\">\n",
       "  <thead>\n",
       "    <tr style=\"text-align: right;\">\n",
       "      <th></th>\n",
       "      <th>Model_ID</th>\n",
       "      <th>AUC</th>\n",
       "      <th>lambda</th>\n",
       "    </tr>\n",
       "  </thead>\n",
       "  <tbody>\n",
       "    <tr>\n",
       "      <th>5</th>\n",
       "      <td>glm_grid_model_3</td>\n",
       "      <td>0.736744</td>\n",
       "      <td>2.154435e-05</td>\n",
       "    </tr>\n",
       "    <tr>\n",
       "      <th>2</th>\n",
       "      <td>glm_grid_model_4</td>\n",
       "      <td>0.735899</td>\n",
       "      <td>1.291550e-04</td>\n",
       "    </tr>\n",
       "    <tr>\n",
       "      <th>9</th>\n",
       "      <td>glm_grid_model_2</td>\n",
       "      <td>0.735071</td>\n",
       "      <td>3.593814e-06</td>\n",
       "    </tr>\n",
       "    <tr>\n",
       "      <th>4</th>\n",
       "      <td>glm_grid_model_10</td>\n",
       "      <td>0.734578</td>\n",
       "      <td>0.000000e+00</td>\n",
       "    </tr>\n",
       "    <tr>\n",
       "      <th>3</th>\n",
       "      <td>glm_grid_model_1</td>\n",
       "      <td>0.734235</td>\n",
       "      <td>5.994843e-07</td>\n",
       "    </tr>\n",
       "    <tr>\n",
       "      <th>7</th>\n",
       "      <td>glm_grid_model_0</td>\n",
       "      <td>0.734109</td>\n",
       "      <td>1.000000e-07</td>\n",
       "    </tr>\n",
       "    <tr>\n",
       "      <th>8</th>\n",
       "      <td>glm_grid_model_5</td>\n",
       "      <td>0.726184</td>\n",
       "      <td>7.742637e-04</td>\n",
       "    </tr>\n",
       "    <tr>\n",
       "      <th>6</th>\n",
       "      <td>glm_grid_model_6</td>\n",
       "      <td>0.705173</td>\n",
       "      <td>4.641589e-03</td>\n",
       "    </tr>\n",
       "    <tr>\n",
       "      <th>1</th>\n",
       "      <td>glm_grid_model_7</td>\n",
       "      <td>0.692893</td>\n",
       "      <td>2.782559e-02</td>\n",
       "    </tr>\n",
       "    <tr>\n",
       "      <th>0</th>\n",
       "      <td>glm_grid_model_9</td>\n",
       "      <td>0.500000</td>\n",
       "      <td>1.000000e+00</td>\n",
       "    </tr>\n",
       "    <tr>\n",
       "      <th>10</th>\n",
       "      <td>glm_grid_model_8</td>\n",
       "      <td>0.500000</td>\n",
       "      <td>1.668101e-01</td>\n",
       "    </tr>\n",
       "  </tbody>\n",
       "</table>\n",
       "</div>"
      ],
      "text/plain": [
       "             Model_ID       AUC        lambda\n",
       "5    glm_grid_model_3  0.736744  2.154435e-05\n",
       "2    glm_grid_model_4  0.735899  1.291550e-04\n",
       "9    glm_grid_model_2  0.735071  3.593814e-06\n",
       "4   glm_grid_model_10  0.734578  0.000000e+00\n",
       "3    glm_grid_model_1  0.734235  5.994843e-07\n",
       "7    glm_grid_model_0  0.734109  1.000000e-07\n",
       "8    glm_grid_model_5  0.726184  7.742637e-04\n",
       "6    glm_grid_model_6  0.705173  4.641589e-03\n",
       "1    glm_grid_model_7  0.692893  2.782559e-02\n",
       "0    glm_grid_model_9  0.500000  1.000000e+00\n",
       "10   glm_grid_model_8  0.500000  1.668101e-01"
      ]
     },
     "execution_count": 128,
     "metadata": {},
     "output_type": "execute_result"
    }
   ],
   "source": [
    "import pandas as pd\n",
    "\n",
    "# get the AUC on validation set:\n",
    "pd_auc = pd.DataFrame(list(glm_grid.auc(valid=True).items()), columns=['Model_ID', 'AUC']).sort_values('AUC', ascending=False)\n",
    "model_ids = pd_auc['Model_ID'].values\n",
    "pd_auc['lambda'] = np.array([glm_grid.get_hyperparams_dict(model, display=False)['lambda'] for model in model_ids])\n",
    "pd_auc = pd_auc.sort_values('AUC', ascending=False)\n",
    "\n",
    "# select best model hyperparameters\n",
    "glm_best_model_lambda = pd_auc['lambda'].values[0]\n",
    "glm_best_model_AUC = pd_auc['AUC'].values[0]\n",
    "\n",
    "pd_auc"
   ]
  },
  {
   "cell_type": "markdown",
   "metadata": {},
   "source": [
    "#### Final model"
   ]
  },
  {
   "cell_type": "code",
   "execution_count": 152,
   "metadata": {},
   "outputs": [
    {
     "name": "stdout",
     "output_type": "stream",
     "text": [
      "glm Model Build progress: |███████████████████████████████████████████████| 100%\n"
     ]
    }
   ],
   "source": [
    "from h2o.estimators.glm import H2OGeneralizedLinearEstimator\n",
    "\n",
    "glm_model = H2OGeneralizedLinearEstimator(family=\"binomial\", \n",
    "                                          lambda_=glm_best_model_lambda, \n",
    "                                          standardize=True,\n",
    "                                          alpha=1.0,\n",
    "                                          max_iterations=100,\n",
    "                                          nfolds = 0,\n",
    "                                          seed = 2014,\n",
    "                                          keep_cross_validation_predictions=True\n",
    "                                         )\n",
    "\n",
    "glm_model.train(predictors, response, training_frame=train, validation_frame=validate, weights_column=weight)"
   ]
  },
  {
   "cell_type": "code",
   "execution_count": 153,
   "metadata": {
    "scrolled": false
   },
   "outputs": [
    {
     "name": "stdout",
     "output_type": "stream",
     "text": [
      "Could not find exact threshold 0.786; using closest threshold found 0.7871555635843727.\n",
      "Could not find exact threshold 0.787; using closest threshold found 0.7871555635843727.\n",
      "Could not find exact threshold 0.788; using closest threshold found 0.7871555635843727.\n",
      "Could not find exact threshold 0.789; using closest threshold found 0.7894477195105223.\n",
      "Could not find exact threshold 0.79; using closest threshold found 0.7894477195105223.\n",
      "Could not find exact threshold 0.786; using closest threshold found 0.7871555635843727.\n",
      "Could not find exact threshold 0.787; using closest threshold found 0.7871555635843727.\n",
      "Could not find exact threshold 0.788; using closest threshold found 0.7871555635843727.\n",
      "Could not find exact threshold 0.789; using closest threshold found 0.7894477195105223.\n",
      "Could not find exact threshold 0.79; using closest threshold found 0.7894477195105223.\n",
      "Could not find exact threshold 0.786; using closest threshold found 0.7858490566221445.\n",
      "Could not find exact threshold 0.787; using closest threshold found 0.7858490566221445.\n",
      "Could not find exact threshold 0.788; using closest threshold found 0.7888922041761027.\n",
      "Could not find exact threshold 0.789; using closest threshold found 0.7888922041761027.\n",
      "Could not find exact threshold 0.79; using closest threshold found 0.7888922041761027.\n",
      "Could not find exact threshold 0.786; using closest threshold found 0.7858490566221445.\n",
      "Could not find exact threshold 0.787; using closest threshold found 0.7858490566221445.\n",
      "Could not find exact threshold 0.788; using closest threshold found 0.7888922041761027.\n",
      "Could not find exact threshold 0.789; using closest threshold found 0.7888922041761027.\n",
      "Could not find exact threshold 0.79; using closest threshold found 0.7888922041761027.\n"
     ]
    },
    {
     "data": {
      "text/html": [
       "<div>\n",
       "<style scoped>\n",
       "    .dataframe tbody tr th:only-of-type {\n",
       "        vertical-align: middle;\n",
       "    }\n",
       "\n",
       "    .dataframe tbody tr th {\n",
       "        vertical-align: top;\n",
       "    }\n",
       "\n",
       "    .dataframe thead th {\n",
       "        text-align: right;\n",
       "    }\n",
       "</style>\n",
       "<table border=\"1\" class=\"dataframe\">\n",
       "  <thead>\n",
       "    <tr style=\"text-align: right;\">\n",
       "      <th></th>\n",
       "      <th>thr</th>\n",
       "      <th>RECALL</th>\n",
       "      <th>FPR</th>\n",
       "      <th>RECALL (valid)</th>\n",
       "      <th>FPR (valid)</th>\n",
       "      <th>&lt; min_error</th>\n",
       "    </tr>\n",
       "  </thead>\n",
       "  <tbody>\n",
       "    <tr>\n",
       "      <th>0</th>\n",
       "      <td>0.786</td>\n",
       "      <td>0.191483</td>\n",
       "      <td>0.048986</td>\n",
       "      <td>0.185469</td>\n",
       "      <td>0.050392</td>\n",
       "      <td>False</td>\n",
       "    </tr>\n",
       "    <tr>\n",
       "      <th>1</th>\n",
       "      <td>0.787</td>\n",
       "      <td>0.191483</td>\n",
       "      <td>0.048986</td>\n",
       "      <td>0.185469</td>\n",
       "      <td>0.050392</td>\n",
       "      <td>False</td>\n",
       "    </tr>\n",
       "    <tr>\n",
       "      <th>2</th>\n",
       "      <td>0.788</td>\n",
       "      <td>0.191483</td>\n",
       "      <td>0.048986</td>\n",
       "      <td>0.181206</td>\n",
       "      <td>0.048842</td>\n",
       "      <td>True</td>\n",
       "    </tr>\n",
       "    <tr>\n",
       "      <th>3</th>\n",
       "      <td>0.789</td>\n",
       "      <td>0.186950</td>\n",
       "      <td>0.047732</td>\n",
       "      <td>0.181206</td>\n",
       "      <td>0.048842</td>\n",
       "      <td>True</td>\n",
       "    </tr>\n",
       "    <tr>\n",
       "      <th>4</th>\n",
       "      <td>0.790</td>\n",
       "      <td>0.186950</td>\n",
       "      <td>0.047732</td>\n",
       "      <td>0.181206</td>\n",
       "      <td>0.048842</td>\n",
       "      <td>True</td>\n",
       "    </tr>\n",
       "  </tbody>\n",
       "</table>\n",
       "</div>"
      ],
      "text/plain": [
       "     thr    RECALL       FPR  RECALL (valid)  FPR (valid)  < min_error\n",
       "0  0.786  0.191483  0.048986        0.185469     0.050392        False\n",
       "1  0.787  0.191483  0.048986        0.185469     0.050392        False\n",
       "2  0.788  0.191483  0.048986        0.181206     0.048842         True\n",
       "3  0.789  0.186950  0.047732        0.181206     0.048842         True\n",
       "4  0.790  0.186950  0.047732        0.181206     0.048842         True"
      ]
     },
     "execution_count": 153,
     "metadata": {},
     "output_type": "execute_result"
    }
   ],
   "source": [
    "thr_grid = [i / 1000 for i in range(786, 791)]\n",
    "thr_grid_recall_train = pd.DataFrame(glm_model.recall(thr_grid, train=True), columns=['thr', 'RECALL'])\n",
    "thr_grid_fpr_train = pd.DataFrame(glm_model.fpr(thr_grid, train=True), columns=['thr', 'FPR'])\n",
    "thr_grid_recall_valid = pd.DataFrame(glm_model.recall(thr_grid, valid=True), columns=['thr', 'RECALL (valid)'])\n",
    "thr_grid_fpr_valid = pd.DataFrame(glm_model.fpr(thr_grid, valid=True), columns=['thr', 'FPR (valid)'])\n",
    "\n",
    "thr_grid = thr_grid_recall_train.merge(thr_grid_fpr_train).merge(thr_grid_recall_valid).merge(thr_grid_fpr_valid)\n",
    "thr_grid['< min_error'] = thr_grid['FPR (valid)'] <= usr_min_error\n",
    "glm_thr_grid = thr_grid\n",
    "glm_sel_thr = thr_grid.loc[thr_grid['< min_error'], 'thr'].min()\n",
    "\n",
    "glm_thr_grid"
   ]
  },
  {
   "cell_type": "code",
   "execution_count": 154,
   "metadata": {
    "scrolled": true
   },
   "outputs": [
    {
     "data": {
      "text/plain": [
       "0.788"
      ]
     },
     "execution_count": 154,
     "metadata": {},
     "output_type": "execute_result"
    }
   ],
   "source": [
    "glm_sel_thr"
   ]
  },
  {
   "cell_type": "code",
   "execution_count": 155,
   "metadata": {
    "scrolled": false
   },
   "outputs": [
    {
     "name": "stdout",
     "output_type": "stream",
     "text": [
      "Could not find exact threshold 0.788; using closest threshold found 0.7879621018279034.\n",
      "Confusion Matrix (Act/Pred) @ threshold = 0.7879621018279034: \n"
     ]
    },
    {
     "data": {
      "text/html": [
       "<div style=\"overflow:auto\"><table style=\"width:50%\"><tr><td><b></b></td>\n",
       "<td><b>0</b></td>\n",
       "<td><b>1</b></td>\n",
       "<td><b>Error</b></td>\n",
       "<td><b>Rate</b></td></tr>\n",
       "<tr><td>0</td>\n",
       "<td>125325.0</td>\n",
       "<td>6464.0</td>\n",
       "<td>0.049</td>\n",
       "<td> (6464.0/131789.0)</td></tr>\n",
       "<tr><td>1</td>\n",
       "<td>107121.0</td>\n",
       "<td>23530.0</td>\n",
       "<td>0.8199</td>\n",
       "<td> (107121.0/130651.0)</td></tr>\n",
       "<tr><td>Total</td>\n",
       "<td>232446.0</td>\n",
       "<td>29994.0</td>\n",
       "<td>0.4328</td>\n",
       "<td> (113585.0/262440.0)</td></tr></table></div>"
      ],
      "text/plain": [
       "       0       1      Error    Rate\n",
       "-----  ------  -----  -------  -------------------\n",
       "0      125325  6464   0.049    (6464.0/131789.0)\n",
       "1      107121  23530  0.8199   (107121.0/130651.0)\n",
       "Total  232446  29994  0.4328   (113585.0/262440.0)"
      ]
     },
     "metadata": {},
     "output_type": "display_data"
    },
    {
     "data": {
      "text/plain": []
     },
     "execution_count": 155,
     "metadata": {},
     "output_type": "execute_result"
    }
   ],
   "source": [
    "glm_model.model_performance(test) \\\n",
    "    .confusion_matrix(thresholds=[glm_sel_thr])"
   ]
  },
  {
   "cell_type": "code",
   "execution_count": 156,
   "metadata": {
    "scrolled": false
   },
   "outputs": [
    {
     "data": {
      "image/png": "[encoded data removed]",
      "text/plain": [
       "<matplotlib.figure.Figure at 0x7f0cac8e8320>"
      ]
     },
     "metadata": {},
     "output_type": "display_data"
    }
   ],
   "source": [
    "tmp = glm_model.model_performance(test)\n",
    "from matplotlib import pyplot as plt\n",
    "plt.figure(figsize=(6, 6))\n",
    "tmp.plot()\n",
    "\n",
    "# TODO: in presentation add line at y = .95"
   ]
  },
  {
   "cell_type": "markdown",
   "metadata": {},
   "source": [
    "### Business Metrics"
   ]
  },
  {
   "cell_type": "code",
   "execution_count": 157,
   "metadata": {},
   "outputs": [],
   "source": [
    "from loan_utils import calc_roi"
   ]
  },
  {
   "cell_type": "code",
   "execution_count": 158,
   "metadata": {
    "scrolled": true
   },
   "outputs": [
    {
     "name": "stdout",
     "output_type": "stream",
     "text": [
      "glm prediction progress: |████████████████████████████████████████████████| 100%\n"
     ]
    }
   ],
   "source": [
    "# get porfolio stats with specific threshold for default detection\n",
    "res = test.cbind(glm_model.predict(test))\n",
    "res = res[res['loan_status'] != 'Current']"
   ]
  },
  {
   "cell_type": "code",
   "execution_count": 159,
   "metadata": {
    "scrolled": true
   },
   "outputs": [
    {
     "data": {
      "text/html": [
       "<table>\n",
       "<thead>\n",
       "<tr><th style=\"text-align: right;\">  Issue Year</th><th style=\"text-align: right;\">  REVENUE (in mln)</th><th style=\"text-align: right;\">  PROFIT (in mln)</th><th style=\"text-align: right;\">  ROI (%)</th><th style=\"text-align: right;\">  DEFAULT RATE(%)</th><th style=\"text-align: right;\">  LOSS (in mln)</th></tr>\n",
       "</thead>\n",
       "<tbody>\n",
       "<tr><td style=\"text-align: right;\">        2007</td><td style=\"text-align: right;\">              1.38</td><td style=\"text-align: right;\">            -0.11</td><td style=\"text-align: right;\">    -7.53</td><td style=\"text-align: right;\">          28.1768</td><td style=\"text-align: right;\">       0.268228</td></tr>\n",
       "<tr><td style=\"text-align: right;\">        2008</td><td style=\"text-align: right;\">              5.72</td><td style=\"text-align: right;\">            -0.28</td><td style=\"text-align: right;\">    -4.66</td><td style=\"text-align: right;\">          23.6496</td><td style=\"text-align: right;\">       0.845662</td></tr>\n",
       "<tr><td style=\"text-align: right;\">        2009</td><td style=\"text-align: right;\">             16.18</td><td style=\"text-align: right;\">             1.14</td><td style=\"text-align: right;\">     7.56</td><td style=\"text-align: right;\">          13.7179</td><td style=\"text-align: right;\">       1.04297 </td></tr>\n",
       "<tr><td style=\"text-align: right;\">        2010</td><td style=\"text-align: right;\">             41.33</td><td style=\"text-align: right;\">             2.54</td><td style=\"text-align: right;\">     6.55</td><td style=\"text-align: right;\">          13.7763</td><td style=\"text-align: right;\">       2.4652  </td></tr>\n",
       "<tr><td style=\"text-align: right;\">        2011</td><td style=\"text-align: right;\">             72.99</td><td style=\"text-align: right;\">             4.71</td><td style=\"text-align: right;\">     6.9 </td><td style=\"text-align: right;\">          15.6909</td><td style=\"text-align: right;\">       5.23277 </td></tr>\n",
       "<tr><td style=\"text-align: right;\">        2012</td><td style=\"text-align: right;\">            209.3 </td><td style=\"text-align: right;\">            15.99</td><td style=\"text-align: right;\">     8.27</td><td style=\"text-align: right;\">          16.4084</td><td style=\"text-align: right;\">      14.3864  </td></tr>\n",
       "<tr><td style=\"text-align: right;\">        2013</td><td style=\"text-align: right;\">            318.83</td><td style=\"text-align: right;\">             2.13</td><td style=\"text-align: right;\">     0.67</td><td style=\"text-align: right;\">          23.1023</td><td style=\"text-align: right;\">      36.0016  </td></tr>\n",
       "<tr><td style=\"text-align: right;\">        2014</td><td style=\"text-align: right;\">            288.77</td><td style=\"text-align: right;\">           -31.87</td><td style=\"text-align: right;\">    -9.94</td><td style=\"text-align: right;\">          26.1065</td><td style=\"text-align: right;\">      57.2629  </td></tr>\n",
       "<tr><td style=\"text-align: right;\">        2015</td><td style=\"text-align: right;\">            110.42</td><td style=\"text-align: right;\">           -25.85</td><td style=\"text-align: right;\">   -18.97</td><td style=\"text-align: right;\">          24.8925</td><td style=\"text-align: right;\">      30.0948  </td></tr>\n",
       "</tbody>\n",
       "</table>"
      ]
     },
     "metadata": {},
     "output_type": "display_data"
    },
    {
     "data": {
      "text/plain": []
     },
     "execution_count": 159,
     "metadata": {},
     "output_type": "execute_result"
    }
   ],
   "source": [
    "calc_roi(res, 1.0)"
   ]
  },
  {
   "cell_type": "code",
   "execution_count": 160,
   "metadata": {
    "scrolled": true
   },
   "outputs": [
    {
     "data": {
      "text/html": [
       "<table>\n",
       "<thead>\n",
       "<tr><th style=\"text-align: right;\">  Issue Year</th><th style=\"text-align: right;\">  REVENUE (in mln)</th><th style=\"text-align: right;\">  PROFIT (in mln)</th><th style=\"text-align: right;\">  ROI (%)</th><th style=\"text-align: right;\">  DEFAULT RATE(%)</th><th style=\"text-align: right;\">  LOSS (in mln)</th></tr>\n",
       "</thead>\n",
       "<tbody>\n",
       "<tr><td style=\"text-align: right;\">        2007</td><td style=\"text-align: right;\">              1.36</td><td style=\"text-align: right;\">            -0.11</td><td style=\"text-align: right;\">    -7.76</td><td style=\"text-align: right;\">          28.6517</td><td style=\"text-align: right;\">       0.268228</td></tr>\n",
       "<tr><td style=\"text-align: right;\">        2008</td><td style=\"text-align: right;\">              5.61</td><td style=\"text-align: right;\">            -0.26</td><td style=\"text-align: right;\">    -4.47</td><td style=\"text-align: right;\">          23.1343</td><td style=\"text-align: right;\">       0.81803 </td></tr>\n",
       "<tr><td style=\"text-align: right;\">        2009</td><td style=\"text-align: right;\">             15.06</td><td style=\"text-align: right;\">             1.12</td><td style=\"text-align: right;\">     8.05</td><td style=\"text-align: right;\">          13.278 </td><td style=\"text-align: right;\">       0.909551</td></tr>\n",
       "<tr><td style=\"text-align: right;\">        2010</td><td style=\"text-align: right;\">             39.81</td><td style=\"text-align: right;\">             2.54</td><td style=\"text-align: right;\">     6.82</td><td style=\"text-align: right;\">          13.3352</td><td style=\"text-align: right;\">       2.24044 </td></tr>\n",
       "<tr><td style=\"text-align: right;\">        2011</td><td style=\"text-align: right;\">             69.29</td><td style=\"text-align: right;\">             4.74</td><td style=\"text-align: right;\">     7.35</td><td style=\"text-align: right;\">          14.8788</td><td style=\"text-align: right;\">       4.61242 </td></tr>\n",
       "<tr><td style=\"text-align: right;\">        2012</td><td style=\"text-align: right;\">            171.39</td><td style=\"text-align: right;\">            13.84</td><td style=\"text-align: right;\">     8.79</td><td style=\"text-align: right;\">          14.3978</td><td style=\"text-align: right;\">      10.0236  </td></tr>\n",
       "<tr><td style=\"text-align: right;\">        2013</td><td style=\"text-align: right;\">            251.49</td><td style=\"text-align: right;\">             4.84</td><td style=\"text-align: right;\">     1.96</td><td style=\"text-align: right;\">          19.7603</td><td style=\"text-align: right;\">      23.9661  </td></tr>\n",
       "<tr><td style=\"text-align: right;\">        2014</td><td style=\"text-align: right;\">            278.87</td><td style=\"text-align: right;\">           -29.07</td><td style=\"text-align: right;\">    -9.44</td><td style=\"text-align: right;\">          25.1613</td><td style=\"text-align: right;\">      53.2717  </td></tr>\n",
       "<tr><td style=\"text-align: right;\">        2015</td><td style=\"text-align: right;\">            107.16</td><td style=\"text-align: right;\">           -23.54</td><td style=\"text-align: right;\">   -18.01</td><td style=\"text-align: right;\">          23.8906</td><td style=\"text-align: right;\">      27.5697  </td></tr>\n",
       "</tbody>\n",
       "</table>"
      ]
     },
     "metadata": {},
     "output_type": "display_data"
    },
    {
     "data": {
      "text/plain": []
     },
     "execution_count": 160,
     "metadata": {},
     "output_type": "execute_result"
    }
   ],
   "source": [
    "calc_roi(res, glm_sel_thr)"
   ]
  },
  {
   "cell_type": "code",
   "execution_count": 161,
   "metadata": {},
   "outputs": [
    {
     "data": {
      "text/html": [
       "<div>\n",
       "<style scoped>\n",
       "    .dataframe tbody tr th:only-of-type {\n",
       "        vertical-align: middle;\n",
       "    }\n",
       "\n",
       "    .dataframe tbody tr th {\n",
       "        vertical-align: top;\n",
       "    }\n",
       "\n",
       "    .dataframe thead th {\n",
       "        text-align: right;\n",
       "    }\n",
       "</style>\n",
       "<table border=\"1\" class=\"dataframe\">\n",
       "  <thead>\n",
       "    <tr style=\"text-align: right;\">\n",
       "      <th></th>\n",
       "      <th>grade_fact</th>\n",
       "      <th>(%)</th>\n",
       "    </tr>\n",
       "  </thead>\n",
       "  <tbody>\n",
       "    <tr>\n",
       "      <th>0</th>\n",
       "      <td>A</td>\n",
       "      <td>0.509325</td>\n",
       "    </tr>\n",
       "    <tr>\n",
       "      <th>1</th>\n",
       "      <td>B</td>\n",
       "      <td>3.215243</td>\n",
       "    </tr>\n",
       "    <tr>\n",
       "      <th>2</th>\n",
       "      <td>C</td>\n",
       "      <td>10.745583</td>\n",
       "    </tr>\n",
       "    <tr>\n",
       "      <th>3</th>\n",
       "      <td>D</td>\n",
       "      <td>22.070061</td>\n",
       "    </tr>\n",
       "    <tr>\n",
       "      <th>4</th>\n",
       "      <td>E</td>\n",
       "      <td>25.772098</td>\n",
       "    </tr>\n",
       "    <tr>\n",
       "      <th>5</th>\n",
       "      <td>F</td>\n",
       "      <td>38.655147</td>\n",
       "    </tr>\n",
       "    <tr>\n",
       "      <th>6</th>\n",
       "      <td>G</td>\n",
       "      <td>59.745763</td>\n",
       "    </tr>\n",
       "  </tbody>\n",
       "</table>\n",
       "</div>"
      ],
      "text/plain": [
       "  grade_fact        (%)\n",
       "0          A   0.509325\n",
       "1          B   3.215243\n",
       "2          C  10.745583\n",
       "3          D  22.070061\n",
       "4          E  25.772098\n",
       "5          F  38.655147\n",
       "6          G  59.745763"
      ]
     },
     "execution_count": 161,
     "metadata": {},
     "output_type": "execute_result"
    }
   ],
   "source": [
    "res['pp'] = res['p1'] > glm_sel_thr\n",
    "tmp = res.group_by('grade_fact').sum('pp').count().get_frame()\n",
    "tmp['(%)'] = tmp['sum_pp'] /  tmp['nrow'] * 100.0\n",
    "tmp.as_data_frame()[['grade_fact', '(%)']]"
   ]
  },
  {
   "cell_type": "code",
   "execution_count": 162,
   "metadata": {},
   "outputs": [
    {
     "data": {
      "text/plain": [
       "5.699999999999999"
      ]
     },
     "execution_count": 162,
     "metadata": {},
     "output_type": "execute_result"
    }
   ],
   "source": [
    "tmp1 = calc_roi(res, glm_sel_thr)\n",
    "tmp2 = calc_roi(res, 1.1)\n",
    "tmp1['PROFIT (in mln)'].sum() - tmp2['PROFIT (in mln)'].sum()"
   ]
  },
  {
   "cell_type": "markdown",
   "metadata": {},
   "source": [
    "### XGboost\n"
   ]
  },
  {
   "cell_type": "markdown",
   "metadata": {},
   "source": [
    "#### Tune xgboost Parameters"
   ]
  },
  {
   "cell_type": "code",
   "execution_count": 144,
   "metadata": {
    "scrolled": false
   },
   "outputs": [
    {
     "name": "stdout",
     "output_type": "stream",
     "text": [
      "xgboost Grid Build progress: |████████████████████████████████████████████| 100%\n"
     ]
    }
   ],
   "source": [
    "from h2o.grid import H2OGridSearch\n",
    "from h2o.estimators.xgboost import H2OXGBoostEstimator\n",
    "import numpy as np\n",
    "\n",
    "h2o.remove('xgb_grid')\n",
    "booster_grid = ['gbtree']\n",
    "depth_grid = [6, 7, 8, 9, 10]\n",
    "\n",
    "xgb_grid = H2OGridSearch(\n",
    "        model=H2OXGBoostEstimator(distribution='multinomial', \n",
    "                                       stopping_metric='auc', \n",
    "                                       stopping_rounds=3),\n",
    "        hyper_params={'max_depth': depth_grid, \n",
    "                      'booster': booster_grid},\n",
    "        grid_id='xgb_grid'\n",
    "    )\n",
    "\n",
    "xgb_grid.train(predictors, response, training_frame=train, validation_frame=validate, weights_column = weight)"
   ]
  },
  {
   "cell_type": "code",
   "execution_count": 145,
   "metadata": {
    "scrolled": true
   },
   "outputs": [
    {
     "data": {
      "text/html": [
       "<div>\n",
       "<style scoped>\n",
       "    .dataframe tbody tr th:only-of-type {\n",
       "        vertical-align: middle;\n",
       "    }\n",
       "\n",
       "    .dataframe tbody tr th {\n",
       "        vertical-align: top;\n",
       "    }\n",
       "\n",
       "    .dataframe thead th {\n",
       "        text-align: right;\n",
       "    }\n",
       "</style>\n",
       "<table border=\"1\" class=\"dataframe\">\n",
       "  <thead>\n",
       "    <tr style=\"text-align: right;\">\n",
       "      <th></th>\n",
       "      <th>Model_ID</th>\n",
       "      <th>AUC</th>\n",
       "      <th>booster</th>\n",
       "      <th>max_depth</th>\n",
       "    </tr>\n",
       "  </thead>\n",
       "  <tbody>\n",
       "    <tr>\n",
       "      <th>0</th>\n",
       "      <td>xgb_grid_model_2</td>\n",
       "      <td>0.775011</td>\n",
       "      <td>gbtree</td>\n",
       "      <td>7</td>\n",
       "    </tr>\n",
       "    <tr>\n",
       "      <th>3</th>\n",
       "      <td>xgb_grid_model_3</td>\n",
       "      <td>0.775011</td>\n",
       "      <td>dart</td>\n",
       "      <td>7</td>\n",
       "    </tr>\n",
       "    <tr>\n",
       "      <th>1</th>\n",
       "      <td>xgb_grid_model_0</td>\n",
       "      <td>0.773318</td>\n",
       "      <td>gbtree</td>\n",
       "      <td>6</td>\n",
       "    </tr>\n",
       "    <tr>\n",
       "      <th>8</th>\n",
       "      <td>xgb_grid_model_1</td>\n",
       "      <td>0.773318</td>\n",
       "      <td>dart</td>\n",
       "      <td>6</td>\n",
       "    </tr>\n",
       "    <tr>\n",
       "      <th>6</th>\n",
       "      <td>xgb_grid_model_4</td>\n",
       "      <td>0.772246</td>\n",
       "      <td>gbtree</td>\n",
       "      <td>8</td>\n",
       "    </tr>\n",
       "    <tr>\n",
       "      <th>9</th>\n",
       "      <td>xgb_grid_model_5</td>\n",
       "      <td>0.772246</td>\n",
       "      <td>dart</td>\n",
       "      <td>8</td>\n",
       "    </tr>\n",
       "    <tr>\n",
       "      <th>2</th>\n",
       "      <td>xgb_grid_model_6</td>\n",
       "      <td>0.766827</td>\n",
       "      <td>gbtree</td>\n",
       "      <td>9</td>\n",
       "    </tr>\n",
       "    <tr>\n",
       "      <th>4</th>\n",
       "      <td>xgb_grid_model_7</td>\n",
       "      <td>0.766827</td>\n",
       "      <td>dart</td>\n",
       "      <td>9</td>\n",
       "    </tr>\n",
       "    <tr>\n",
       "      <th>5</th>\n",
       "      <td>xgb_grid_model_8</td>\n",
       "      <td>0.762315</td>\n",
       "      <td>gbtree</td>\n",
       "      <td>10</td>\n",
       "    </tr>\n",
       "    <tr>\n",
       "      <th>7</th>\n",
       "      <td>xgb_grid_model_9</td>\n",
       "      <td>0.762315</td>\n",
       "      <td>dart</td>\n",
       "      <td>10</td>\n",
       "    </tr>\n",
       "  </tbody>\n",
       "</table>\n",
       "</div>"
      ],
      "text/plain": [
       "           Model_ID       AUC booster  max_depth\n",
       "0  xgb_grid_model_2  0.775011  gbtree          7\n",
       "3  xgb_grid_model_3  0.775011    dart          7\n",
       "1  xgb_grid_model_0  0.773318  gbtree          6\n",
       "8  xgb_grid_model_1  0.773318    dart          6\n",
       "6  xgb_grid_model_4  0.772246  gbtree          8\n",
       "9  xgb_grid_model_5  0.772246    dart          8\n",
       "2  xgb_grid_model_6  0.766827  gbtree          9\n",
       "4  xgb_grid_model_7  0.766827    dart          9\n",
       "5  xgb_grid_model_8  0.762315  gbtree         10\n",
       "7  xgb_grid_model_9  0.762315    dart         10"
      ]
     },
     "execution_count": 145,
     "metadata": {},
     "output_type": "execute_result"
    }
   ],
   "source": [
    "# get the AUC on validation set:\n",
    "pd_auc = pd.DataFrame(list(xgb_grid.auc(valid=True).items()), columns=['Model_ID', 'AUC']).sort_values('AUC', ascending=False)\n",
    "model_ids = pd_auc['Model_ID'].values\n",
    "\n",
    "pd_auc['booster'] = np.array([xgb_grid.get_hyperparams_dict(model, display=False)['booster'] for model in model_ids])\n",
    "pd_auc['max_depth'] = np.array([xgb_grid.get_hyperparams_dict(model, display=False)['max_depth'] for model in model_ids])\n",
    "\n",
    "pd_auc = pd_auc.sort_values('AUC', ascending=False)\n",
    "\n",
    "# select best model hyperparameters and remove the grid\n",
    "xgb_best_model_depth = pd_auc['max_depth'].values[0]\n",
    "xgb_best_model_booster = pd_auc['booster'].values[0]\n",
    "xgb_best_model_AUC = pd_auc['AUC'].values[0]\n",
    "\n",
    "pd_auc.head(10)"
   ]
  },
  {
   "cell_type": "markdown",
   "metadata": {},
   "source": [
    "#### Final model"
   ]
  },
  {
   "cell_type": "code",
   "execution_count": 146,
   "metadata": {},
   "outputs": [
    {
     "name": "stdout",
     "output_type": "stream",
     "text": [
      "xgboost Model Build progress: |███████████████████████████████████████████| 100%\n"
     ]
    }
   ],
   "source": [
    "from h2o.estimators.xgboost import H2OXGBoostEstimator\n",
    "\n",
    "xgb_model = H2OXGBoostEstimator(distribution=\"multinomial\", \n",
    "                                    booster=xgb_best_model_booster, \n",
    "                                    max_depth=int(xgb_best_model_depth),\n",
    "                                    nfolds = 0,\n",
    "                                    seed = 2014,\n",
    "                                    stopping_metric='auc',\n",
    "                                    stopping_rounds=3,\n",
    "                                    ntrees=50,\n",
    "                                    keep_cross_validation_predictions=True\n",
    "                                    )\n",
    "\n",
    "xgb_model.train(predictors, response, training_frame=train, validation_frame=validate, weights_column=weight)"
   ]
  },
  {
   "cell_type": "code",
   "execution_count": 147,
   "metadata": {
    "scrolled": true
   },
   "outputs": [
    {
     "data": {
      "image/png": "[encoded data removed]",
      "text/plain": [
       "<matplotlib.figure.Figure at 0x7f0cac181710>"
      ]
     },
     "metadata": {},
     "output_type": "display_data"
    }
   ],
   "source": [
    "xgb_model.plot()"
   ]
  },
  {
   "cell_type": "code",
   "execution_count": 163,
   "metadata": {
    "scrolled": false
   },
   "outputs": [
    {
     "name": "stdout",
     "output_type": "stream",
     "text": [
      "Could not find exact threshold 0.759; using closest threshold found 0.7588227778824971.\n",
      "Could not find exact threshold 0.76; using closest threshold found 0.760425485447792.\n",
      "Could not find exact threshold 0.761; using closest threshold found 0.760425485447792.\n",
      "Could not find exact threshold 0.762; using closest threshold found 0.7619638445023991.\n",
      "Could not find exact threshold 0.763; using closest threshold found 0.7635227466252312.\n",
      "Could not find exact threshold 0.759; using closest threshold found 0.7588227778824971.\n",
      "Could not find exact threshold 0.76; using closest threshold found 0.760425485447792.\n",
      "Could not find exact threshold 0.761; using closest threshold found 0.760425485447792.\n",
      "Could not find exact threshold 0.762; using closest threshold found 0.7619638445023991.\n",
      "Could not find exact threshold 0.763; using closest threshold found 0.7635227466252312.\n",
      "Could not find exact threshold 0.759; using closest threshold found 0.758696200472585.\n",
      "Could not find exact threshold 0.76; using closest threshold found 0.7603762307648875.\n",
      "Could not find exact threshold 0.761; using closest threshold found 0.7603762307648875.\n",
      "Could not find exact threshold 0.762; using closest threshold found 0.7622846455221444.\n",
      "Could not find exact threshold 0.763; using closest threshold found 0.7622846455221444.\n",
      "Could not find exact threshold 0.759; using closest threshold found 0.758696200472585.\n",
      "Could not find exact threshold 0.76; using closest threshold found 0.7603762307648875.\n",
      "Could not find exact threshold 0.761; using closest threshold found 0.7603762307648875.\n",
      "Could not find exact threshold 0.762; using closest threshold found 0.7622846455221444.\n",
      "Could not find exact threshold 0.763; using closest threshold found 0.7622846455221444.\n"
     ]
    },
    {
     "data": {
      "text/html": [
       "<div>\n",
       "<style scoped>\n",
       "    .dataframe tbody tr th:only-of-type {\n",
       "        vertical-align: middle;\n",
       "    }\n",
       "\n",
       "    .dataframe tbody tr th {\n",
       "        vertical-align: top;\n",
       "    }\n",
       "\n",
       "    .dataframe thead th {\n",
       "        text-align: right;\n",
       "    }\n",
       "</style>\n",
       "<table border=\"1\" class=\"dataframe\">\n",
       "  <thead>\n",
       "    <tr style=\"text-align: right;\">\n",
       "      <th></th>\n",
       "      <th>thr</th>\n",
       "      <th>RECALL</th>\n",
       "      <th>FPR</th>\n",
       "      <th>RECALL (valid)</th>\n",
       "      <th>FPR (valid)</th>\n",
       "      <th>&gt; min_recall</th>\n",
       "    </tr>\n",
       "  </thead>\n",
       "  <tbody>\n",
       "    <tr>\n",
       "      <th>0</th>\n",
       "      <td>0.759</td>\n",
       "      <td>0.272324</td>\n",
       "      <td>0.048229</td>\n",
       "      <td>0.216253</td>\n",
       "      <td>0.051746</td>\n",
       "      <td>False</td>\n",
       "    </tr>\n",
       "    <tr>\n",
       "      <th>1</th>\n",
       "      <td>0.760</td>\n",
       "      <td>0.267623</td>\n",
       "      <td>0.047132</td>\n",
       "      <td>0.211648</td>\n",
       "      <td>0.050447</td>\n",
       "      <td>False</td>\n",
       "    </tr>\n",
       "    <tr>\n",
       "      <th>2</th>\n",
       "      <td>0.761</td>\n",
       "      <td>0.267623</td>\n",
       "      <td>0.047132</td>\n",
       "      <td>0.211648</td>\n",
       "      <td>0.050447</td>\n",
       "      <td>False</td>\n",
       "    </tr>\n",
       "    <tr>\n",
       "      <th>3</th>\n",
       "      <td>0.762</td>\n",
       "      <td>0.263192</td>\n",
       "      <td>0.045983</td>\n",
       "      <td>0.207044</td>\n",
       "      <td>0.049025</td>\n",
       "      <td>True</td>\n",
       "    </tr>\n",
       "    <tr>\n",
       "      <th>4</th>\n",
       "      <td>0.763</td>\n",
       "      <td>0.258828</td>\n",
       "      <td>0.044866</td>\n",
       "      <td>0.207044</td>\n",
       "      <td>0.049025</td>\n",
       "      <td>True</td>\n",
       "    </tr>\n",
       "  </tbody>\n",
       "</table>\n",
       "</div>"
      ],
      "text/plain": [
       "     thr    RECALL       FPR  RECALL (valid)  FPR (valid)  > min_recall\n",
       "0  0.759  0.272324  0.048229        0.216253     0.051746         False\n",
       "1  0.760  0.267623  0.047132        0.211648     0.050447         False\n",
       "2  0.761  0.267623  0.047132        0.211648     0.050447         False\n",
       "3  0.762  0.263192  0.045983        0.207044     0.049025          True\n",
       "4  0.763  0.258828  0.044866        0.207044     0.049025          True"
      ]
     },
     "execution_count": 163,
     "metadata": {},
     "output_type": "execute_result"
    }
   ],
   "source": [
    "thr_grid = [i / 1000 for i in range(759, 764)]\n",
    "thr_grid_recall_train = pd.DataFrame(xgb_model.recall(thr_grid, train=True), columns=['thr', 'RECALL'])\n",
    "thr_grid_fpr_train = pd.DataFrame(xgb_model.fpr(thr_grid, train=True), columns=['thr', 'FPR'])\n",
    "thr_grid_recall_valid = pd.DataFrame(xgb_model.recall(thr_grid, valid=True), columns=['thr', 'RECALL (valid)'])\n",
    "thr_grid_fpr_valid = pd.DataFrame(xgb_model.fpr(thr_grid, valid=True), columns=['thr', 'FPR (valid)'])\n",
    "\n",
    "thr_grid = thr_grid_recall_train.merge(thr_grid_fpr_train).merge(thr_grid_recall_valid).merge(thr_grid_fpr_valid)\n",
    "thr_grid['> min_recall'] = thr_grid['FPR (valid)'] <= usr_min_error\n",
    "xgb_thr_grid = thr_grid\n",
    "xgb_sel_thr = thr_grid.loc[thr_grid['> min_recall'], 'thr'].min()\n",
    "\n",
    "xgb_thr_grid"
   ]
  },
  {
   "cell_type": "code",
   "execution_count": 164,
   "metadata": {
    "scrolled": true
   },
   "outputs": [
    {
     "data": {
      "text/plain": [
       "0.762"
      ]
     },
     "execution_count": 164,
     "metadata": {},
     "output_type": "execute_result"
    }
   ],
   "source": [
    "xgb_sel_thr"
   ]
  },
  {
   "cell_type": "code",
   "execution_count": 165,
   "metadata": {
    "scrolled": false
   },
   "outputs": [
    {
     "name": "stdout",
     "output_type": "stream",
     "text": [
      "Could not find exact threshold 0.762; using closest threshold found 0.7620359769134303.\n",
      "Confusion Matrix (Act/Pred) @ threshold = 0.7620359769134303: \n"
     ]
    },
    {
     "data": {
      "text/html": [
       "<div style=\"overflow:auto\"><table style=\"width:50%\"><tr><td><b></b></td>\n",
       "<td><b>0</b></td>\n",
       "<td><b>1</b></td>\n",
       "<td><b>Error</b></td>\n",
       "<td><b>Rate</b></td></tr>\n",
       "<tr><td>0</td>\n",
       "<td>125296.0</td>\n",
       "<td>6493.0</td>\n",
       "<td>0.0493</td>\n",
       "<td> (6493.0/131789.0)</td></tr>\n",
       "<tr><td>1</td>\n",
       "<td>104146.0</td>\n",
       "<td>26505.0</td>\n",
       "<td>0.7971</td>\n",
       "<td> (104146.0/130651.0)</td></tr>\n",
       "<tr><td>Total</td>\n",
       "<td>229442.0</td>\n",
       "<td>32998.0</td>\n",
       "<td>0.4216</td>\n",
       "<td> (110639.0/262440.0)</td></tr></table></div>"
      ],
      "text/plain": [
       "       0       1      Error    Rate\n",
       "-----  ------  -----  -------  -------------------\n",
       "0      125296  6493   0.0493   (6493.0/131789.0)\n",
       "1      104146  26505  0.7971   (104146.0/130651.0)\n",
       "Total  229442  32998  0.4216   (110639.0/262440.0)"
      ]
     },
     "metadata": {},
     "output_type": "display_data"
    },
    {
     "data": {
      "text/plain": []
     },
     "execution_count": 165,
     "metadata": {},
     "output_type": "execute_result"
    }
   ],
   "source": [
    "xgb_model.model_performance(test).confusion_matrix(thresholds=[xgb_sel_thr])"
   ]
  },
  {
   "cell_type": "code",
   "execution_count": 166,
   "metadata": {
    "scrolled": false
   },
   "outputs": [
    {
     "data": {
      "image/png": "[encoded data removed]",
      "text/plain": [
       "<matplotlib.figure.Figure at 0x7f0cab306f98>"
      ]
     },
     "metadata": {},
     "output_type": "display_data"
    }
   ],
   "source": [
    "tmp = xgb_model.model_performance(test)\n",
    "from matplotlib import pyplot as plt\n",
    "plt.figure(figsize=(6, 6))\n",
    "tmp.plot()\n",
    "\n",
    "# TODO: in presentation add line at y = .95"
   ]
  },
  {
   "cell_type": "markdown",
   "metadata": {},
   "source": [
    "### Business Metrics"
   ]
  },
  {
   "cell_type": "code",
   "execution_count": 167,
   "metadata": {
    "scrolled": true
   },
   "outputs": [
    {
     "name": "stdout",
     "output_type": "stream",
     "text": [
      "xgboost prediction progress: |████████████████████████████████████████████| 100%\n"
     ]
    }
   ],
   "source": [
    "# get porfolio stats with specific threshold for default detection\n",
    "res = test.cbind(xgb_model.predict(test))\n",
    "res = res[res['loan_status'] != 'Current']"
   ]
  },
  {
   "cell_type": "code",
   "execution_count": 168,
   "metadata": {
    "scrolled": false
   },
   "outputs": [
    {
     "data": {
      "text/html": [
       "<table>\n",
       "<thead>\n",
       "<tr><th style=\"text-align: right;\">  Issue Year</th><th style=\"text-align: right;\">  REVENUE (in mln)</th><th style=\"text-align: right;\">  PROFIT (in mln)</th><th style=\"text-align: right;\">  ROI (%)</th><th style=\"text-align: right;\">  DEFAULT RATE(%)</th><th style=\"text-align: right;\">  LOSS (in mln)</th></tr>\n",
       "</thead>\n",
       "<tbody>\n",
       "<tr><td style=\"text-align: right;\">        2007</td><td style=\"text-align: right;\">              1.38</td><td style=\"text-align: right;\">            -0.11</td><td style=\"text-align: right;\">    -7.53</td><td style=\"text-align: right;\">          28.1768</td><td style=\"text-align: right;\">       0.268228</td></tr>\n",
       "<tr><td style=\"text-align: right;\">        2008</td><td style=\"text-align: right;\">              5.72</td><td style=\"text-align: right;\">            -0.28</td><td style=\"text-align: right;\">    -4.66</td><td style=\"text-align: right;\">          23.6496</td><td style=\"text-align: right;\">       0.845662</td></tr>\n",
       "<tr><td style=\"text-align: right;\">        2009</td><td style=\"text-align: right;\">             16.18</td><td style=\"text-align: right;\">             1.14</td><td style=\"text-align: right;\">     7.56</td><td style=\"text-align: right;\">          13.7179</td><td style=\"text-align: right;\">       1.04297 </td></tr>\n",
       "<tr><td style=\"text-align: right;\">        2010</td><td style=\"text-align: right;\">             41.33</td><td style=\"text-align: right;\">             2.54</td><td style=\"text-align: right;\">     6.55</td><td style=\"text-align: right;\">          13.7763</td><td style=\"text-align: right;\">       2.4652  </td></tr>\n",
       "<tr><td style=\"text-align: right;\">        2011</td><td style=\"text-align: right;\">             72.99</td><td style=\"text-align: right;\">             4.71</td><td style=\"text-align: right;\">     6.9 </td><td style=\"text-align: right;\">          15.6909</td><td style=\"text-align: right;\">       5.23277 </td></tr>\n",
       "<tr><td style=\"text-align: right;\">        2012</td><td style=\"text-align: right;\">            209.3 </td><td style=\"text-align: right;\">            15.99</td><td style=\"text-align: right;\">     8.27</td><td style=\"text-align: right;\">          16.4084</td><td style=\"text-align: right;\">      14.3864  </td></tr>\n",
       "<tr><td style=\"text-align: right;\">        2013</td><td style=\"text-align: right;\">            318.83</td><td style=\"text-align: right;\">             2.13</td><td style=\"text-align: right;\">     0.67</td><td style=\"text-align: right;\">          23.1023</td><td style=\"text-align: right;\">      36.0016  </td></tr>\n",
       "<tr><td style=\"text-align: right;\">        2014</td><td style=\"text-align: right;\">            288.77</td><td style=\"text-align: right;\">           -31.87</td><td style=\"text-align: right;\">    -9.94</td><td style=\"text-align: right;\">          26.1065</td><td style=\"text-align: right;\">      57.2629  </td></tr>\n",
       "<tr><td style=\"text-align: right;\">        2015</td><td style=\"text-align: right;\">            110.42</td><td style=\"text-align: right;\">           -25.85</td><td style=\"text-align: right;\">   -18.97</td><td style=\"text-align: right;\">          24.8925</td><td style=\"text-align: right;\">      30.0948  </td></tr>\n",
       "</tbody>\n",
       "</table>"
      ]
     },
     "metadata": {},
     "output_type": "display_data"
    },
    {
     "data": {
      "text/plain": []
     },
     "execution_count": 168,
     "metadata": {},
     "output_type": "execute_result"
    }
   ],
   "source": [
    "calc_roi(res, 1.0)"
   ]
  },
  {
   "cell_type": "code",
   "execution_count": 169,
   "metadata": {
    "scrolled": false
   },
   "outputs": [
    {
     "data": {
      "text/html": [
       "<table>\n",
       "<thead>\n",
       "<tr><th style=\"text-align: right;\">  Issue Year</th><th style=\"text-align: right;\">  REVENUE (in mln)</th><th style=\"text-align: right;\">  PROFIT (in mln)</th><th style=\"text-align: right;\">  ROI (%)</th><th style=\"text-align: right;\">  DEFAULT RATE(%)</th><th style=\"text-align: right;\">  LOSS (in mln)</th></tr>\n",
       "</thead>\n",
       "<tbody>\n",
       "<tr><td style=\"text-align: right;\">        2007</td><td style=\"text-align: right;\">              0.98</td><td style=\"text-align: right;\">            -0.11</td><td style=\"text-align: right;\">   -10.21</td><td style=\"text-align: right;\">          27.0073</td><td style=\"text-align: right;\">       0.214219</td></tr>\n",
       "<tr><td style=\"text-align: right;\">        2008</td><td style=\"text-align: right;\">              4.19</td><td style=\"text-align: right;\">            -0.15</td><td style=\"text-align: right;\">    -3.56</td><td style=\"text-align: right;\">          21.6319</td><td style=\"text-align: right;\">       0.524611</td></tr>\n",
       "<tr><td style=\"text-align: right;\">        2009</td><td style=\"text-align: right;\">             14.25</td><td style=\"text-align: right;\">             1.04</td><td style=\"text-align: right;\">     7.86</td><td style=\"text-align: right;\">          12.8223</td><td style=\"text-align: right;\">       0.840729</td></tr>\n",
       "<tr><td style=\"text-align: right;\">        2010</td><td style=\"text-align: right;\">             35.51</td><td style=\"text-align: right;\">             2.08</td><td style=\"text-align: right;\">     6.21</td><td style=\"text-align: right;\">          12.1597</td><td style=\"text-align: right;\">       1.84723 </td></tr>\n",
       "<tr><td style=\"text-align: right;\">        2011</td><td style=\"text-align: right;\">             64.42</td><td style=\"text-align: right;\">             4.56</td><td style=\"text-align: right;\">     7.62</td><td style=\"text-align: right;\">          13.8721</td><td style=\"text-align: right;\">       3.87791 </td></tr>\n",
       "<tr><td style=\"text-align: right;\">        2012</td><td style=\"text-align: right;\">            165.16</td><td style=\"text-align: right;\">            13.76</td><td style=\"text-align: right;\">     9.09</td><td style=\"text-align: right;\">          13.6619</td><td style=\"text-align: right;\">       8.85364 </td></tr>\n",
       "<tr><td style=\"text-align: right;\">        2013</td><td style=\"text-align: right;\">            254.43</td><td style=\"text-align: right;\">             5.78</td><td style=\"text-align: right;\">     2.32</td><td style=\"text-align: right;\">          19.4089</td><td style=\"text-align: right;\">      23.2508  </td></tr>\n",
       "<tr><td style=\"text-align: right;\">        2014</td><td style=\"text-align: right;\">            274.26</td><td style=\"text-align: right;\">           -27.61</td><td style=\"text-align: right;\">    -9.15</td><td style=\"text-align: right;\">          24.8603</td><td style=\"text-align: right;\">      51.3301  </td></tr>\n",
       "<tr><td style=\"text-align: right;\">        2015</td><td style=\"text-align: right;\">            108.47</td><td style=\"text-align: right;\">           -24.3 </td><td style=\"text-align: right;\">   -18.3 </td><td style=\"text-align: right;\">          24.2654</td><td style=\"text-align: right;\">      28.4042  </td></tr>\n",
       "</tbody>\n",
       "</table>"
      ]
     },
     "metadata": {},
     "output_type": "display_data"
    },
    {
     "data": {
      "text/plain": []
     },
     "execution_count": 169,
     "metadata": {},
     "output_type": "execute_result"
    }
   ],
   "source": [
    "calc_roi(res, xgb_sel_thr)"
   ]
  },
  {
   "cell_type": "code",
   "execution_count": 170,
   "metadata": {
    "scrolled": true
   },
   "outputs": [
    {
     "data": {
      "text/html": [
       "<div>\n",
       "<style scoped>\n",
       "    .dataframe tbody tr th:only-of-type {\n",
       "        vertical-align: middle;\n",
       "    }\n",
       "\n",
       "    .dataframe tbody tr th {\n",
       "        vertical-align: top;\n",
       "    }\n",
       "\n",
       "    .dataframe thead th {\n",
       "        text-align: right;\n",
       "    }\n",
       "</style>\n",
       "<table border=\"1\" class=\"dataframe\">\n",
       "  <thead>\n",
       "    <tr style=\"text-align: right;\">\n",
       "      <th></th>\n",
       "      <th>grade_fact</th>\n",
       "      <th>nrow</th>\n",
       "      <th>sum_pp</th>\n",
       "      <th>(%)</th>\n",
       "    </tr>\n",
       "  </thead>\n",
       "  <tbody>\n",
       "    <tr>\n",
       "      <th>0</th>\n",
       "      <td>A</td>\n",
       "      <td>12762</td>\n",
       "      <td>60</td>\n",
       "      <td>0.470146</td>\n",
       "    </tr>\n",
       "    <tr>\n",
       "      <th>1</th>\n",
       "      <td>B</td>\n",
       "      <td>23513</td>\n",
       "      <td>563</td>\n",
       "      <td>2.394420</td>\n",
       "    </tr>\n",
       "    <tr>\n",
       "      <th>2</th>\n",
       "      <td>C</td>\n",
       "      <td>20883</td>\n",
       "      <td>2145</td>\n",
       "      <td>10.271513</td>\n",
       "    </tr>\n",
       "    <tr>\n",
       "      <th>3</th>\n",
       "      <td>D</td>\n",
       "      <td>13217</td>\n",
       "      <td>3154</td>\n",
       "      <td>23.863206</td>\n",
       "    </tr>\n",
       "    <tr>\n",
       "      <th>4</th>\n",
       "      <td>E</td>\n",
       "      <td>6573</td>\n",
       "      <td>2197</td>\n",
       "      <td>33.424616</td>\n",
       "    </tr>\n",
       "    <tr>\n",
       "      <th>5</th>\n",
       "      <td>F</td>\n",
       "      <td>2662</td>\n",
       "      <td>1274</td>\n",
       "      <td>47.858753</td>\n",
       "    </tr>\n",
       "    <tr>\n",
       "      <th>6</th>\n",
       "      <td>G</td>\n",
       "      <td>708</td>\n",
       "      <td>478</td>\n",
       "      <td>67.514124</td>\n",
       "    </tr>\n",
       "  </tbody>\n",
       "</table>\n",
       "</div>"
      ],
      "text/plain": [
       "  grade_fact   nrow  sum_pp        (%)\n",
       "0          A  12762      60   0.470146\n",
       "1          B  23513     563   2.394420\n",
       "2          C  20883    2145  10.271513\n",
       "3          D  13217    3154  23.863206\n",
       "4          E   6573    2197  33.424616\n",
       "5          F   2662    1274  47.858753\n",
       "6          G    708     478  67.514124"
      ]
     },
     "execution_count": 170,
     "metadata": {},
     "output_type": "execute_result"
    }
   ],
   "source": [
    "res['pp'] = res['p1'] > xgb_sel_thr\n",
    "tmp = res.group_by('grade_fact').sum('pp').count().get_frame()\n",
    "tmp['(%)'] = tmp['sum_pp'] /  tmp['nrow'] * 100.0\n",
    "tmp.as_data_frame()"
   ]
  },
  {
   "cell_type": "code",
   "execution_count": 171,
   "metadata": {},
   "outputs": [
    {
     "data": {
      "text/plain": [
       "6.649999999999995"
      ]
     },
     "execution_count": 171,
     "metadata": {},
     "output_type": "execute_result"
    }
   ],
   "source": [
    "tmp1 = calc_roi(res, xgb_sel_thr)\n",
    "tmp2 = calc_roi(res, 1.1)\n",
    "tmp1['PROFIT (in mln)'].sum() - tmp2['PROFIT (in mln)'].sum()"
   ]
  },
  {
   "cell_type": "code",
   "execution_count": 172,
   "metadata": {},
   "outputs": [
    {
     "data": {
      "image/png": "[encoded data removed]",
      "text/plain": [
       "<matplotlib.figure.Figure at 0x7f0cab0a6fd0>"
      ]
     },
     "metadata": {},
     "output_type": "display_data"
    }
   ],
   "source": [
    "xgb_model.varimp_plot(num_of_features=30)"
   ]
  }
 ],
 "metadata": {
  "kernelspec": {
   "display_name": "Python 3",
   "language": "python",
   "name": "python3"
  }
 },
 "nbformat": 4,
 "nbformat_minor": 2
}
