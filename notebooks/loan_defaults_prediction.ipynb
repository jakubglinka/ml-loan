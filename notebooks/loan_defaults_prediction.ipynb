{
 "cells": [
  {
   "cell_type": "markdown",
   "metadata": {},
   "source": [
    "# Loan defaults prediction using Sparkling Water"
   ]
  },
  {
   "cell_type": "markdown",
   "metadata": {},
   "source": [
    "## Outline:\n",
    "\n",
    "- Architecture\n",
    "    - environment set-up:\n",
    "        - `Pipenv`\n",
    "        - `Spark`\n",
    "        - `Jupyter`\n",
    "        - `H2O`\n",
    "    - how to run this notebook\n",
    "- Set-up datasets using local spark warehouse\n",
    "- `Spark:` Initial data exploration\n",
    "    - target variable distribution\n",
    "    - first hypotheses\n",
    "    - data pre-processing\n",
    "    - heavy feature engineering (leveraging Spark)\n",
    "        - averages using window functions\n",
    "        - removing non-significant keywords\n",
    "    - data cleaning (simple operations that can be done in Spark)\n",
    "- `H2O:`\n",
    "    - variable encoding\n",
    "    - outlier detection\n",
    "    - leveraging `scikit-learn` for small scale pre-processing\n",
    "    - set-up baseline model\n",
    "        - mean model\n",
    "    - develop more complex models (tracking performance with baseline to find the value of development)\n",
    "- Summary\n",
    "    - use AWS EC2 for reproducible and scalable model building\n",
    "        - we might at some point try to use a cluster of machines for that\n",
    "    - export **user settings** for the notebook\n",
    "    - **create functions** from code that will be reused more than once\n",
    "    - two stage models do not really work! (unless first level is very, very accurate)\n",
    "    - Always use simpler model from the very beginning that will open the road to smart feature engineering\n",
    "        - average rev per campaign\n",
    "        - avreage rev per account etcc\n",
    "    - All in all sampling and weighting can make a process much faste\n",
    "    - Balancing is a good idea but not in two step models (too much to be done in the end)\n",
    "    - Workflow with Sparkling water is very robust and enables to leverage a lot of Python libraries (scikit-learn, scipy)\n",
    "    - deep learning is not super fast (even on fast machine) so for big datasets like this one would probably still use XGboost\n",
    "\n",
    "\n"
   ]
  },
  {
   "cell_type": "markdown",
   "metadata": {},
   "source": [
    "## How to run this notebook on Amazon EC2 cluster:\n",
    "\n",
    " - clone the repo\n",
    " - run installation script\n",
    " - start jupyter notebook server\n",
    " - load the notebook\n",
    " - export Python envir for Spark\n",
    " - export AWS credentials for S3 bucket"
   ]
  },
  {
   "cell_type": "markdown",
   "metadata": {},
   "source": [
    "## Architecture details:"
   ]
  },
  {
   "cell_type": "markdown",
   "metadata": {},
   "source": [
    "![alt text](https://i0.wp.com/blog.h2o.ai/wp-content/uploads/2017/04/hdi-image5.jpg?resize=700%2C394)"
   ]
  },
  {
   "cell_type": "markdown",
   "metadata": {},
   "source": [
    "Note: also using `scikit-learn` utilities are much easier with H2O Data Frame than with pySpark (due to the unordered character of Spark DataFrame)"
   ]
  },
  {
   "cell_type": "markdown",
   "metadata": {
    "scrolled": false
   },
   "source": [
    "As a master node I'm using AWS `t2.x2large` instance with following specs:"
   ]
  },
  {
   "cell_type": "code",
   "execution_count": 1,
   "metadata": {
    "scrolled": false
   },
   "outputs": [
    {
     "name": "stdout",
     "output_type": "stream",
     "text": [
      "H/W path    Device  Class      Description\n",
      "==========================================\n",
      "                    system     HVM domU\n",
      "/0                  bus        Motherboard\n",
      "/0/0                memory     96KiB BIOS\n",
      "/0/401              processor  Intel(R) Xeon(R) CPU E5-2676 v3 @ 2.40GHz\n",
      "/0/402              processor  CPU\n",
      "/0/403              processor  CPU\n",
      "/0/404              processor  CPU\n",
      "/0/405              processor  CPU\n",
      "/0/406              processor  CPU\n",
      "/0/407              processor  CPU\n",
      "/0/408              processor  CPU\n",
      "/0/1000             memory     32GiB System Memory\n",
      "/0/1000/0           memory     16GiB DIMM RAM\n",
      "/0/1000/1           memory     16GiB DIMM RAM\n",
      "/0/100              bridge     440FX - 82441FX PMC [Natoma]\n",
      "/0/100/1            bridge     82371SB PIIX3 ISA [Natoma/Triton II]\n",
      "/0/100/1.1          storage    82371SB PIIX3 IDE [Natoma/Triton II]\n",
      "/0/100/1.3          bridge     82371AB/EB/MB PIIX4 ACPI\n",
      "/0/100/2            display    GD 5446\n",
      "/0/100/3            generic    Xen Platform Device\n",
      "/1          eth0    network    Ethernet interface\n"
     ]
    }
   ],
   "source": [
    "!sudo lshw -short"
   ]
  },
  {
   "cell_type": "markdown",
   "metadata": {},
   "source": [
    "## Task description:"
   ]
  },
  {
   "cell_type": "markdown",
   "metadata": {},
   "source": [
    "#### Advertiser programatic bidding:\n",
    "\n",
    " - The advertiser can set a price for each keyword/match type combination. \n",
    " - She can even refine her price setting by taking the device (computer, mobile, ...) into account. \n",
    " - She is furthermore free to update the prices whenever she wants. \n",
    "\n",
    "The set price mainly determines if her advertisement is shown to the user instead of a competitor’s one. Although the price decides on if the advertisement is shown, the advertiser only has to pay if the user clicks on the advertisement. A click redirects the user to the advertiser’s website offering him products that match what she was searching for. All the money the particular user spends in the next days on the advertiser’s website is attributed to the click, i.e. it is assumed that all the revenue the user generated with her conversions (=bookings, orders) after clicking on the advertisement was triggered by the advertisement.\n",
    "\n",
    "#### Keyword taxonomy:\n",
    "\n",
    "An online platform such as GetYourGuide provides easily thousands of products. Each product can have several relevant keywords such that the number of managed keywords is immense. Therefore, a hierarchy helps to categorize keywords:\n",
    "\n",
    " - **Keywords** belonging to the same product **are collected in an ad group**. \n",
    " - Several ad groups can contain the same keyword, the combination of keyword and ad group is then again unique. \n",
    " - **Ad groups** with a similar scope are bundled **in a campaign**. \n",
    " - **Campaigns** for a common target audience are collected **in the same account**.\n",
    "\n",
    "#### The question:\n",
    "\n",
    "A crucial question to answer when pricing the keywords is how much revenue one can expect from a click. In other words, what is the expected Revenue per Click (RPC). Answering this question is your task in this test."
   ]
  },
  {
   "cell_type": "markdown",
   "metadata": {},
   "source": [
    "#### Evaluation metrics:\n",
    "\n",
    "Click weighted squared distance:"
   ]
  },
  {
   "cell_type": "markdown",
   "metadata": {},
   "source": [
    "$$ cost = \\frac{1}{C} \\sum_{i=1}^{N} \\left[ c_n(r_n - \\hat{r_n})^2 \\right] $$"
   ]
  },
  {
   "cell_type": "markdown",
   "metadata": {},
   "source": [
    "This means that we can drop all rows from dataset where number of click was zero..."
   ]
  },
  {
   "cell_type": "markdown",
   "metadata": {},
   "source": [
    "-----"
   ]
  },
  {
   "cell_type": "markdown",
   "metadata": {},
   "source": [
    "### Model training assumptions\n",
    " \n",
    "- for now fit the models within channels from single periodicity tables\n",
    "- we might have models fit depending on coverage for other categories\n",
    "- no weighting/resmpling of outlets (we assume that within segments store pool is representative)\n",
    "- we tune regularisation parameters using k-fold cross validation\n",
    "- static model with time effects for some variables (also tested whether it improves model)\n",
    "- automatic detection of the features to be sumplemented with time dependency\n",
    "- we filter the data so it cover 95% of sales from items that we have seen product lifecycle from their very begining\n",
    "- we create table with launch dates within segments (to be replaced by separate Spark Job)\n",
    "- products doesn't have to end their plc, we will use normalized plc to discount achieved level of weighted distribution\n",
    "- create table with estimated product distribution\n",
    "- 2010 - 2017 (8 years)\n",
    "- create table with imputed prices (linear imputation)\n",
    "- no test if fit is close to cross-validation results\n",
    "- for now all items (we can aggregate long-tails later)\n",
    "- h2o model with Poisson multinomial trick as a benchmark for Michael pyTorch implementation"
   ]
  },
  {
   "cell_type": "markdown",
   "metadata": {},
   "source": [
    "## User specified parameters\n",
    "\n",
    "- `usr_fact_table: String` - name of the table with facts\n",
    "- `usr_item_keys: Array[String]` - name of the variables identifying stock-keeping unit (SKU)\n",
    "- `usr_item_table: String` - name of the table with imputed product features\n",
    "- `usr_launch_buffer: Int` - number of days that has to elapse since the begining of data to call first sales a launch"
   ]
  },
  {
   "cell_type": "code",
   "execution_count": 2,
   "metadata": {
    "scrolled": false
   },
   "outputs": [],
   "source": [
    "usr_s3_data_path = 's3n://jakubs-bucket/club_loan/loan.csv'\n",
    "usr_min_recall = .90\n",
    "usr_min_error = .05"
   ]
  },
  {
   "cell_type": "markdown",
   "metadata": {},
   "source": [
    "## Setting data access\n",
    "\n",
    " - Loan csv file was loaded into the Amazon Simple Storage Service (S3) serving as a primary source of data and back-up\n",
    " - to speed up process of loading data into Spark DataFrame we loaded the data into local metastore"
   ]
  },
  {
   "cell_type": "raw",
   "metadata": {},
   "source": [
    "# move tables from s3 to local sql warehouse\n",
    "# spark.read.csv(\"s3n://jakubs-bucket/\", header=True, inferSchema=True)\n",
    "sdf_loan = spark.read.csv(usr_s3_data_path, header=True, inferSchema=True)\n",
    "sdf_loan.persist()\n",
    "print('Read {} cases from {}.'.format(sdf_loan.count(), usr_s3_data_path))"
   ]
  },
  {
   "cell_type": "raw",
   "metadata": {},
   "source": [
    "# spark.sql('create database loan')\n",
    "spark.sql('drop table if exists loan.data')\n",
    "sdf_loan.write.saveAsTable('loan.data')"
   ]
  },
  {
   "cell_type": "code",
   "execution_count": 3,
   "metadata": {
    "scrolled": true
   },
   "outputs": [
    {
     "name": "stdout",
     "output_type": "stream",
     "text": [
      "\u001b[01;34m/home/ubuntu/spark-warehouse/\u001b[00m\r\n",
      "└── \u001b[01;34mloan.db\u001b[00m\r\n",
      "    └── \u001b[01;34mdata\u001b[00m\r\n",
      "        ├── part-00000-7d6d0974-d6d2-448a-b2fc-5f9c5ed96e66-c000.snappy.parquet\r\n",
      "        ├── part-00001-7d6d0974-d6d2-448a-b2fc-5f9c5ed96e66-c000.snappy.parquet\r\n",
      "        ├── part-00002-7d6d0974-d6d2-448a-b2fc-5f9c5ed96e66-c000.snappy.parquet\r\n",
      "        ├── part-00003-7d6d0974-d6d2-448a-b2fc-5f9c5ed96e66-c000.snappy.parquet\r\n",
      "        ├── part-00004-7d6d0974-d6d2-448a-b2fc-5f9c5ed96e66-c000.snappy.parquet\r\n",
      "        ├── part-00005-7d6d0974-d6d2-448a-b2fc-5f9c5ed96e66-c000.snappy.parquet\r\n",
      "        ├── part-00006-7d6d0974-d6d2-448a-b2fc-5f9c5ed96e66-c000.snappy.parquet\r\n",
      "        ├── part-00007-7d6d0974-d6d2-448a-b2fc-5f9c5ed96e66-c000.snappy.parquet\r\n",
      "        └── _SUCCESS\r\n",
      "\r\n",
      "2 directories, 9 files\r\n"
     ]
    }
   ],
   "source": [
    "!tree /home/ubuntu/spark-warehouse/"
   ]
  },
  {
   "cell_type": "markdown",
   "metadata": {},
   "source": [
    "## Data cleaning and feature engineering"
   ]
  },
  {
   "cell_type": "code",
   "execution_count": 4,
   "metadata": {},
   "outputs": [
    {
     "data": {
      "text/plain": [
       "887379"
      ]
     },
     "execution_count": 4,
     "metadata": {},
     "output_type": "execute_result"
    }
   ],
   "source": [
    "from pyspark.sql.functions import udf, sum, col, when\n",
    "from pyspark.sql.types import StringType\n",
    "from loan_utils import *\n",
    "\n",
    "sdf_loan = spark \\\n",
    "    .sql('select * from loan.data') \\\n",
    "    .persist()\n",
    "    \n",
    "sdf_loan.count()"
   ]
  },
  {
   "cell_type": "markdown",
   "metadata": {},
   "source": [
    "### Target variable (Loan status) preparation"
   ]
  },
  {
   "cell_type": "code",
   "execution_count": 5,
   "metadata": {},
   "outputs": [
    {
     "data": {
      "text/plain": [
       "<matplotlib.axes._subplots.AxesSubplot at 0x7f0c71875550>"
      ]
     },
     "execution_count": 5,
     "metadata": {},
     "output_type": "execute_result"
    }
   ],
   "source": [
    "tmp = sdf_loan.select('loan_status').groupBy('loan_status').count().orderBy('count').toPandas()\n",
    "tmp = tmp.set_index('loan_status')\n",
    "tmp.plot.barh()"
   ]
  },
  {
   "cell_type": "code",
   "execution_count": 6,
   "metadata": {},
   "outputs": [
    {
     "name": "stdout",
     "output_type": "stream",
     "text": [
      "Filtering and casting loan_status: removed 8461 (0.953%) cases due to the missing info \n",
      "Filtering and casting loan_default: removed 0 (0.000%) cases due to the missing info \n"
     ]
    }
   ],
   "source": [
    "loan_status_dict = {}\n",
    "loan_status_dict['Does not meet the credit policy. Status:Charged Off'] = 'Default'\n",
    "loan_status_dict['Default'] = 'Default'\n",
    "loan_status_dict['Does not meet the credit policy. Status:Fully Paid'] = 'Fully Paid'\n",
    "loan_status_dict['Late (16-30 days)'] = 'Current'\n",
    "loan_status_dict['In Grace Period'] = 'Current'\n",
    "loan_status_dict['Late (31-120 days)'] = 'Default'\n",
    "loan_status_dict['Charged Off'] = 'Default'\n",
    "loan_status_dict['Fully Paid'] = 'Fully Paid'\n",
    "loan_status_dict['Current'] = 'Current'\n",
    "loan_status_dict['Issued'] = None\n",
    "loan_status_dict['Oct-2015'] = None\n",
    "\n",
    "sdf_loan_clean = sdf_loan \\\n",
    "        .withColumn('loan_status', udf_recode_string(loan_status_dict)(col('loan_status'))) \\\n",
    "        .withColumn('loan_default', (col('loan_status') == 'Default').cast('int')) \\\n",
    "\n",
    "# remove observations with unclear data\n",
    "sdf_loan_clean = filter_and_cast('loan_status', 'string', sdf_loan_clean)\n",
    "sdf_loan_clean = filter_and_cast('loan_default', 'int', sdf_loan_clean)"
   ]
  },
  {
   "cell_type": "code",
   "execution_count": 7,
   "metadata": {
    "scrolled": false
   },
   "outputs": [
    {
     "data": {
      "text/plain": [
       "<matplotlib.axes._subplots.AxesSubplot at 0x7f0c6cd1ca90>"
      ]
     },
     "execution_count": 7,
     "metadata": {},
     "output_type": "execute_result"
    },
    {
     "data": {
      "image/png": "[encoded data removed]",
      "text/plain": [
       "<matplotlib.figure.Figure at 0x7f0c6cd1c320>"
      ]
     },
     "metadata": {},
     "output_type": "display_data"
    }
   ],
   "source": [
    "tmp = sdf_loan_clean.select('loan_status').groupBy('loan_status').count().orderBy('count').toPandas()\n",
    "tmp = tmp.set_index('loan_status')\n",
    "tmp.plot.barh()"
   ]
  },
  {
   "cell_type": "markdown",
   "metadata": {},
   "source": [
    "### Loan variables preparation (here just summary of actions done)\n",
    "\n",
    "- cast numeric variables to float\n",
    "- filter cases with missing values\n",
    "- cast variables to numeric\n",
    "- cast date variables to datetime format\n",
    "- extract year and month from issue_d (not to be used in models though, see notes below)\n",
    "- `total_exp_pymnt` amount expected to be paid off\n",
    "- percentage of debt paid (to calculate ROI)"
   ]
  },
  {
   "cell_type": "code",
   "execution_count": 8,
   "metadata": {},
   "outputs": [],
   "source": [
    "from pyspark.sql.functions import unix_timestamp, from_unixtime, max, lit, datediff, add_months\n",
    "from pyspark.sql import Window\n",
    "\n",
    "w_all = Window.rowsBetween(Window.unboundedPreceding, Window.unboundedFollowing)"
   ]
  },
  {
   "cell_type": "code",
   "execution_count": 9,
   "metadata": {},
   "outputs": [
    {
     "data": {
      "text/html": [
       "<div>\n",
       "<style scoped>\n",
       "    .dataframe tbody tr th:only-of-type {\n",
       "        vertical-align: middle;\n",
       "    }\n",
       "\n",
       "    .dataframe tbody tr th {\n",
       "        vertical-align: top;\n",
       "    }\n",
       "\n",
       "    .dataframe thead th {\n",
       "        text-align: right;\n",
       "    }\n",
       "</style>\n",
       "<table border=\"1\" class=\"dataframe\">\n",
       "  <thead>\n",
       "    <tr style=\"text-align: right;\">\n",
       "      <th></th>\n",
       "      <th>grade</th>\n",
       "      <th>sub_grade</th>\n",
       "      <th>count</th>\n",
       "    </tr>\n",
       "  </thead>\n",
       "  <tbody>\n",
       "    <tr>\n",
       "      <th>0</th>\n",
       "      <td>B</td>\n",
       "      <td>B3</td>\n",
       "      <td>55777</td>\n",
       "    </tr>\n",
       "    <tr>\n",
       "      <th>1</th>\n",
       "      <td>B</td>\n",
       "      <td>B4</td>\n",
       "      <td>55094</td>\n",
       "    </tr>\n",
       "    <tr>\n",
       "      <th>2</th>\n",
       "      <td>C</td>\n",
       "      <td>C1</td>\n",
       "      <td>52799</td>\n",
       "    </tr>\n",
       "    <tr>\n",
       "      <th>3</th>\n",
       "      <td>C</td>\n",
       "      <td>C2</td>\n",
       "      <td>51724</td>\n",
       "    </tr>\n",
       "    <tr>\n",
       "      <th>4</th>\n",
       "      <td>C</td>\n",
       "      <td>C3</td>\n",
       "      <td>49680</td>\n",
       "    </tr>\n",
       "  </tbody>\n",
       "</table>\n",
       "</div>"
      ],
      "text/plain": [
       "  grade sub_grade  count\n",
       "0     B        B3  55777\n",
       "1     B        B4  55094\n",
       "2     C        C1  52799\n",
       "3     C        C2  51724\n",
       "4     C        C3  49680"
      ]
     },
     "execution_count": 9,
     "metadata": {},
     "output_type": "execute_result"
    }
   ],
   "source": [
    "sdf_loan_clean.groupBy('grade', 'sub_grade').count().orderBy(col('count').desc()).toPandas().head()"
   ]
  },
  {
   "cell_type": "code",
   "execution_count": 10,
   "metadata": {},
   "outputs": [
    {
     "name": "stdout",
     "output_type": "stream",
     "text": [
      "Filtering and casting total_pymnt: removed 68 (0.008%) cases due to the missing info \n",
      "Filtering and casting total_rec_prncp: removed 24 (0.003%) cases due to the missing info \n",
      "Filtering and casting out_prncp: removed 76 (0.009%) cases due to the missing info \n",
      "Filtering and casting grade: removed 0 (0.000%) cases due to the missing info \n",
      "Filtering and casting sub_grade: removed 0 (0.000%) cases due to the missing info \n"
     ]
    }
   ],
   "source": [
    "# variables describing loan itself\n",
    "from pyspark.sql.functions import unix_timestamp, year, month, from_unixtime\n",
    "\n",
    "var_descr_loan = ['issue_d', \n",
    "            'issue_d_year',\n",
    "            'issue_d_month',\n",
    "            'loan_amnt',\n",
    "            'total_amnt_due',\n",
    "            'int_rate',\n",
    "            'installment',\n",
    "            'term', \n",
    "            'term_n',\n",
    "            'total_pymnt',\n",
    "            'total_rec_prncp',\n",
    "            'total_rec_prncp_perc',\n",
    "            'out_prncp',\n",
    "            'time_covered_prc'\n",
    "                 ]\n",
    "\n",
    "# filter null values and cast to appropriate types\n",
    "sdf_loan_clean = filter_and_cast('total_pymnt', 'double', sdf_loan_clean)\n",
    "sdf_loan_clean = filter_and_cast('total_rec_prncp', 'double', sdf_loan_clean)\n",
    "sdf_loan_clean = filter_and_cast('out_prncp', 'double', sdf_loan_clean)\n",
    "\n",
    "# create Spark dateteime object from issue_d\n",
    "sdf_loan_clean = sdf_loan_clean \\\n",
    "        .withColumn('issue_d_ts', from_unixtime(unix_timestamp(col('issue_d'), format='MMM-yyyy'))) \\\n",
    "        .withColumn('issue_d_year', year(col('issue_d_ts'))) \\\n",
    "        .withColumn('issue_d_month', month(col('issue_d_ts')))\n",
    "        \n",
    "# create number of installments\n",
    "sdf_loan_clean = sdf_loan_clean \\\n",
    "        .withColumn('term_n', when(col('term') == ' 36 months', lit(36.0)).otherwise(60))\n",
    "\n",
    "# create total ammount due\n",
    "sdf_loan_clean = sdf_loan_clean \\\n",
    "        .withColumn('total_amnt_due', col('term_n') * col('installment'))\n",
    "\n",
    "# create percentage of the timeline covered by the data\n",
    "max_issue_d = sdf_loan_clean.select('issue_d_ts').agg(max(col('issue_d_ts')).alias('m')).collect()\n",
    "max_issue_d = max_issue_d[0]['m']\n",
    "\n",
    "sdf_loan_clean = sdf_loan_clean \\\n",
    "    .withColumn('issue_d_ts_max', lit(max_issue_d)) \\\n",
    "    .withColumn('time_covered', datediff(col('issue_d_ts_max'), col('issue_d_ts'))) \\\n",
    "    .withColumn('time_to_payoff', col('term_n') * 30) \\\n",
    "    .withColumn('time_covered_prc', when(col('time_covered') / col('time_to_payoff') < 1.0,\n",
    "                                        col('time_covered') / col('time_to_payoff')).otherwise(1.0)) \\\n",
    "\n",
    "# create percentage of debt paid\n",
    "sdf_loan_clean = sdf_loan_clean \\\n",
    "        .withColumn('total_rec_prncp_perc', col('total_rec_prncp') / col('loan_amnt'))\n",
    "    \n",
    "    \n",
    "# grade and subgrade\n",
    "sdf_loan_clean = filter_and_cast('grade', 'string', sdf_loan_clean)\n",
    "sdf_loan_clean = filter_and_cast('sub_grade', 'string', sdf_loan_clean)"
   ]
  },
  {
   "cell_type": "markdown",
   "metadata": {},
   "source": [
    "#### Quality checks"
   ]
  },
  {
   "cell_type": "code",
   "execution_count": 11,
   "metadata": {
    "scrolled": false
   },
   "outputs": [
    {
     "name": "stdout",
     "output_type": "stream",
     "text": [
      "root\n",
      " |-- issue_d: string (nullable = true)\n",
      " |-- issue_d_year: integer (nullable = true)\n",
      " |-- issue_d_month: integer (nullable = true)\n",
      " |-- loan_amnt: double (nullable = true)\n",
      " |-- total_amnt_due: double (nullable = true)\n",
      " |-- int_rate: double (nullable = true)\n",
      " |-- installment: double (nullable = true)\n",
      " |-- term: string (nullable = true)\n",
      " |-- term_n: double (nullable = false)\n",
      " |-- total_pymnt: double (nullable = true)\n",
      " |-- total_rec_prncp: double (nullable = true)\n",
      " |-- total_rec_prncp_perc: double (nullable = true)\n",
      " |-- out_prncp: double (nullable = true)\n",
      " |-- time_covered_prc: double (nullable = true)\n",
      "\n"
     ]
    },
    {
     "data": {
      "text/html": [
       "<div>\n",
       "<style scoped>\n",
       "    .dataframe tbody tr th:only-of-type {\n",
       "        vertical-align: middle;\n",
       "    }\n",
       "\n",
       "    .dataframe tbody tr th {\n",
       "        vertical-align: top;\n",
       "    }\n",
       "\n",
       "    .dataframe thead th {\n",
       "        text-align: right;\n",
       "    }\n",
       "</style>\n",
       "<table border=\"1\" class=\"dataframe\">\n",
       "  <thead>\n",
       "    <tr style=\"text-align: right;\">\n",
       "      <th></th>\n",
       "      <th>issue_d</th>\n",
       "      <th>issue_d_year</th>\n",
       "      <th>issue_d_month</th>\n",
       "      <th>loan_amnt</th>\n",
       "      <th>total_amnt_due</th>\n",
       "      <th>int_rate</th>\n",
       "      <th>installment</th>\n",
       "      <th>term</th>\n",
       "      <th>term_n</th>\n",
       "      <th>total_pymnt</th>\n",
       "      <th>total_rec_prncp</th>\n",
       "      <th>total_rec_prncp_perc</th>\n",
       "      <th>out_prncp</th>\n",
       "      <th>time_covered_prc</th>\n",
       "    </tr>\n",
       "  </thead>\n",
       "  <tbody>\n",
       "    <tr>\n",
       "      <th>0</th>\n",
       "      <td>0</td>\n",
       "      <td>0</td>\n",
       "      <td>0</td>\n",
       "      <td>0</td>\n",
       "      <td>0</td>\n",
       "      <td>0</td>\n",
       "      <td>0</td>\n",
       "      <td>0</td>\n",
       "      <td>0</td>\n",
       "      <td>0</td>\n",
       "      <td>0</td>\n",
       "      <td>0</td>\n",
       "      <td>0</td>\n",
       "      <td>0</td>\n",
       "    </tr>\n",
       "  </tbody>\n",
       "</table>\n",
       "</div>"
      ],
      "text/plain": [
       "   issue_d  issue_d_year  issue_d_month  loan_amnt  total_amnt_due  int_rate  \\\n",
       "0        0             0              0          0               0         0   \n",
       "\n",
       "   installment  term  term_n  total_pymnt  total_rec_prncp  \\\n",
       "0            0     0       0            0                0   \n",
       "\n",
       "   total_rec_prncp_perc  out_prncp  time_covered_prc  \n",
       "0                     0          0                 0  "
      ]
     },
     "execution_count": 11,
     "metadata": {},
     "output_type": "execute_result"
    }
   ],
   "source": [
    "tmp = sdf_loan_clean.select(*var_descr_loan)\n",
    "\n",
    "# check types and amount of missings\n",
    "tmp.printSchema()\n",
    "count_null_values(tmp)"
   ]
  },
  {
   "cell_type": "code",
   "execution_count": 12,
   "metadata": {},
   "outputs": [
    {
     "data": {
      "text/plain": [
       "878750"
      ]
     },
     "execution_count": 12,
     "metadata": {},
     "output_type": "execute_result"
    }
   ],
   "source": [
    "sdf_loan_clean.persist()\n",
    "sdf_loan_clean.count()"
   ]
  },
  {
   "cell_type": "code",
   "execution_count": 13,
   "metadata": {},
   "outputs": [
    {
     "data": {
      "image/png": "[encoded data removed]",
      "text/plain": [
       "<matplotlib.figure.Figure at 0x7f0c6cc770b8>"
      ]
     },
     "metadata": {},
     "output_type": "display_data"
    }
   ],
   "source": [
    "tmp = sdf_loan_clean \\\n",
    "    .select('loan_status', 'time_covered_prc') \\\n",
    "    .toPandas()\n",
    "\n",
    "p = tmp.groupby('loan_status').boxplot(figsize=(16, 5), layout=(1, 3))    "
   ]
  },
  {
   "cell_type": "raw",
   "metadata": {},
   "source": [
    "# create scatter of numerical variables (with a colour according to the class)\n",
    "import pandas as pd\n",
    "import matplotlib.pyplot as plt\n",
    "%matplotlib inline\n",
    "\n",
    "pdf = sdf_loan_clean \\\n",
    "    .select('installment', 'int_rate', 'loan_amnt', 'total_pymnt', 'total_rec_prncp', 'total_rec_prncp_perc',\n",
    "            'out_prncp', 'loan_default') \\\n",
    "    .sample(fraction=.01, withReplacement=False, seed=2014) \\\n",
    "    .toPandas()\n",
    "    \n",
    "p = pd.plotting.scatter_matrix(pdf.iloc[:, 0:-1], figsize=(11, 8), marker='o',\n",
    "                        hist_kwds={'bins': 20}, s=60, alpha=.8, c=pdf['loan_default'])"
   ]
  },
  {
   "cell_type": "raw",
   "metadata": {},
   "source": [
    "pdf.corr()"
   ]
  },
  {
   "cell_type": "raw",
   "metadata": {},
   "source": [
    "# TODO: general pandas function that calculates t-test or chisq test depending on variable\n",
    "# TODO: pre-selection of variables for every group based on that and inter-correlations\n",
    "\n",
    "rom scipy.stats import ttest_ind\n",
    "\n",
    "cat1 = my_data[my_data['Category']=='cat1']\n",
    "cat2 = my_data[my_data['Category']=='cat2']\n",
    "\n",
    "ttest_ind(cat1['values'], cat2['values'])\n",
    ">>> (1.4927289925706944, 0.16970867501294376)"
   ]
  },
  {
   "cell_type": "markdown",
   "metadata": {},
   "source": [
    "### Loan description variables\n",
    " - title\n",
    " - user comments"
   ]
  },
  {
   "cell_type": "code",
   "execution_count": 14,
   "metadata": {
    "scrolled": true
   },
   "outputs": [
    {
     "data": {
      "text/plain": [
       "<matplotlib.axes._subplots.AxesSubplot at 0x7f0c62702e48>"
      ]
     },
     "execution_count": 14,
     "metadata": {},
     "output_type": "execute_result"
    },
    {
     "data": {
      "image/png": "[encoded data removed]",
      "text/plain": [
       "<matplotlib.figure.Figure at 0x7f0c6c5accc0>"
      ]
     },
     "metadata": {},
     "output_type": "display_data"
    }
   ],
   "source": [
    "# frequency analysis of 'purpose'\n",
    "import numpy as np\n",
    "\n",
    "tmp = sdf_loan_clean.groupBy('purpose').count().orderBy(col('count').desc()).toPandas()\n",
    "tmp['count (%)'] = tmp['count'] / tmp['count'].sum() * 100\n",
    "tmp['count (cum %)'] = np.cumsum(tmp['count (%)'])\n",
    "tmp = tmp.loc[tmp['count'] > 1, ].set_index('purpose')\n",
    "tmp[['count (%)']].sort_values('count (%)', ascending=True).plot.barh()"
   ]
  },
  {
   "cell_type": "code",
   "execution_count": 15,
   "metadata": {},
   "outputs": [
    {
     "name": "stdout",
     "output_type": "stream",
     "text": [
      "Filtering and casting purpose: removed 86 (0.010%) cases due to the missing info \n"
     ]
    }
   ],
   "source": [
    "# keep only texts with count > 1\n",
    "loan_purpose_dict = {}\n",
    "for lev in tmp.index.values:\n",
    "    loan_purpose_dict[lev] = lev\n",
    "\n",
    "sdf_loan_clean = sdf_loan_clean \\\n",
    "        .withColumn('purpose', udf_recode_string(loan_purpose_dict)(col('purpose')))\n",
    "sdf_loan_clean = filter_and_cast('purpose', 'string', sdf_loan_clean)"
   ]
  },
  {
   "cell_type": "markdown",
   "metadata": {},
   "source": [
    "### Generate key-words and 2-grams for title field\n",
    "\n",
    "https://en.wikipedia.org/wiki/N-gram"
   ]
  },
  {
   "cell_type": "code",
   "execution_count": 16,
   "metadata": {},
   "outputs": [
    {
     "name": "stdout",
     "output_type": "stream",
     "text": [
      "Filtering and casting title: removed 34 (0.004%) cases due to the missing info \n"
     ]
    }
   ],
   "source": [
    "from pyspark.ml.feature import Tokenizer, StopWordsRemover, NGram, CountVectorizer, VectorAssembler\n",
    "\n",
    "# remove records with null title value\n",
    "sdf_loan_clean = filter_and_cast('title', 'string', sdf_loan_clean)\n",
    "\n",
    "# split tile into words\n",
    "tmp_tokenizer = Tokenizer(inputCol=\"title\", outputCol=\"title_tokens\")\n",
    "sdf_loan_clean = tmp_tokenizer.transform(sdf_loan_clean)\n",
    "\n",
    "# remove English stop words\n",
    "tmp_remover = StopWordsRemover(inputCol=\"title_tokens\",\n",
    "                               outputCol=\"title_words\",\n",
    "                               stopWords=StopWordsRemover.loadDefaultStopWords('english'))\n",
    "sdf_loan_clean = tmp_remover.transform(sdf_loan_clean)\n",
    "\n",
    "# create n-grams\n",
    "tmp_ngram = NGram(n=2, inputCol=\"title_words\", outputCol=\"title_ngrams\")\n",
    "sdf_loan_clean = tmp_ngram.transform(sdf_loan_clean)\n",
    "\n"
   ]
  },
  {
   "cell_type": "code",
   "execution_count": 17,
   "metadata": {},
   "outputs": [],
   "source": [
    "sdf_loan_clean = sdf_loan_clean.drop('title_words_vec')\n",
    "sdf_loan_clean = sdf_loan_clean.drop('title_ngrams_vec')"
   ]
  },
  {
   "cell_type": "code",
   "execution_count": 18,
   "metadata": {},
   "outputs": [
    {
     "data": {
      "text/plain": [
       "878630"
      ]
     },
     "execution_count": 18,
     "metadata": {},
     "output_type": "execute_result"
    }
   ],
   "source": [
    "# create binary representation\n",
    "cv = CountVectorizer(inputCol=\"title_words\", \n",
    "                     outputCol=\"title_words_vec\", \n",
    "                     binary=True,\n",
    "                     minDF=.001)\n",
    "\n",
    "cv_fit = cv.fit(sdf_loan_clean)\n",
    "\n",
    "sdf_loan_clean = cv_fit.transform(sdf_loan_clean).persist()\n",
    "sdf_loan_clean.count()"
   ]
  },
  {
   "cell_type": "code",
   "execution_count": 19,
   "metadata": {},
   "outputs": [
    {
     "data": {
      "text/plain": [
       "878630"
      ]
     },
     "execution_count": 19,
     "metadata": {},
     "output_type": "execute_result"
    }
   ],
   "source": [
    "# create binary representation\n",
    "cv_ng = CountVectorizer(inputCol=\"title_ngrams\", \n",
    "                     outputCol=\"title_ngrams_vec\", \n",
    "                     binary=True,\n",
    "                     minDF=.0001)\n",
    "\n",
    "cv_ng_fit = cv_ng.fit(sdf_loan_clean)\n",
    "\n",
    "sdf_loan_clean = cv_ng_fit.transform(sdf_loan_clean).persist()\n",
    "sdf_loan_clean.count()"
   ]
  },
  {
   "cell_type": "code",
   "execution_count": 20,
   "metadata": {
    "scrolled": false
   },
   "outputs": [
    {
     "data": {
      "text/plain": [
       "['debt',\n",
       " 'credit',\n",
       " 'card',\n",
       " 'refinancing',\n",
       " 'home',\n",
       " 'improvement',\n",
       " 'loan',\n",
       " 'purchase',\n",
       " 'major']"
      ]
     },
     "execution_count": 20,
     "metadata": {},
     "output_type": "execute_result"
    }
   ],
   "source": [
    "cv_fit.vocabulary[1:10]"
   ]
  },
  {
   "cell_type": "code",
   "execution_count": 21,
   "metadata": {},
   "outputs": [
    {
     "data": {
      "text/plain": [
       "['credit card',\n",
       " 'card refinancing',\n",
       " 'home improvement',\n",
       " 'major purchase',\n",
       " 'consolidation loan',\n",
       " 'medical expenses',\n",
       " 'car financing',\n",
       " 'credit cards',\n",
       " 'card consolidation']"
      ]
     },
     "execution_count": 21,
     "metadata": {},
     "output_type": "execute_result"
    }
   ],
   "source": [
    "cv_ng_fit.vocabulary[1:10]"
   ]
  },
  {
   "cell_type": "code",
   "execution_count": 22,
   "metadata": {},
   "outputs": [
    {
     "name": "stdout",
     "output_type": "stream",
     "text": [
      "+----------------------------+---------------------+\n",
      "|title_words_vec             |title_ngrams_vec     |\n",
      "+----------------------------+---------------------+\n",
      "|(50,[],[])                  |(183,[],[])          |\n",
      "|(50,[],[])                  |(183,[],[])          |\n",
      "|(50,[10],[1.0])             |(183,[],[])          |\n",
      "|(50,[],[])                  |(183,[],[])          |\n",
      "|(50,[16],[1.0])             |(183,[],[])          |\n",
      "|(50,[7,12,28],[1.0,1.0,1.0])|(183,[35],[1.0])     |\n",
      "|(50,[7],[1.0])              |(183,[],[])          |\n",
      "|(50,[15],[1.0])             |(183,[],[])          |\n",
      "|(50,[1,10,47],[1.0,1.0,1.0])|(183,[],[])          |\n",
      "|(50,[2],[1.0])              |(183,[],[])          |\n",
      "|(50,[0,37],[1.0,1.0])       |(183,[],[])          |\n",
      "|(50,[0],[1.0])              |(183,[],[])          |\n",
      "|(50,[26],[1.0])             |(183,[],[])          |\n",
      "|(50,[],[])                  |(183,[],[])          |\n",
      "|(50,[7],[1.0])              |(183,[],[])          |\n",
      "|(50,[0,1,7],[1.0,1.0,1.0])  |(183,[0,5],[1.0,1.0])|\n",
      "|(50,[5],[1.0])              |(183,[],[])          |\n",
      "|(50,[],[])                  |(183,[],[])          |\n",
      "|(50,[13],[1.0])             |(183,[],[])          |\n",
      "|(50,[],[])                  |(183,[],[])          |\n",
      "+----------------------------+---------------------+\n",
      "only showing top 20 rows\n",
      "\n"
     ]
    }
   ],
   "source": [
    "sdf_loan_clean.select('title_words_vec', 'title_ngrams_vec').show(truncate=False)"
   ]
  },
  {
   "cell_type": "code",
   "execution_count": 23,
   "metadata": {},
   "outputs": [
    {
     "name": "stdout",
     "output_type": "stream",
     "text": [
      "19026\n"
     ]
    },
    {
     "data": {
      "text/html": [
       "<div>\n",
       "<style scoped>\n",
       "    .dataframe tbody tr th:only-of-type {\n",
       "        vertical-align: middle;\n",
       "    }\n",
       "\n",
       "    .dataframe tbody tr th {\n",
       "        vertical-align: top;\n",
       "    }\n",
       "\n",
       "    .dataframe thead th {\n",
       "        text-align: right;\n",
       "    }\n",
       "</style>\n",
       "<table border=\"1\" class=\"dataframe\">\n",
       "  <thead>\n",
       "    <tr style=\"text-align: right;\">\n",
       "      <th></th>\n",
       "      <th>title</th>\n",
       "      <th>count</th>\n",
       "      <th>count (%)</th>\n",
       "      <th>count (cum %)</th>\n",
       "    </tr>\n",
       "  </thead>\n",
       "  <tbody>\n",
       "    <tr>\n",
       "      <th>0</th>\n",
       "      <td>Debt consolidation</td>\n",
       "      <td>409265</td>\n",
       "      <td>46.579903</td>\n",
       "      <td>46.579903</td>\n",
       "    </tr>\n",
       "    <tr>\n",
       "      <th>1</th>\n",
       "      <td>Credit card refinancing</td>\n",
       "      <td>162289</td>\n",
       "      <td>18.470687</td>\n",
       "      <td>65.050590</td>\n",
       "    </tr>\n",
       "    <tr>\n",
       "      <th>2</th>\n",
       "      <td>Home improvement</td>\n",
       "      <td>39631</td>\n",
       "      <td>4.510545</td>\n",
       "      <td>69.561135</td>\n",
       "    </tr>\n",
       "    <tr>\n",
       "      <th>3</th>\n",
       "      <td>Other</td>\n",
       "      <td>31422</td>\n",
       "      <td>3.576249</td>\n",
       "      <td>73.137384</td>\n",
       "    </tr>\n",
       "    <tr>\n",
       "      <th>4</th>\n",
       "      <td>Debt Consolidation</td>\n",
       "      <td>15757</td>\n",
       "      <td>1.793360</td>\n",
       "      <td>74.930744</td>\n",
       "    </tr>\n",
       "  </tbody>\n",
       "</table>\n",
       "</div>"
      ],
      "text/plain": [
       "                     title   count  count (%)  count (cum %)\n",
       "0       Debt consolidation  409265  46.579903      46.579903\n",
       "1  Credit card refinancing  162289  18.470687      65.050590\n",
       "2         Home improvement   39631   4.510545      69.561135\n",
       "3                    Other   31422   3.576249      73.137384\n",
       "4       Debt Consolidation   15757   1.793360      74.930744"
      ]
     },
     "execution_count": 23,
     "metadata": {},
     "output_type": "execute_result"
    }
   ],
   "source": [
    "# frequency analysis of 'title'\n",
    "\n",
    "tmp = sdf_loan_clean.groupBy('title').count().orderBy(col('count').desc()).toPandas()\n",
    "tmp['count (%)'] = tmp['count'] / tmp['count'].sum() * 100\n",
    "tmp['count (cum %)'] = np.cumsum(tmp['count (%)'])\n",
    "\n",
    "print(len(tmp.loc[tmp['count (cum %)'] < 95, 'count']))\n",
    "tmp.head()"
   ]
  },
  {
   "cell_type": "markdown",
   "metadata": {},
   "source": [
    "## Modeling\n",
    "\n",
    "### Sample composition"
   ]
  },
  {
   "cell_type": "code",
   "execution_count": 24,
   "metadata": {
    "scrolled": false
   },
   "outputs": [
    {
     "data": {
      "text/plain": [
       "<matplotlib.axes._subplots.AxesSubplot at 0x7f0c6b7ef128>"
      ]
     },
     "execution_count": 24,
     "metadata": {},
     "output_type": "execute_result"
    },
    {
     "data": {
      "image/png": "[encoded data removed]",
      "text/plain": [
       "<matplotlib.figure.Figure at 0x7f0c6b7efa58>"
      ]
     },
     "metadata": {},
     "output_type": "display_data"
    }
   ],
   "source": [
    "import pandas as pd\n",
    "import numpy as np\n",
    "import matplotlib.pyplot as plt\n",
    "%matplotlib inline\n",
    "\n",
    "tmp = sdf_loan_clean \\\n",
    "    .select('loan_status', col('issue_d_year').alias('year')) \\\n",
    "    .groupBy('loan_status', 'year').count() \\\n",
    "    .orderBy(col('count').asc()) \\\n",
    "    .toPandas()\n",
    "    \n",
    "def tmp_lambda(x):\n",
    "    x[np.isnan(x)] = 0.0\n",
    "    x = x / x.sum()\n",
    "    return x\n",
    "    \n",
    "tmp \\\n",
    "    .pivot(index='year', columns='loan_status', values='count') \\\n",
    "    .apply(tmp_lambda, axis=1) \\\n",
    "    .plot.bar(figsize=(13, 5))"
   ]
  },
  {
   "cell_type": "markdown",
   "metadata": {},
   "source": [
    "TODO: bias in number of loans... (number of loans and amount of money per year)  \n",
    "TODO: total structure of the classes"
   ]
  },
  {
   "cell_type": "markdown",
   "metadata": {},
   "source": [
    "#### Conclusions:\n",
    "\n",
    " - we cannot use date as this would simply reflect the loan structure"
   ]
  },
  {
   "cell_type": "markdown",
   "metadata": {},
   "source": [
    "### Book ROI"
   ]
  },
  {
   "cell_type": "code",
   "execution_count": 25,
   "metadata": {},
   "outputs": [
    {
     "data": {
      "text/html": [
       "<div>\n",
       "<style scoped>\n",
       "    .dataframe tbody tr th:only-of-type {\n",
       "        vertical-align: middle;\n",
       "    }\n",
       "\n",
       "    .dataframe tbody tr th {\n",
       "        vertical-align: top;\n",
       "    }\n",
       "\n",
       "    .dataframe thead th {\n",
       "        text-align: right;\n",
       "    }\n",
       "</style>\n",
       "<table border=\"1\" class=\"dataframe\">\n",
       "  <thead>\n",
       "    <tr style=\"text-align: right;\">\n",
       "      <th></th>\n",
       "      <th>issue_d_year</th>\n",
       "      <th>loan_amnt</th>\n",
       "      <th>total_pymnt</th>\n",
       "      <th>REVENUE</th>\n",
       "      <th>PROFIT</th>\n",
       "      <th>ROI</th>\n",
       "    </tr>\n",
       "  </thead>\n",
       "  <tbody>\n",
       "    <tr>\n",
       "      <th>0</th>\n",
       "      <td>2007</td>\n",
       "      <td>4.970300e+06</td>\n",
       "      <td>4.716641e+06</td>\n",
       "      <td>4.716641</td>\n",
       "      <td>-0.253659</td>\n",
       "      <td>-0.051035</td>\n",
       "    </tr>\n",
       "    <tr>\n",
       "      <th>8</th>\n",
       "      <td>2008</td>\n",
       "      <td>2.073080e+07</td>\n",
       "      <td>1.995242e+07</td>\n",
       "      <td>19.952424</td>\n",
       "      <td>-0.778376</td>\n",
       "      <td>-0.037547</td>\n",
       "    </tr>\n",
       "    <tr>\n",
       "      <th>5</th>\n",
       "      <td>2009</td>\n",
       "      <td>5.065520e+07</td>\n",
       "      <td>5.456492e+07</td>\n",
       "      <td>54.564924</td>\n",
       "      <td>3.909724</td>\n",
       "      <td>0.077183</td>\n",
       "    </tr>\n",
       "    <tr>\n",
       "      <th>6</th>\n",
       "      <td>2010</td>\n",
       "      <td>1.307162e+08</td>\n",
       "      <td>1.394485e+08</td>\n",
       "      <td>139.448501</td>\n",
       "      <td>8.732315</td>\n",
       "      <td>0.066804</td>\n",
       "    </tr>\n",
       "    <tr>\n",
       "      <th>7</th>\n",
       "      <td>2011</td>\n",
       "      <td>2.553960e+08</td>\n",
       "      <td>2.835202e+08</td>\n",
       "      <td>283.520239</td>\n",
       "      <td>28.124230</td>\n",
       "      <td>0.110120</td>\n",
       "    </tr>\n",
       "    <tr>\n",
       "      <th>4</th>\n",
       "      <td>2012</td>\n",
       "      <td>6.876583e+08</td>\n",
       "      <td>7.728441e+08</td>\n",
       "      <td>772.844089</td>\n",
       "      <td>85.185791</td>\n",
       "      <td>0.123878</td>\n",
       "    </tr>\n",
       "    <tr>\n",
       "      <th>2</th>\n",
       "      <td>2013</td>\n",
       "      <td>1.626120e+09</td>\n",
       "      <td>1.875183e+09</td>\n",
       "      <td>1875.182561</td>\n",
       "      <td>249.062767</td>\n",
       "      <td>0.153164</td>\n",
       "    </tr>\n",
       "    <tr>\n",
       "      <th>3</th>\n",
       "      <td>2014</td>\n",
       "      <td>1.917261e+09</td>\n",
       "      <td>2.227741e+09</td>\n",
       "      <td>2227.741103</td>\n",
       "      <td>310.480481</td>\n",
       "      <td>0.161940</td>\n",
       "    </tr>\n",
       "    <tr>\n",
       "      <th>1</th>\n",
       "      <td>2015</td>\n",
       "      <td>1.088727e+09</td>\n",
       "      <td>1.326212e+09</td>\n",
       "      <td>1326.212190</td>\n",
       "      <td>237.485223</td>\n",
       "      <td>0.218131</td>\n",
       "    </tr>\n",
       "  </tbody>\n",
       "</table>\n",
       "</div>"
      ],
      "text/plain": [
       "   issue_d_year     loan_amnt   total_pymnt      REVENUE      PROFIT       ROI\n",
       "0          2007  4.970300e+06  4.716641e+06     4.716641   -0.253659 -0.051035\n",
       "8          2008  2.073080e+07  1.995242e+07    19.952424   -0.778376 -0.037547\n",
       "5          2009  5.065520e+07  5.456492e+07    54.564924    3.909724  0.077183\n",
       "6          2010  1.307162e+08  1.394485e+08   139.448501    8.732315  0.066804\n",
       "7          2011  2.553960e+08  2.835202e+08   283.520239   28.124230  0.110120\n",
       "4          2012  6.876583e+08  7.728441e+08   772.844089   85.185791  0.123878\n",
       "2          2013  1.626120e+09  1.875183e+09  1875.182561  249.062767  0.153164\n",
       "3          2014  1.917261e+09  2.227741e+09  2227.741103  310.480481  0.161940\n",
       "1          2015  1.088727e+09  1.326212e+09  1326.212190  237.485223  0.218131"
      ]
     },
     "execution_count": 25,
     "metadata": {},
     "output_type": "execute_result"
    }
   ],
   "source": [
    "tmp = sdf_loan_clean \\\n",
    "        .withColumn('loan_amnt', \n",
    "                    when(col('loan_status') == 'Current', col('total_rec_prncp')).otherwise(col('loan_amnt'))) \\\n",
    "        .select('loan_default', 'total_pymnt', 'loan_amnt', 'issue_d_year') \\\n",
    "        .groupBy('issue_d_year') \\\n",
    "        .agg(sum(col('loan_amnt')).alias('loan_amnt'), sum(col('total_pymnt')).alias('total_pymnt')) \\\n",
    "        .toPandas()\n",
    "\n",
    "tmp['REVENUE'] = tmp['total_pymnt']  / 1e6       \n",
    "tmp['PROFIT'] = (tmp['total_pymnt'] - tmp['loan_amnt']) / 1e6\n",
    "tmp['ROI'] = tmp['total_pymnt'] / tmp['loan_amnt'] - 1.0\n",
    "\n",
    "tmp.sort_values('issue_d_year', ascending=True)"
   ]
  },
  {
   "cell_type": "code",
   "execution_count": 26,
   "metadata": {
    "scrolled": true
   },
   "outputs": [
    {
     "name": "stdout",
     "output_type": "stream",
     "text": [
      "+----------+------+\n",
      "|      term| count|\n",
      "+----------+------+\n",
      "| 36 months|614880|\n",
      "| 60 months|263750|\n",
      "+----------+------+\n",
      "\n"
     ]
    }
   ],
   "source": [
    "sdf_loan_clean.groupBy('term').count().show()"
   ]
  },
  {
   "cell_type": "code",
   "execution_count": 27,
   "metadata": {
    "scrolled": true
   },
   "outputs": [
    {
     "data": {
      "text/html": [
       "<div>\n",
       "<style scoped>\n",
       "    .dataframe tbody tr th:only-of-type {\n",
       "        vertical-align: middle;\n",
       "    }\n",
       "\n",
       "    .dataframe tbody tr th {\n",
       "        vertical-align: top;\n",
       "    }\n",
       "\n",
       "    .dataframe thead th {\n",
       "        text-align: right;\n",
       "    }\n",
       "</style>\n",
       "<table border=\"1\" class=\"dataframe\">\n",
       "  <thead>\n",
       "    <tr style=\"text-align: right;\">\n",
       "      <th></th>\n",
       "      <th>issue_d_year</th>\n",
       "      <th>loan_amnt</th>\n",
       "      <th>total_pymnt</th>\n",
       "      <th>n_defaults</th>\n",
       "      <th>n_loans</th>\n",
       "      <th>total_pymnt_def</th>\n",
       "      <th>loan_amnt_def</th>\n",
       "      <th>REVENUE</th>\n",
       "      <th>PROFIT</th>\n",
       "      <th>ROI</th>\n",
       "      <th>DRATE</th>\n",
       "      <th>LOSS</th>\n",
       "    </tr>\n",
       "  </thead>\n",
       "  <tbody>\n",
       "    <tr>\n",
       "      <th>0</th>\n",
       "      <td>2007</td>\n",
       "      <td>4.970300e+06</td>\n",
       "      <td>4.716641e+06</td>\n",
       "      <td>157</td>\n",
       "      <td>601</td>\n",
       "      <td>8.083652e+05</td>\n",
       "      <td>1549050.0</td>\n",
       "      <td>4.716641</td>\n",
       "      <td>-0.253659</td>\n",
       "      <td>-0.051035</td>\n",
       "      <td>0.261231</td>\n",
       "      <td>0.740685</td>\n",
       "    </tr>\n",
       "    <tr>\n",
       "      <th>8</th>\n",
       "      <td>2008</td>\n",
       "      <td>2.073080e+07</td>\n",
       "      <td>1.995242e+07</td>\n",
       "      <td>486</td>\n",
       "      <td>2352</td>\n",
       "      <td>2.343035e+06</td>\n",
       "      <td>4890725.0</td>\n",
       "      <td>19.952424</td>\n",
       "      <td>-0.778376</td>\n",
       "      <td>-0.037547</td>\n",
       "      <td>0.206633</td>\n",
       "      <td>2.547690</td>\n",
       "    </tr>\n",
       "    <tr>\n",
       "      <th>5</th>\n",
       "      <td>2009</td>\n",
       "      <td>5.065520e+07</td>\n",
       "      <td>5.456492e+07</td>\n",
       "      <td>702</td>\n",
       "      <td>5159</td>\n",
       "      <td>3.895991e+06</td>\n",
       "      <td>7401525.0</td>\n",
       "      <td>54.564924</td>\n",
       "      <td>3.909724</td>\n",
       "      <td>0.077183</td>\n",
       "      <td>0.136073</td>\n",
       "      <td>3.505534</td>\n",
       "    </tr>\n",
       "    <tr>\n",
       "      <th>6</th>\n",
       "      <td>2010</td>\n",
       "      <td>1.306300e+08</td>\n",
       "      <td>1.393281e+08</td>\n",
       "      <td>1745</td>\n",
       "      <td>12434</td>\n",
       "      <td>1.044114e+07</td>\n",
       "      <td>18419650.0</td>\n",
       "      <td>139.328097</td>\n",
       "      <td>8.698147</td>\n",
       "      <td>0.066586</td>\n",
       "      <td>0.140341</td>\n",
       "      <td>7.978511</td>\n",
       "    </tr>\n",
       "    <tr>\n",
       "      <th>7</th>\n",
       "      <td>2011</td>\n",
       "      <td>2.293101e+08</td>\n",
       "      <td>2.441772e+08</td>\n",
       "      <td>3259</td>\n",
       "      <td>19724</td>\n",
       "      <td>2.441386e+07</td>\n",
       "      <td>42674050.0</td>\n",
       "      <td>244.177160</td>\n",
       "      <td>14.867035</td>\n",
       "      <td>0.064834</td>\n",
       "      <td>0.165230</td>\n",
       "      <td>18.260190</td>\n",
       "    </tr>\n",
       "    <tr>\n",
       "      <th>4</th>\n",
       "      <td>2012</td>\n",
       "      <td>6.448179e+08</td>\n",
       "      <td>6.970534e+08</td>\n",
       "      <td>8334</td>\n",
       "      <td>49812</td>\n",
       "      <td>7.197315e+07</td>\n",
       "      <td>120365725.0</td>\n",
       "      <td>697.053381</td>\n",
       "      <td>52.235506</td>\n",
       "      <td>0.081008</td>\n",
       "      <td>0.167309</td>\n",
       "      <td>48.392571</td>\n",
       "    </tr>\n",
       "    <tr>\n",
       "      <th>2</th>\n",
       "      <td>2013</td>\n",
       "      <td>1.057072e+09</td>\n",
       "      <td>1.066971e+09</td>\n",
       "      <td>16798</td>\n",
       "      <td>73193</td>\n",
       "      <td>1.359862e+08</td>\n",
       "      <td>254241200.0</td>\n",
       "      <td>1066.971203</td>\n",
       "      <td>9.899703</td>\n",
       "      <td>0.009365</td>\n",
       "      <td>0.229503</td>\n",
       "      <td>118.254978</td>\n",
       "    </tr>\n",
       "    <tr>\n",
       "      <th>3</th>\n",
       "      <td>2014</td>\n",
       "      <td>1.061570e+09</td>\n",
       "      <td>9.552547e+08</td>\n",
       "      <td>19441</td>\n",
       "      <td>74154</td>\n",
       "      <td>1.041935e+08</td>\n",
       "      <td>293884575.0</td>\n",
       "      <td>955.254662</td>\n",
       "      <td>-106.315063</td>\n",
       "      <td>-0.100149</td>\n",
       "      <td>0.262171</td>\n",
       "      <td>189.691103</td>\n",
       "    </tr>\n",
       "    <tr>\n",
       "      <th>1</th>\n",
       "      <td>2015</td>\n",
       "      <td>4.520362e+08</td>\n",
       "      <td>3.633159e+08</td>\n",
       "      <td>7851</td>\n",
       "      <td>30835</td>\n",
       "      <td>1.854959e+07</td>\n",
       "      <td>120906075.0</td>\n",
       "      <td>363.315934</td>\n",
       "      <td>-88.720216</td>\n",
       "      <td>-0.196268</td>\n",
       "      <td>0.254613</td>\n",
       "      <td>102.356486</td>\n",
       "    </tr>\n",
       "  </tbody>\n",
       "</table>\n",
       "</div>"
      ],
      "text/plain": [
       "   issue_d_year     loan_amnt   total_pymnt  n_defaults  n_loans  \\\n",
       "0          2007  4.970300e+06  4.716641e+06         157      601   \n",
       "8          2008  2.073080e+07  1.995242e+07         486     2352   \n",
       "5          2009  5.065520e+07  5.456492e+07         702     5159   \n",
       "6          2010  1.306300e+08  1.393281e+08        1745    12434   \n",
       "7          2011  2.293101e+08  2.441772e+08        3259    19724   \n",
       "4          2012  6.448179e+08  6.970534e+08        8334    49812   \n",
       "2          2013  1.057072e+09  1.066971e+09       16798    73193   \n",
       "3          2014  1.061570e+09  9.552547e+08       19441    74154   \n",
       "1          2015  4.520362e+08  3.633159e+08        7851    30835   \n",
       "\n",
       "   total_pymnt_def  loan_amnt_def      REVENUE      PROFIT       ROI  \\\n",
       "0     8.083652e+05      1549050.0     4.716641   -0.253659 -0.051035   \n",
       "8     2.343035e+06      4890725.0    19.952424   -0.778376 -0.037547   \n",
       "5     3.895991e+06      7401525.0    54.564924    3.909724  0.077183   \n",
       "6     1.044114e+07     18419650.0   139.328097    8.698147  0.066586   \n",
       "7     2.441386e+07     42674050.0   244.177160   14.867035  0.064834   \n",
       "4     7.197315e+07    120365725.0   697.053381   52.235506  0.081008   \n",
       "2     1.359862e+08    254241200.0  1066.971203    9.899703  0.009365   \n",
       "3     1.041935e+08    293884575.0   955.254662 -106.315063 -0.100149   \n",
       "1     1.854959e+07    120906075.0   363.315934  -88.720216 -0.196268   \n",
       "\n",
       "      DRATE        LOSS  \n",
       "0  0.261231    0.740685  \n",
       "8  0.206633    2.547690  \n",
       "5  0.136073    3.505534  \n",
       "6  0.140341    7.978511  \n",
       "7  0.165230   18.260190  \n",
       "4  0.167309   48.392571  \n",
       "2  0.229503  118.254978  \n",
       "3  0.262171  189.691103  \n",
       "1  0.254613  102.356486  "
      ]
     },
     "execution_count": 27,
     "metadata": {},
     "output_type": "execute_result"
    }
   ],
   "source": [
    "# Statistics for expired contracts\n",
    "from pyspark.sql.functions import count\n",
    "\n",
    "tmp = sdf_loan_clean \\\n",
    "        .filter(col('loan_status') != 'Current') \\\n",
    "        .select('loan_default', 'total_pymnt', 'loan_amnt', 'issue_d_year') \\\n",
    "        .groupBy('issue_d_year') \\\n",
    "        .agg(sum(col('loan_amnt')).alias('loan_amnt'), \n",
    "             sum(col('total_pymnt')).alias('total_pymnt'),\n",
    "             sum(col('loan_default')).alias('n_defaults'),\n",
    "             count(col('loan_default')).alias('n_loans'),\n",
    "             sum(col('loan_default') * col('total_pymnt')).alias('total_pymnt_def'),\n",
    "             sum(col('loan_default') * col('loan_amnt')).alias('loan_amnt_def')\n",
    "            ) \\\n",
    "        .toPandas()\n",
    "\n",
    "tmp['REVENUE'] = tmp['total_pymnt']  / 1e6       \n",
    "tmp['PROFIT'] = (tmp['total_pymnt'] - tmp['loan_amnt']) / 1e6\n",
    "tmp['ROI'] = tmp['total_pymnt'] / tmp['loan_amnt'] - 1.0\n",
    "tmp['DRATE'] = tmp['n_defaults'] / tmp['n_loans']\n",
    "tmp['LOSS'] = -(tmp['total_pymnt_def'] - tmp['loan_amnt_def']) / 1e6\n",
    "\n",
    "tmp.sort_values('issue_d_year', ascending=True)"
   ]
  },
  {
   "cell_type": "markdown",
   "metadata": {},
   "source": [
    "http://www.lendingmemo.com/lending-club-prosper-default-rates/\n",
    "\n",
    "One of the main concerns people have in this investment is its average default rate, which means, the rate at which people fail to pay back these loans. This is a really valid issue considering the investor takes the full brunt of the loss when a borrower defaults. Risks like a platform bankruptcy or new regulatory burdens are important to keep in mind, but nothing has a more direct and negative impact upon our investment’s overall return than the rate at which our borrowers default on their loans."
   ]
  },
  {
   "cell_type": "markdown",
   "metadata": {},
   "source": [
    "### Balance classes"
   ]
  },
  {
   "cell_type": "code",
   "execution_count": 28,
   "metadata": {},
   "outputs": [
    {
     "name": "stdout",
     "output_type": "stream",
     "text": [
      "Class percentage before weighting: Y==1: 6.69%, Y==0: 93.31%\n",
      "Class percentage after balancing: Y==1: 50.00%, Y==0: 50.00%\n"
     ]
    }
   ],
   "source": [
    "from pyspark.sql.functions import lit, when\n",
    "\n",
    "sdf_loan_clean = sdf_loan_clean.withColumn('w', lit(1.0))\n",
    "\n",
    "tmp_0 = sdf_loan_clean.filter(col('loan_default') == 0).agg(sum(col('w')).alias('w')).collect()[0].w\n",
    "tmp_1 = sdf_loan_clean.filter(col('loan_default') == 1).agg(sum(col('w')).alias('w')).collect()[0].w\n",
    "p_0 = tmp_0 / (tmp_0 + tmp_1) * 100\n",
    "print('Class percentage before weighting: Y==1: {:2.2f}%, Y==0: {:2.2f}%'.format(100 - p_0, p_0))\n",
    "\n",
    "# class weights\n",
    "N = tmp_0 + tmp_1\n",
    "w_0 = N * .5 / tmp_0\n",
    "w_1 = N * .5 / tmp_1\n",
    "\n",
    "# create weight column\n",
    "sdf_loan_clean = sdf_loan_clean \\\n",
    "            .withColumn('w', when(col('loan_default') == 1, col('w') * w_1).otherwise(col('w') * w_0))\n",
    "    \n",
    "# sanity check\n",
    "tmp_0 = sdf_loan_clean.filter(col('loan_default') == 0).agg(sum(col('w')).alias('w')).collect()[0].w\n",
    "tmp_1 = sdf_loan_clean.filter(col('loan_default') == 1).agg(sum(col('w')).alias('w')).collect()[0].w\n",
    "p_0 = tmp_0 / (tmp_0 + tmp_1) * 100\n",
    "print('Class percentage after balancing: Y==1: {:2.2f}%, Y==0: {:2.2f}%'.format(100 - p_0, p_0))"
   ]
  },
  {
   "cell_type": "markdown",
   "metadata": {},
   "source": [
    "### Transfer data from Spark to h2o"
   ]
  },
  {
   "cell_type": "code",
   "execution_count": 117,
   "metadata": {},
   "outputs": [],
   "source": [
    "model_ft = ['loan_default', \n",
    "            'installment', \n",
    "            'issue_d_month',\n",
    "            'loan_amnt', \n",
    "            'total_amnt_due',\n",
    "            'int_rate',\n",
    "            'grade',\n",
    "            'sub_grade',\n",
    "            'term_n',\n",
    "            'purpose',\n",
    "            'w']"
   ]
  },
  {
   "cell_type": "code",
   "execution_count": 55,
   "metadata": {
    "scrolled": false
   },
   "outputs": [
    {
     "name": "stdout",
     "output_type": "stream",
     "text": [
      "Connecting to H2O server at http://172.31.46.219:54321... successful.\n"
     ]
    },
    {
     "data": {
      "text/html": [
       "<div style=\"overflow:auto\"><table style=\"width:50%\"><tr><td>H2O cluster uptime:</td>\n",
       "<td>4 mins 06 secs</td></tr>\n",
       "<tr><td>H2O cluster version:</td>\n",
       "<td>3.16.0.2</td></tr>\n",
       "<tr><td>H2O cluster version age:</td>\n",
       "<td>1 month and 15 days </td></tr>\n",
       "<tr><td>H2O cluster name:</td>\n",
       "<td>sparkling-water-ubuntu_local-1515946663117</td></tr>\n",
       "<tr><td>H2O cluster total nodes:</td>\n",
       "<td>1</td></tr>\n",
       "<tr><td>H2O cluster free memory:</td>\n",
       "<td>14.04 Gb</td></tr>\n",
       "<tr><td>H2O cluster total cores:</td>\n",
       "<td>8</td></tr>\n",
       "<tr><td>H2O cluster allowed cores:</td>\n",
       "<td>8</td></tr>\n",
       "<tr><td>H2O cluster status:</td>\n",
       "<td>locked, healthy</td></tr>\n",
       "<tr><td>H2O connection url:</td>\n",
       "<td>http://172.31.46.219:54321</td></tr>\n",
       "<tr><td>H2O connection proxy:</td>\n",
       "<td>None</td></tr>\n",
       "<tr><td>H2O internal security:</td>\n",
       "<td>False</td></tr>\n",
       "<tr><td>H2O API Extensions:</td>\n",
       "<td>XGBoost, Algos, AutoML, Core V3, Core V4</td></tr>\n",
       "<tr><td>Python version:</td>\n",
       "<td>3.5.2 final</td></tr></table></div>"
      ],
      "text/plain": [
       "--------------------------  ------------------------------------------\n",
       "H2O cluster uptime:         4 mins 06 secs\n",
       "H2O cluster version:        3.16.0.2\n",
       "H2O cluster version age:    1 month and 15 days\n",
       "H2O cluster name:           sparkling-water-ubuntu_local-1515946663117\n",
       "H2O cluster total nodes:    1\n",
       "H2O cluster free memory:    14.04 Gb\n",
       "H2O cluster total cores:    8\n",
       "H2O cluster allowed cores:  8\n",
       "H2O cluster status:         locked, healthy\n",
       "H2O connection url:         http://172.31.46.219:54321\n",
       "H2O connection proxy:\n",
       "H2O internal security:      False\n",
       "H2O API Extensions:         XGBoost, Algos, AutoML, Core V3, Core V4\n",
       "Python version:             3.5.2 final\n",
       "--------------------------  ------------------------------------------"
      ]
     },
     "metadata": {},
     "output_type": "display_data"
    },
    {
     "name": "stdout",
     "output_type": "stream",
     "text": [
      "\n",
      "Sparkling Water Context:\n",
      " * H2O name: sparkling-water-ubuntu_local-1515946663117\n",
      " * cluster size: 1\n",
      " * list of used nodes:\n",
      "  (executorId, host, port)\n",
      "  ------------------------\n",
      "  (driver,172.31.46.219,54321)\n",
      "  ------------------------\n",
      "\n",
      "  Open H2O Flow in browser: http://172.31.46.219:54321 (CMD + click in Mac OSX)\n",
      "\n",
      "    \n"
     ]
    }
   ],
   "source": [
    "import h2o\n",
    "from pysparkling import H2OContext\n",
    "hc = H2OContext.getOrCreate(spark)"
   ]
  },
  {
   "cell_type": "code",
   "execution_count": 109,
   "metadata": {},
   "outputs": [],
   "source": [
    "h2o.remove_all()"
   ]
  },
  {
   "cell_type": "code",
   "execution_count": 110,
   "metadata": {},
   "outputs": [],
   "source": [
    "df = hc.as_h2o_frame(sdf_loan_clean \\\n",
    "                     .select('issue_d_year',\n",
    "                             'loan_status', \n",
    "                             'total_pymnt',\n",
    "                             'title_words_vec',\n",
    "                             'title_ngrams_vec',\n",
    "                             *model_ft), framename='sdf_loan')"
   ]
  },
  {
   "cell_type": "code",
   "execution_count": 114,
   "metadata": {
    "scrolled": false
   },
   "outputs": [
    {
     "data": {
      "text/plain": [
       "{'loan_default': 'enum'}"
      ]
     },
     "execution_count": 114,
     "metadata": {},
     "output_type": "execute_result"
    }
   ],
   "source": [
    "df['loan_default'] = df['loan_default'].asfactor()\n",
    "\n",
    "df['term_n'] = df['term_n'].asfactor()\n",
    "df['issue_d_month'] = df['issue_d_month'].asfactor()\n",
    "df['purpose'] = df['purpose'].asfactor()\n",
    "df['grade'] = df['grade'].asfactor()\n",
    "df['sub_grade'] = df['sub_grade'].asfactor()\n",
    "\n",
    "df['loan_default'].types"
   ]
  },
  {
   "cell_type": "code",
   "execution_count": 116,
   "metadata": {},
   "outputs": [],
   "source": [
    "ind = pd.DataFrame([(nme[0:15] == 'title_words_vec', nme) for nme in df.names], columns=['match', 'nme'])\n",
    "model_title_word_ft = list(ind[ind['match']]['nme'].values)\n",
    "\n",
    "ind = pd.DataFrame([(nme[0:16] == 'title_ngrams_vec', nme) for nme in df.names], columns=['match', 'nme'])\n",
    "model_title_ngram_ft = list(ind[ind['match']]['nme'].values)"
   ]
  },
  {
   "cell_type": "markdown",
   "metadata": {},
   "source": [
    "### Model building process\n",
    "\n",
    "We keep track of the progress with respect to the 'trivial model' to evaluate dimnishing returns of model exploration process:\n",
    "\n",
    "- majority class assignment for `y`\n",
    "- dataset average for `m`\n",
    "\n",
    "Note: We evaluate model bulding progress using validation set."
   ]
  },
  {
   "cell_type": "markdown",
   "metadata": {},
   "source": [
    "### Test, Train, Validate\n",
    "\n",
    "Few comments about splitting the dataset (date and Keyword are the key)"
   ]
  },
  {
   "cell_type": "code",
   "execution_count": 118,
   "metadata": {},
   "outputs": [
    {
     "data": {
      "text/plain": [
       "439519"
      ]
     },
     "execution_count": 118,
     "metadata": {},
     "output_type": "execute_result"
    }
   ],
   "source": [
    "train, validate, test = df.split_frame([.5, .2], seed=2014)\n",
    "\n",
    "validate['w'] = 1.0\n",
    "test['w'] = 1.0\n",
    "\n",
    "predictors = model_ft[1:-1] + model_title_word_ft + model_title_ngram_ft\n",
    "response = model_ft[0]\n",
    "weight = model_ft[-1]\n",
    "\n",
    "# TODO: print samlple sizes\n",
    "train.nrows"
   ]
  },
  {
   "cell_type": "markdown",
   "metadata": {},
   "source": [
    "### Baseline model: Lasso Logistic regression\n",
    "\n",
    "http://docs.h2o.ai/h2o/latest-stable/h2o-docs/booklets/GLMBooklet.pdf  \n",
    "http://docs.h2o.ai/h2o/latest-stable/h2o-docs/data-science/glm.html"
   ]
  },
  {
   "cell_type": "markdown",
   "metadata": {},
   "source": [
    "#### Tune lasso parameters"
   ]
  },
  {
   "cell_type": "code",
   "execution_count": 63,
   "metadata": {},
   "outputs": [
    {
     "name": "stdout",
     "output_type": "stream",
     "text": [
      "glm Grid Build progress: |████████████████████████████████████████████████| 100%\n"
     ]
    }
   ],
   "source": [
    "from h2o.grid import H2OGridSearch\n",
    "from h2o.estimators.glm import H2OGeneralizedLinearEstimator\n",
    "\n",
    "import numpy as np\n",
    "\n",
    "h2o.remove('glm_grid')\n",
    "lambda_grid = list(np.logspace(start=-7.0, stop=0.0, num=10, base=10.0))\n",
    "lambda_grid.append(0.0)\n",
    "\n",
    "glm_grid = H2OGridSearch(\n",
    "        model=H2OGeneralizedLinearEstimator(family=\"binomial\", alpha=1.0),\n",
    "        hyper_params={\"lambda\": lambda_grid},\n",
    "        grid_id='glm_grid'\n",
    "    )\n",
    "\n",
    "glm_grid.train(predictors, response, training_frame=train, validation_frame=validate, weights_column=weight)"
   ]
  },
  {
   "cell_type": "code",
   "execution_count": 64,
   "metadata": {
    "scrolled": true
   },
   "outputs": [
    {
     "data": {
      "text/html": [
       "<div>\n",
       "<style scoped>\n",
       "    .dataframe tbody tr th:only-of-type {\n",
       "        vertical-align: middle;\n",
       "    }\n",
       "\n",
       "    .dataframe tbody tr th {\n",
       "        vertical-align: top;\n",
       "    }\n",
       "\n",
       "    .dataframe thead th {\n",
       "        text-align: right;\n",
       "    }\n",
       "</style>\n",
       "<table border=\"1\" class=\"dataframe\">\n",
       "  <thead>\n",
       "    <tr style=\"text-align: right;\">\n",
       "      <th></th>\n",
       "      <th>Model_ID</th>\n",
       "      <th>AUC</th>\n",
       "      <th>lambda</th>\n",
       "    </tr>\n",
       "  </thead>\n",
       "  <tbody>\n",
       "    <tr>\n",
       "      <th>9</th>\n",
       "      <td>glm_grid_model_2</td>\n",
       "      <td>0.747201</td>\n",
       "      <td>3.593814e-06</td>\n",
       "    </tr>\n",
       "    <tr>\n",
       "      <th>3</th>\n",
       "      <td>glm_grid_model_1</td>\n",
       "      <td>0.747200</td>\n",
       "      <td>5.994843e-07</td>\n",
       "    </tr>\n",
       "    <tr>\n",
       "      <th>7</th>\n",
       "      <td>glm_grid_model_0</td>\n",
       "      <td>0.747196</td>\n",
       "      <td>1.000000e-07</td>\n",
       "    </tr>\n",
       "    <tr>\n",
       "      <th>5</th>\n",
       "      <td>glm_grid_model_3</td>\n",
       "      <td>0.747085</td>\n",
       "      <td>2.154435e-05</td>\n",
       "    </tr>\n",
       "    <tr>\n",
       "      <th>4</th>\n",
       "      <td>glm_grid_model_10</td>\n",
       "      <td>0.747076</td>\n",
       "      <td>0.000000e+00</td>\n",
       "    </tr>\n",
       "    <tr>\n",
       "      <th>2</th>\n",
       "      <td>glm_grid_model_4</td>\n",
       "      <td>0.746228</td>\n",
       "      <td>1.291550e-04</td>\n",
       "    </tr>\n",
       "    <tr>\n",
       "      <th>8</th>\n",
       "      <td>glm_grid_model_5</td>\n",
       "      <td>0.738873</td>\n",
       "      <td>7.742637e-04</td>\n",
       "    </tr>\n",
       "    <tr>\n",
       "      <th>6</th>\n",
       "      <td>glm_grid_model_6</td>\n",
       "      <td>0.725900</td>\n",
       "      <td>4.641589e-03</td>\n",
       "    </tr>\n",
       "    <tr>\n",
       "      <th>1</th>\n",
       "      <td>glm_grid_model_7</td>\n",
       "      <td>0.709156</td>\n",
       "      <td>2.782559e-02</td>\n",
       "    </tr>\n",
       "    <tr>\n",
       "      <th>0</th>\n",
       "      <td>glm_grid_model_9</td>\n",
       "      <td>0.500000</td>\n",
       "      <td>1.000000e+00</td>\n",
       "    </tr>\n",
       "    <tr>\n",
       "      <th>10</th>\n",
       "      <td>glm_grid_model_8</td>\n",
       "      <td>0.500000</td>\n",
       "      <td>1.668101e-01</td>\n",
       "    </tr>\n",
       "  </tbody>\n",
       "</table>\n",
       "</div>"
      ],
      "text/plain": [
       "             Model_ID       AUC        lambda\n",
       "9    glm_grid_model_2  0.747201  3.593814e-06\n",
       "3    glm_grid_model_1  0.747200  5.994843e-07\n",
       "7    glm_grid_model_0  0.747196  1.000000e-07\n",
       "5    glm_grid_model_3  0.747085  2.154435e-05\n",
       "4   glm_grid_model_10  0.747076  0.000000e+00\n",
       "2    glm_grid_model_4  0.746228  1.291550e-04\n",
       "8    glm_grid_model_5  0.738873  7.742637e-04\n",
       "6    glm_grid_model_6  0.725900  4.641589e-03\n",
       "1    glm_grid_model_7  0.709156  2.782559e-02\n",
       "0    glm_grid_model_9  0.500000  1.000000e+00\n",
       "10   glm_grid_model_8  0.500000  1.668101e-01"
      ]
     },
     "execution_count": 64,
     "metadata": {},
     "output_type": "execute_result"
    }
   ],
   "source": [
    "import pandas as pd\n",
    "\n",
    "# get the AUC on validation set:\n",
    "pd_auc = pd.DataFrame(list(glm_grid.auc(valid=True).items()), columns=['Model_ID', 'AUC']).sort_values('AUC', ascending=False)\n",
    "model_ids = pd_auc['Model_ID'].values\n",
    "pd_auc['lambda'] = np.array([glm_grid.get_hyperparams_dict(model, display=False)['lambda'] for model in model_ids])\n",
    "pd_auc = pd_auc.sort_values('AUC', ascending=False)\n",
    "\n",
    "# select best model hyperparameters\n",
    "glm_best_model_lambda = pd_auc['lambda'].values[0]\n",
    "glm_best_model_AUC = pd_auc['AUC'].values[0]\n",
    "\n",
    "pd_auc"
   ]
  },
  {
   "cell_type": "markdown",
   "metadata": {},
   "source": [
    "#### Final model\n",
    "\n",
    "- with 10 fold cross-validation for bulidng ensemble"
   ]
  },
  {
   "cell_type": "code",
   "execution_count": 65,
   "metadata": {},
   "outputs": [
    {
     "name": "stdout",
     "output_type": "stream",
     "text": [
      "glm Model Build progress: |███████████████████████████████████████████████| 100%\n"
     ]
    }
   ],
   "source": [
    "from h2o.estimators.glm import H2OGeneralizedLinearEstimator\n",
    "\n",
    "glm_model = H2OGeneralizedLinearEstimator(family=\"binomial\", \n",
    "                                          lambda_=glm_best_model_lambda, \n",
    "                                          standardize=True,\n",
    "                                          alpha=1.0,\n",
    "                                          max_iterations=100,\n",
    "                                          nfolds = 0,\n",
    "                                          seed = 2014,\n",
    "                                          keep_cross_validation_predictions=True\n",
    "                                         )\n",
    "\n",
    "glm_model.train(predictors, response, training_frame=train, validation_frame=validate, weights_column=weight)"
   ]
  },
  {
   "cell_type": "code",
   "execution_count": 66,
   "metadata": {
    "scrolled": false
   },
   "outputs": [
    {
     "name": "stdout",
     "output_type": "stream",
     "text": [
      "Could not find exact threshold 0.77; using closest threshold found 0.7706867123866282.\n",
      "Could not find exact threshold 0.78; using closest threshold found 0.779498515164351.\n",
      "Could not find exact threshold 0.79; using closest threshold found 0.7889487089653514.\n",
      "Could not find exact threshold 0.8; using closest threshold found 0.8004190521411342.\n",
      "Could not find exact threshold 0.81; using closest threshold found 0.8103637207573338.\n",
      "Could not find exact threshold 0.82; using closest threshold found 0.8195211365369718.\n",
      "Could not find exact threshold 0.77; using closest threshold found 0.7706867123866282.\n",
      "Could not find exact threshold 0.78; using closest threshold found 0.779498515164351.\n",
      "Could not find exact threshold 0.79; using closest threshold found 0.7889487089653514.\n",
      "Could not find exact threshold 0.8; using closest threshold found 0.8004190521411342.\n",
      "Could not find exact threshold 0.81; using closest threshold found 0.8103637207573338.\n",
      "Could not find exact threshold 0.82; using closest threshold found 0.8195211365369718.\n",
      "Could not find exact threshold 0.77; using closest threshold found 0.770487017440124.\n",
      "Could not find exact threshold 0.78; using closest threshold found 0.7797508567422821.\n",
      "Could not find exact threshold 0.79; using closest threshold found 0.7887129637313224.\n",
      "Could not find exact threshold 0.8; using closest threshold found 0.7986592514664788.\n",
      "Could not find exact threshold 0.81; using closest threshold found 0.8103252248090282.\n",
      "Could not find exact threshold 0.82; using closest threshold found 0.8201970982667255.\n",
      "Could not find exact threshold 0.77; using closest threshold found 0.770487017440124.\n",
      "Could not find exact threshold 0.78; using closest threshold found 0.7797508567422821.\n",
      "Could not find exact threshold 0.79; using closest threshold found 0.7887129637313224.\n",
      "Could not find exact threshold 0.8; using closest threshold found 0.7986592514664788.\n",
      "Could not find exact threshold 0.81; using closest threshold found 0.8103252248090282.\n",
      "Could not find exact threshold 0.82; using closest threshold found 0.8201970982667255.\n"
     ]
    },
    {
     "data": {
      "text/html": [
       "<div>\n",
       "<style scoped>\n",
       "    .dataframe tbody tr th:only-of-type {\n",
       "        vertical-align: middle;\n",
       "    }\n",
       "\n",
       "    .dataframe tbody tr th {\n",
       "        vertical-align: top;\n",
       "    }\n",
       "\n",
       "    .dataframe thead th {\n",
       "        text-align: right;\n",
       "    }\n",
       "</style>\n",
       "<table border=\"1\" class=\"dataframe\">\n",
       "  <thead>\n",
       "    <tr style=\"text-align: right;\">\n",
       "      <th></th>\n",
       "      <th>thr</th>\n",
       "      <th>RECALL</th>\n",
       "      <th>FPR</th>\n",
       "      <th>RECALL (valid)</th>\n",
       "      <th>FPR (valid)</th>\n",
       "      <th>&lt; min_error</th>\n",
       "    </tr>\n",
       "  </thead>\n",
       "  <tbody>\n",
       "    <tr>\n",
       "      <th>0</th>\n",
       "      <td>0.77</td>\n",
       "      <td>0.194321</td>\n",
       "      <td>0.057689</td>\n",
       "      <td>0.193078</td>\n",
       "      <td>0.057213</td>\n",
       "      <td>False</td>\n",
       "    </tr>\n",
       "    <tr>\n",
       "      <th>1</th>\n",
       "      <td>0.78</td>\n",
       "      <td>0.179135</td>\n",
       "      <td>0.053189</td>\n",
       "      <td>0.180947</td>\n",
       "      <td>0.052612</td>\n",
       "      <td>False</td>\n",
       "    </tr>\n",
       "    <tr>\n",
       "      <th>2</th>\n",
       "      <td>0.79</td>\n",
       "      <td>0.164289</td>\n",
       "      <td>0.047904</td>\n",
       "      <td>0.165847</td>\n",
       "      <td>0.047815</td>\n",
       "      <td>True</td>\n",
       "    </tr>\n",
       "    <tr>\n",
       "      <th>3</th>\n",
       "      <td>0.80</td>\n",
       "      <td>0.145280</td>\n",
       "      <td>0.041824</td>\n",
       "      <td>0.149813</td>\n",
       "      <td>0.042440</td>\n",
       "      <td>True</td>\n",
       "    </tr>\n",
       "    <tr>\n",
       "      <th>4</th>\n",
       "      <td>0.81</td>\n",
       "      <td>0.129991</td>\n",
       "      <td>0.036703</td>\n",
       "      <td>0.131150</td>\n",
       "      <td>0.036301</td>\n",
       "      <td>True</td>\n",
       "    </tr>\n",
       "    <tr>\n",
       "      <th>5</th>\n",
       "      <td>0.82</td>\n",
       "      <td>0.115726</td>\n",
       "      <td>0.032380</td>\n",
       "      <td>0.119359</td>\n",
       "      <td>0.031950</td>\n",
       "      <td>True</td>\n",
       "    </tr>\n",
       "  </tbody>\n",
       "</table>\n",
       "</div>"
      ],
      "text/plain": [
       "    thr    RECALL       FPR  RECALL (valid)  FPR (valid)  < min_error\n",
       "0  0.77  0.194321  0.057689        0.193078     0.057213        False\n",
       "1  0.78  0.179135  0.053189        0.180947     0.052612        False\n",
       "2  0.79  0.164289  0.047904        0.165847     0.047815         True\n",
       "3  0.80  0.145280  0.041824        0.149813     0.042440         True\n",
       "4  0.81  0.129991  0.036703        0.131150     0.036301         True\n",
       "5  0.82  0.115726  0.032380        0.119359     0.031950         True"
      ]
     },
     "execution_count": 66,
     "metadata": {},
     "output_type": "execute_result"
    }
   ],
   "source": [
    "thr_grid = [i / 100 for i in range(77, 83)]\n",
    "thr_grid_recall_train = pd.DataFrame(glm_model.recall(thr_grid, train=True), columns=['thr', 'RECALL'])\n",
    "thr_grid_fpr_train = pd.DataFrame(glm_model.fpr(thr_grid, train=True), columns=['thr', 'FPR'])\n",
    "thr_grid_recall_valid = pd.DataFrame(glm_model.recall(thr_grid, valid=True), columns=['thr', 'RECALL (valid)'])\n",
    "thr_grid_fpr_valid = pd.DataFrame(glm_model.fpr(thr_grid, valid=True), columns=['thr', 'FPR (valid)'])\n",
    "\n",
    "thr_grid = thr_grid_recall_train.merge(thr_grid_fpr_train).merge(thr_grid_recall_valid).merge(thr_grid_fpr_valid)\n",
    "thr_grid['< min_error'] = thr_grid['FPR (valid)'] <= usr_min_error\n",
    "glm_thr_grid = thr_grid\n",
    "glm_sel_thr = thr_grid.loc[thr_grid['< min_error'], 'thr'].max()\n",
    "\n",
    "glm_thr_grid"
   ]
  },
  {
   "cell_type": "code",
   "execution_count": 67,
   "metadata": {
    "scrolled": false
   },
   "outputs": [
    {
     "name": "stdout",
     "output_type": "stream",
     "text": [
      "Could not find exact threshold 0.82; using closest threshold found 0.8201970982667255.\n",
      "Confusion Matrix (Act/Pred) @ threshold = 0.8201970982667255: \n"
     ]
    },
    {
     "data": {
      "text/html": [
       "<div style=\"overflow:auto\"><table style=\"width:50%\"><tr><td><b></b></td>\n",
       "<td><b>0</b></td>\n",
       "<td><b>1</b></td>\n",
       "<td><b>Error</b></td>\n",
       "<td><b>Rate</b></td></tr>\n",
       "<tr><td>0</td>\n",
       "<td>158644.0</td>\n",
       "<td>5236.0</td>\n",
       "<td>0.032</td>\n",
       "<td> (5236.0/163880.0)</td></tr>\n",
       "<tr><td>1</td>\n",
       "<td>10381.0</td>\n",
       "<td>1407.0</td>\n",
       "<td>0.8806</td>\n",
       "<td> (10381.0/11788.0)</td></tr>\n",
       "<tr><td>Total</td>\n",
       "<td>169025.0</td>\n",
       "<td>6643.0</td>\n",
       "<td>0.0889</td>\n",
       "<td> (15617.0/175668.0)</td></tr></table></div>"
      ],
      "text/plain": [
       "       0       1     Error    Rate\n",
       "-----  ------  ----  -------  ------------------\n",
       "0      158644  5236  0.032    (5236.0/163880.0)\n",
       "1      10381   1407  0.8806   (10381.0/11788.0)\n",
       "Total  169025  6643  0.0889   (15617.0/175668.0)"
      ]
     },
     "metadata": {},
     "output_type": "display_data"
    },
    {
     "data": {
      "text/plain": []
     },
     "execution_count": 67,
     "metadata": {},
     "output_type": "execute_result"
    }
   ],
   "source": [
    "glm_model.model_performance(valid=True) \\\n",
    "    .confusion_matrix(thresholds=[glm_sel_thr])"
   ]
  },
  {
   "cell_type": "code",
   "execution_count": 68,
   "metadata": {
    "scrolled": false
   },
   "outputs": [
    {
     "data": {
      "image/png": "[encoded data removed]",
      "text/plain": [
       "<matplotlib.figure.Figure at 0x7f0c6a5b6d68>"
      ]
     },
     "metadata": {},
     "output_type": "display_data"
    }
   ],
   "source": [
    "tmp = glm_model.model_performance(test)\n",
    "from matplotlib import pyplot as plt\n",
    "plt.figure(figsize=(6, 6))\n",
    "tmp.plot()\n",
    "\n",
    "# TODO: in presentation add line at y = .95"
   ]
  },
  {
   "cell_type": "markdown",
   "metadata": {},
   "source": [
    "### Business Metrics"
   ]
  },
  {
   "cell_type": "code",
   "execution_count": 48,
   "metadata": {},
   "outputs": [],
   "source": [
    "from loan_utils import calc_roi"
   ]
  },
  {
   "cell_type": "code",
   "execution_count": 49,
   "metadata": {
    "scrolled": true
   },
   "outputs": [
    {
     "name": "stdout",
     "output_type": "stream",
     "text": [
      "glm prediction progress: |████████████████████████████████████████████████| 100%\n"
     ]
    }
   ],
   "source": [
    "# get porfolio stats with specific threshold for default detection\n",
    "res = df.cbind(glm_model.predict(df))\n",
    "res = res[res['loan_status'] != 'Current']"
   ]
  },
  {
   "cell_type": "code",
   "execution_count": 50,
   "metadata": {
    "scrolled": false
   },
   "outputs": [
    {
     "data": {
      "text/html": [
       "<table>\n",
       "<thead>\n",
       "<tr><th style=\"text-align: right;\">  Issue Year</th><th style=\"text-align: right;\">  REVENUE (in mln)</th><th style=\"text-align: right;\">  PROFIT (in mln)</th><th style=\"text-align: right;\">  ROI (%)</th><th style=\"text-align: right;\">  DEFAULT RATE(%)</th><th style=\"text-align: right;\">  LOSS (in mln)</th></tr>\n",
       "</thead>\n",
       "<tbody>\n",
       "<tr><td style=\"text-align: right;\">        2007</td><td style=\"text-align: right;\">              4.72</td><td style=\"text-align: right;\">            -0.25</td><td style=\"text-align: right;\">    -5.1 </td><td style=\"text-align: right;\">          26.1231</td><td style=\"text-align: right;\">       0.740685</td></tr>\n",
       "<tr><td style=\"text-align: right;\">        2008</td><td style=\"text-align: right;\">             19.95</td><td style=\"text-align: right;\">            -0.78</td><td style=\"text-align: right;\">    -3.75</td><td style=\"text-align: right;\">          20.6633</td><td style=\"text-align: right;\">       2.54769 </td></tr>\n",
       "<tr><td style=\"text-align: right;\">        2009</td><td style=\"text-align: right;\">             54.56</td><td style=\"text-align: right;\">             3.91</td><td style=\"text-align: right;\">     7.72</td><td style=\"text-align: right;\">          13.6073</td><td style=\"text-align: right;\">       3.50553 </td></tr>\n",
       "<tr><td style=\"text-align: right;\">        2010</td><td style=\"text-align: right;\">            139.33</td><td style=\"text-align: right;\">             8.7 </td><td style=\"text-align: right;\">     6.66</td><td style=\"text-align: right;\">          14.0341</td><td style=\"text-align: right;\">       7.97851 </td></tr>\n",
       "<tr><td style=\"text-align: right;\">        2011</td><td style=\"text-align: right;\">            244.18</td><td style=\"text-align: right;\">            14.87</td><td style=\"text-align: right;\">     6.48</td><td style=\"text-align: right;\">          16.523 </td><td style=\"text-align: right;\">      18.2602  </td></tr>\n",
       "<tr><td style=\"text-align: right;\">        2012</td><td style=\"text-align: right;\">            697.05</td><td style=\"text-align: right;\">            52.24</td><td style=\"text-align: right;\">     8.1 </td><td style=\"text-align: right;\">          16.7309</td><td style=\"text-align: right;\">      48.3926  </td></tr>\n",
       "<tr><td style=\"text-align: right;\">        2013</td><td style=\"text-align: right;\">           1066.97</td><td style=\"text-align: right;\">             9.9 </td><td style=\"text-align: right;\">     0.94</td><td style=\"text-align: right;\">          22.9503</td><td style=\"text-align: right;\">     118.255   </td></tr>\n",
       "<tr><td style=\"text-align: right;\">        2014</td><td style=\"text-align: right;\">            955.25</td><td style=\"text-align: right;\">          -106.32</td><td style=\"text-align: right;\">   -10.01</td><td style=\"text-align: right;\">          26.2171</td><td style=\"text-align: right;\">     189.691   </td></tr>\n",
       "<tr><td style=\"text-align: right;\">        2015</td><td style=\"text-align: right;\">            363.32</td><td style=\"text-align: right;\">           -88.72</td><td style=\"text-align: right;\">   -19.63</td><td style=\"text-align: right;\">          25.4613</td><td style=\"text-align: right;\">     102.356   </td></tr>\n",
       "</tbody>\n",
       "</table>"
      ]
     },
     "metadata": {},
     "output_type": "display_data"
    },
    {
     "data": {
      "text/plain": []
     },
     "execution_count": 50,
     "metadata": {},
     "output_type": "execute_result"
    }
   ],
   "source": [
    "calc_roi(res, 1.0)"
   ]
  },
  {
   "cell_type": "code",
   "execution_count": 51,
   "metadata": {
    "scrolled": true
   },
   "outputs": [
    {
     "data": {
      "text/html": [
       "<table>\n",
       "<thead>\n",
       "<tr><th style=\"text-align: right;\">  Issue Year</th><th style=\"text-align: right;\">  REVENUE (in mln)</th><th style=\"text-align: right;\">  PROFIT (in mln)</th><th style=\"text-align: right;\">  ROI (%)</th><th style=\"text-align: right;\">  DEFAULT RATE(%)</th><th style=\"text-align: right;\">  LOSS (in mln)</th></tr>\n",
       "</thead>\n",
       "<tbody>\n",
       "<tr><td style=\"text-align: right;\">        2007</td><td style=\"text-align: right;\">              4.71</td><td style=\"text-align: right;\">            -0.25</td><td style=\"text-align: right;\">    -5.12</td><td style=\"text-align: right;\">          26.1667</td><td style=\"text-align: right;\">       0.740685</td></tr>\n",
       "<tr><td style=\"text-align: right;\">        2008</td><td style=\"text-align: right;\">             19.85</td><td style=\"text-align: right;\">            -0.78</td><td style=\"text-align: right;\">    -3.79</td><td style=\"text-align: right;\">          20.6587</td><td style=\"text-align: right;\">       2.53992 </td></tr>\n",
       "<tr><td style=\"text-align: right;\">        2009</td><td style=\"text-align: right;\">             52.91</td><td style=\"text-align: right;\">             3.75</td><td style=\"text-align: right;\">     7.62</td><td style=\"text-align: right;\">          13.6373</td><td style=\"text-align: right;\">       3.43568 </td></tr>\n",
       "<tr><td style=\"text-align: right;\">        2010</td><td style=\"text-align: right;\">            137.74</td><td style=\"text-align: right;\">             8.72</td><td style=\"text-align: right;\">     6.76</td><td style=\"text-align: right;\">          13.8465</td><td style=\"text-align: right;\">       7.73911 </td></tr>\n",
       "<tr><td style=\"text-align: right;\">        2011</td><td style=\"text-align: right;\">            239.68</td><td style=\"text-align: right;\">            15.37</td><td style=\"text-align: right;\">     6.85</td><td style=\"text-align: right;\">          16.165 </td><td style=\"text-align: right;\">      17.1589  </td></tr>\n",
       "<tr><td style=\"text-align: right;\">        2012</td><td style=\"text-align: right;\">            621.91</td><td style=\"text-align: right;\">            47.85</td><td style=\"text-align: right;\">     8.33</td><td style=\"text-align: right;\">          15.5571</td><td style=\"text-align: right;\">      39.7486  </td></tr>\n",
       "<tr><td style=\"text-align: right;\">        2013</td><td style=\"text-align: right;\">            906.75</td><td style=\"text-align: right;\">            14.71</td><td style=\"text-align: right;\">     1.65</td><td style=\"text-align: right;\">          20.7409</td><td style=\"text-align: right;\">      90.4085  </td></tr>\n",
       "<tr><td style=\"text-align: right;\">        2014</td><td style=\"text-align: right;\">            937.48</td><td style=\"text-align: right;\">          -103.03</td><td style=\"text-align: right;\">    -9.9 </td><td style=\"text-align: right;\">          25.846 </td><td style=\"text-align: right;\">     184.142   </td></tr>\n",
       "<tr><td style=\"text-align: right;\">        2015</td><td style=\"text-align: right;\">            357.94</td><td style=\"text-align: right;\">           -85.14</td><td style=\"text-align: right;\">   -19.21</td><td style=\"text-align: right;\">          25.0181</td><td style=\"text-align: right;\">      98.4319  </td></tr>\n",
       "</tbody>\n",
       "</table>"
      ]
     },
     "metadata": {},
     "output_type": "display_data"
    },
    {
     "data": {
      "text/plain": []
     },
     "execution_count": 51,
     "metadata": {},
     "output_type": "execute_result"
    }
   ],
   "source": [
    "calc_roi(res, glm_sel_thr)"
   ]
  },
  {
   "cell_type": "markdown",
   "metadata": {},
   "source": [
    "### Distributed Random Forest\n",
    "\n",
    "http://docs.h2o.ai/h2o/latest-stable/h2o-docs/booklets/GLMBooklet.pdf  \n",
    "http://docs.h2o.ai/h2o/latest-stable/h2o-docs/data-science/glm.html"
   ]
  },
  {
   "cell_type": "markdown",
   "metadata": {},
   "source": [
    "#### Tune Forest Parameters"
   ]
  },
  {
   "cell_type": "code",
   "execution_count": 119,
   "metadata": {
    "scrolled": false
   },
   "outputs": [
    {
     "name": "stdout",
     "output_type": "stream",
     "text": [
      "drf Grid Build progress: |████████████████████████████████████████████████| 100%\n",
      "Errors/Warnings building gridsearch model\n",
      "\n",
      "Hyper-parameter: max_depth, 20\n",
      "Hyper-parameter: ntrees, 100\n",
      "failure_details: DistributedException from ip-172-31-46-219.us-east-2.compute.internal/172.31.46.219:54321: 'unimplemented'\n",
      "failure_stack_traces: DistributedException from ip-172-31-46-219.us-east-2.compute.internal/172.31.46.219:54321: 'unimplemented', caused by water.exceptions.H2OIllegalArgumentException: unimplemented\n",
      "\tat water.MRTask.getResult(MRTask.java:478)\n",
      "\tat water.MRTask.getResult(MRTask.java:486)\n",
      "\tat water.MRTask.doAll(MRTask.java:390)\n",
      "\tat water.MRTask.doAll(MRTask.java:384)\n",
      "\tat hex.tree.Score.scoreAndMakeModelMetrics(Score.java:133)\n",
      "\tat hex.tree.SharedTree.doScoringAndSaveModel(SharedTree.java:705)\n",
      "\tat hex.tree.SharedTree$Driver.scoreAndBuildTrees(SharedTree.java:420)\n",
      "\tat hex.tree.SharedTree$Driver.computeImpl(SharedTree.java:352)\n",
      "\tat hex.ModelBuilder$Driver.compute2(ModelBuilder.java:206)\n",
      "\tat hex.ModelBuilder.trainModelNested(ModelBuilder.java:262)\n",
      "\tat hex.grid.GridSearch.startBuildModel(GridSearch.java:332)\n",
      "\tat hex.grid.GridSearch.buildModel(GridSearch.java:314)\n",
      "\tat hex.grid.GridSearch.gridSearch(GridSearch.java:213)\n",
      "\tat hex.grid.GridSearch.access$000(GridSearch.java:68)\n",
      "\tat hex.grid.GridSearch$1.compute2(GridSearch.java:135)\n",
      "\tat water.H2O$H2OCountedCompleter.compute(H2O.java:1263)\n",
      "\tat jsr166y.CountedCompleter.exec(CountedCompleter.java:468)\n",
      "\tat jsr166y.ForkJoinTask.doExec(ForkJoinTask.java:263)\n",
      "\tat jsr166y.ForkJoinPool$WorkQueue.runTask(ForkJoinPool.java:974)\n",
      "\tat jsr166y.ForkJoinPool.runWorker(ForkJoinPool.java:1477)\n",
      "\tat jsr166y.ForkJoinWorkerThread.run(ForkJoinWorkerThread.java:104)\n",
      "Caused by: water.exceptions.H2OIllegalArgumentException: unimplemented\n",
      "\tat water.H2O.unimpl(H2O.java:988)\n",
      "\tat hex.Distribution.deviance(Distribution.java:103)\n",
      "\tat hex.Model.deviance(Model.java:669)\n",
      "\tat hex.ModelMetricsRegression$MetricBuilderRegression.perRow(ModelMetricsRegression.java:122)\n",
      "\tat hex.tree.Score.map(Score.java:94)\n",
      "\tat water.MRTask.compute2(MRTask.java:640)\n",
      "\tat water.MRTask.compute2(MRTask.java:591)\n",
      "\tat water.MRTask.compute2(MRTask.java:591)\n",
      "\tat water.MRTask.compute2(MRTask.java:591)\n",
      "\tat water.H2O$H2OCountedCompleter.compute1(H2O.java:1266)\n",
      "\tat hex.tree.Score$Icer.compute1(Score$Icer.java)\n",
      "\tat water.H2O$H2OCountedCompleter.compute(H2O.java:1262)\n",
      "\t... 5 more\n",
      "\n",
      "\n",
      "Hyper-parameter: max_depth, 22\n",
      "Hyper-parameter: ntrees, 100\n",
      "failure_details: DistributedException from ip-172-31-46-219.us-east-2.compute.internal/172.31.46.219:54321: 'unimplemented'\n",
      "failure_stack_traces: DistributedException from ip-172-31-46-219.us-east-2.compute.internal/172.31.46.219:54321: 'unimplemented', caused by water.exceptions.H2OIllegalArgumentException: unimplemented\n",
      "\tat water.MRTask.getResult(MRTask.java:478)\n",
      "\tat water.MRTask.getResult(MRTask.java:486)\n",
      "\tat water.MRTask.doAll(MRTask.java:390)\n",
      "\tat water.MRTask.doAll(MRTask.java:384)\n",
      "\tat hex.tree.Score.scoreAndMakeModelMetrics(Score.java:133)\n",
      "\tat hex.tree.SharedTree.doScoringAndSaveModel(SharedTree.java:705)\n",
      "\tat hex.tree.SharedTree$Driver.scoreAndBuildTrees(SharedTree.java:420)\n",
      "\tat hex.tree.SharedTree$Driver.computeImpl(SharedTree.java:352)\n",
      "\tat hex.ModelBuilder$Driver.compute2(ModelBuilder.java:206)\n",
      "\tat hex.ModelBuilder.trainModelNested(ModelBuilder.java:262)\n",
      "\tat hex.grid.GridSearch.startBuildModel(GridSearch.java:332)\n",
      "\tat hex.grid.GridSearch.buildModel(GridSearch.java:314)\n",
      "\tat hex.grid.GridSearch.gridSearch(GridSearch.java:213)\n",
      "\tat hex.grid.GridSearch.access$000(GridSearch.java:68)\n",
      "\tat hex.grid.GridSearch$1.compute2(GridSearch.java:135)\n",
      "\tat water.H2O$H2OCountedCompleter.compute(H2O.java:1263)\n",
      "\tat jsr166y.CountedCompleter.exec(CountedCompleter.java:468)\n",
      "\tat jsr166y.ForkJoinTask.doExec(ForkJoinTask.java:263)\n",
      "\tat jsr166y.ForkJoinPool$WorkQueue.runTask(ForkJoinPool.java:974)\n",
      "\tat jsr166y.ForkJoinPool.runWorker(ForkJoinPool.java:1477)\n",
      "\tat jsr166y.ForkJoinWorkerThread.run(ForkJoinWorkerThread.java:104)\n",
      "Caused by: water.exceptions.H2OIllegalArgumentException: unimplemented\n",
      "\tat water.H2O.unimpl(H2O.java:988)\n",
      "\tat hex.Distribution.deviance(Distribution.java:103)\n",
      "\tat hex.Model.deviance(Model.java:669)\n",
      "\tat hex.ModelMetricsRegression$MetricBuilderRegression.perRow(ModelMetricsRegression.java:122)\n",
      "\tat hex.tree.Score.map(Score.java:94)\n",
      "\tat water.MRTask.compute2(MRTask.java:640)\n",
      "\tat water.MRTask.compute2(MRTask.java:591)\n",
      "\tat water.MRTask.compute2(MRTask.java:591)\n",
      "\tat water.MRTask.compute2(MRTask.java:591)\n",
      "\tat water.H2O$H2OCountedCompleter.compute1(H2O.java:1266)\n",
      "\tat hex.tree.Score$Icer.compute1(Score$Icer.java)\n",
      "\tat water.H2O$H2OCountedCompleter.compute(H2O.java:1262)\n",
      "\t... 5 more\n",
      "\n",
      "\n"
     ]
    },
    {
     "ename": "ValueError",
     "evalue": "DistributedException from ip-172-31-46-219.us-east-2.compute.internal/172.31.46.219:54321: 'unimplemented'\nDistributedException from ip-172-31-46-219.us-east-2.compute.internal/172.31.46.219:54321: 'unimplemented'\n",
     "output_type": "error",
     "traceback": [
      "\u001b[0;31m---------------------------------------------------------------------------\u001b[0m",
      "\u001b[0;31mValueError\u001b[0m                                Traceback (most recent call last)",
      "\u001b[0;32m<ipython-input-119-2048bb95bc2c>\u001b[0m in \u001b[0;36m<module>\u001b[0;34m()\u001b[0m\n\u001b[1;32m     14\u001b[0m     )\n\u001b[1;32m     15\u001b[0m \u001b[0;34m\u001b[0m\u001b[0m\n\u001b[0;32m---> 16\u001b[0;31m \u001b[0mdrf_grid\u001b[0m\u001b[0;34m.\u001b[0m\u001b[0mtrain\u001b[0m\u001b[0;34m(\u001b[0m\u001b[0mpredictors\u001b[0m\u001b[0;34m,\u001b[0m \u001b[0mresponse\u001b[0m\u001b[0;34m,\u001b[0m \u001b[0mtraining_frame\u001b[0m\u001b[0;34m=\u001b[0m\u001b[0mtrain\u001b[0m\u001b[0;34m,\u001b[0m \u001b[0mvalidation_frame\u001b[0m\u001b[0;34m=\u001b[0m\u001b[0mvalidate\u001b[0m\u001b[0;34m,\u001b[0m \u001b[0mweights_column\u001b[0m \u001b[0;34m=\u001b[0m \u001b[0mweight\u001b[0m\u001b[0;34m)\u001b[0m\u001b[0;34m\u001b[0m\u001b[0m\n\u001b[0m",
      "\u001b[0;32m~/.local/share/virtualenvs/ml-loan-DGzgfzmH/lib/python3.5/site-packages/h2o/grid/grid_search.py\u001b[0m in \u001b[0;36mtrain\u001b[0;34m(self, x, y, training_frame, offset_column, fold_column, weights_column, validation_frame, **params)\u001b[0m\n\u001b[1;32m    187\u001b[0m                     \u001b[0;32mraise\u001b[0m \u001b[0mValueError\u001b[0m\u001b[0;34m(\u001b[0m\u001b[0;34m'y must be a single column reference'\u001b[0m\u001b[0;34m)\u001b[0m\u001b[0;34m\u001b[0m\u001b[0m\n\u001b[1;32m    188\u001b[0m             \u001b[0mself\u001b[0m\u001b[0;34m.\u001b[0m\u001b[0m_estimator_type\u001b[0m \u001b[0;34m=\u001b[0m \u001b[0;34m\"classifier\"\u001b[0m \u001b[0;32mif\u001b[0m \u001b[0mtframe\u001b[0m\u001b[0;34m[\u001b[0m\u001b[0my\u001b[0m\u001b[0;34m]\u001b[0m\u001b[0;34m.\u001b[0m\u001b[0misfactor\u001b[0m\u001b[0;34m(\u001b[0m\u001b[0;34m)\u001b[0m \u001b[0;32melse\u001b[0m \u001b[0;34m\"regressor\"\u001b[0m\u001b[0;34m\u001b[0m\u001b[0m\n\u001b[0;32m--> 189\u001b[0;31m         \u001b[0mself\u001b[0m\u001b[0;34m.\u001b[0m\u001b[0mbuild_model\u001b[0m\u001b[0;34m(\u001b[0m\u001b[0mparms\u001b[0m\u001b[0;34m)\u001b[0m\u001b[0;34m\u001b[0m\u001b[0m\n\u001b[0m\u001b[1;32m    190\u001b[0m \u001b[0;34m\u001b[0m\u001b[0m\n\u001b[1;32m    191\u001b[0m \u001b[0;34m\u001b[0m\u001b[0m\n",
      "\u001b[0;32m~/.local/share/virtualenvs/ml-loan-DGzgfzmH/lib/python3.5/site-packages/h2o/grid/grid_search.py\u001b[0m in \u001b[0;36mbuild_model\u001b[0;34m(self, algo_params)\u001b[0m\n\u001b[1;32m    202\u001b[0m         \u001b[0;32mif\u001b[0m \u001b[0mis_auto_encoder\u001b[0m \u001b[0;32mand\u001b[0m \u001b[0my\u001b[0m \u001b[0;32mis\u001b[0m \u001b[0;32mnot\u001b[0m \u001b[0;32mNone\u001b[0m\u001b[0;34m:\u001b[0m \u001b[0;32mraise\u001b[0m \u001b[0mValueError\u001b[0m\u001b[0;34m(\u001b[0m\u001b[0;34m\"y should not be specified for autoencoder.\"\u001b[0m\u001b[0;34m)\u001b[0m\u001b[0;34m\u001b[0m\u001b[0m\n\u001b[1;32m    203\u001b[0m         \u001b[0;32mif\u001b[0m \u001b[0;32mnot\u001b[0m \u001b[0mis_unsupervised\u001b[0m \u001b[0;32mand\u001b[0m \u001b[0my\u001b[0m \u001b[0;32mis\u001b[0m \u001b[0;32mNone\u001b[0m\u001b[0;34m:\u001b[0m \u001b[0;32mraise\u001b[0m \u001b[0mValueError\u001b[0m\u001b[0;34m(\u001b[0m\u001b[0;34m\"Missing response\"\u001b[0m\u001b[0;34m)\u001b[0m\u001b[0;34m\u001b[0m\u001b[0m\n\u001b[0;32m--> 204\u001b[0;31m         \u001b[0mself\u001b[0m\u001b[0;34m.\u001b[0m\u001b[0m_model_build\u001b[0m\u001b[0;34m(\u001b[0m\u001b[0mx\u001b[0m\u001b[0;34m,\u001b[0m \u001b[0my\u001b[0m\u001b[0;34m,\u001b[0m \u001b[0mtraining_frame\u001b[0m\u001b[0;34m,\u001b[0m \u001b[0mvalidation_frame\u001b[0m\u001b[0;34m,\u001b[0m \u001b[0malgo_params\u001b[0m\u001b[0;34m)\u001b[0m\u001b[0;34m\u001b[0m\u001b[0m\n\u001b[0m\u001b[1;32m    205\u001b[0m \u001b[0;34m\u001b[0m\u001b[0m\n\u001b[1;32m    206\u001b[0m \u001b[0;34m\u001b[0m\u001b[0m\n",
      "\u001b[0;32m~/.local/share/virtualenvs/ml-loan-DGzgfzmH/lib/python3.5/site-packages/h2o/grid/grid_search.py\u001b[0m in \u001b[0;36m_model_build\u001b[0;34m(self, x, y, tframe, vframe, kwargs)\u001b[0m\n\u001b[1;32m    261\u001b[0m         \u001b[0;32melse\u001b[0m\u001b[0;34m:\u001b[0m\u001b[0;34m\u001b[0m\u001b[0m\n\u001b[1;32m    262\u001b[0m             \u001b[0;32mif\u001b[0m \u001b[0mlen\u001b[0m\u001b[0;34m(\u001b[0m\u001b[0mfailure_messages_stacks\u001b[0m\u001b[0;34m)\u001b[0m\u001b[0;34m>\u001b[0m\u001b[0;36m0\u001b[0m\u001b[0;34m:\u001b[0m\u001b[0;34m\u001b[0m\u001b[0m\n\u001b[0;32m--> 263\u001b[0;31m                 \u001b[0;32mraise\u001b[0m \u001b[0mValueError\u001b[0m\u001b[0;34m(\u001b[0m\u001b[0mfailure_messages_stacks\u001b[0m\u001b[0;34m)\u001b[0m\u001b[0;34m\u001b[0m\u001b[0m\n\u001b[0m\u001b[1;32m    264\u001b[0m             \u001b[0;32melse\u001b[0m\u001b[0;34m:\u001b[0m\u001b[0;34m\u001b[0m\u001b[0m\n\u001b[1;32m    265\u001b[0m                 \u001b[0;32mraise\u001b[0m \u001b[0mValueError\u001b[0m\u001b[0;34m(\u001b[0m\u001b[0;34m\"Gridsearch returns no model due to bad parameter values or other reasons....\"\u001b[0m\u001b[0;34m)\u001b[0m\u001b[0;34m\u001b[0m\u001b[0m\n",
      "\u001b[0;31mValueError\u001b[0m: DistributedException from ip-172-31-46-219.us-east-2.compute.internal/172.31.46.219:54321: 'unimplemented'\nDistributedException from ip-172-31-46-219.us-east-2.compute.internal/172.31.46.219:54321: 'unimplemented'\n"
     ]
    }
   ],
   "source": [
    "from h2o.grid import H2OGridSearch\n",
    "from h2o.estimators.random_forest import H2ORandomForestEstimator\n",
    "import numpy as np\n",
    "\n",
    "h2o.remove('drf_grid')\n",
    "ntrees_grid = [100]\n",
    "depth_grid = [20, 22]\n",
    "\n",
    "drf_grid = H2OGridSearch(\n",
    "        model=H2ORandomForestEstimator(distribution='multinomial'),\n",
    "        hyper_params={'ntrees': ntrees_grid, \n",
    "                      'max_depth': depth_grid},\n",
    "        grid_id='drf_grid'\n",
    "    )\n",
    "\n",
    "drf_grid.train(predictors, response, training_frame=train, validation_frame=validate, weights_column = weight)"
   ]
  },
  {
   "cell_type": "code",
   "execution_count": 144,
   "metadata": {
    "scrolled": true
   },
   "outputs": [
    {
     "data": {
      "text/html": [
       "<div>\n",
       "<style scoped>\n",
       "    .dataframe tbody tr th:only-of-type {\n",
       "        vertical-align: middle;\n",
       "    }\n",
       "\n",
       "    .dataframe tbody tr th {\n",
       "        vertical-align: top;\n",
       "    }\n",
       "\n",
       "    .dataframe thead th {\n",
       "        text-align: right;\n",
       "    }\n",
       "</style>\n",
       "<table border=\"1\" class=\"dataframe\">\n",
       "  <thead>\n",
       "    <tr style=\"text-align: right;\">\n",
       "      <th></th>\n",
       "      <th>Model_ID</th>\n",
       "      <th>AUC</th>\n",
       "      <th>ntrees</th>\n",
       "      <th>max_depth</th>\n",
       "    </tr>\n",
       "  </thead>\n",
       "  <tbody>\n",
       "    <tr>\n",
       "      <th>0</th>\n",
       "      <td>drf_grid2_model_6</td>\n",
       "      <td>0.751718</td>\n",
       "      <td>100</td>\n",
       "      <td>15</td>\n",
       "    </tr>\n",
       "    <tr>\n",
       "      <th>11</th>\n",
       "      <td>drf_grid2_model_8</td>\n",
       "      <td>0.751448</td>\n",
       "      <td>80</td>\n",
       "      <td>15</td>\n",
       "    </tr>\n",
       "    <tr>\n",
       "      <th>15</th>\n",
       "      <td>drf_grid2_model_12</td>\n",
       "      <td>0.751344</td>\n",
       "      <td>100</td>\n",
       "      <td>17</td>\n",
       "    </tr>\n",
       "    <tr>\n",
       "      <th>4</th>\n",
       "      <td>drf_grid2_model_9</td>\n",
       "      <td>0.750464</td>\n",
       "      <td>80</td>\n",
       "      <td>17</td>\n",
       "    </tr>\n",
       "    <tr>\n",
       "      <th>7</th>\n",
       "      <td>drf_grid2_model_13</td>\n",
       "      <td>0.749643</td>\n",
       "      <td>100</td>\n",
       "      <td>19</td>\n",
       "    </tr>\n",
       "    <tr>\n",
       "      <th>5</th>\n",
       "      <td>drf_grid2_model_10</td>\n",
       "      <td>0.749088</td>\n",
       "      <td>80</td>\n",
       "      <td>19</td>\n",
       "    </tr>\n",
       "    <tr>\n",
       "      <th>1</th>\n",
       "      <td>drf_grid2_model_15</td>\n",
       "      <td>0.748506</td>\n",
       "      <td>120</td>\n",
       "      <td>20</td>\n",
       "    </tr>\n",
       "    <tr>\n",
       "      <th>16</th>\n",
       "      <td>drf_grid2_model_18</td>\n",
       "      <td>0.748389</td>\n",
       "      <td>150</td>\n",
       "      <td>20</td>\n",
       "    </tr>\n",
       "    <tr>\n",
       "      <th>12</th>\n",
       "      <td>drf_grid2_model_7</td>\n",
       "      <td>0.748097</td>\n",
       "      <td>120</td>\n",
       "      <td>13</td>\n",
       "    </tr>\n",
       "    <tr>\n",
       "      <th>6</th>\n",
       "      <td>drf_grid2_model_1</td>\n",
       "      <td>0.741379</td>\n",
       "      <td>100</td>\n",
       "      <td>10</td>\n",
       "    </tr>\n",
       "  </tbody>\n",
       "</table>\n",
       "</div>"
      ],
      "text/plain": [
       "              Model_ID       AUC  ntrees  max_depth\n",
       "0    drf_grid2_model_6  0.751718     100         15\n",
       "11   drf_grid2_model_8  0.751448      80         15\n",
       "15  drf_grid2_model_12  0.751344     100         17\n",
       "4    drf_grid2_model_9  0.750464      80         17\n",
       "7   drf_grid2_model_13  0.749643     100         19\n",
       "5   drf_grid2_model_10  0.749088      80         19\n",
       "1   drf_grid2_model_15  0.748506     120         20\n",
       "16  drf_grid2_model_18  0.748389     150         20\n",
       "12   drf_grid2_model_7  0.748097     120         13\n",
       "6    drf_grid2_model_1  0.741379     100         10"
      ]
     },
     "execution_count": 144,
     "metadata": {},
     "output_type": "execute_result"
    }
   ],
   "source": [
    "# get the AUC on validation set:\n",
    "pd_auc = pd.DataFrame(list(drf_grid.auc(valid=True).items()), columns=['Model_ID', 'AUC']).sort_values('AUC', ascending=False)\n",
    "model_ids = pd_auc['Model_ID'].values\n",
    "\n",
    "pd_auc['ntrees'] = np.array([drf_grid.get_hyperparams_dict(model, display=False)['ntrees'] for model in model_ids])\n",
    "pd_auc['max_depth'] = np.array([drf_grid.get_hyperparams_dict(model, display=False)['max_depth'] for model in model_ids])\n",
    "\n",
    "pd_auc = pd_auc.sort_values('AUC', ascending=False)\n",
    "\n",
    "# select best model hyperparameters and remove the grid\n",
    "drf_best_model_depth = pd_auc['max_depth'].values[0]\n",
    "drf_best_model_ntrees = pd_auc['ntrees'].values[0]\n",
    "drf_best_model_AUC = pd_auc['AUC'].values[0]\n",
    "\n",
    "pd_auc.head(10)"
   ]
  },
  {
   "cell_type": "markdown",
   "metadata": {},
   "source": [
    "#### Final model\n",
    "\n",
    "- with 10 fold cross-validation for bulidng ensemble"
   ]
  },
  {
   "cell_type": "code",
   "execution_count": 50,
   "metadata": {},
   "outputs": [
    {
     "name": "stdout",
     "output_type": "stream",
     "text": [
      "drf Model Build progress: | (failed)\n"
     ]
    },
    {
     "ename": "OSError",
     "evalue": "Job with key $0301ac1f2edb32d4ffffffff$_abd0e73b1364fa84e4508abb49134d0f failed with an exception: DistributedException from ip-172-31-46-219.us-east-2.compute.internal/172.31.46.219:54321: 'unimplemented', caused by water.exceptions.H2OIllegalArgumentException: unimplemented\nstacktrace: \nDistributedException from ip-172-31-46-219.us-east-2.compute.internal/172.31.46.219:54321: 'unimplemented', caused by water.exceptions.H2OIllegalArgumentException: unimplemented\n\tat water.MRTask.getResult(MRTask.java:478)\n\tat water.MRTask.getResult(MRTask.java:486)\n\tat water.MRTask.doAll(MRTask.java:390)\n\tat water.MRTask.doAll(MRTask.java:384)\n\tat hex.tree.Score.scoreAndMakeModelMetrics(Score.java:133)\n\tat hex.tree.SharedTree.doScoringAndSaveModel(SharedTree.java:705)\n\tat hex.tree.SharedTree$Driver.scoreAndBuildTrees(SharedTree.java:420)\n\tat hex.tree.SharedTree$Driver.computeImpl(SharedTree.java:352)\n\tat hex.ModelBuilder$Driver.compute2(ModelBuilder.java:206)\n\tat water.H2O$H2OCountedCompleter.compute(H2O.java:1263)\n\tat jsr166y.CountedCompleter.exec(CountedCompleter.java:468)\n\tat jsr166y.ForkJoinTask.doExec(ForkJoinTask.java:263)\n\tat jsr166y.ForkJoinPool$WorkQueue.runTask(ForkJoinPool.java:974)\n\tat jsr166y.ForkJoinPool.runWorker(ForkJoinPool.java:1477)\n\tat jsr166y.ForkJoinWorkerThread.run(ForkJoinWorkerThread.java:104)\nCaused by: water.exceptions.H2OIllegalArgumentException: unimplemented\n\tat water.H2O.unimpl(H2O.java:988)\n\tat hex.Distribution.deviance(Distribution.java:103)\n\tat hex.Model.deviance(Model.java:669)\n\tat hex.ModelMetricsRegression$MetricBuilderRegression.perRow(ModelMetricsRegression.java:122)\n\tat hex.tree.Score.map(Score.java:94)\n\tat water.MRTask.compute2(MRTask.java:640)\n\tat water.MRTask.compute2(MRTask.java:591)\n\tat water.MRTask.compute2(MRTask.java:591)\n\tat water.MRTask.compute2(MRTask.java:591)\n\tat water.H2O$H2OCountedCompleter.compute1(H2O.java:1266)\n\tat hex.tree.Score$Icer.compute1(Score$Icer.java)\n\tat water.H2O$H2OCountedCompleter.compute(H2O.java:1262)\n\t... 5 more\n",
     "output_type": "error",
     "traceback": [
      "\u001b[0;31m---------------------------------------------------------------------------\u001b[0m",
      "\u001b[0;31mOSError\u001b[0m                                   Traceback (most recent call last)",
      "\u001b[0;32m<ipython-input-50-d62c27a268b0>\u001b[0m in \u001b[0;36m<module>\u001b[0;34m()\u001b[0m\n\u001b[1;32m     12\u001b[0m                                     )\n\u001b[1;32m     13\u001b[0m \u001b[0;34m\u001b[0m\u001b[0m\n\u001b[0;32m---> 14\u001b[0;31m \u001b[0mdrf_model\u001b[0m\u001b[0;34m.\u001b[0m\u001b[0mtrain\u001b[0m\u001b[0;34m(\u001b[0m\u001b[0mpredictors\u001b[0m\u001b[0;34m,\u001b[0m \u001b[0mresponse\u001b[0m\u001b[0;34m,\u001b[0m \u001b[0mtraining_frame\u001b[0m\u001b[0;34m=\u001b[0m\u001b[0mtrain\u001b[0m\u001b[0;34m,\u001b[0m \u001b[0mvalidation_frame\u001b[0m\u001b[0;34m=\u001b[0m\u001b[0mvalidate\u001b[0m\u001b[0;34m,\u001b[0m \u001b[0mweights_column\u001b[0m\u001b[0;34m=\u001b[0m\u001b[0mweight\u001b[0m\u001b[0;34m)\u001b[0m\u001b[0;34m\u001b[0m\u001b[0m\n\u001b[0m",
      "\u001b[0;32m~/.local/share/virtualenvs/ml-loan-DGzgfzmH/lib/python3.5/site-packages/h2o/estimators/estimator_base.py\u001b[0m in \u001b[0;36mtrain\u001b[0;34m(self, x, y, training_frame, offset_column, fold_column, weights_column, validation_frame, max_runtime_secs, ignored_columns, model_id, verbose)\u001b[0m\n\u001b[1;32m    206\u001b[0m             \u001b[0;32mreturn\u001b[0m\u001b[0;34m\u001b[0m\u001b[0m\n\u001b[1;32m    207\u001b[0m \u001b[0;34m\u001b[0m\u001b[0m\n\u001b[0;32m--> 208\u001b[0;31m         \u001b[0mmodel\u001b[0m\u001b[0;34m.\u001b[0m\u001b[0mpoll\u001b[0m\u001b[0;34m(\u001b[0m\u001b[0mverbose_model_scoring_history\u001b[0m\u001b[0;34m=\u001b[0m\u001b[0mverbose\u001b[0m\u001b[0;34m)\u001b[0m\u001b[0;34m\u001b[0m\u001b[0m\n\u001b[0m\u001b[1;32m    209\u001b[0m         \u001b[0mmodel_json\u001b[0m \u001b[0;34m=\u001b[0m \u001b[0mh2o\u001b[0m\u001b[0;34m.\u001b[0m\u001b[0mapi\u001b[0m\u001b[0;34m(\u001b[0m\u001b[0;34m\"GET /%d/Models/%s\"\u001b[0m \u001b[0;34m%\u001b[0m \u001b[0;34m(\u001b[0m\u001b[0mrest_ver\u001b[0m\u001b[0;34m,\u001b[0m \u001b[0mmodel\u001b[0m\u001b[0;34m.\u001b[0m\u001b[0mdest_key\u001b[0m\u001b[0;34m)\u001b[0m\u001b[0;34m)\u001b[0m\u001b[0;34m[\u001b[0m\u001b[0;34m\"models\"\u001b[0m\u001b[0;34m]\u001b[0m\u001b[0;34m[\u001b[0m\u001b[0;36m0\u001b[0m\u001b[0;34m]\u001b[0m\u001b[0;34m\u001b[0m\u001b[0m\n\u001b[1;32m    210\u001b[0m         \u001b[0mself\u001b[0m\u001b[0;34m.\u001b[0m\u001b[0m_resolve_model\u001b[0m\u001b[0;34m(\u001b[0m\u001b[0mmodel\u001b[0m\u001b[0;34m.\u001b[0m\u001b[0mdest_key\u001b[0m\u001b[0;34m,\u001b[0m \u001b[0mmodel_json\u001b[0m\u001b[0;34m)\u001b[0m\u001b[0;34m\u001b[0m\u001b[0m\n",
      "\u001b[0;32m~/.local/share/virtualenvs/ml-loan-DGzgfzmH/lib/python3.5/site-packages/h2o/job.py\u001b[0m in \u001b[0;36mpoll\u001b[0;34m(self, verbose_model_scoring_history)\u001b[0m\n\u001b[1;32m     75\u001b[0m             \u001b[0;32mif\u001b[0m \u001b[0;34m(\u001b[0m\u001b[0misinstance\u001b[0m\u001b[0;34m(\u001b[0m\u001b[0mself\u001b[0m\u001b[0;34m.\u001b[0m\u001b[0mjob\u001b[0m\u001b[0;34m,\u001b[0m \u001b[0mdict\u001b[0m\u001b[0;34m)\u001b[0m\u001b[0;34m)\u001b[0m \u001b[0;32mand\u001b[0m \u001b[0;34m(\u001b[0m\u001b[0;34m\"stacktrace\"\u001b[0m \u001b[0;32min\u001b[0m \u001b[0mlist\u001b[0m\u001b[0;34m(\u001b[0m\u001b[0mself\u001b[0m\u001b[0;34m.\u001b[0m\u001b[0mjob\u001b[0m\u001b[0;34m)\u001b[0m\u001b[0;34m)\u001b[0m\u001b[0;34m:\u001b[0m\u001b[0;34m\u001b[0m\u001b[0m\n\u001b[1;32m     76\u001b[0m                 raise EnvironmentError(\"Job with key {} failed with an exception: {}\\nstacktrace: \"\n\u001b[0;32m---> 77\u001b[0;31m                                        \"\\n{}\".format(self.job_key, self.exception, self.job[\"stacktrace\"]))\n\u001b[0m\u001b[1;32m     78\u001b[0m             \u001b[0;32melse\u001b[0m\u001b[0;34m:\u001b[0m\u001b[0;34m\u001b[0m\u001b[0m\n\u001b[1;32m     79\u001b[0m                 \u001b[0;32mraise\u001b[0m \u001b[0mEnvironmentError\u001b[0m\u001b[0;34m(\u001b[0m\u001b[0;34m\"Job with key %s failed with an exception: %s\"\u001b[0m \u001b[0;34m%\u001b[0m \u001b[0;34m(\u001b[0m\u001b[0mself\u001b[0m\u001b[0;34m.\u001b[0m\u001b[0mjob_key\u001b[0m\u001b[0;34m,\u001b[0m \u001b[0mself\u001b[0m\u001b[0;34m.\u001b[0m\u001b[0mexception\u001b[0m\u001b[0;34m)\u001b[0m\u001b[0;34m)\u001b[0m\u001b[0;34m\u001b[0m\u001b[0m\n",
      "\u001b[0;31mOSError\u001b[0m: Job with key $0301ac1f2edb32d4ffffffff$_abd0e73b1364fa84e4508abb49134d0f failed with an exception: DistributedException from ip-172-31-46-219.us-east-2.compute.internal/172.31.46.219:54321: 'unimplemented', caused by water.exceptions.H2OIllegalArgumentException: unimplemented\nstacktrace: \nDistributedException from ip-172-31-46-219.us-east-2.compute.internal/172.31.46.219:54321: 'unimplemented', caused by water.exceptions.H2OIllegalArgumentException: unimplemented\n\tat water.MRTask.getResult(MRTask.java:478)\n\tat water.MRTask.getResult(MRTask.java:486)\n\tat water.MRTask.doAll(MRTask.java:390)\n\tat water.MRTask.doAll(MRTask.java:384)\n\tat hex.tree.Score.scoreAndMakeModelMetrics(Score.java:133)\n\tat hex.tree.SharedTree.doScoringAndSaveModel(SharedTree.java:705)\n\tat hex.tree.SharedTree$Driver.scoreAndBuildTrees(SharedTree.java:420)\n\tat hex.tree.SharedTree$Driver.computeImpl(SharedTree.java:352)\n\tat hex.ModelBuilder$Driver.compute2(ModelBuilder.java:206)\n\tat water.H2O$H2OCountedCompleter.compute(H2O.java:1263)\n\tat jsr166y.CountedCompleter.exec(CountedCompleter.java:468)\n\tat jsr166y.ForkJoinTask.doExec(ForkJoinTask.java:263)\n\tat jsr166y.ForkJoinPool$WorkQueue.runTask(ForkJoinPool.java:974)\n\tat jsr166y.ForkJoinPool.runWorker(ForkJoinPool.java:1477)\n\tat jsr166y.ForkJoinWorkerThread.run(ForkJoinWorkerThread.java:104)\nCaused by: water.exceptions.H2OIllegalArgumentException: unimplemented\n\tat water.H2O.unimpl(H2O.java:988)\n\tat hex.Distribution.deviance(Distribution.java:103)\n\tat hex.Model.deviance(Model.java:669)\n\tat hex.ModelMetricsRegression$MetricBuilderRegression.perRow(ModelMetricsRegression.java:122)\n\tat hex.tree.Score.map(Score.java:94)\n\tat water.MRTask.compute2(MRTask.java:640)\n\tat water.MRTask.compute2(MRTask.java:591)\n\tat water.MRTask.compute2(MRTask.java:591)\n\tat water.MRTask.compute2(MRTask.java:591)\n\tat water.H2O$H2OCountedCompleter.compute1(H2O.java:1266)\n\tat hex.tree.Score$Icer.compute1(Score$Icer.java)\n\tat water.H2O$H2OCountedCompleter.compute(H2O.java:1262)\n\t... 5 more\n"
     ]
    }
   ],
   "source": [
    "from h2o.estimators.random_forest import H2ORandomForestEstimator\n",
    "\n",
    "drf_best_model_ntrees = 100\n",
    "drf_best_model_depth = 20\n",
    "\n",
    "drf_model = H2ORandomForestEstimator(distribution=\"multinomial\", \n",
    "                                    ntrees=int(drf_best_model_ntrees), \n",
    "                                    max_depth=int(drf_best_model_depth), \n",
    "                                    nfolds = 0,\n",
    "                                    seed = 2014,\n",
    "                                    keep_cross_validation_predictions=True\n",
    "                                    )\n",
    "\n",
    "drf_model.train(predictors, response, training_frame=train, validation_frame=validate, weights_column=weight)"
   ]
  },
  {
   "cell_type": "code",
   "execution_count": 48,
   "metadata": {},
   "outputs": [
    {
     "data": {
      "image/png": "[encoded data removed]",
      "text/plain": [
       "<matplotlib.figure.Figure at 0x7f91266144e0>"
      ]
     },
     "metadata": {},
     "output_type": "display_data"
    }
   ],
   "source": [
    "drf_model.plot()"
   ]
  },
  {
   "cell_type": "code",
   "execution_count": 50,
   "metadata": {
    "scrolled": true
   },
   "outputs": [
    {
     "name": "stdout",
     "output_type": "stream",
     "text": [
      "Could not find exact threshold 0.33; using closest threshold found 0.33076456831700396.\n",
      "Could not find exact threshold 0.34; using closest threshold found 0.33995720707621774.\n",
      "Could not find exact threshold 0.35; using closest threshold found 0.3487825857864503.\n",
      "Could not find exact threshold 0.36; using closest threshold found 0.3608763215232689.\n",
      "Could not find exact threshold 0.37; using closest threshold found 0.3697899716070171.\n",
      "Could not find exact threshold 0.38; using closest threshold found 0.38064317238952866.\n",
      "Could not find exact threshold 0.39; using closest threshold found 0.3893806453482967.\n",
      "Could not find exact threshold 0.4; using closest threshold found 0.399743005306835.\n",
      "Could not find exact threshold 0.41; using closest threshold found 0.40949883089543543.\n",
      "Could not find exact threshold 0.42; using closest threshold found 0.4204104430827553.\n",
      "Could not find exact threshold 0.43; using closest threshold found 0.4300707225639501.\n",
      "Could not find exact threshold 0.44; using closest threshold found 0.44077104896056424.\n",
      "Could not find exact threshold 0.45; using closest threshold found 0.45090767097116174.\n",
      "Could not find exact threshold 0.46; using closest threshold found 0.459435185466993.\n",
      "Could not find exact threshold 0.47; using closest threshold found 0.46987021393138595.\n",
      "Could not find exact threshold 0.48; using closest threshold found 0.479280225298506.\n",
      "Could not find exact threshold 0.49; using closest threshold found 0.48918096410442985.\n",
      "Could not find exact threshold 0.5; using closest threshold found 0.5000326483543398.\n",
      "Could not find exact threshold 0.51; using closest threshold found 0.5096474429541559.\n",
      "Could not find exact threshold 0.52; using closest threshold found 0.5194977977511648.\n",
      "Could not find exact threshold 0.53; using closest threshold found 0.5309055271305968.\n",
      "Could not find exact threshold 0.54; using closest threshold found 0.5394860952731912.\n",
      "Could not find exact threshold 0.55; using closest threshold found 0.5500866983974144.\n",
      "Could not find exact threshold 0.56; using closest threshold found 0.560189490922672.\n",
      "Could not find exact threshold 0.57; using closest threshold found 0.5705775596546693.\n",
      "Could not find exact threshold 0.58; using closest threshold found 0.5809276023272004.\n",
      "Could not find exact threshold 0.59; using closest threshold found 0.5891547023165608.\n",
      "Could not find exact threshold 0.6; using closest threshold found 0.599210669716281.\n",
      "Could not find exact threshold 0.61; using closest threshold found 0.6092471135063369.\n",
      "Could not find exact threshold 0.62; using closest threshold found 0.619318396547478.\n",
      "Could not find exact threshold 0.63; using closest threshold found 0.6310133062775224.\n",
      "Could not find exact threshold 0.64; using closest threshold found 0.6397454406571108.\n",
      "Could not find exact threshold 0.65; using closest threshold found 0.6502247993719786.\n",
      "Could not find exact threshold 0.66; using closest threshold found 0.660613910160056.\n",
      "Could not find exact threshold 0.67; using closest threshold found 0.6694463692895706.\n",
      "Could not find exact threshold 0.68; using closest threshold found 0.6796536974824052.\n",
      "Could not find exact threshold 0.69; using closest threshold found 0.6902583933472948.\n",
      "Could not find exact threshold 0.33; using closest threshold found 0.33076456831700396.\n",
      "Could not find exact threshold 0.34; using closest threshold found 0.33995720707621774.\n",
      "Could not find exact threshold 0.35; using closest threshold found 0.3487825857864503.\n",
      "Could not find exact threshold 0.36; using closest threshold found 0.3608763215232689.\n",
      "Could not find exact threshold 0.37; using closest threshold found 0.3697899716070171.\n",
      "Could not find exact threshold 0.38; using closest threshold found 0.38064317238952866.\n",
      "Could not find exact threshold 0.39; using closest threshold found 0.3893806453482967.\n",
      "Could not find exact threshold 0.4; using closest threshold found 0.399743005306835.\n",
      "Could not find exact threshold 0.41; using closest threshold found 0.40949883089543543.\n",
      "Could not find exact threshold 0.42; using closest threshold found 0.4204104430827553.\n",
      "Could not find exact threshold 0.43; using closest threshold found 0.4300707225639501.\n",
      "Could not find exact threshold 0.44; using closest threshold found 0.44077104896056424.\n",
      "Could not find exact threshold 0.45; using closest threshold found 0.45090767097116174.\n",
      "Could not find exact threshold 0.46; using closest threshold found 0.459435185466993.\n",
      "Could not find exact threshold 0.47; using closest threshold found 0.46987021393138595.\n",
      "Could not find exact threshold 0.48; using closest threshold found 0.479280225298506.\n",
      "Could not find exact threshold 0.49; using closest threshold found 0.48918096410442985.\n",
      "Could not find exact threshold 0.5; using closest threshold found 0.5000326483543398.\n",
      "Could not find exact threshold 0.51; using closest threshold found 0.5096474429541559.\n",
      "Could not find exact threshold 0.52; using closest threshold found 0.5194977977511648.\n",
      "Could not find exact threshold 0.53; using closest threshold found 0.5309055271305968.\n",
      "Could not find exact threshold 0.54; using closest threshold found 0.5394860952731912.\n",
      "Could not find exact threshold 0.55; using closest threshold found 0.5500866983974144.\n",
      "Could not find exact threshold 0.56; using closest threshold found 0.560189490922672.\n",
      "Could not find exact threshold 0.57; using closest threshold found 0.5705775596546693.\n",
      "Could not find exact threshold 0.58; using closest threshold found 0.5809276023272004.\n",
      "Could not find exact threshold 0.59; using closest threshold found 0.5891547023165608.\n",
      "Could not find exact threshold 0.6; using closest threshold found 0.599210669716281.\n",
      "Could not find exact threshold 0.61; using closest threshold found 0.6092471135063369.\n",
      "Could not find exact threshold 0.62; using closest threshold found 0.619318396547478.\n",
      "Could not find exact threshold 0.63; using closest threshold found 0.6310133062775224.\n",
      "Could not find exact threshold 0.64; using closest threshold found 0.6397454406571108.\n",
      "Could not find exact threshold 0.65; using closest threshold found 0.6502247993719786.\n",
      "Could not find exact threshold 0.66; using closest threshold found 0.660613910160056.\n",
      "Could not find exact threshold 0.67; using closest threshold found 0.6694463692895706.\n",
      "Could not find exact threshold 0.68; using closest threshold found 0.6796536974824052.\n",
      "Could not find exact threshold 0.69; using closest threshold found 0.6902583933472948.\n",
      "Could not find exact threshold 0.33; using closest threshold found 0.328844656464636.\n",
      "Could not find exact threshold 0.34; using closest threshold found 0.3390660517774782.\n",
      "Could not find exact threshold 0.35; using closest threshold found 0.3495804784871755.\n",
      "Could not find exact threshold 0.36; using closest threshold found 0.35994620084201584.\n",
      "Could not find exact threshold 0.37; using closest threshold found 0.37086914563236884.\n",
      "Could not find exact threshold 0.38; using closest threshold found 0.37955771872225097.\n",
      "Could not find exact threshold 0.39; using closest threshold found 0.39004812685738705.\n",
      "Could not find exact threshold 0.4; using closest threshold found 0.40061871891107864.\n",
      "Could not find exact threshold 0.41; using closest threshold found 0.4100632652281891.\n",
      "Could not find exact threshold 0.42; using closest threshold found 0.4195621646790389.\n",
      "Could not find exact threshold 0.43; using closest threshold found 0.4300139317628875.\n",
      "Could not find exact threshold 0.44; using closest threshold found 0.44069923075102563.\n",
      "Could not find exact threshold 0.45; using closest threshold found 0.4503481903311609.\n",
      "Could not find exact threshold 0.46; using closest threshold found 0.46002378945746725.\n",
      "Could not find exact threshold 0.47; using closest threshold found 0.47005069220468054.\n",
      "Could not find exact threshold 0.48; using closest threshold found 0.4803131124776285.\n",
      "Could not find exact threshold 0.49; using closest threshold found 0.48960105303405016.\n",
      "Could not find exact threshold 0.5; using closest threshold found 0.5000778783483963.\n",
      "Could not find exact threshold 0.51; using closest threshold found 0.5093015817602227.\n",
      "Could not find exact threshold 0.52; using closest threshold found 0.520223584814623.\n",
      "Could not find exact threshold 0.53; using closest threshold found 0.5306091461513975.\n",
      "Could not find exact threshold 0.54; using closest threshold found 0.5407420901583084.\n",
      "Could not find exact threshold 0.55; using closest threshold found 0.5499578849142567.\n",
      "Could not find exact threshold 0.56; using closest threshold found 0.5606983089554689.\n",
      "Could not find exact threshold 0.57; using closest threshold found 0.5698159853040158.\n",
      "Could not find exact threshold 0.58; using closest threshold found 0.5800935544392796.\n",
      "Could not find exact threshold 0.59; using closest threshold found 0.5900350829655647.\n",
      "Could not find exact threshold 0.6; using closest threshold found 0.6000633776229322.\n",
      "Could not find exact threshold 0.61; using closest threshold found 0.6098919554367928.\n",
      "Could not find exact threshold 0.62; using closest threshold found 0.6208470969155254.\n",
      "Could not find exact threshold 0.63; using closest threshold found 0.6305727747665942.\n",
      "Could not find exact threshold 0.64; using closest threshold found 0.6407418449085092.\n",
      "Could not find exact threshold 0.65; using closest threshold found 0.6502306174758762.\n",
      "Could not find exact threshold 0.66; using closest threshold found 0.6604834339377404.\n",
      "Could not find exact threshold 0.67; using closest threshold found 0.6697826063287338.\n",
      "Could not find exact threshold 0.68; using closest threshold found 0.6795889642415744.\n",
      "Could not find exact threshold 0.69; using closest threshold found 0.6905621728212535.\n",
      "Could not find exact threshold 0.33; using closest threshold found 0.328844656464636.\n",
      "Could not find exact threshold 0.34; using closest threshold found 0.3390660517774782.\n",
      "Could not find exact threshold 0.35; using closest threshold found 0.3495804784871755.\n",
      "Could not find exact threshold 0.36; using closest threshold found 0.35994620084201584.\n",
      "Could not find exact threshold 0.37; using closest threshold found 0.37086914563236884.\n",
      "Could not find exact threshold 0.38; using closest threshold found 0.37955771872225097.\n",
      "Could not find exact threshold 0.39; using closest threshold found 0.39004812685738705.\n",
      "Could not find exact threshold 0.4; using closest threshold found 0.40061871891107864.\n",
      "Could not find exact threshold 0.41; using closest threshold found 0.4100632652281891.\n",
      "Could not find exact threshold 0.42; using closest threshold found 0.4195621646790389.\n",
      "Could not find exact threshold 0.43; using closest threshold found 0.4300139317628875.\n",
      "Could not find exact threshold 0.44; using closest threshold found 0.44069923075102563.\n",
      "Could not find exact threshold 0.45; using closest threshold found 0.4503481903311609.\n",
      "Could not find exact threshold 0.46; using closest threshold found 0.46002378945746725.\n",
      "Could not find exact threshold 0.47; using closest threshold found 0.47005069220468054.\n",
      "Could not find exact threshold 0.48; using closest threshold found 0.4803131124776285.\n",
      "Could not find exact threshold 0.49; using closest threshold found 0.48960105303405016.\n",
      "Could not find exact threshold 0.5; using closest threshold found 0.5000778783483963.\n",
      "Could not find exact threshold 0.51; using closest threshold found 0.5093015817602227.\n",
      "Could not find exact threshold 0.52; using closest threshold found 0.520223584814623.\n",
      "Could not find exact threshold 0.53; using closest threshold found 0.5306091461513975.\n",
      "Could not find exact threshold 0.54; using closest threshold found 0.5407420901583084.\n",
      "Could not find exact threshold 0.55; using closest threshold found 0.5499578849142567.\n",
      "Could not find exact threshold 0.56; using closest threshold found 0.5606983089554689.\n",
      "Could not find exact threshold 0.57; using closest threshold found 0.5698159853040158.\n",
      "Could not find exact threshold 0.58; using closest threshold found 0.5800935544392796.\n",
      "Could not find exact threshold 0.59; using closest threshold found 0.5900350829655647.\n",
      "Could not find exact threshold 0.6; using closest threshold found 0.6000633776229322.\n",
      "Could not find exact threshold 0.61; using closest threshold found 0.6098919554367928.\n",
      "Could not find exact threshold 0.62; using closest threshold found 0.6208470969155254.\n",
      "Could not find exact threshold 0.63; using closest threshold found 0.6305727747665942.\n",
      "Could not find exact threshold 0.64; using closest threshold found 0.6407418449085092.\n",
      "Could not find exact threshold 0.65; using closest threshold found 0.6502306174758762.\n",
      "Could not find exact threshold 0.66; using closest threshold found 0.6604834339377404.\n",
      "Could not find exact threshold 0.67; using closest threshold found 0.6697826063287338.\n",
      "Could not find exact threshold 0.68; using closest threshold found 0.6795889642415744.\n",
      "Could not find exact threshold 0.69; using closest threshold found 0.6905621728212535.\n"
     ]
    },
    {
     "data": {
      "text/html": [
       "<div>\n",
       "<style scoped>\n",
       "    .dataframe tbody tr th:only-of-type {\n",
       "        vertical-align: middle;\n",
       "    }\n",
       "\n",
       "    .dataframe tbody tr th {\n",
       "        vertical-align: top;\n",
       "    }\n",
       "\n",
       "    .dataframe thead th {\n",
       "        text-align: right;\n",
       "    }\n",
       "</style>\n",
       "<table border=\"1\" class=\"dataframe\">\n",
       "  <thead>\n",
       "    <tr style=\"text-align: right;\">\n",
       "      <th></th>\n",
       "      <th>thr</th>\n",
       "      <th>RECALL</th>\n",
       "      <th>FPR</th>\n",
       "      <th>RECALL (valid)</th>\n",
       "      <th>FPR (valid)</th>\n",
       "      <th>&gt; min_recall</th>\n",
       "    </tr>\n",
       "  </thead>\n",
       "  <tbody>\n",
       "    <tr>\n",
       "      <th>0</th>\n",
       "      <td>0.33</td>\n",
       "      <td>0.869804</td>\n",
       "      <td>0.461478</td>\n",
       "      <td>0.962250</td>\n",
       "      <td>0.824091</td>\n",
       "      <td>True</td>\n",
       "    </tr>\n",
       "    <tr>\n",
       "      <th>1</th>\n",
       "      <td>0.34</td>\n",
       "      <td>0.861306</td>\n",
       "      <td>0.449872</td>\n",
       "      <td>0.958602</td>\n",
       "      <td>0.809245</td>\n",
       "      <td>True</td>\n",
       "    </tr>\n",
       "    <tr>\n",
       "      <th>2</th>\n",
       "      <td>0.35</td>\n",
       "      <td>0.854037</td>\n",
       "      <td>0.440574</td>\n",
       "      <td>0.952918</td>\n",
       "      <td>0.794148</td>\n",
       "      <td>True</td>\n",
       "    </tr>\n",
       "    <tr>\n",
       "      <th>3</th>\n",
       "      <td>0.36</td>\n",
       "      <td>0.841240</td>\n",
       "      <td>0.425780</td>\n",
       "      <td>0.947404</td>\n",
       "      <td>0.780059</td>\n",
       "      <td>True</td>\n",
       "    </tr>\n",
       "    <tr>\n",
       "      <th>4</th>\n",
       "      <td>0.37</td>\n",
       "      <td>0.832674</td>\n",
       "      <td>0.416297</td>\n",
       "      <td>0.941720</td>\n",
       "      <td>0.763571</td>\n",
       "      <td>True</td>\n",
       "    </tr>\n",
       "    <tr>\n",
       "      <th>5</th>\n",
       "      <td>0.38</td>\n",
       "      <td>0.821958</td>\n",
       "      <td>0.403728</td>\n",
       "      <td>0.935952</td>\n",
       "      <td>0.749237</td>\n",
       "      <td>True</td>\n",
       "    </tr>\n",
       "    <tr>\n",
       "      <th>6</th>\n",
       "      <td>0.39</td>\n",
       "      <td>0.811446</td>\n",
       "      <td>0.393058</td>\n",
       "      <td>0.927384</td>\n",
       "      <td>0.730773</td>\n",
       "      <td>True</td>\n",
       "    </tr>\n",
       "    <tr>\n",
       "      <th>7</th>\n",
       "      <td>0.40</td>\n",
       "      <td>0.799024</td>\n",
       "      <td>0.380372</td>\n",
       "      <td>0.919410</td>\n",
       "      <td>0.710312</td>\n",
       "      <td>True</td>\n",
       "    </tr>\n",
       "    <tr>\n",
       "      <th>8</th>\n",
       "      <td>0.41</td>\n",
       "      <td>0.786192</td>\n",
       "      <td>0.368546</td>\n",
       "      <td>0.908975</td>\n",
       "      <td>0.690286</td>\n",
       "      <td>True</td>\n",
       "    </tr>\n",
       "    <tr>\n",
       "      <th>9</th>\n",
       "      <td>0.42</td>\n",
       "      <td>0.770971</td>\n",
       "      <td>0.355039</td>\n",
       "      <td>0.897184</td>\n",
       "      <td>0.670314</td>\n",
       "      <td>False</td>\n",
       "    </tr>\n",
       "    <tr>\n",
       "      <th>10</th>\n",
       "      <td>0.43</td>\n",
       "      <td>0.758071</td>\n",
       "      <td>0.343625</td>\n",
       "      <td>0.885816</td>\n",
       "      <td>0.647974</td>\n",
       "      <td>False</td>\n",
       "    </tr>\n",
       "    <tr>\n",
       "      <th>11</th>\n",
       "      <td>0.44</td>\n",
       "      <td>0.743157</td>\n",
       "      <td>0.331361</td>\n",
       "      <td>0.872922</td>\n",
       "      <td>0.626477</td>\n",
       "      <td>False</td>\n",
       "    </tr>\n",
       "    <tr>\n",
       "      <th>12</th>\n",
       "      <td>0.45</td>\n",
       "      <td>0.728039</td>\n",
       "      <td>0.318695</td>\n",
       "      <td>0.859773</td>\n",
       "      <td>0.605181</td>\n",
       "      <td>False</td>\n",
       "    </tr>\n",
       "    <tr>\n",
       "      <th>13</th>\n",
       "      <td>0.46</td>\n",
       "      <td>0.714354</td>\n",
       "      <td>0.308422</td>\n",
       "      <td>0.845775</td>\n",
       "      <td>0.583695</td>\n",
       "      <td>False</td>\n",
       "    </tr>\n",
       "    <tr>\n",
       "      <th>14</th>\n",
       "      <td>0.47</td>\n",
       "      <td>0.696574</td>\n",
       "      <td>0.295626</td>\n",
       "      <td>0.830166</td>\n",
       "      <td>0.562119</td>\n",
       "      <td>False</td>\n",
       "    </tr>\n",
       "    <tr>\n",
       "      <th>15</th>\n",
       "      <td>0.48</td>\n",
       "      <td>0.681148</td>\n",
       "      <td>0.284281</td>\n",
       "      <td>0.813454</td>\n",
       "      <td>0.538290</td>\n",
       "      <td>False</td>\n",
       "    </tr>\n",
       "    <tr>\n",
       "      <th>16</th>\n",
       "      <td>0.49</td>\n",
       "      <td>0.663948</td>\n",
       "      <td>0.273043</td>\n",
       "      <td>0.797336</td>\n",
       "      <td>0.516762</td>\n",
       "      <td>False</td>\n",
       "    </tr>\n",
       "    <tr>\n",
       "      <th>17</th>\n",
       "      <td>0.50</td>\n",
       "      <td>0.645451</td>\n",
       "      <td>0.260355</td>\n",
       "      <td>0.776637</td>\n",
       "      <td>0.492537</td>\n",
       "      <td>False</td>\n",
       "    </tr>\n",
       "    <tr>\n",
       "      <th>18</th>\n",
       "      <td>0.51</td>\n",
       "      <td>0.627466</td>\n",
       "      <td>0.249275</td>\n",
       "      <td>0.757720</td>\n",
       "      <td>0.470466</td>\n",
       "      <td>False</td>\n",
       "    </tr>\n",
       "    <tr>\n",
       "      <th>19</th>\n",
       "      <td>0.52</td>\n",
       "      <td>0.608354</td>\n",
       "      <td>0.237747</td>\n",
       "      <td>0.732694</td>\n",
       "      <td>0.444289</td>\n",
       "      <td>False</td>\n",
       "    </tr>\n",
       "    <tr>\n",
       "      <th>20</th>\n",
       "      <td>0.53</td>\n",
       "      <td>0.584499</td>\n",
       "      <td>0.224525</td>\n",
       "      <td>0.707160</td>\n",
       "      <td>0.420625</td>\n",
       "      <td>False</td>\n",
       "    </tr>\n",
       "    <tr>\n",
       "      <th>21</th>\n",
       "      <td>0.54</td>\n",
       "      <td>0.565934</td>\n",
       "      <td>0.214686</td>\n",
       "      <td>0.684425</td>\n",
       "      <td>0.398273</td>\n",
       "      <td>False</td>\n",
       "    </tr>\n",
       "    <tr>\n",
       "      <th>22</th>\n",
       "      <td>0.55</td>\n",
       "      <td>0.542489</td>\n",
       "      <td>0.202139</td>\n",
       "      <td>0.663471</td>\n",
       "      <td>0.379308</td>\n",
       "      <td>False</td>\n",
       "    </tr>\n",
       "    <tr>\n",
       "      <th>23</th>\n",
       "      <td>0.56</td>\n",
       "      <td>0.519145</td>\n",
       "      <td>0.189875</td>\n",
       "      <td>0.636664</td>\n",
       "      <td>0.356810</td>\n",
       "      <td>False</td>\n",
       "    </tr>\n",
       "    <tr>\n",
       "      <th>24</th>\n",
       "      <td>0.57</td>\n",
       "      <td>0.495325</td>\n",
       "      <td>0.177374</td>\n",
       "      <td>0.613166</td>\n",
       "      <td>0.337430</td>\n",
       "      <td>False</td>\n",
       "    </tr>\n",
       "    <tr>\n",
       "      <th>25</th>\n",
       "      <td>0.58</td>\n",
       "      <td>0.470958</td>\n",
       "      <td>0.165122</td>\n",
       "      <td>0.582881</td>\n",
       "      <td>0.315993</td>\n",
       "      <td>False</td>\n",
       "    </tr>\n",
       "    <tr>\n",
       "      <th>26</th>\n",
       "      <td>0.59</td>\n",
       "      <td>0.449833</td>\n",
       "      <td>0.155086</td>\n",
       "      <td>0.556753</td>\n",
       "      <td>0.294093</td>\n",
       "      <td>False</td>\n",
       "    </tr>\n",
       "    <tr>\n",
       "      <th>27</th>\n",
       "      <td>0.60</td>\n",
       "      <td>0.424442</td>\n",
       "      <td>0.142715</td>\n",
       "      <td>0.523838</td>\n",
       "      <td>0.270997</td>\n",
       "      <td>False</td>\n",
       "    </tr>\n",
       "    <tr>\n",
       "      <th>28</th>\n",
       "      <td>0.61</td>\n",
       "      <td>0.401201</td>\n",
       "      <td>0.131489</td>\n",
       "      <td>0.495165</td>\n",
       "      <td>0.249774</td>\n",
       "      <td>False</td>\n",
       "    </tr>\n",
       "    <tr>\n",
       "      <th>29</th>\n",
       "      <td>0.62</td>\n",
       "      <td>0.373422</td>\n",
       "      <td>0.119342</td>\n",
       "      <td>0.461062</td>\n",
       "      <td>0.226379</td>\n",
       "      <td>False</td>\n",
       "    </tr>\n",
       "    <tr>\n",
       "      <th>30</th>\n",
       "      <td>0.63</td>\n",
       "      <td>0.344379</td>\n",
       "      <td>0.106636</td>\n",
       "      <td>0.433831</td>\n",
       "      <td>0.206163</td>\n",
       "      <td>False</td>\n",
       "    </tr>\n",
       "    <tr>\n",
       "      <th>31</th>\n",
       "      <td>0.64</td>\n",
       "      <td>0.323971</td>\n",
       "      <td>0.097458</td>\n",
       "      <td>0.403291</td>\n",
       "      <td>0.185288</td>\n",
       "      <td>False</td>\n",
       "    </tr>\n",
       "    <tr>\n",
       "      <th>32</th>\n",
       "      <td>0.65</td>\n",
       "      <td>0.297761</td>\n",
       "      <td>0.087498</td>\n",
       "      <td>0.375721</td>\n",
       "      <td>0.165902</td>\n",
       "      <td>False</td>\n",
       "    </tr>\n",
       "    <tr>\n",
       "      <th>33</th>\n",
       "      <td>0.66</td>\n",
       "      <td>0.271313</td>\n",
       "      <td>0.077998</td>\n",
       "      <td>0.341703</td>\n",
       "      <td>0.146296</td>\n",
       "      <td>False</td>\n",
       "    </tr>\n",
       "    <tr>\n",
       "      <th>34</th>\n",
       "      <td>0.67</td>\n",
       "      <td>0.250904</td>\n",
       "      <td>0.070685</td>\n",
       "      <td>0.308025</td>\n",
       "      <td>0.130461</td>\n",
       "      <td>False</td>\n",
       "    </tr>\n",
       "    <tr>\n",
       "      <th>35</th>\n",
       "      <td>0.68</td>\n",
       "      <td>0.226401</td>\n",
       "      <td>0.061792</td>\n",
       "      <td>0.277486</td>\n",
       "      <td>0.114181</td>\n",
       "      <td>False</td>\n",
       "    </tr>\n",
       "    <tr>\n",
       "      <th>36</th>\n",
       "      <td>0.69</td>\n",
       "      <td>0.202102</td>\n",
       "      <td>0.053840</td>\n",
       "      <td>0.242704</td>\n",
       "      <td>0.096125</td>\n",
       "      <td>False</td>\n",
       "    </tr>\n",
       "  </tbody>\n",
       "</table>\n",
       "</div>"
      ],
      "text/plain": [
       "     thr    RECALL       FPR  RECALL (valid)  FPR (valid)  > min_recall\n",
       "0   0.33  0.869804  0.461478        0.962250     0.824091          True\n",
       "1   0.34  0.861306  0.449872        0.958602     0.809245          True\n",
       "2   0.35  0.854037  0.440574        0.952918     0.794148          True\n",
       "3   0.36  0.841240  0.425780        0.947404     0.780059          True\n",
       "4   0.37  0.832674  0.416297        0.941720     0.763571          True\n",
       "5   0.38  0.821958  0.403728        0.935952     0.749237          True\n",
       "6   0.39  0.811446  0.393058        0.927384     0.730773          True\n",
       "7   0.40  0.799024  0.380372        0.919410     0.710312          True\n",
       "8   0.41  0.786192  0.368546        0.908975     0.690286          True\n",
       "9   0.42  0.770971  0.355039        0.897184     0.670314         False\n",
       "10  0.43  0.758071  0.343625        0.885816     0.647974         False\n",
       "11  0.44  0.743157  0.331361        0.872922     0.626477         False\n",
       "12  0.45  0.728039  0.318695        0.859773     0.605181         False\n",
       "13  0.46  0.714354  0.308422        0.845775     0.583695         False\n",
       "14  0.47  0.696574  0.295626        0.830166     0.562119         False\n",
       "15  0.48  0.681148  0.284281        0.813454     0.538290         False\n",
       "16  0.49  0.663948  0.273043        0.797336     0.516762         False\n",
       "17  0.50  0.645451  0.260355        0.776637     0.492537         False\n",
       "18  0.51  0.627466  0.249275        0.757720     0.470466         False\n",
       "19  0.52  0.608354  0.237747        0.732694     0.444289         False\n",
       "20  0.53  0.584499  0.224525        0.707160     0.420625         False\n",
       "21  0.54  0.565934  0.214686        0.684425     0.398273         False\n",
       "22  0.55  0.542489  0.202139        0.663471     0.379308         False\n",
       "23  0.56  0.519145  0.189875        0.636664     0.356810         False\n",
       "24  0.57  0.495325  0.177374        0.613166     0.337430         False\n",
       "25  0.58  0.470958  0.165122        0.582881     0.315993         False\n",
       "26  0.59  0.449833  0.155086        0.556753     0.294093         False\n",
       "27  0.60  0.424442  0.142715        0.523838     0.270997         False\n",
       "28  0.61  0.401201  0.131489        0.495165     0.249774         False\n",
       "29  0.62  0.373422  0.119342        0.461062     0.226379         False\n",
       "30  0.63  0.344379  0.106636        0.433831     0.206163         False\n",
       "31  0.64  0.323971  0.097458        0.403291     0.185288         False\n",
       "32  0.65  0.297761  0.087498        0.375721     0.165902         False\n",
       "33  0.66  0.271313  0.077998        0.341703     0.146296         False\n",
       "34  0.67  0.250904  0.070685        0.308025     0.130461         False\n",
       "35  0.68  0.226401  0.061792        0.277486     0.114181         False\n",
       "36  0.69  0.202102  0.053840        0.242704     0.096125         False"
      ]
     },
     "execution_count": 50,
     "metadata": {},
     "output_type": "execute_result"
    }
   ],
   "source": [
    "thr_grid = [i / 100 for i in range(33, 70)]\n",
    "thr_grid_recall_train = pd.DataFrame(drf_model.recall(thr_grid, train=True), columns=['thr', 'RECALL'])\n",
    "thr_grid_fpr_train = pd.DataFrame(drf_model.fpr(thr_grid, train=True), columns=['thr', 'FPR'])\n",
    "thr_grid_recall_valid = pd.DataFrame(drf_model.recall(thr_grid, valid=True), columns=['thr', 'RECALL (valid)'])\n",
    "thr_grid_fpr_valid = pd.DataFrame(drf_model.fpr(thr_grid, valid=True), columns=['thr', 'FPR (valid)'])\n",
    "\n",
    "thr_grid = thr_grid_recall_train.merge(thr_grid_fpr_train).merge(thr_grid_recall_valid).merge(thr_grid_fpr_valid)\n",
    "thr_grid['> min_recall'] = thr_grid['RECALL (valid)'] >= usr_min_recall\n",
    "drf_thr_grid = thr_grid\n",
    "drf_sel_thr = thr_grid.loc[thr_grid['> min_recall'], 'thr'].max()\n",
    "\n",
    "drf_thr_grid"
   ]
  },
  {
   "cell_type": "code",
   "execution_count": 222,
   "metadata": {
    "scrolled": false
   },
   "outputs": [
    {
     "ename": "H2OResponseError",
     "evalue": "Server error water.exceptions.H2OKeyNotFoundArgumentException:\n  Error: Object 'DRF_model_python_1515928168123_28' not found in function: predict for argument: model\n  Request: POST /3/ModelMetrics/models/DRF_model_python_1515928168123_28/frames/py_155_sid_8f8c\n",
     "output_type": "error",
     "traceback": [
      "\u001b[0;31m---------------------------------------------------------------------------\u001b[0m",
      "\u001b[0;31mH2OResponseError\u001b[0m                          Traceback (most recent call last)",
      "\u001b[0;32m<ipython-input-222-b8e3c282260e>\u001b[0m in \u001b[0;36m<module>\u001b[0;34m()\u001b[0m\n\u001b[0;32m----> 1\u001b[0;31m \u001b[0mdrf_model\u001b[0m\u001b[0;34m.\u001b[0m\u001b[0mmodel_performance\u001b[0m\u001b[0;34m(\u001b[0m\u001b[0mtest\u001b[0m\u001b[0;34m)\u001b[0m\u001b[0;34m.\u001b[0m\u001b[0mconfusion_matrix\u001b[0m\u001b[0;34m(\u001b[0m\u001b[0mthresholds\u001b[0m\u001b[0;34m=\u001b[0m\u001b[0;34m[\u001b[0m\u001b[0mdrf_sel_thr\u001b[0m\u001b[0;34m,\u001b[0m \u001b[0;36m.69\u001b[0m\u001b[0;34m]\u001b[0m\u001b[0;34m)\u001b[0m\u001b[0;34m\u001b[0m\u001b[0m\n\u001b[0m",
      "\u001b[0;32m~/.local/share/virtualenvs/ml-loan-DGzgfzmH/lib/python3.5/site-packages/h2o/model/model_base.py\u001b[0m in \u001b[0;36mmodel_performance\u001b[0;34m(self, test_data, train, valid, xval)\u001b[0m\n\u001b[1;32m    282\u001b[0m             \u001b[0;32mif\u001b[0m \u001b[0;32mnot\u001b[0m \u001b[0misinstance\u001b[0m\u001b[0;34m(\u001b[0m\u001b[0mtest_data\u001b[0m\u001b[0;34m,\u001b[0m \u001b[0mh2o\u001b[0m\u001b[0;34m.\u001b[0m\u001b[0mH2OFrame\u001b[0m\u001b[0;34m)\u001b[0m\u001b[0;34m:\u001b[0m\u001b[0;34m\u001b[0m\u001b[0m\n\u001b[1;32m    283\u001b[0m                 \u001b[0;32mraise\u001b[0m \u001b[0mValueError\u001b[0m\u001b[0;34m(\u001b[0m\u001b[0;34m\"`test_data` must be of type H2OFrame.  Got: \"\u001b[0m \u001b[0;34m+\u001b[0m \u001b[0mtype\u001b[0m\u001b[0;34m(\u001b[0m\u001b[0mtest_data\u001b[0m\u001b[0;34m)\u001b[0m\u001b[0;34m)\u001b[0m\u001b[0;34m\u001b[0m\u001b[0m\n\u001b[0;32m--> 284\u001b[0;31m             \u001b[0mres\u001b[0m \u001b[0;34m=\u001b[0m \u001b[0mh2o\u001b[0m\u001b[0;34m.\u001b[0m\u001b[0mapi\u001b[0m\u001b[0;34m(\u001b[0m\u001b[0;34m\"POST /3/ModelMetrics/models/%s/frames/%s\"\u001b[0m \u001b[0;34m%\u001b[0m \u001b[0;34m(\u001b[0m\u001b[0mself\u001b[0m\u001b[0;34m.\u001b[0m\u001b[0mmodel_id\u001b[0m\u001b[0;34m,\u001b[0m \u001b[0mtest_data\u001b[0m\u001b[0;34m.\u001b[0m\u001b[0mframe_id\u001b[0m\u001b[0;34m)\u001b[0m\u001b[0;34m)\u001b[0m\u001b[0;34m\u001b[0m\u001b[0m\n\u001b[0m\u001b[1;32m    285\u001b[0m \u001b[0;34m\u001b[0m\u001b[0m\n\u001b[1;32m    286\u001b[0m             \u001b[0;31m# FIXME need to do the client-side filtering...  (PUBDEV-874)\u001b[0m\u001b[0;34m\u001b[0m\u001b[0;34m\u001b[0m\u001b[0m\n",
      "\u001b[0;32m~/.local/share/virtualenvs/ml-loan-DGzgfzmH/lib/python3.5/site-packages/h2o/h2o.py\u001b[0m in \u001b[0;36mapi\u001b[0;34m(endpoint, data, json, filename, save_to)\u001b[0m\n\u001b[1;32m    102\u001b[0m     \u001b[0;31m# type checks are performed in H2OConnection class\u001b[0m\u001b[0;34m\u001b[0m\u001b[0;34m\u001b[0m\u001b[0m\n\u001b[1;32m    103\u001b[0m     \u001b[0m_check_connection\u001b[0m\u001b[0;34m(\u001b[0m\u001b[0;34m)\u001b[0m\u001b[0;34m\u001b[0m\u001b[0m\n\u001b[0;32m--> 104\u001b[0;31m     \u001b[0;32mreturn\u001b[0m \u001b[0mh2oconn\u001b[0m\u001b[0;34m.\u001b[0m\u001b[0mrequest\u001b[0m\u001b[0;34m(\u001b[0m\u001b[0mendpoint\u001b[0m\u001b[0;34m,\u001b[0m \u001b[0mdata\u001b[0m\u001b[0;34m=\u001b[0m\u001b[0mdata\u001b[0m\u001b[0;34m,\u001b[0m \u001b[0mjson\u001b[0m\u001b[0;34m=\u001b[0m\u001b[0mjson\u001b[0m\u001b[0;34m,\u001b[0m \u001b[0mfilename\u001b[0m\u001b[0;34m=\u001b[0m\u001b[0mfilename\u001b[0m\u001b[0;34m,\u001b[0m \u001b[0msave_to\u001b[0m\u001b[0;34m=\u001b[0m\u001b[0msave_to\u001b[0m\u001b[0;34m)\u001b[0m\u001b[0;34m\u001b[0m\u001b[0m\n\u001b[0m\u001b[1;32m    105\u001b[0m \u001b[0;34m\u001b[0m\u001b[0m\n\u001b[1;32m    106\u001b[0m \u001b[0;34m\u001b[0m\u001b[0m\n",
      "\u001b[0;32m~/.local/share/virtualenvs/ml-loan-DGzgfzmH/lib/python3.5/site-packages/h2o/backend/connection.py\u001b[0m in \u001b[0;36mrequest\u001b[0;34m(self, endpoint, data, json, filename, save_to)\u001b[0m\n\u001b[1;32m    400\u001b[0m                                     auth=self._auth, verify=self._verify_ssl_cert, proxies=self._proxies)\n\u001b[1;32m    401\u001b[0m             \u001b[0mself\u001b[0m\u001b[0;34m.\u001b[0m\u001b[0m_log_end_transaction\u001b[0m\u001b[0;34m(\u001b[0m\u001b[0mstart_time\u001b[0m\u001b[0;34m,\u001b[0m \u001b[0mresp\u001b[0m\u001b[0;34m)\u001b[0m\u001b[0;34m\u001b[0m\u001b[0m\n\u001b[0;32m--> 402\u001b[0;31m             \u001b[0;32mreturn\u001b[0m \u001b[0mself\u001b[0m\u001b[0;34m.\u001b[0m\u001b[0m_process_response\u001b[0m\u001b[0;34m(\u001b[0m\u001b[0mresp\u001b[0m\u001b[0;34m,\u001b[0m \u001b[0msave_to\u001b[0m\u001b[0;34m)\u001b[0m\u001b[0;34m\u001b[0m\u001b[0m\n\u001b[0m\u001b[1;32m    403\u001b[0m \u001b[0;34m\u001b[0m\u001b[0m\n\u001b[1;32m    404\u001b[0m         \u001b[0;32mexcept\u001b[0m \u001b[0;34m(\u001b[0m\u001b[0mrequests\u001b[0m\u001b[0;34m.\u001b[0m\u001b[0mexceptions\u001b[0m\u001b[0;34m.\u001b[0m\u001b[0mConnectionError\u001b[0m\u001b[0;34m,\u001b[0m \u001b[0mrequests\u001b[0m\u001b[0;34m.\u001b[0m\u001b[0mexceptions\u001b[0m\u001b[0;34m.\u001b[0m\u001b[0mHTTPError\u001b[0m\u001b[0;34m)\u001b[0m \u001b[0;32mas\u001b[0m \u001b[0me\u001b[0m\u001b[0;34m:\u001b[0m\u001b[0;34m\u001b[0m\u001b[0m\n",
      "\u001b[0;32m~/.local/share/virtualenvs/ml-loan-DGzgfzmH/lib/python3.5/site-packages/h2o/backend/connection.py\u001b[0m in \u001b[0;36m_process_response\u001b[0;34m(response, save_to)\u001b[0m\n\u001b[1;32m    723\u001b[0m         \u001b[0;31m# Client errors (400 = \"Bad Request\", 404 = \"Not Found\", 412 = \"Precondition Failed\")\u001b[0m\u001b[0;34m\u001b[0m\u001b[0;34m\u001b[0m\u001b[0m\n\u001b[1;32m    724\u001b[0m         \u001b[0;32mif\u001b[0m \u001b[0mstatus_code\u001b[0m \u001b[0;32min\u001b[0m \u001b[0;34m{\u001b[0m\u001b[0;36m400\u001b[0m\u001b[0;34m,\u001b[0m \u001b[0;36m404\u001b[0m\u001b[0;34m,\u001b[0m \u001b[0;36m412\u001b[0m\u001b[0;34m}\u001b[0m \u001b[0;32mand\u001b[0m \u001b[0misinstance\u001b[0m\u001b[0;34m(\u001b[0m\u001b[0mdata\u001b[0m\u001b[0;34m,\u001b[0m \u001b[0;34m(\u001b[0m\u001b[0mH2OErrorV3\u001b[0m\u001b[0;34m,\u001b[0m \u001b[0mH2OModelBuilderErrorV3\u001b[0m\u001b[0;34m)\u001b[0m\u001b[0;34m)\u001b[0m\u001b[0;34m:\u001b[0m\u001b[0;34m\u001b[0m\u001b[0m\n\u001b[0;32m--> 725\u001b[0;31m             \u001b[0;32mraise\u001b[0m \u001b[0mH2OResponseError\u001b[0m\u001b[0;34m(\u001b[0m\u001b[0mdata\u001b[0m\u001b[0;34m)\u001b[0m\u001b[0;34m\u001b[0m\u001b[0m\n\u001b[0m\u001b[1;32m    726\u001b[0m \u001b[0;34m\u001b[0m\u001b[0m\n\u001b[1;32m    727\u001b[0m         \u001b[0;31m# Server errors (notably 500 = \"Server Error\")\u001b[0m\u001b[0;34m\u001b[0m\u001b[0;34m\u001b[0m\u001b[0m\n",
      "\u001b[0;31mH2OResponseError\u001b[0m: Server error water.exceptions.H2OKeyNotFoundArgumentException:\n  Error: Object 'DRF_model_python_1515928168123_28' not found in function: predict for argument: model\n  Request: POST /3/ModelMetrics/models/DRF_model_python_1515928168123_28/frames/py_155_sid_8f8c\n"
     ]
    }
   ],
   "source": [
    "drf_model.model_performance(test).confusion_matrix(thresholds=[drf_sel_thr, .69])"
   ]
  },
  {
   "cell_type": "code",
   "execution_count": 52,
   "metadata": {
    "scrolled": false
   },
   "outputs": [
    {
     "data": {
      "image/png": "[encoded data removed]",
      "text/plain": [
       "<matplotlib.figure.Figure at 0x7f91276fa278>"
      ]
     },
     "metadata": {},
     "output_type": "display_data"
    }
   ],
   "source": [
    "tmp = drf_model.model_performance(test)\n",
    "from matplotlib import pyplot as plt\n",
    "plt.figure(figsize=(6, 6))\n",
    "tmp.plot()\n",
    "\n",
    "# TODO: in presentation add line at y = .95"
   ]
  },
  {
   "cell_type": "markdown",
   "metadata": {},
   "source": [
    "### Business Metrics"
   ]
  },
  {
   "cell_type": "code",
   "execution_count": 187,
   "metadata": {
    "scrolled": true
   },
   "outputs": [
    {
     "ename": "H2OResponseError",
     "evalue": "Server error water.exceptions.H2OKeyNotFoundArgumentException:\n  Error: Object 'DRF_model_python_1515928168123_28' not found in function: predict for argument: model\n  Request: POST /4/Predictions/models/DRF_model_python_1515928168123_28/frames/py_93_sid_8f8c\n",
     "output_type": "error",
     "traceback": [
      "\u001b[0;31m---------------------------------------------------------------------------\u001b[0m",
      "\u001b[0;31mH2OResponseError\u001b[0m                          Traceback (most recent call last)",
      "\u001b[0;32m<ipython-input-187-54b42e702719>\u001b[0m in \u001b[0;36m<module>\u001b[0;34m()\u001b[0m\n\u001b[0;32m----> 1\u001b[0;31m \u001b[0mdrf_res\u001b[0m \u001b[0;34m=\u001b[0m \u001b[0mdf\u001b[0m\u001b[0;34m.\u001b[0m\u001b[0mcbind\u001b[0m\u001b[0;34m(\u001b[0m\u001b[0mdrf_model\u001b[0m\u001b[0;34m.\u001b[0m\u001b[0mpredict\u001b[0m\u001b[0;34m(\u001b[0m\u001b[0mdf\u001b[0m\u001b[0;34m)\u001b[0m\u001b[0;34m)\u001b[0m\u001b[0;34m\u001b[0m\u001b[0m\n\u001b[0m\u001b[1;32m      2\u001b[0m \u001b[0mdrf_res\u001b[0m \u001b[0;34m=\u001b[0m \u001b[0mdrf_res\u001b[0m\u001b[0;34m[\u001b[0m\u001b[0;34m[\u001b[0m\u001b[0;34m'issue_d_year'\u001b[0m\u001b[0;34m,\u001b[0m \u001b[0;34m'loan_status'\u001b[0m\u001b[0;34m,\u001b[0m \u001b[0;34m'loan_amnt'\u001b[0m\u001b[0;34m,\u001b[0m \u001b[0;34m'total_pymnt'\u001b[0m\u001b[0;34m,\u001b[0m \u001b[0;34m'p1'\u001b[0m\u001b[0;34m]\u001b[0m\u001b[0;34m]\u001b[0m\u001b[0;34m\u001b[0m\u001b[0m\n\u001b[1;32m      3\u001b[0m \u001b[0mdrf_res\u001b[0m\u001b[0;34m[\u001b[0m\u001b[0;34m'pred1'\u001b[0m\u001b[0;34m]\u001b[0m \u001b[0;34m=\u001b[0m \u001b[0mdrf_res\u001b[0m\u001b[0;34m[\u001b[0m\u001b[0;34m'p1'\u001b[0m\u001b[0;34m]\u001b[0m \u001b[0;34m>\u001b[0m \u001b[0mdrf_model\u001b[0m\u001b[0;34m.\u001b[0m\u001b[0mfind_threshold_by_max_metric\u001b[0m\u001b[0;34m(\u001b[0m\u001b[0;34m'accuracy'\u001b[0m\u001b[0;34m)\u001b[0m\u001b[0;34m\u001b[0m\u001b[0m\n\u001b[1;32m      4\u001b[0m \u001b[0mdrf_res\u001b[0m\u001b[0;34m[\u001b[0m\u001b[0;34m'pred1'\u001b[0m\u001b[0;34m]\u001b[0m \u001b[0;34m=\u001b[0m \u001b[0mdrf_res\u001b[0m\u001b[0;34m[\u001b[0m\u001b[0;34m'p1'\u001b[0m\u001b[0;34m]\u001b[0m \u001b[0;34m>\u001b[0m \u001b[0;36m.69\u001b[0m\u001b[0;34m\u001b[0m\u001b[0m\n\u001b[1;32m      5\u001b[0m \u001b[0mdrf_res\u001b[0m\u001b[0;34m[\u001b[0m\u001b[0;34m'pred2'\u001b[0m\u001b[0;34m]\u001b[0m \u001b[0;34m=\u001b[0m \u001b[0mdrf_res\u001b[0m\u001b[0;34m[\u001b[0m\u001b[0;34m'p1'\u001b[0m\u001b[0;34m]\u001b[0m \u001b[0;34m>\u001b[0m \u001b[0mdrf_sel_thr\u001b[0m\u001b[0;34m\u001b[0m\u001b[0m\n",
      "\u001b[0;32m~/.local/share/virtualenvs/ml-loan-DGzgfzmH/lib/python3.5/site-packages/h2o/model/model_base.py\u001b[0m in \u001b[0;36mpredict\u001b[0;34m(self, test_data, custom_metric, custom_metric_func)\u001b[0m\n\u001b[1;32m    148\u001b[0m             \u001b[0meval_func_ref\u001b[0m \u001b[0;34m=\u001b[0m \u001b[0mh2o\u001b[0m\u001b[0;34m.\u001b[0m\u001b[0mupload_custom_metric\u001b[0m\u001b[0;34m(\u001b[0m\u001b[0mcustom_metric\u001b[0m\u001b[0;34m)\u001b[0m\u001b[0;34m\u001b[0m\u001b[0m\n\u001b[1;32m    149\u001b[0m         \u001b[0;32mif\u001b[0m \u001b[0;32mnot\u001b[0m \u001b[0misinstance\u001b[0m\u001b[0;34m(\u001b[0m\u001b[0mtest_data\u001b[0m\u001b[0;34m,\u001b[0m \u001b[0mh2o\u001b[0m\u001b[0;34m.\u001b[0m\u001b[0mH2OFrame\u001b[0m\u001b[0;34m)\u001b[0m\u001b[0;34m:\u001b[0m \u001b[0;32mraise\u001b[0m \u001b[0mValueError\u001b[0m\u001b[0;34m(\u001b[0m\u001b[0;34m\"test_data must be an instance of H2OFrame\"\u001b[0m\u001b[0;34m)\u001b[0m\u001b[0;34m\u001b[0m\u001b[0m\n\u001b[0;32m--> 150\u001b[0;31m         j = H2OJob(h2o.api(\"POST /4/Predictions/models/%s/frames/%s\" % (self.model_id, test_data.frame_id), data = {'custom_metric_func': custom_metric_func}),\n\u001b[0m\u001b[1;32m    151\u001b[0m                    self._model_json[\"algo\"] + \" prediction\")\n\u001b[1;32m    152\u001b[0m         \u001b[0mj\u001b[0m\u001b[0;34m.\u001b[0m\u001b[0mpoll\u001b[0m\u001b[0;34m(\u001b[0m\u001b[0;34m)\u001b[0m\u001b[0;34m\u001b[0m\u001b[0m\n",
      "\u001b[0;32m~/.local/share/virtualenvs/ml-loan-DGzgfzmH/lib/python3.5/site-packages/h2o/h2o.py\u001b[0m in \u001b[0;36mapi\u001b[0;34m(endpoint, data, json, filename, save_to)\u001b[0m\n\u001b[1;32m    102\u001b[0m     \u001b[0;31m# type checks are performed in H2OConnection class\u001b[0m\u001b[0;34m\u001b[0m\u001b[0;34m\u001b[0m\u001b[0m\n\u001b[1;32m    103\u001b[0m     \u001b[0m_check_connection\u001b[0m\u001b[0;34m(\u001b[0m\u001b[0;34m)\u001b[0m\u001b[0;34m\u001b[0m\u001b[0m\n\u001b[0;32m--> 104\u001b[0;31m     \u001b[0;32mreturn\u001b[0m \u001b[0mh2oconn\u001b[0m\u001b[0;34m.\u001b[0m\u001b[0mrequest\u001b[0m\u001b[0;34m(\u001b[0m\u001b[0mendpoint\u001b[0m\u001b[0;34m,\u001b[0m \u001b[0mdata\u001b[0m\u001b[0;34m=\u001b[0m\u001b[0mdata\u001b[0m\u001b[0;34m,\u001b[0m \u001b[0mjson\u001b[0m\u001b[0;34m=\u001b[0m\u001b[0mjson\u001b[0m\u001b[0;34m,\u001b[0m \u001b[0mfilename\u001b[0m\u001b[0;34m=\u001b[0m\u001b[0mfilename\u001b[0m\u001b[0;34m,\u001b[0m \u001b[0msave_to\u001b[0m\u001b[0;34m=\u001b[0m\u001b[0msave_to\u001b[0m\u001b[0;34m)\u001b[0m\u001b[0;34m\u001b[0m\u001b[0m\n\u001b[0m\u001b[1;32m    105\u001b[0m \u001b[0;34m\u001b[0m\u001b[0m\n\u001b[1;32m    106\u001b[0m \u001b[0;34m\u001b[0m\u001b[0m\n",
      "\u001b[0;32m~/.local/share/virtualenvs/ml-loan-DGzgfzmH/lib/python3.5/site-packages/h2o/backend/connection.py\u001b[0m in \u001b[0;36mrequest\u001b[0;34m(self, endpoint, data, json, filename, save_to)\u001b[0m\n\u001b[1;32m    400\u001b[0m                                     auth=self._auth, verify=self._verify_ssl_cert, proxies=self._proxies)\n\u001b[1;32m    401\u001b[0m             \u001b[0mself\u001b[0m\u001b[0;34m.\u001b[0m\u001b[0m_log_end_transaction\u001b[0m\u001b[0;34m(\u001b[0m\u001b[0mstart_time\u001b[0m\u001b[0;34m,\u001b[0m \u001b[0mresp\u001b[0m\u001b[0;34m)\u001b[0m\u001b[0;34m\u001b[0m\u001b[0m\n\u001b[0;32m--> 402\u001b[0;31m             \u001b[0;32mreturn\u001b[0m \u001b[0mself\u001b[0m\u001b[0;34m.\u001b[0m\u001b[0m_process_response\u001b[0m\u001b[0;34m(\u001b[0m\u001b[0mresp\u001b[0m\u001b[0;34m,\u001b[0m \u001b[0msave_to\u001b[0m\u001b[0;34m)\u001b[0m\u001b[0;34m\u001b[0m\u001b[0m\n\u001b[0m\u001b[1;32m    403\u001b[0m \u001b[0;34m\u001b[0m\u001b[0m\n\u001b[1;32m    404\u001b[0m         \u001b[0;32mexcept\u001b[0m \u001b[0;34m(\u001b[0m\u001b[0mrequests\u001b[0m\u001b[0;34m.\u001b[0m\u001b[0mexceptions\u001b[0m\u001b[0;34m.\u001b[0m\u001b[0mConnectionError\u001b[0m\u001b[0;34m,\u001b[0m \u001b[0mrequests\u001b[0m\u001b[0;34m.\u001b[0m\u001b[0mexceptions\u001b[0m\u001b[0;34m.\u001b[0m\u001b[0mHTTPError\u001b[0m\u001b[0;34m)\u001b[0m \u001b[0;32mas\u001b[0m \u001b[0me\u001b[0m\u001b[0;34m:\u001b[0m\u001b[0;34m\u001b[0m\u001b[0m\n",
      "\u001b[0;32m~/.local/share/virtualenvs/ml-loan-DGzgfzmH/lib/python3.5/site-packages/h2o/backend/connection.py\u001b[0m in \u001b[0;36m_process_response\u001b[0;34m(response, save_to)\u001b[0m\n\u001b[1;32m    723\u001b[0m         \u001b[0;31m# Client errors (400 = \"Bad Request\", 404 = \"Not Found\", 412 = \"Precondition Failed\")\u001b[0m\u001b[0;34m\u001b[0m\u001b[0;34m\u001b[0m\u001b[0m\n\u001b[1;32m    724\u001b[0m         \u001b[0;32mif\u001b[0m \u001b[0mstatus_code\u001b[0m \u001b[0;32min\u001b[0m \u001b[0;34m{\u001b[0m\u001b[0;36m400\u001b[0m\u001b[0;34m,\u001b[0m \u001b[0;36m404\u001b[0m\u001b[0;34m,\u001b[0m \u001b[0;36m412\u001b[0m\u001b[0;34m}\u001b[0m \u001b[0;32mand\u001b[0m \u001b[0misinstance\u001b[0m\u001b[0;34m(\u001b[0m\u001b[0mdata\u001b[0m\u001b[0;34m,\u001b[0m \u001b[0;34m(\u001b[0m\u001b[0mH2OErrorV3\u001b[0m\u001b[0;34m,\u001b[0m \u001b[0mH2OModelBuilderErrorV3\u001b[0m\u001b[0;34m)\u001b[0m\u001b[0;34m)\u001b[0m\u001b[0;34m:\u001b[0m\u001b[0;34m\u001b[0m\u001b[0m\n\u001b[0;32m--> 725\u001b[0;31m             \u001b[0;32mraise\u001b[0m \u001b[0mH2OResponseError\u001b[0m\u001b[0;34m(\u001b[0m\u001b[0mdata\u001b[0m\u001b[0;34m)\u001b[0m\u001b[0;34m\u001b[0m\u001b[0m\n\u001b[0m\u001b[1;32m    726\u001b[0m \u001b[0;34m\u001b[0m\u001b[0m\n\u001b[1;32m    727\u001b[0m         \u001b[0;31m# Server errors (notably 500 = \"Server Error\")\u001b[0m\u001b[0;34m\u001b[0m\u001b[0;34m\u001b[0m\u001b[0m\n",
      "\u001b[0;31mH2OResponseError\u001b[0m: Server error water.exceptions.H2OKeyNotFoundArgumentException:\n  Error: Object 'DRF_model_python_1515928168123_28' not found in function: predict for argument: model\n  Request: POST /4/Predictions/models/DRF_model_python_1515928168123_28/frames/py_93_sid_8f8c\n"
     ]
    }
   ],
   "source": [
    "drf_res = df.cbind(drf_model.predict(df))\n",
    "drf_res = drf_res[['issue_d_year', 'loan_status', 'loan_amnt', 'total_pymnt', 'p1']]\n",
    "drf_res['pred1'] = drf_res['p1'] > drf_model.find_threshold_by_max_metric('accuracy')\n",
    "drf_res['pred1'] = drf_res['p1'] > .69\n",
    "drf_res['pred2'] = drf_res['p1'] > drf_sel_thr\n",
    "drf_res = drf_res[drf_res['loan_status'] != 'Current']\n",
    "\n",
    "drf_res['loan_amnt1'] = drf_res['loan_amnt'] * (1.0 - drf_res['pred1'])\n",
    "drf_res['loan_amnt2'] = drf_res['loan_amnt'] * (1.0 - drf_res['pred2'])\n",
    "\n",
    "drf_res['total_pymnt1'] = drf_res['total_pymnt'] * (1.0 - drf_res['pred1'])\n",
    "drf_res['total_pymnt2'] = drf_res['total_pymnt'] * (1.0 - drf_res['pred2'])\n",
    "\n",
    "tmp = drf_res.group_by('issue_d_year') \\\n",
    "    .sum('loan_amnt2') \\\n",
    "    .sum('loan_amnt1') \\\n",
    "    .sum('loan_amnt') \\\n",
    "    .sum('total_pymnt2') \\\n",
    "    .sum('total_pymnt1') \\\n",
    "    .sum('total_pymnt') \\\n",
    "    .get_frame()\n",
    "\n",
    "tmp['REVENUE (in mln)'] = (tmp['sum_total_pymnt']  / 1e6).round(2)\n",
    "tmp['PROFIT (in mln)'] = ((tmp['sum_total_pymnt'] - tmp['sum_loan_amnt']) / 1e6).round(2)\n",
    "tmp['ROI (%)'] = ((tmp['sum_total_pymnt'] / tmp['sum_loan_amnt'] - 1.0) * 100.0).round(2)\n",
    "\n",
    "tmp['REVENUE1 (in mln)'] = (tmp['sum_total_pymnt1']  / 1e6).round(2)\n",
    "tmp['PROFIT1 (in mln)'] = ((tmp['sum_total_pymnt1'] - tmp['sum_loan_amnt1']) / 1e6).round(2)\n",
    "tmp['ROI1 (%)'] = ((tmp['sum_total_pymnt1'] / tmp['sum_loan_amnt1'] - 1.0) * 100.0).round(2)\n",
    "\n",
    "tmp['REVENUE2 (in mln)'] = (tmp['sum_total_pymnt2']  / 1e6).round(2)\n",
    "tmp['PROFIT2 (in mln)'] = ((tmp['sum_total_pymnt2'] - tmp['sum_loan_amnt2']) / 1e6).round(2)\n",
    "tmp['ROI2 (%)'] = ((tmp['sum_total_pymnt2'] / tmp['sum_loan_amnt2'] - 1.0) * 100.0).round(2)\n",
    "\n",
    "tmp[['issue_d_year', \n",
    "     'REVENUE (in mln)', 'PROFIT (in mln)', 'ROI (%)',\n",
    "     'REVENUE1 (in mln)', 'PROFIT1 (in mln)', 'ROI1 (%)',\n",
    "     'REVENUE2 (in mln)', 'PROFIT2 (in mln)', 'ROI2 (%)'\n",
    "    ]]\n",
    "\n",
    "#TODO: line plot for ROI's   "
   ]
  },
  {
   "cell_type": "markdown",
   "metadata": {},
   "source": [
    "TODO's\n",
    "    - variable importance\n",
    "    - ngrams importance and frequencies\n",
    "    - words importance and frequencies"
   ]
  },
  {
   "cell_type": "markdown",
   "metadata": {},
   "source": [
    "### Stacked Ensemble\n",
    "\n",
    "TODO: add the article about consitent learning using ensembles  \n",
    "http://docs.h2o.ai/h2o/latest-stable/h2o-docs/booklets/GLMBooklet.pdf  \n",
    "http://docs.h2o.ai/h2o/latest-stable/h2o-docs/data-science/glm.html"
   ]
  },
  {
   "cell_type": "code",
   "execution_count": 65,
   "metadata": {},
   "outputs": [
    {
     "name": "stdout",
     "output_type": "stream",
     "text": [
      "stackedensemble Model Build progress: |███████████████████████████████████| 100%\n"
     ]
    }
   ],
   "source": [
    "from h2o.estimators.stackedensemble import H2OStackedEnsembleEstimator\n",
    "\n",
    "ens_model = H2OStackedEnsembleEstimator(base_models=[drf_model, glm_model])\n",
    "\n",
    "ens_model.train(predictors, response, training_frame=train)"
   ]
  },
  {
   "cell_type": "code",
   "execution_count": 66,
   "metadata": {
    "scrolled": false
   },
   "outputs": [
    {
     "name": "stdout",
     "output_type": "stream",
     "text": [
      "Could not find exact threshold 0.01; using closest threshold found 0.009884723978702457.\n",
      "Could not find exact threshold 0.02; using closest threshold found 0.019907233088456322.\n",
      "Could not find exact threshold 0.03; using closest threshold found 0.029979134241519143.\n",
      "Could not find exact threshold 0.04; using closest threshold found 0.04006450661383323.\n",
      "Could not find exact threshold 0.05; using closest threshold found 0.05013523977468975.\n",
      "Could not find exact threshold 0.06; using closest threshold found 0.059815503161473174.\n",
      "Could not find exact threshold 0.07; using closest threshold found 0.0699057176815873.\n",
      "Could not find exact threshold 0.08; using closest threshold found 0.0799811100279259.\n",
      "Could not find exact threshold 0.09; using closest threshold found 0.08988817342606739.\n",
      "Could not find exact threshold 0.01; using closest threshold found 0.009884723978702457.\n",
      "Could not find exact threshold 0.02; using closest threshold found 0.019907233088456322.\n",
      "Could not find exact threshold 0.03; using closest threshold found 0.029979134241519143.\n",
      "Could not find exact threshold 0.04; using closest threshold found 0.04006450661383323.\n",
      "Could not find exact threshold 0.05; using closest threshold found 0.05013523977468975.\n",
      "Could not find exact threshold 0.06; using closest threshold found 0.059815503161473174.\n",
      "Could not find exact threshold 0.07; using closest threshold found 0.0699057176815873.\n",
      "Could not find exact threshold 0.08; using closest threshold found 0.0799811100279259.\n",
      "Could not find exact threshold 0.09; using closest threshold found 0.08988817342606739.\n",
      "Could not find exact threshold 0.01; using closest threshold found 0.00969065987104252.\n",
      "Could not find exact threshold 0.02; using closest threshold found 0.019929821871010625.\n",
      "Could not find exact threshold 0.03; using closest threshold found 0.030019319356088193.\n",
      "Could not find exact threshold 0.04; using closest threshold found 0.039871949729269114.\n",
      "Could not find exact threshold 0.05; using closest threshold found 0.05017564045621915.\n",
      "Could not find exact threshold 0.06; using closest threshold found 0.06007882349749163.\n",
      "Could not find exact threshold 0.07; using closest threshold found 0.07007056710008147.\n",
      "Could not find exact threshold 0.08; using closest threshold found 0.07997571239065085.\n",
      "Could not find exact threshold 0.09; using closest threshold found 0.08975214328082125.\n",
      "Could not find exact threshold 0.01; using closest threshold found 0.00969065987104252.\n",
      "Could not find exact threshold 0.02; using closest threshold found 0.019929821871010625.\n",
      "Could not find exact threshold 0.03; using closest threshold found 0.030019319356088193.\n",
      "Could not find exact threshold 0.04; using closest threshold found 0.039871949729269114.\n",
      "Could not find exact threshold 0.05; using closest threshold found 0.05017564045621915.\n",
      "Could not find exact threshold 0.06; using closest threshold found 0.06007882349749163.\n",
      "Could not find exact threshold 0.07; using closest threshold found 0.07007056710008147.\n",
      "Could not find exact threshold 0.08; using closest threshold found 0.07997571239065085.\n",
      "Could not find exact threshold 0.09; using closest threshold found 0.08975214328082125.\n"
     ]
    },
    {
     "data": {
      "text/html": [
       "<div>\n",
       "<style scoped>\n",
       "    .dataframe tbody tr th:only-of-type {\n",
       "        vertical-align: middle;\n",
       "    }\n",
       "\n",
       "    .dataframe tbody tr th {\n",
       "        vertical-align: top;\n",
       "    }\n",
       "\n",
       "    .dataframe thead th {\n",
       "        text-align: right;\n",
       "    }\n",
       "</style>\n",
       "<table border=\"1\" class=\"dataframe\">\n",
       "  <thead>\n",
       "    <tr style=\"text-align: right;\">\n",
       "      <th></th>\n",
       "      <th>thr</th>\n",
       "      <th>RECALL</th>\n",
       "      <th>FPR</th>\n",
       "      <th>RECALL (valid)</th>\n",
       "      <th>FPR (valid)</th>\n",
       "      <th>&gt; min_recall</th>\n",
       "    </tr>\n",
       "  </thead>\n",
       "  <tbody>\n",
       "    <tr>\n",
       "      <th>0</th>\n",
       "      <td>0.01</td>\n",
       "      <td>1.000000</td>\n",
       "      <td>1.000000</td>\n",
       "      <td>1.000000</td>\n",
       "      <td>1.000000</td>\n",
       "      <td>True</td>\n",
       "    </tr>\n",
       "    <tr>\n",
       "      <th>1</th>\n",
       "      <td>0.02</td>\n",
       "      <td>0.973484</td>\n",
       "      <td>0.828171</td>\n",
       "      <td>0.972604</td>\n",
       "      <td>0.829093</td>\n",
       "      <td>True</td>\n",
       "    </tr>\n",
       "    <tr>\n",
       "      <th>2</th>\n",
       "      <td>0.03</td>\n",
       "      <td>0.924164</td>\n",
       "      <td>0.681084</td>\n",
       "      <td>0.919593</td>\n",
       "      <td>0.681232</td>\n",
       "      <td>True</td>\n",
       "    </tr>\n",
       "    <tr>\n",
       "      <th>3</th>\n",
       "      <td>0.04</td>\n",
       "      <td>0.859526</td>\n",
       "      <td>0.563449</td>\n",
       "      <td>0.860051</td>\n",
       "      <td>0.566401</td>\n",
       "      <td>False</td>\n",
       "    </tr>\n",
       "    <tr>\n",
       "      <th>4</th>\n",
       "      <td>0.05</td>\n",
       "      <td>0.787808</td>\n",
       "      <td>0.472606</td>\n",
       "      <td>0.784987</td>\n",
       "      <td>0.473329</td>\n",
       "      <td>False</td>\n",
       "    </tr>\n",
       "    <tr>\n",
       "      <th>5</th>\n",
       "      <td>0.06</td>\n",
       "      <td>0.746622</td>\n",
       "      <td>0.430532</td>\n",
       "      <td>0.741137</td>\n",
       "      <td>0.429871</td>\n",
       "      <td>False</td>\n",
       "    </tr>\n",
       "    <tr>\n",
       "      <th>6</th>\n",
       "      <td>0.07</td>\n",
       "      <td>0.710814</td>\n",
       "      <td>0.390403</td>\n",
       "      <td>0.703562</td>\n",
       "      <td>0.391454</td>\n",
       "      <td>False</td>\n",
       "    </tr>\n",
       "    <tr>\n",
       "      <th>7</th>\n",
       "      <td>0.08</td>\n",
       "      <td>0.664692</td>\n",
       "      <td>0.344716</td>\n",
       "      <td>0.656573</td>\n",
       "      <td>0.346251</td>\n",
       "      <td>False</td>\n",
       "    </tr>\n",
       "    <tr>\n",
       "      <th>8</th>\n",
       "      <td>0.09</td>\n",
       "      <td>0.605909</td>\n",
       "      <td>0.295918</td>\n",
       "      <td>0.596862</td>\n",
       "      <td>0.297894</td>\n",
       "      <td>False</td>\n",
       "    </tr>\n",
       "  </tbody>\n",
       "</table>\n",
       "</div>"
      ],
      "text/plain": [
       "    thr    RECALL       FPR  RECALL (valid)  FPR (valid)  > min_recall\n",
       "0  0.01  1.000000  1.000000        1.000000     1.000000          True\n",
       "1  0.02  0.973484  0.828171        0.972604     0.829093          True\n",
       "2  0.03  0.924164  0.681084        0.919593     0.681232          True\n",
       "3  0.04  0.859526  0.563449        0.860051     0.566401         False\n",
       "4  0.05  0.787808  0.472606        0.784987     0.473329         False\n",
       "5  0.06  0.746622  0.430532        0.741137     0.429871         False\n",
       "6  0.07  0.710814  0.390403        0.703562     0.391454         False\n",
       "7  0.08  0.664692  0.344716        0.656573     0.346251         False\n",
       "8  0.09  0.605909  0.295918        0.596862     0.297894         False"
      ]
     },
     "execution_count": 66,
     "metadata": {},
     "output_type": "execute_result"
    }
   ],
   "source": [
    "thr_grid = [i / 100 for i in range(1, 10)]\n",
    "thr_grid_recall_train = pd.DataFrame(ens_model.recall(thr_grid, train=True), columns=['thr', 'RECALL'])\n",
    "thr_grid_fpr_train = pd.DataFrame(ens_model.fpr(thr_grid, train=True), columns=['thr', 'FPR'])\n",
    "thr_grid_recall_valid = pd.DataFrame(ens_model.model_performance(validate).recall(thr_grid), \n",
    "                                     columns=['thr', 'RECALL (valid)'])\n",
    "thr_grid_fpr_valid = pd.DataFrame(ens_model.model_performance(validate).fpr(thr_grid), \n",
    "                                  columns=['thr', 'FPR (valid)'])\n",
    "\n",
    "thr_grid = thr_grid_recall_train.merge(thr_grid_fpr_train).merge(thr_grid_recall_valid).merge(thr_grid_fpr_valid)\n",
    "thr_grid['> min_recall'] = thr_grid['RECALL'] >= usr_min_recall\n",
    "ens_thr_grid = thr_grid\n",
    "ens_sel_thr = thr_grid.loc[thr_grid['> min_recall'], 'thr'].max()\n",
    "\n",
    "ens_thr_grid"
   ]
  },
  {
   "cell_type": "code",
   "execution_count": 67,
   "metadata": {
    "scrolled": true
   },
   "outputs": [
    {
     "name": "stdout",
     "output_type": "stream",
     "text": [
      "Could not find exact threshold 0.03; using closest threshold found 0.030019319356088193.\n",
      "Confusion Matrix (Act/Pred) @ threshold = 0.030019319356088193: \n"
     ]
    },
    {
     "data": {
      "text/html": [
       "<div style=\"overflow:auto\"><table style=\"width:50%\"><tr><td><b></b></td>\n",
       "<td><b>0</b></td>\n",
       "<td><b>1</b></td>\n",
       "<td><b>Error</b></td>\n",
       "<td><b>Rate</b></td></tr>\n",
       "<tr><td>0</td>\n",
       "<td>52241.0</td>\n",
       "<td>111643.0</td>\n",
       "<td>0.6812</td>\n",
       "<td> (111643.0/163884.0)</td></tr>\n",
       "<tr><td>1</td>\n",
       "<td>948.0</td>\n",
       "<td>10842.0</td>\n",
       "<td>0.0804</td>\n",
       "<td> (948.0/11790.0)</td></tr>\n",
       "<tr><td>Total</td>\n",
       "<td>53189.0</td>\n",
       "<td>122485.0</td>\n",
       "<td>0.6409</td>\n",
       "<td> (112591.0/175674.0)</td></tr></table></div>"
      ],
      "text/plain": [
       "       0      1       Error    Rate\n",
       "-----  -----  ------  -------  -------------------\n",
       "0      52241  111643  0.6812   (111643.0/163884.0)\n",
       "1      948    10842   0.0804   (948.0/11790.0)\n",
       "Total  53189  122485  0.6409   (112591.0/175674.0)"
      ]
     },
     "metadata": {},
     "output_type": "display_data"
    },
    {
     "name": "stdout",
     "output_type": "stream",
     "text": [
      "Confusion Matrix (Act/Pred) for max accuracy @ threshold = 0.2544249612644192: \n"
     ]
    },
    {
     "data": {
      "text/html": [
       "<div style=\"overflow:auto\"><table style=\"width:50%\"><tr><td><b></b></td>\n",
       "<td><b>0</b></td>\n",
       "<td><b>1</b></td>\n",
       "<td><b>Error</b></td>\n",
       "<td><b>Rate</b></td></tr>\n",
       "<tr><td>0</td>\n",
       "<td>163882.0</td>\n",
       "<td>2.0</td>\n",
       "<td>0.0</td>\n",
       "<td> (2.0/163884.0)</td></tr>\n",
       "<tr><td>1</td>\n",
       "<td>11788.0</td>\n",
       "<td>2.0</td>\n",
       "<td>0.9998</td>\n",
       "<td> (11788.0/11790.0)</td></tr>\n",
       "<tr><td>Total</td>\n",
       "<td>175670.0</td>\n",
       "<td>4.0</td>\n",
       "<td>0.0671</td>\n",
       "<td> (11790.0/175674.0)</td></tr></table></div>"
      ],
      "text/plain": [
       "       0       1    Error    Rate\n",
       "-----  ------  ---  -------  ------------------\n",
       "0      163882  2    0        (2.0/163884.0)\n",
       "1      11788   2    0.9998   (11788.0/11790.0)\n",
       "Total  175670  4    0.0671   (11790.0/175674.0)"
      ]
     },
     "metadata": {},
     "output_type": "display_data"
    },
    {
     "data": {
      "text/plain": [
       "[, ]"
      ]
     },
     "execution_count": 67,
     "metadata": {},
     "output_type": "execute_result"
    }
   ],
   "source": [
    "ens_model.model_performance(validate).confusion_matrix(thresholds=ens_sel_thr, metrics='accuracy')"
   ]
  },
  {
   "cell_type": "code",
   "execution_count": 68,
   "metadata": {
    "scrolled": false
   },
   "outputs": [
    {
     "data": {
      "image/png": "[encoded data removed]",
      "text/plain": [
       "<matplotlib.figure.Figure at 0x7f119558c908>"
      ]
     },
     "metadata": {},
     "output_type": "display_data"
    }
   ],
   "source": [
    "tmp = ens_model.model_performance(validate)\n",
    "from matplotlib import pyplot as plt\n",
    "plt.figure(figsize=(6, 6))\n",
    "tmp.plot()\n",
    "\n",
    "# TODO: in presentation add line at y = .95"
   ]
  },
  {
   "cell_type": "markdown",
   "metadata": {},
   "source": [
    "### Business Metrics"
   ]
  },
  {
   "cell_type": "code",
   "execution_count": 71,
   "metadata": {
    "scrolled": true
   },
   "outputs": [
    {
     "name": "stdout",
     "output_type": "stream",
     "text": [
      "stackedensemble prediction progress: |████████████████████████████████████| 100%\n"
     ]
    },
    {
     "data": {
      "text/html": [
       "<table>\n",
       "<thead>\n",
       "<tr><th style=\"text-align: right;\">  issue_d_year</th><th style=\"text-align: right;\">  REVENUE (in mln)</th><th style=\"text-align: right;\">  PROFIT (in mln)</th><th style=\"text-align: right;\">  ROI (%)</th><th style=\"text-align: right;\">  REVENUE1 (in mln)</th><th style=\"text-align: right;\">  PROFIT1 (in mln)</th><th style=\"text-align: right;\">  ROI1 (%)</th><th style=\"text-align: right;\">  REVENUE2 (in mln)</th><th style=\"text-align: right;\">  PROFIT2 (in mln)</th><th style=\"text-align: right;\">  ROI2 (%)</th></tr>\n",
       "</thead>\n",
       "<tbody>\n",
       "<tr><td style=\"text-align: right;\">          2007</td><td style=\"text-align: right;\">              1.04</td><td style=\"text-align: right;\">            -0.07</td><td style=\"text-align: right;\">    -6.3 </td><td style=\"text-align: right;\">               0.73</td><td style=\"text-align: right;\">              0   </td><td style=\"text-align: right;\">     -0.65</td><td style=\"text-align: right;\">               0.31</td><td style=\"text-align: right;\">              0.04</td><td style=\"text-align: right;\">     12.56</td></tr>\n",
       "<tr><td style=\"text-align: right;\">          2008</td><td style=\"text-align: right;\">              3.96</td><td style=\"text-align: right;\">            -0.29</td><td style=\"text-align: right;\">    -6.78</td><td style=\"text-align: right;\">               2.65</td><td style=\"text-align: right;\">             -0.17</td><td style=\"text-align: right;\">     -6.06</td><td style=\"text-align: right;\">               0.4 </td><td style=\"text-align: right;\">             -0.04</td><td style=\"text-align: right;\">     -9.48</td></tr>\n",
       "<tr><td style=\"text-align: right;\">          2009</td><td style=\"text-align: right;\">             10.34</td><td style=\"text-align: right;\">             0.79</td><td style=\"text-align: right;\">     8.25</td><td style=\"text-align: right;\">               6.23</td><td style=\"text-align: right;\">              0.48</td><td style=\"text-align: right;\">      8.3 </td><td style=\"text-align: right;\">               1.81</td><td style=\"text-align: right;\">              0.14</td><td style=\"text-align: right;\">      8.52</td></tr>\n",
       "<tr><td style=\"text-align: right;\">          2010</td><td style=\"text-align: right;\">             28.64</td><td style=\"text-align: right;\">             1.58</td><td style=\"text-align: right;\">     5.85</td><td style=\"text-align: right;\">              17.3 </td><td style=\"text-align: right;\">              0.65</td><td style=\"text-align: right;\">      3.93</td><td style=\"text-align: right;\">               7.16</td><td style=\"text-align: right;\">             -0.1 </td><td style=\"text-align: right;\">     -1.35</td></tr>\n",
       "<tr><td style=\"text-align: right;\">          2011</td><td style=\"text-align: right;\">             47.4 </td><td style=\"text-align: right;\">             2.84</td><td style=\"text-align: right;\">     6.38</td><td style=\"text-align: right;\">              29.27</td><td style=\"text-align: right;\">              2.09</td><td style=\"text-align: right;\">      7.7 </td><td style=\"text-align: right;\">              13.98</td><td style=\"text-align: right;\">              0.91</td><td style=\"text-align: right;\">      6.99</td></tr>\n",
       "<tr><td style=\"text-align: right;\">          2012</td><td style=\"text-align: right;\">            141.27</td><td style=\"text-align: right;\">            10.88</td><td style=\"text-align: right;\">     8.34</td><td style=\"text-align: right;\">              67.21</td><td style=\"text-align: right;\">              5.39</td><td style=\"text-align: right;\">      8.71</td><td style=\"text-align: right;\">              28.88</td><td style=\"text-align: right;\">              2.07</td><td style=\"text-align: right;\">      7.74</td></tr>\n",
       "<tr><td style=\"text-align: right;\">          2013</td><td style=\"text-align: right;\">            214.15</td><td style=\"text-align: right;\">             1.81</td><td style=\"text-align: right;\">     0.85</td><td style=\"text-align: right;\">             103.86</td><td style=\"text-align: right;\">              3.76</td><td style=\"text-align: right;\">      3.76</td><td style=\"text-align: right;\">              38.83</td><td style=\"text-align: right;\">              1.44</td><td style=\"text-align: right;\">      3.85</td></tr>\n",
       "<tr><td style=\"text-align: right;\">          2014</td><td style=\"text-align: right;\">            189.11</td><td style=\"text-align: right;\">           -21.43</td><td style=\"text-align: right;\">   -10.18</td><td style=\"text-align: right;\">              99.01</td><td style=\"text-align: right;\">             -5.92</td><td style=\"text-align: right;\">     -5.64</td><td style=\"text-align: right;\">              37.07</td><td style=\"text-align: right;\">             -0.98</td><td style=\"text-align: right;\">     -2.56</td></tr>\n",
       "<tr><td style=\"text-align: right;\">          2015</td><td style=\"text-align: right;\">             71.12</td><td style=\"text-align: right;\">           -17.86</td><td style=\"text-align: right;\">   -20.07</td><td style=\"text-align: right;\">              38.95</td><td style=\"text-align: right;\">             -5.67</td><td style=\"text-align: right;\">    -12.71</td><td style=\"text-align: right;\">              17.64</td><td style=\"text-align: right;\">             -1.61</td><td style=\"text-align: right;\">     -8.36</td></tr>\n",
       "</tbody>\n",
       "</table>"
      ]
     },
     "metadata": {},
     "output_type": "display_data"
    },
    {
     "data": {
      "text/plain": []
     },
     "execution_count": 71,
     "metadata": {},
     "output_type": "execute_result"
    }
   ],
   "source": [
    "ens_res = validate.cbind(ens_model.predict(validate))\n",
    "ens_res = ens_res[['issue_d_year', 'loan_status', 'loan_amnt', 'total_pymnt', 'p1']]\n",
    "ens_res['pred1'] = ens_res['p1'] > ens_model.find_threshold_by_max_metric('f2')\n",
    "ens_res['pred2'] = ens_res['p1'] > ens_sel_thr\n",
    "ens_res = ens_res[ens_res['loan_status'] != 'Current']\n",
    "\n",
    "ens_res['loan_amnt1'] = ens_res['loan_amnt'] * (1.0 - ens_res['pred1'])\n",
    "ens_res['loan_amnt2'] = ens_res['loan_amnt'] * (1.0 - ens_res['pred2'])\n",
    "\n",
    "ens_res['total_pymnt1'] = ens_res['total_pymnt'] * (1.0 - ens_res['pred1'])\n",
    "ens_res['total_pymnt2'] = ens_res['total_pymnt'] * (1.0 - ens_res['pred2'])\n",
    "\n",
    "tmp = ens_res.group_by('issue_d_year') \\\n",
    "    .sum('loan_amnt2') \\\n",
    "    .sum('loan_amnt1') \\\n",
    "    .sum('loan_amnt') \\\n",
    "    .sum('total_pymnt2') \\\n",
    "    .sum('total_pymnt1') \\\n",
    "    .sum('total_pymnt') \\\n",
    "    .get_frame()\n",
    "\n",
    "tmp['REVENUE (in mln)'] = (tmp['sum_total_pymnt']  / 1e6).round(2)\n",
    "tmp['PROFIT (in mln)'] = ((tmp['sum_total_pymnt'] - tmp['sum_loan_amnt']) / 1e6).round(2)\n",
    "tmp['ROI (%)'] = ((tmp['sum_total_pymnt'] / tmp['sum_loan_amnt'] - 1.0) * 100.0).round(2)\n",
    "\n",
    "tmp['REVENUE1 (in mln)'] = (tmp['sum_total_pymnt1']  / 1e6).round(2)\n",
    "tmp['PROFIT1 (in mln)'] = ((tmp['sum_total_pymnt1'] - tmp['sum_loan_amnt1']) / 1e6).round(2)\n",
    "tmp['ROI1 (%)'] = ((tmp['sum_total_pymnt1'] / tmp['sum_loan_amnt1'] - 1.0) * 100.0).round(2)\n",
    "\n",
    "tmp['REVENUE2 (in mln)'] = (tmp['sum_total_pymnt2']  / 1e6).round(2)\n",
    "tmp['PROFIT2 (in mln)'] = ((tmp['sum_total_pymnt2'] - tmp['sum_loan_amnt2']) / 1e6).round(2)\n",
    "tmp['ROI2 (%)'] = ((tmp['sum_total_pymnt2'] / tmp['sum_loan_amnt2'] - 1.0) * 100.0).round(2)\n",
    "\n",
    "tmp[['issue_d_year', \n",
    "     'REVENUE (in mln)', 'PROFIT (in mln)', 'ROI (%)',\n",
    "     'REVENUE1 (in mln)', 'PROFIT1 (in mln)', 'ROI1 (%)',\n",
    "     'REVENUE2 (in mln)', 'PROFIT2 (in mln)', 'ROI2 (%)'\n",
    "    ]]\n",
    "\n",
    " "
   ]
  },
  {
   "cell_type": "code",
   "execution_count": 77,
   "metadata": {},
   "outputs": [
    {
     "data": {
      "text/plain": [
       "PROFIT (in mln)    -21.75\n",
       "PROFIT1 (in mln)     0.61\n",
       "PROFIT2 (in mln)     1.87\n",
       "dtype: float64"
      ]
     },
     "execution_count": 77,
     "metadata": {},
     "output_type": "execute_result"
    }
   ],
   "source": [
    "tmp[['PROFIT (in mln)', 'PROFIT1 (in mln)', 'PROFIT2 (in mln)']].as_data_frame().apply(lambda x: np.sum(x), axis=0)   "
   ]
  }
 ],
 "metadata": {
  "kernelspec": {
   "display_name": "Python 3",
   "language": "python",
   "name": "python3"
  },
  "language_info": {
   "codemirror_mode": {
    "name": "ipython",
    "version": 3
   },
   "file_extension": ".py",
   "mimetype": "text/x-python",
   "name": "python",
   "nbconvert_exporter": "python",
   "pygments_lexer": "ipython3",
   "version": "3.5.2"
  }
 },
 "nbformat": 4,
 "nbformat_minor": 2
}
