{
 "cells": [
  {
   "cell_type": "markdown",
   "metadata": {},
   "source": [
    "# Loan defaults prediction using Sparkling Water"
   ]
  },
  {
   "cell_type": "markdown",
   "metadata": {},
   "source": [
    "## Outline:\n",
    "\n",
    "- Architecture\n",
    "    - environment set-up:\n",
    "        - `Pipenv`\n",
    "        - `Spark`\n",
    "        - `Jupyter`\n",
    "        - `H2O`\n",
    "    - how to run this notebook\n",
    "- Set-up datasets using local spark warehouse\n",
    "- `Spark:` Initial data exploration\n",
    "    - target variable distribution\n",
    "    - first hypotheses\n",
    "    - data pre-processing\n",
    "    - heavy feature engineering (leveraging Spark)\n",
    "        - averages using window functions\n",
    "        - removing non-significant keywords\n",
    "    - data cleaning (simple operations that can be done in Spark)\n",
    "- `H2O:`\n",
    "    - variable encoding\n",
    "    - outlier detection\n",
    "    - leveraging `scikit-learn` for small scale pre-processing\n",
    "    - set-up baseline model\n",
    "        - mean model\n",
    "    - develop more complex models (tracking performance with baseline to find the value of development)\n",
    "- Summary\n",
    "    - use AWS EC2 for reproducible and scalable model building\n",
    "        - we might at some point try to use a cluster of machines for that\n",
    "    - export **user settings** for the notebook\n",
    "    - **create functions** from code that will be reused more than once\n",
    "    - two stage models do not really work! (unless first level is very, very accurate)\n",
    "    - Always use simpler model from the very beginning that will open the road to smart feature engineering\n",
    "        - average rev per campaign\n",
    "        - avreage rev per account etcc\n",
    "    - All in all sampling and weighting can make a process much faste\n",
    "    - Balancing is a good idea but not in two step models (too much to be done in the end)\n",
    "    - Workflow with Sparkling water is very robust and enables to leverage a lot of Python libraries (scikit-learn, scipy)\n",
    "    - deep learning is not super fast (even on fast machine) so for big datasets like this one would probably still use XGboost\n",
    "\n",
    "\n"
   ]
  },
  {
   "cell_type": "markdown",
   "metadata": {},
   "source": [
    "## How to run this notebook on Amazon EC2 cluster:\n",
    "\n",
    " - clone the repo\n",
    " - run installation script\n",
    " - start jupyter notebook server\n",
    " - load the notebook\n",
    " - export Python envir for Spark\n",
    " - export AWS credentials for S3 bucket"
   ]
  },
  {
   "cell_type": "markdown",
   "metadata": {},
   "source": [
    "## Architecture details:"
   ]
  },
  {
   "cell_type": "markdown",
   "metadata": {},
   "source": [
    "![alt text](https://i0.wp.com/blog.h2o.ai/wp-content/uploads/2017/04/hdi-image5.jpg?resize=700%2C394)"
   ]
  },
  {
   "cell_type": "markdown",
   "metadata": {},
   "source": [
    "Note: also using `scikit-learn` utilities are much easier with H2O Data Frame than with pySpark (due to the unordered character of Spark DataFrame)"
   ]
  },
  {
   "cell_type": "markdown",
   "metadata": {
    "scrolled": false
   },
   "source": [
    "As a master node I'm using AWS `t2.x2large` instance with following specs:"
   ]
  },
  {
   "cell_type": "code",
   "execution_count": 156,
   "metadata": {
    "scrolled": false
   },
   "outputs": [
    {
     "name": "stdout",
     "output_type": "stream",
     "text": [
      "H/W path    Device  Class      Description\n",
      "==========================================\n",
      "                    system     HVM domU\n",
      "/0                  bus        Motherboard\n",
      "/0/0                memory     96KiB BIOS\n",
      "/0/401              processor  Intel(R) Xeon(R) CPU E5-2676 v3 @ 2.40GHz\n",
      "/0/402              processor  CPU\n",
      "/0/403              processor  CPU\n",
      "/0/404              processor  CPU\n",
      "/0/405              processor  CPU\n",
      "/0/406              processor  CPU\n",
      "/0/407              processor  CPU\n",
      "/0/408              processor  CPU\n",
      "/0/1000             memory     32GiB System Memory\n",
      "/0/1000/0           memory     16GiB DIMM RAM\n",
      "/0/1000/1           memory     16GiB DIMM RAM\n",
      "/0/100              bridge     440FX - 82441FX PMC [Natoma]\n",
      "/0/100/1            bridge     82371SB PIIX3 ISA [Natoma/Triton II]\n",
      "/0/100/1.1          storage    82371SB PIIX3 IDE [Natoma/Triton II]\n",
      "/0/100/1.3          bridge     82371AB/EB/MB PIIX4 ACPI\n",
      "/0/100/2            display    GD 5446\n",
      "/0/100/3            generic    Xen Platform Device\n",
      "/1          eth0    network    Ethernet interface\n"
     ]
    }
   ],
   "source": [
    "!sudo lshw -short"
   ]
  },
  {
   "cell_type": "markdown",
   "metadata": {},
   "source": [
    "## Task description:"
   ]
  },
  {
   "cell_type": "markdown",
   "metadata": {},
   "source": [
    "#### Advertiser programatic bidding:\n",
    "\n",
    " - The advertiser can set a price for each keyword/match type combination. \n",
    " - She can even refine her price setting by taking the device (computer, mobile, ...) into account. \n",
    " - She is furthermore free to update the prices whenever she wants. \n",
    "\n",
    "The set price mainly determines if her advertisement is shown to the user instead of a competitor’s one. Although the price decides on if the advertisement is shown, the advertiser only has to pay if the user clicks on the advertisement. A click redirects the user to the advertiser’s website offering him products that match what she was searching for. All the money the particular user spends in the next days on the advertiser’s website is attributed to the click, i.e. it is assumed that all the revenue the user generated with her conversions (=bookings, orders) after clicking on the advertisement was triggered by the advertisement.\n",
    "\n",
    "#### Keyword taxonomy:\n",
    "\n",
    "An online platform such as GetYourGuide provides easily thousands of products. Each product can have several relevant keywords such that the number of managed keywords is immense. Therefore, a hierarchy helps to categorize keywords:\n",
    "\n",
    " - **Keywords** belonging to the same product **are collected in an ad group**. \n",
    " - Several ad groups can contain the same keyword, the combination of keyword and ad group is then again unique. \n",
    " - **Ad groups** with a similar scope are bundled **in a campaign**. \n",
    " - **Campaigns** for a common target audience are collected **in the same account**.\n",
    "\n",
    "#### The question:\n",
    "\n",
    "A crucial question to answer when pricing the keywords is how much revenue one can expect from a click. In other words, what is the expected Revenue per Click (RPC). Answering this question is your task in this test."
   ]
  },
  {
   "cell_type": "markdown",
   "metadata": {},
   "source": [
    "#### Evaluation metrics:\n",
    "\n",
    "Click weighted squared distance:"
   ]
  },
  {
   "cell_type": "markdown",
   "metadata": {},
   "source": [
    "$$ cost = \\frac{1}{C} \\sum_{i=1}^{N} \\left[ c_n(r_n - \\hat{r_n})^2 \\right] $$"
   ]
  },
  {
   "cell_type": "markdown",
   "metadata": {},
   "source": [
    "This means that we can drop all rows from dataset where number of click was zero..."
   ]
  },
  {
   "cell_type": "markdown",
   "metadata": {},
   "source": [
    "-----"
   ]
  },
  {
   "cell_type": "markdown",
   "metadata": {},
   "source": [
    "### Model training assumptions\n",
    " \n",
    "- for now fit the models within channels from single periodicity tables\n",
    "- we might have models fit depending on coverage for other categories\n",
    "- no weighting/resmpling of outlets (we assume that within segments store pool is representative)\n",
    "- we tune regularisation parameters using k-fold cross validation\n",
    "- static model with time effects for some variables (also tested whether it improves model)\n",
    "- automatic detection of the features to be sumplemented with time dependency\n",
    "- we filter the data so it cover 95% of sales from items that we have seen product lifecycle from their very begining\n",
    "- we create table with launch dates within segments (to be replaced by separate Spark Job)\n",
    "- products doesn't have to end their plc, we will use normalized plc to discount achieved level of weighted distribution\n",
    "- create table with estimated product distribution\n",
    "- 2010 - 2017 (8 years)\n",
    "- create table with imputed prices (linear imputation)\n",
    "- no test if fit is close to cross-validation results\n",
    "- for now all items (we can aggregate long-tails later)\n",
    "- h2o model with Poisson multinomial trick as a benchmark for Michael pyTorch implementation"
   ]
  },
  {
   "cell_type": "markdown",
   "metadata": {},
   "source": [
    "## User specified parameters\n",
    "\n",
    "- `usr_fact_table: String` - name of the table with facts\n",
    "- `usr_item_keys: Array[String]` - name of the variables identifying stock-keeping unit (SKU)\n",
    "- `usr_item_table: String` - name of the table with imputed product features\n",
    "- `usr_launch_buffer: Int` - number of days that has to elapse since the begining of data to call first sales a launch"
   ]
  },
  {
   "cell_type": "code",
   "execution_count": 157,
   "metadata": {
    "scrolled": false
   },
   "outputs": [],
   "source": [
    "usr_s3_data_path = 's3n://jakubs-bucket/club_loan/loan.csv'\n",
    "usr_min_recall = .90\n",
    "usr_min_error = .05"
   ]
  },
  {
   "cell_type": "markdown",
   "metadata": {},
   "source": [
    "## Setting data access\n",
    "\n",
    " - Loan csv file was loaded into the Amazon Simple Storage Service (S3) serving as a primary source of data and back-up\n",
    " - to speed up process of loading data into Spark DataFrame we loaded the data into local metastore"
   ]
  },
  {
   "cell_type": "raw",
   "metadata": {},
   "source": [
    "# move tables from s3 to local sql warehouse\n",
    "# spark.read.csv(\"s3n://jakubs-bucket/\", header=True, inferSchema=True)\n",
    "sdf_loan = spark.read.csv(usr_s3_data_path, header=True, inferSchema=True)\n",
    "sdf_loan.persist()\n",
    "print('Read {} cases from {}.'.format(sdf_loan.count(), usr_s3_data_path))"
   ]
  },
  {
   "cell_type": "raw",
   "metadata": {},
   "source": [
    "# spark.sql('create database loan')\n",
    "spark.sql('drop table if exists loan.data')\n",
    "sdf_loan.write.saveAsTable('loan.data')"
   ]
  },
  {
   "cell_type": "code",
   "execution_count": 158,
   "metadata": {
    "scrolled": false
   },
   "outputs": [
    {
     "name": "stdout",
     "output_type": "stream",
     "text": [
      "/home/ubuntu/spark-warehouse/\n",
      "└── loan.db\n",
      "    └── data\n",
      "        ├── part-00000-7d6d0974-d6d2-448a-b2fc-5f9c5ed96e66-c000.snappy.parquet\n",
      "        ├── part-00001-7d6d0974-d6d2-448a-b2fc-5f9c5ed96e66-c000.snappy.parquet\n",
      "        ├── part-00002-7d6d0974-d6d2-448a-b2fc-5f9c5ed96e66-c000.snappy.parquet\n",
      "        ├── part-00003-7d6d0974-d6d2-448a-b2fc-5f9c5ed96e66-c000.snappy.parquet\n",
      "        ├── part-00004-7d6d0974-d6d2-448a-b2fc-5f9c5ed96e66-c000.snappy.parquet\n",
      "        ├── part-00005-7d6d0974-d6d2-448a-b2fc-5f9c5ed96e66-c000.snappy.parquet\n",
      "        ├── part-00006-7d6d0974-d6d2-448a-b2fc-5f9c5ed96e66-c000.snappy.parquet\n",
      "        ├── part-00007-7d6d0974-d6d2-448a-b2fc-5f9c5ed96e66-c000.snappy.parquet\n",
      "        └── _SUCCESS\n",
      "\n",
      "2 directories, 9 files\n"
     ]
    }
   ],
   "source": [
    "!tree /home/ubuntu/spark-warehouse/"
   ]
  },
  {
   "cell_type": "markdown",
   "metadata": {},
   "source": [
    "### H2O Server"
   ]
  },
  {
   "cell_type": "code",
   "execution_count": 159,
   "metadata": {
    "scrolled": false
   },
   "outputs": [
    {
     "name": "stdout",
     "output_type": "stream",
     "text": [
      "Connecting to H2O server at http://172.31.46.219:54321... successful.\n"
     ]
    },
    {
     "data": {
      "text/html": [
       "<div style=\"overflow:auto\"><table style=\"width:50%\"><tr><td>H2O cluster uptime:</td>\n",
       "<td>44 mins 23 secs</td></tr>\n",
       "<tr><td>H2O cluster version:</td>\n",
       "<td>3.16.0.2</td></tr>\n",
       "<tr><td>H2O cluster version age:</td>\n",
       "<td>1 month and 18 days </td></tr>\n",
       "<tr><td>H2O cluster name:</td>\n",
       "<td>sparkling-water-ubuntu_local-1516215817457</td></tr>\n",
       "<tr><td>H2O cluster total nodes:</td>\n",
       "<td>1</td></tr>\n",
       "<tr><td>H2O cluster free memory:</td>\n",
       "<td>10.16 Gb</td></tr>\n",
       "<tr><td>H2O cluster total cores:</td>\n",
       "<td>8</td></tr>\n",
       "<tr><td>H2O cluster allowed cores:</td>\n",
       "<td>8</td></tr>\n",
       "<tr><td>H2O cluster status:</td>\n",
       "<td>locked, healthy</td></tr>\n",
       "<tr><td>H2O connection url:</td>\n",
       "<td>http://172.31.46.219:54321</td></tr>\n",
       "<tr><td>H2O connection proxy:</td>\n",
       "<td>None</td></tr>\n",
       "<tr><td>H2O internal security:</td>\n",
       "<td>False</td></tr>\n",
       "<tr><td>H2O API Extensions:</td>\n",
       "<td>XGBoost, Algos, AutoML, Core V3, Core V4</td></tr>\n",
       "<tr><td>Python version:</td>\n",
       "<td>3.5.2 final</td></tr></table></div>"
      ],
      "text/plain": [
       "--------------------------  ------------------------------------------\n",
       "H2O cluster uptime:         44 mins 23 secs\n",
       "H2O cluster version:        3.16.0.2\n",
       "H2O cluster version age:    1 month and 18 days\n",
       "H2O cluster name:           sparkling-water-ubuntu_local-1516215817457\n",
       "H2O cluster total nodes:    1\n",
       "H2O cluster free memory:    10.16 Gb\n",
       "H2O cluster total cores:    8\n",
       "H2O cluster allowed cores:  8\n",
       "H2O cluster status:         locked, healthy\n",
       "H2O connection url:         http://172.31.46.219:54321\n",
       "H2O connection proxy:\n",
       "H2O internal security:      False\n",
       "H2O API Extensions:         XGBoost, Algos, AutoML, Core V3, Core V4\n",
       "Python version:             3.5.2 final\n",
       "--------------------------  ------------------------------------------"
      ]
     },
     "metadata": {},
     "output_type": "display_data"
    },
    {
     "name": "stdout",
     "output_type": "stream",
     "text": [
      "\n",
      "Sparkling Water Context:\n",
      " * H2O name: sparkling-water-ubuntu_local-1516215817457\n",
      " * cluster size: 1\n",
      " * list of used nodes:\n",
      "  (executorId, host, port)\n",
      "  ------------------------\n",
      "  (driver,172.31.46.219,54321)\n",
      "  ------------------------\n",
      "\n",
      "  Open H2O Flow in browser: http://172.31.46.219:54321 (CMD + click in Mac OSX)\n",
      "\n",
      "    \n"
     ]
    }
   ],
   "source": [
    "import h2o\n",
    "from pysparkling import H2OContext\n",
    "hc = H2OContext.getOrCreate(spark)"
   ]
  },
  {
   "cell_type": "markdown",
   "metadata": {},
   "source": [
    "## Data cleaning and feature engineering"
   ]
  },
  {
   "cell_type": "code",
   "execution_count": 160,
   "metadata": {},
   "outputs": [
    {
     "data": {
      "text/plain": [
       "887379"
      ]
     },
     "execution_count": 160,
     "metadata": {},
     "output_type": "execute_result"
    }
   ],
   "source": [
    "from pyspark.sql.functions import udf, sum, col, when\n",
    "from pyspark.sql.types import StringType\n",
    "from loan_utils import *\n",
    "\n",
    "sdf_loan = spark \\\n",
    "    .sql('select * from loan.data') \\\n",
    "    .persist()\n",
    "    \n",
    "sdf_loan.count()"
   ]
  },
  {
   "cell_type": "markdown",
   "metadata": {},
   "source": [
    "### Target variable (Loan status) preparation"
   ]
  },
  {
   "cell_type": "code",
   "execution_count": 161,
   "metadata": {
    "scrolled": true
   },
   "outputs": [
    {
     "data": {
      "text/plain": [
       "<matplotlib.axes._subplots.AxesSubplot at 0x7fe98e1a9c50>"
      ]
     },
     "execution_count": 161,
     "metadata": {},
     "output_type": "execute_result"
    },
    {
     "data": {
      "image/png": "[encoded data removed]",
      "text/plain": [
       "<matplotlib.figure.Figure at 0x7fe98dd09278>"
      ]
     },
     "metadata": {},
     "output_type": "display_data"
    }
   ],
   "source": [
    "tmp = sdf_loan.select('loan_status').groupBy('loan_status').count().orderBy('count').toPandas()\n",
    "tmp = tmp.set_index('loan_status')\n",
    "tmp.plot.barh()"
   ]
  },
  {
   "cell_type": "code",
   "execution_count": 162,
   "metadata": {},
   "outputs": [
    {
     "name": "stdout",
     "output_type": "stream",
     "text": [
      "Filtering and casting loan_status: removed 8461 (0.953%) cases due to the missing info \n",
      "Filtering and casting loan_default: removed 0 (0.000%) cases due to the missing info \n"
     ]
    }
   ],
   "source": [
    "loan_status_dict = {}\n",
    "loan_status_dict['Does not meet the credit policy. Status:Charged Off'] = 'Default'\n",
    "loan_status_dict['Default'] = 'Default'\n",
    "loan_status_dict['Does not meet the credit policy. Status:Fully Paid'] = 'Fully Paid'\n",
    "loan_status_dict['Late (16-30 days)'] = 'Current'\n",
    "loan_status_dict['In Grace Period'] = 'Current'\n",
    "loan_status_dict['Late (31-120 days)'] = 'Default'\n",
    "loan_status_dict['Charged Off'] = 'Default'\n",
    "loan_status_dict['Fully Paid'] = 'Fully Paid'\n",
    "loan_status_dict['Current'] = 'Current'\n",
    "loan_status_dict['Issued'] = None\n",
    "loan_status_dict['Oct-2015'] = None\n",
    "\n",
    "sdf_loan_clean = sdf_loan \\\n",
    "        .withColumn('loan_status', udf_recode_string(loan_status_dict)(col('loan_status'))) \\\n",
    "        .withColumn('loan_default', (col('loan_status') == 'Default').cast('int')) \\\n",
    "\n",
    "# remove observations with unclear data\n",
    "sdf_loan_clean = filter_and_cast('loan_status', 'string', sdf_loan_clean)\n",
    "sdf_loan_clean = filter_and_cast('loan_default', 'int', sdf_loan_clean)"
   ]
  },
  {
   "cell_type": "code",
   "execution_count": 163,
   "metadata": {
    "scrolled": false
   },
   "outputs": [
    {
     "data": {
      "text/plain": [
       "<matplotlib.axes._subplots.AxesSubplot at 0x7fe98093d208>"
      ]
     },
     "execution_count": 163,
     "metadata": {},
     "output_type": "execute_result"
    },
    {
     "data": {
      "image/png": "[encoded data removed]",
      "text/plain": [
       "<matplotlib.figure.Figure at 0x7fe994986c18>"
      ]
     },
     "metadata": {},
     "output_type": "display_data"
    }
   ],
   "source": [
    "tmp = sdf_loan_clean.select('loan_status').groupBy('loan_status').count().orderBy('count').toPandas()\n",
    "tmp = tmp.set_index('loan_status')\n",
    "tmp.plot.barh()"
   ]
  },
  {
   "cell_type": "markdown",
   "metadata": {},
   "source": [
    "### Loan variables preparation (here just summary of actions done)\n",
    "\n",
    "- cast numeric variables to float\n",
    "- filter cases with missing values\n",
    "- cast variables to numeric\n",
    "- cast date variables to datetime format\n",
    "- extract year and month from issue_d (not to be used in models though, see notes below)\n",
    "- `total_exp_pymnt` amount expected to be paid off\n",
    "- percentage of debt paid (to calculate ROI)"
   ]
  },
  {
   "cell_type": "code",
   "execution_count": 164,
   "metadata": {},
   "outputs": [],
   "source": [
    "from pyspark.sql.functions import unix_timestamp, from_unixtime, max, lit, datediff, add_months\n",
    "from pyspark.sql import Window\n",
    "\n",
    "w_all = Window.rowsBetween(Window.unboundedPreceding, Window.unboundedFollowing)"
   ]
  },
  {
   "cell_type": "code",
   "execution_count": 165,
   "metadata": {},
   "outputs": [
    {
     "data": {
      "text/html": [
       "<div>\n",
       "<style scoped>\n",
       "    .dataframe tbody tr th:only-of-type {\n",
       "        vertical-align: middle;\n",
       "    }\n",
       "\n",
       "    .dataframe tbody tr th {\n",
       "        vertical-align: top;\n",
       "    }\n",
       "\n",
       "    .dataframe thead th {\n",
       "        text-align: right;\n",
       "    }\n",
       "</style>\n",
       "<table border=\"1\" class=\"dataframe\">\n",
       "  <thead>\n",
       "    <tr style=\"text-align: right;\">\n",
       "      <th></th>\n",
       "      <th>grade</th>\n",
       "      <th>sub_grade</th>\n",
       "      <th>count</th>\n",
       "    </tr>\n",
       "  </thead>\n",
       "  <tbody>\n",
       "    <tr>\n",
       "      <th>0</th>\n",
       "      <td>B</td>\n",
       "      <td>B3</td>\n",
       "      <td>55777</td>\n",
       "    </tr>\n",
       "    <tr>\n",
       "      <th>1</th>\n",
       "      <td>B</td>\n",
       "      <td>B4</td>\n",
       "      <td>55094</td>\n",
       "    </tr>\n",
       "    <tr>\n",
       "      <th>2</th>\n",
       "      <td>C</td>\n",
       "      <td>C1</td>\n",
       "      <td>52799</td>\n",
       "    </tr>\n",
       "    <tr>\n",
       "      <th>3</th>\n",
       "      <td>C</td>\n",
       "      <td>C2</td>\n",
       "      <td>51724</td>\n",
       "    </tr>\n",
       "    <tr>\n",
       "      <th>4</th>\n",
       "      <td>C</td>\n",
       "      <td>C3</td>\n",
       "      <td>49680</td>\n",
       "    </tr>\n",
       "  </tbody>\n",
       "</table>\n",
       "</div>"
      ],
      "text/plain": [
       "  grade sub_grade  count\n",
       "0     B        B3  55777\n",
       "1     B        B4  55094\n",
       "2     C        C1  52799\n",
       "3     C        C2  51724\n",
       "4     C        C3  49680"
      ]
     },
     "execution_count": 165,
     "metadata": {},
     "output_type": "execute_result"
    }
   ],
   "source": [
    "sdf_loan_clean.groupBy('grade', 'sub_grade').count().orderBy(col('count').desc()).toPandas().head()"
   ]
  },
  {
   "cell_type": "code",
   "execution_count": 166,
   "metadata": {},
   "outputs": [
    {
     "name": "stdout",
     "output_type": "stream",
     "text": [
      "Filtering and casting total_pymnt: removed 68 (0.008%) cases due to the missing info \n",
      "Filtering and casting total_rec_prncp: removed 24 (0.003%) cases due to the missing info \n",
      "Filtering and casting out_prncp: removed 76 (0.009%) cases due to the missing info \n",
      "Filtering and casting grade: removed 0 (0.000%) cases due to the missing info \n",
      "Filtering and casting sub_grade: removed 0 (0.000%) cases due to the missing info \n"
     ]
    }
   ],
   "source": [
    "# variables describing loan itself\n",
    "from pyspark.sql.functions import unix_timestamp, year, month, from_unixtime\n",
    "\n",
    "var_descr_loan = ['issue_d', \n",
    "            'issue_d_year',\n",
    "            'issue_d_month',\n",
    "            'loan_amnt',\n",
    "            'total_amnt_due',\n",
    "            'int_rate',\n",
    "            'installment',\n",
    "            'term', \n",
    "            'term_n',\n",
    "            'total_pymnt',\n",
    "            'total_rec_prncp',\n",
    "            'total_rec_prncp_perc',\n",
    "            'out_prncp',\n",
    "            'time_covered_prc'\n",
    "                 ]\n",
    "\n",
    "# filter null values and cast to appropriate types\n",
    "sdf_loan_clean = filter_and_cast('total_pymnt', 'double', sdf_loan_clean)\n",
    "sdf_loan_clean = filter_and_cast('total_rec_prncp', 'double', sdf_loan_clean)\n",
    "sdf_loan_clean = filter_and_cast('out_prncp', 'double', sdf_loan_clean)\n",
    "\n",
    "# create Spark dateteime object from issue_d\n",
    "sdf_loan_clean = sdf_loan_clean \\\n",
    "        .withColumn('issue_d_ts', from_unixtime(unix_timestamp(col('issue_d'), format='MMM-yyyy'))) \\\n",
    "        .withColumn('issue_d_year', year(col('issue_d_ts'))) \\\n",
    "        .withColumn('issue_d_month', month(col('issue_d_ts')))\n",
    "        \n",
    "# create number of installments\n",
    "sdf_loan_clean = sdf_loan_clean \\\n",
    "        .withColumn('term_n', when(col('term') == ' 36 months', lit(36.0)).otherwise(60))\n",
    "\n",
    "# create total ammount due\n",
    "sdf_loan_clean = sdf_loan_clean \\\n",
    "        .withColumn('total_amnt_due', col('term_n') * col('installment'))\n",
    "\n",
    "# create percentage of the timeline covered by the data\n",
    "max_issue_d = sdf_loan_clean.select('issue_d_ts').agg(max(col('issue_d_ts')).alias('m')).collect()\n",
    "max_issue_d = max_issue_d[0]['m']\n",
    "\n",
    "sdf_loan_clean = sdf_loan_clean \\\n",
    "    .withColumn('issue_d_ts_max', lit(max_issue_d)) \\\n",
    "    .withColumn('time_covered', datediff(col('issue_d_ts_max'), col('issue_d_ts'))) \\\n",
    "    .withColumn('time_to_payoff', col('term_n') * 30) \\\n",
    "    .withColumn('time_covered_prc', when(col('time_covered') / col('time_to_payoff') < 1.0,\n",
    "                                        col('time_covered') / col('time_to_payoff')).otherwise(1.0)) \\\n",
    "\n",
    "# create percentage of debt paid\n",
    "sdf_loan_clean = sdf_loan_clean \\\n",
    "        .withColumn('total_rec_prncp_perc', col('total_rec_prncp') / col('loan_amnt'))\n",
    "    \n",
    "    \n",
    "# grade and subgrade\n",
    "sdf_loan_clean = filter_and_cast('grade', 'string', sdf_loan_clean)\n",
    "sdf_loan_clean = filter_and_cast('sub_grade', 'string', sdf_loan_clean)"
   ]
  },
  {
   "cell_type": "code",
   "execution_count": 167,
   "metadata": {
    "scrolled": false
   },
   "outputs": [
    {
     "name": "stdout",
     "output_type": "stream",
     "text": [
      "root\n",
      " |-- issue_d: string (nullable = true)\n",
      " |-- issue_d_year: integer (nullable = true)\n",
      " |-- issue_d_month: integer (nullable = true)\n",
      " |-- loan_amnt: double (nullable = true)\n",
      " |-- total_amnt_due: double (nullable = true)\n",
      " |-- int_rate: double (nullable = true)\n",
      " |-- installment: double (nullable = true)\n",
      " |-- term: string (nullable = true)\n",
      " |-- term_n: double (nullable = false)\n",
      " |-- total_pymnt: double (nullable = true)\n",
      " |-- total_rec_prncp: double (nullable = true)\n",
      " |-- total_rec_prncp_perc: double (nullable = true)\n",
      " |-- out_prncp: double (nullable = true)\n",
      " |-- time_covered_prc: double (nullable = true)\n",
      "\n"
     ]
    },
    {
     "data": {
      "text/html": [
       "<div>\n",
       "<style scoped>\n",
       "    .dataframe tbody tr th:only-of-type {\n",
       "        vertical-align: middle;\n",
       "    }\n",
       "\n",
       "    .dataframe tbody tr th {\n",
       "        vertical-align: top;\n",
       "    }\n",
       "\n",
       "    .dataframe thead th {\n",
       "        text-align: right;\n",
       "    }\n",
       "</style>\n",
       "<table border=\"1\" class=\"dataframe\">\n",
       "  <thead>\n",
       "    <tr style=\"text-align: right;\">\n",
       "      <th></th>\n",
       "      <th>issue_d</th>\n",
       "      <th>issue_d_year</th>\n",
       "      <th>issue_d_month</th>\n",
       "      <th>loan_amnt</th>\n",
       "      <th>total_amnt_due</th>\n",
       "      <th>int_rate</th>\n",
       "      <th>installment</th>\n",
       "      <th>term</th>\n",
       "      <th>term_n</th>\n",
       "      <th>total_pymnt</th>\n",
       "      <th>total_rec_prncp</th>\n",
       "      <th>total_rec_prncp_perc</th>\n",
       "      <th>out_prncp</th>\n",
       "      <th>time_covered_prc</th>\n",
       "    </tr>\n",
       "  </thead>\n",
       "  <tbody>\n",
       "    <tr>\n",
       "      <th>0</th>\n",
       "      <td>0</td>\n",
       "      <td>0</td>\n",
       "      <td>0</td>\n",
       "      <td>0</td>\n",
       "      <td>0</td>\n",
       "      <td>0</td>\n",
       "      <td>0</td>\n",
       "      <td>0</td>\n",
       "      <td>0</td>\n",
       "      <td>0</td>\n",
       "      <td>0</td>\n",
       "      <td>0</td>\n",
       "      <td>0</td>\n",
       "      <td>0</td>\n",
       "    </tr>\n",
       "  </tbody>\n",
       "</table>\n",
       "</div>"
      ],
      "text/plain": [
       "   issue_d  issue_d_year  issue_d_month  loan_amnt  total_amnt_due  int_rate  \\\n",
       "0        0             0              0          0               0         0   \n",
       "\n",
       "   installment  term  term_n  total_pymnt  total_rec_prncp  \\\n",
       "0            0     0       0            0                0   \n",
       "\n",
       "   total_rec_prncp_perc  out_prncp  time_covered_prc  \n",
       "0                     0          0                 0  "
      ]
     },
     "execution_count": 167,
     "metadata": {},
     "output_type": "execute_result"
    }
   ],
   "source": [
    "tmp = sdf_loan_clean.select(*var_descr_loan)\n",
    "\n",
    "# check types and amount of missings\n",
    "tmp.printSchema()\n",
    "count_null_values(tmp)"
   ]
  },
  {
   "cell_type": "code",
   "execution_count": 168,
   "metadata": {},
   "outputs": [
    {
     "data": {
      "text/plain": [
       "878750"
      ]
     },
     "execution_count": 168,
     "metadata": {},
     "output_type": "execute_result"
    }
   ],
   "source": [
    "sdf_loan_clean.persist()\n",
    "sdf_loan_clean.count()"
   ]
  },
  {
   "cell_type": "code",
   "execution_count": 169,
   "metadata": {},
   "outputs": [
    {
     "data": {
      "image/png": "[encoded data removed]",
      "text/plain": [
       "<matplotlib.figure.Figure at 0x7fe99442ef60>"
      ]
     },
     "metadata": {},
     "output_type": "display_data"
    }
   ],
   "source": [
    "tmp = sdf_loan_clean \\\n",
    "    .select('loan_status', 'time_covered_prc') \\\n",
    "    .toPandas()\n",
    "\n",
    "p = tmp.groupby('loan_status').boxplot(figsize=(16, 5), layout=(1, 3))    "
   ]
  },
  {
   "cell_type": "markdown",
   "metadata": {},
   "source": [
    "### Loan description variables\n",
    " - title\n",
    " - user comments"
   ]
  },
  {
   "cell_type": "code",
   "execution_count": 170,
   "metadata": {
    "scrolled": true
   },
   "outputs": [
    {
     "data": {
      "text/plain": [
       "<matplotlib.axes._subplots.AxesSubplot at 0x7fe98259f208>"
      ]
     },
     "execution_count": 170,
     "metadata": {},
     "output_type": "execute_result"
    },
    {
     "data": {
      "image/png": "[encoded data removed]",
      "text/plain": [
       "<matplotlib.figure.Figure at 0x7fe97a992940>"
      ]
     },
     "metadata": {},
     "output_type": "display_data"
    }
   ],
   "source": [
    "# frequency analysis of 'purpose'\n",
    "import numpy as np\n",
    "\n",
    "tmp = sdf_loan_clean.groupBy('purpose').count().orderBy(col('count').desc()).toPandas()\n",
    "tmp['count (%)'] = tmp['count'] / tmp['count'].sum() * 100\n",
    "tmp['count (cum %)'] = np.cumsum(tmp['count (%)'])\n",
    "tmp = tmp.loc[tmp['count'] > 1, ].set_index('purpose')\n",
    "tmp[['count (%)']].sort_values('count (%)', ascending=True).plot.barh()"
   ]
  },
  {
   "cell_type": "code",
   "execution_count": 171,
   "metadata": {},
   "outputs": [
    {
     "name": "stdout",
     "output_type": "stream",
     "text": [
      "Filtering and casting purpose: removed 86 (0.010%) cases due to the missing info \n"
     ]
    }
   ],
   "source": [
    "# keep only texts with count > 1\n",
    "loan_purpose_dict = {}\n",
    "for lev in tmp.index.values:\n",
    "    loan_purpose_dict[lev] = lev\n",
    "\n",
    "sdf_loan_clean = sdf_loan_clean \\\n",
    "        .withColumn('purpose', udf_recode_string(loan_purpose_dict)(col('purpose')))\n",
    "sdf_loan_clean = filter_and_cast('purpose', 'string', sdf_loan_clean)"
   ]
  },
  {
   "cell_type": "markdown",
   "metadata": {},
   "source": [
    "### Generate key-words and 2-grams for title field\n",
    "\n",
    "https://en.wikipedia.org/wiki/N-gram"
   ]
  },
  {
   "cell_type": "code",
   "execution_count": 172,
   "metadata": {},
   "outputs": [
    {
     "name": "stdout",
     "output_type": "stream",
     "text": [
      "19025\n"
     ]
    },
    {
     "data": {
      "text/html": [
       "<div>\n",
       "<style scoped>\n",
       "    .dataframe tbody tr th:only-of-type {\n",
       "        vertical-align: middle;\n",
       "    }\n",
       "\n",
       "    .dataframe tbody tr th {\n",
       "        vertical-align: top;\n",
       "    }\n",
       "\n",
       "    .dataframe thead th {\n",
       "        text-align: right;\n",
       "    }\n",
       "</style>\n",
       "<table border=\"1\" class=\"dataframe\">\n",
       "  <thead>\n",
       "    <tr style=\"text-align: right;\">\n",
       "      <th></th>\n",
       "      <th>title</th>\n",
       "      <th>count</th>\n",
       "      <th>count (%)</th>\n",
       "      <th>count (cum %)</th>\n",
       "    </tr>\n",
       "  </thead>\n",
       "  <tbody>\n",
       "    <tr>\n",
       "      <th>0</th>\n",
       "      <td>Debt consolidation</td>\n",
       "      <td>409265</td>\n",
       "      <td>46.578100</td>\n",
       "      <td>46.578100</td>\n",
       "    </tr>\n",
       "    <tr>\n",
       "      <th>1</th>\n",
       "      <td>Credit card refinancing</td>\n",
       "      <td>162289</td>\n",
       "      <td>18.469973</td>\n",
       "      <td>65.048073</td>\n",
       "    </tr>\n",
       "    <tr>\n",
       "      <th>2</th>\n",
       "      <td>Home improvement</td>\n",
       "      <td>39631</td>\n",
       "      <td>4.510370</td>\n",
       "      <td>69.558443</td>\n",
       "    </tr>\n",
       "    <tr>\n",
       "      <th>3</th>\n",
       "      <td>Other</td>\n",
       "      <td>31422</td>\n",
       "      <td>3.576111</td>\n",
       "      <td>73.134554</td>\n",
       "    </tr>\n",
       "    <tr>\n",
       "      <th>4</th>\n",
       "      <td>Debt Consolidation</td>\n",
       "      <td>15757</td>\n",
       "      <td>1.793291</td>\n",
       "      <td>74.927845</td>\n",
       "    </tr>\n",
       "  </tbody>\n",
       "</table>\n",
       "</div>"
      ],
      "text/plain": [
       "                     title   count  count (%)  count (cum %)\n",
       "0       Debt consolidation  409265  46.578100      46.578100\n",
       "1  Credit card refinancing  162289  18.469973      65.048073\n",
       "2         Home improvement   39631   4.510370      69.558443\n",
       "3                    Other   31422   3.576111      73.134554\n",
       "4       Debt Consolidation   15757   1.793291      74.927845"
      ]
     },
     "execution_count": 172,
     "metadata": {},
     "output_type": "execute_result"
    }
   ],
   "source": [
    "# frequency analysis of 'title' (too many levels for categorical variable)\n",
    "\n",
    "tmp = sdf_loan_clean.groupBy('title').count().orderBy(col('count').desc()).toPandas()\n",
    "tmp['count (%)'] = tmp['count'] / tmp['count'].sum() * 100\n",
    "tmp['count (cum %)'] = np.cumsum(tmp['count (%)'])\n",
    "\n",
    "print(len(tmp.loc[tmp['count (cum %)'] < 95, 'count']))\n",
    "tmp.head()"
   ]
  },
  {
   "cell_type": "code",
   "execution_count": 173,
   "metadata": {},
   "outputs": [
    {
     "name": "stdout",
     "output_type": "stream",
     "text": [
      "Filtering and casting title: removed 34 (0.004%) cases due to the missing info \n"
     ]
    }
   ],
   "source": [
    "from pyspark.ml.feature import Tokenizer, StopWordsRemover, NGram, CountVectorizer, VectorAssembler\n",
    "\n",
    "# remove records with null title value\n",
    "sdf_loan_clean = filter_and_cast('title', 'string', sdf_loan_clean)\n",
    "\n",
    "# split tile into words\n",
    "tmp_tokenizer = Tokenizer(inputCol=\"title\", outputCol=\"title_tokens\")\n",
    "sdf_loan_clean = tmp_tokenizer.transform(sdf_loan_clean)\n",
    "\n",
    "# remove English stop words\n",
    "tmp_remover = StopWordsRemover(inputCol=\"title_tokens\",\n",
    "                               outputCol=\"title_words\",\n",
    "                               stopWords=StopWordsRemover.loadDefaultStopWords('english'))\n",
    "sdf_loan_clean = tmp_remover.transform(sdf_loan_clean)\n",
    "\n",
    "# create n-grams\n",
    "tmp_ngram = NGram(n=2, inputCol=\"title_words\", outputCol=\"title_ngrams\")\n",
    "sdf_loan_clean = tmp_ngram.transform(sdf_loan_clean)\n",
    "\n"
   ]
  },
  {
   "cell_type": "code",
   "execution_count": 174,
   "metadata": {},
   "outputs": [
    {
     "data": {
      "text/plain": [
       "878630"
      ]
     },
     "execution_count": 174,
     "metadata": {},
     "output_type": "execute_result"
    }
   ],
   "source": [
    "# create binary representation\n",
    "cv = CountVectorizer(inputCol=\"title_words\", \n",
    "                     outputCol=\"title_words_vec\", \n",
    "                     binary=True,\n",
    "                     minDF=.001)\n",
    "\n",
    "cv_fit = cv.fit(sdf_loan_clean)\n",
    "\n",
    "sdf_loan_clean = cv_fit.transform(sdf_loan_clean).persist()\n",
    "sdf_loan_clean.count()"
   ]
  },
  {
   "cell_type": "code",
   "execution_count": 175,
   "metadata": {},
   "outputs": [
    {
     "data": {
      "text/plain": [
       "878630"
      ]
     },
     "execution_count": 175,
     "metadata": {},
     "output_type": "execute_result"
    }
   ],
   "source": [
    "# create binary representation\n",
    "cv_ng = CountVectorizer(inputCol=\"title_ngrams\", \n",
    "                     outputCol=\"title_ngrams_vec\", \n",
    "                     binary=True,\n",
    "                     minDF=.0001)\n",
    "\n",
    "cv_ng_fit = cv_ng.fit(sdf_loan_clean)\n",
    "\n",
    "sdf_loan_clean = cv_ng_fit.transform(sdf_loan_clean).persist()\n",
    "sdf_loan_clean.count()"
   ]
  },
  {
   "cell_type": "code",
   "execution_count": 176,
   "metadata": {
    "scrolled": false
   },
   "outputs": [
    {
     "data": {
      "text/plain": [
       "['consolidation',\n",
       " 'debt',\n",
       " 'credit',\n",
       " 'card',\n",
       " 'refinancing',\n",
       " 'home',\n",
       " 'improvement',\n",
       " 'loan',\n",
       " 'purchase',\n",
       " 'major']"
      ]
     },
     "execution_count": 176,
     "metadata": {},
     "output_type": "execute_result"
    }
   ],
   "source": [
    "cv_fit.vocabulary[0:10]"
   ]
  },
  {
   "cell_type": "code",
   "execution_count": 177,
   "metadata": {},
   "outputs": [
    {
     "data": {
      "text/plain": [
       "['debt consolidation',\n",
       " 'credit card',\n",
       " 'card refinancing',\n",
       " 'home improvement',\n",
       " 'major purchase',\n",
       " 'consolidation loan',\n",
       " 'medical expenses',\n",
       " 'car financing',\n",
       " 'credit cards',\n",
       " 'card consolidation']"
      ]
     },
     "execution_count": 177,
     "metadata": {},
     "output_type": "execute_result"
    }
   ],
   "source": [
    "cv_ng_fit.vocabulary[0:10]"
   ]
  },
  {
   "cell_type": "code",
   "execution_count": 178,
   "metadata": {
    "scrolled": false
   },
   "outputs": [
    {
     "name": "stdout",
     "output_type": "stream",
     "text": [
      "+----------------------------+---------------------+\n",
      "|title_words_vec             |title_ngrams_vec     |\n",
      "+----------------------------+---------------------+\n",
      "|(50,[],[])                  |(183,[],[])          |\n",
      "|(50,[],[])                  |(183,[],[])          |\n",
      "|(50,[10],[1.0])             |(183,[],[])          |\n",
      "|(50,[],[])                  |(183,[],[])          |\n",
      "|(50,[16],[1.0])             |(183,[],[])          |\n",
      "|(50,[7,12,28],[1.0,1.0,1.0])|(183,[35],[1.0])     |\n",
      "|(50,[7],[1.0])              |(183,[],[])          |\n",
      "|(50,[15],[1.0])             |(183,[],[])          |\n",
      "|(50,[1,10,47],[1.0,1.0,1.0])|(183,[],[])          |\n",
      "|(50,[2],[1.0])              |(183,[],[])          |\n",
      "|(50,[0,37],[1.0,1.0])       |(183,[],[])          |\n",
      "|(50,[0],[1.0])              |(183,[],[])          |\n",
      "|(50,[26],[1.0])             |(183,[],[])          |\n",
      "|(50,[],[])                  |(183,[],[])          |\n",
      "|(50,[7],[1.0])              |(183,[],[])          |\n",
      "|(50,[0,1,7],[1.0,1.0,1.0])  |(183,[0,5],[1.0,1.0])|\n",
      "|(50,[5],[1.0])              |(183,[],[])          |\n",
      "|(50,[],[])                  |(183,[],[])          |\n",
      "|(50,[13],[1.0])             |(183,[],[])          |\n",
      "|(50,[],[])                  |(183,[],[])          |\n",
      "+----------------------------+---------------------+\n",
      "only showing top 20 rows\n",
      "\n"
     ]
    }
   ],
   "source": [
    "sdf_loan_clean.select('title_words_vec', 'title_ngrams_vec').show(truncate=False)"
   ]
  },
  {
   "cell_type": "markdown",
   "metadata": {},
   "source": [
    "### Job information"
   ]
  },
  {
   "cell_type": "code",
   "execution_count": 179,
   "metadata": {},
   "outputs": [],
   "source": [
    "from pyspark.ml.feature import Tokenizer, StopWordsRemover, NGram, CountVectorizer, VectorAssembler\n",
    "\n",
    "# recode missing to 'None'\n",
    "sdf_loan_clean = sdf_loan_clean \\\n",
    "    .withColumn('emp_title', when(col('emp_title').isNull(), 'None').otherwise(col('emp_title')))"
   ]
  },
  {
   "cell_type": "code",
   "execution_count": 180,
   "metadata": {},
   "outputs": [],
   "source": [
    "# split tile into words\n",
    "tmp_tokenizer = Tokenizer(inputCol=\"emp_title\", outputCol=\"emp_title_tokens\")\n",
    "sdf_loan_clean = tmp_tokenizer.transform(sdf_loan_clean)\n",
    "\n",
    "# remove English stop words\n",
    "tmp_remover = StopWordsRemover(inputCol=\"emp_title_tokens\",\n",
    "                               outputCol=\"emp_title_words\",\n",
    "                               stopWords=StopWordsRemover.loadDefaultStopWords('english'))\n",
    "sdf_loan_clean = tmp_remover.transform(sdf_loan_clean)"
   ]
  },
  {
   "cell_type": "code",
   "execution_count": 181,
   "metadata": {},
   "outputs": [
    {
     "data": {
      "text/plain": [
       "878630"
      ]
     },
     "execution_count": 181,
     "metadata": {},
     "output_type": "execute_result"
    }
   ],
   "source": [
    "# create binary representation\n",
    "cv_emp = CountVectorizer(inputCol=\"emp_title_words\", \n",
    "                     outputCol=\"emp_title_words_vec\", \n",
    "                     binary=True,\n",
    "                     minDF=.01)\n",
    "\n",
    "cv_emp_fit = cv_emp.fit(sdf_loan_clean)\n",
    "\n",
    "sdf_loan_clean = cv_emp_fit.transform(sdf_loan_clean).persist()\n",
    "sdf_loan_clean.count()"
   ]
  },
  {
   "cell_type": "code",
   "execution_count": 182,
   "metadata": {},
   "outputs": [
    {
     "name": "stdout",
     "output_type": "stream",
     "text": [
      "Detected 253494 levels for job title\n"
     ]
    }
   ],
   "source": [
    "tmp = sdf_loan_clean.groupBy('emp_title').count().orderBy(col('count').desc()).toPandas()\n",
    "tmp['cum_freq'] = np.cumsum(tmp['count']) / tmp['count'].sum()\n",
    "tmp_levs = tmp.loc[tmp['cum_freq'] <= .95, 'emp_title'].values\n",
    "\n",
    "print('Detected {} levels for job title'.format(len(tmp_levs)))"
   ]
  },
  {
   "cell_type": "code",
   "execution_count": 183,
   "metadata": {},
   "outputs": [
    {
     "data": {
      "text/plain": [
       "['manager',\n",
       " 'none',\n",
       " 'director',\n",
       " 'sales',\n",
       " 'assistant',\n",
       " 'supervisor',\n",
       " 'teacher',\n",
       " 'engineer',\n",
       " 'senior',\n",
       " 'specialist']"
      ]
     },
     "execution_count": 183,
     "metadata": {},
     "output_type": "execute_result"
    }
   ],
   "source": [
    "cv_emp_fit.vocabulary[0:10]"
   ]
  },
  {
   "cell_type": "code",
   "execution_count": 184,
   "metadata": {},
   "outputs": [
    {
     "name": "stdout",
     "output_type": "stream",
     "text": [
      "+-------------------+\n",
      "|emp_title_words_vec|\n",
      "+-------------------+\n",
      "|(26,[1],[1.0])     |\n",
      "|(26,[],[])         |\n",
      "|(26,[1],[1.0])     |\n",
      "|(26,[],[])         |\n",
      "|(26,[],[])         |\n",
      "|(26,[],[])         |\n",
      "|(26,[],[])         |\n",
      "|(26,[],[])         |\n",
      "|(26,[1],[1.0])     |\n",
      "|(26,[],[])         |\n",
      "|(26,[],[])         |\n",
      "|(26,[],[])         |\n",
      "|(26,[],[])         |\n",
      "|(26,[],[])         |\n",
      "|(26,[],[])         |\n",
      "|(26,[11],[1.0])    |\n",
      "|(26,[],[])         |\n",
      "|(26,[],[])         |\n",
      "|(26,[],[])         |\n",
      "|(26,[11],[1.0])    |\n",
      "+-------------------+\n",
      "only showing top 20 rows\n",
      "\n"
     ]
    }
   ],
   "source": [
    "sdf_loan_clean.select('emp_title_words_vec').show(truncate=False)"
   ]
  },
  {
   "cell_type": "code",
   "execution_count": 185,
   "metadata": {},
   "outputs": [
    {
     "name": "stdout",
     "output_type": "stream",
     "text": [
      "+----------+------+\n",
      "|emp_length| count|\n",
      "+----------+------+\n",
      "| 10+ years|288708|\n",
      "|   2 years| 78131|\n",
      "|  < 1 year| 69786|\n",
      "|   3 years| 69312|\n",
      "|    1 year| 56513|\n",
      "|   5 years| 55175|\n",
      "|   4 years| 52007|\n",
      "|   7 years| 44320|\n",
      "|       n/a| 44187|\n",
      "|   8 years| 43522|\n",
      "|   6 years| 42616|\n",
      "|   9 years| 34353|\n",
      "+----------+------+\n",
      "\n",
      "Filtering and casting emp_length: removed 0 (0.000%) cases due to the missing info \n"
     ]
    }
   ],
   "source": [
    "# employment length\n",
    "sdf_loan_clean.groupBy('emp_length').count().orderBy(col('count').desc()).show(20)\n",
    "sdf_loan_clean = sdf_loan_clean \\\n",
    "    .withColumn('emp_length', when(col('emp_length').isNull(), 'Unknown').otherwise(col('emp_length')))\n",
    "    \n",
    "sdf_loan_clean = filter_and_cast('emp_length', 'string', sdf_loan_clean)"
   ]
  },
  {
   "cell_type": "code",
   "execution_count": 186,
   "metadata": {},
   "outputs": [
    {
     "name": "stdout",
     "output_type": "stream",
     "text": [
      "+--------------+------+\n",
      "|home_ownership| count|\n",
      "+--------------+------+\n",
      "|      MORTGAGE|439221|\n",
      "|          RENT|352768|\n",
      "|           OWN| 86407|\n",
      "|         OTHER|   181|\n",
      "|          NONE|    50|\n",
      "|           ANY|     3|\n",
      "+--------------+------+\n",
      "\n",
      "Filtering and casting home_ownership: removed 0 (0.000%) cases due to the missing info \n"
     ]
    }
   ],
   "source": [
    "# home ownership\n",
    "sdf_loan_clean.groupBy('home_ownership').count().orderBy(col('count').desc()).show(20)\n",
    "sdf_loan_clean = filter_and_cast('home_ownership', 'string', sdf_loan_clean)"
   ]
  },
  {
   "cell_type": "code",
   "execution_count": 187,
   "metadata": {},
   "outputs": [
    {
     "name": "stdout",
     "output_type": "stream",
     "text": [
      "Filtering and casting annual_inc: removed 4 (0.000%) cases due to the missing info \n"
     ]
    }
   ],
   "source": [
    "# annual inc\n",
    "sdf_loan_clean = filter_and_cast('annual_inc', 'double', sdf_loan_clean)\n",
    "\n",
    "# loan share of the annual income \n",
    "sdf_loan_clean = sdf_loan_clean \\\n",
    "    .withColumn('loan_amnt_in_annual_inc', col('installment') * 12 / col('annual_inc'))"
   ]
  },
  {
   "cell_type": "code",
   "execution_count": 154,
   "metadata": {},
   "outputs": [
    {
     "name": "stdout",
     "output_type": "stream",
     "text": [
      "+-------------------+------+\n",
      "|verification_status| count|\n",
      "+-------------------+------+\n",
      "|       Not Verified|263794|\n",
      "|           Verified|288149|\n",
      "|    Source Verified|326683|\n",
      "+-------------------+------+\n",
      "\n",
      "Filtering and casting verification_status: removed 0 (0.000%) cases due to the missing info \n"
     ]
    }
   ],
   "source": [
    "# verification status\n",
    "sdf_loan_clean.groupBy('verification_status').count() \\\n",
    "    .orderBy('count').show()\n",
    "    \n",
    "vs_dict = {}\n",
    "vs_dict['Not Verified'] = 'Not Verified'\n",
    "vs_dict['Verified'] = 'Verified'\n",
    "vs_dict['Source Verified'] = 'Verified'\n",
    "\n",
    "sdf_loan_clean = sdf_loan_clean \\\n",
    "        .withColumn('loan_status', udf_recode_string(vs_dict)(col('verification_status'))) \\\n",
    "\n",
    "# remove observations with unclear data\n",
    "sdf_loan_clean = filter_and_cast('verification_status', 'string', sdf_loan_clean)\n",
    "\n"
   ]
  },
  {
   "cell_type": "code",
   "execution_count": 278,
   "metadata": {},
   "outputs": [
    {
     "name": "stdout",
     "output_type": "stream",
     "text": [
      "Filtering and casting zip_code: removed 0 (0.000%) cases due to the missing info \n",
      "581\n"
     ]
    },
    {
     "data": {
      "text/html": [
       "<div>\n",
       "<style scoped>\n",
       "    .dataframe tbody tr th:only-of-type {\n",
       "        vertical-align: middle;\n",
       "    }\n",
       "\n",
       "    .dataframe tbody tr th {\n",
       "        vertical-align: top;\n",
       "    }\n",
       "\n",
       "    .dataframe thead th {\n",
       "        text-align: right;\n",
       "    }\n",
       "</style>\n",
       "<table border=\"1\" class=\"dataframe\">\n",
       "  <thead>\n",
       "    <tr style=\"text-align: right;\">\n",
       "      <th></th>\n",
       "      <th>zip_code</th>\n",
       "      <th>count</th>\n",
       "      <th>count (%)</th>\n",
       "      <th>count (cum %)</th>\n",
       "    </tr>\n",
       "  </thead>\n",
       "  <tbody>\n",
       "    <tr>\n",
       "      <th>0</th>\n",
       "      <td>945xx</td>\n",
       "      <td>9680</td>\n",
       "      <td>1.101720</td>\n",
       "      <td>1.101720</td>\n",
       "    </tr>\n",
       "    <tr>\n",
       "      <th>1</th>\n",
       "      <td>750xx</td>\n",
       "      <td>9333</td>\n",
       "      <td>1.062227</td>\n",
       "      <td>2.163947</td>\n",
       "    </tr>\n",
       "    <tr>\n",
       "      <th>2</th>\n",
       "      <td>112xx</td>\n",
       "      <td>9163</td>\n",
       "      <td>1.042878</td>\n",
       "      <td>3.206825</td>\n",
       "    </tr>\n",
       "    <tr>\n",
       "      <th>3</th>\n",
       "      <td>606xx</td>\n",
       "      <td>8560</td>\n",
       "      <td>0.974248</td>\n",
       "      <td>4.181074</td>\n",
       "    </tr>\n",
       "    <tr>\n",
       "      <th>4</th>\n",
       "      <td>300xx</td>\n",
       "      <td>8036</td>\n",
       "      <td>0.914610</td>\n",
       "      <td>5.095683</td>\n",
       "    </tr>\n",
       "  </tbody>\n",
       "</table>\n",
       "</div>"
      ],
      "text/plain": [
       "  zip_code  count  count (%)  count (cum %)\n",
       "0    945xx   9680   1.101720       1.101720\n",
       "1    750xx   9333   1.062227       2.163947\n",
       "2    112xx   9163   1.042878       3.206825\n",
       "3    606xx   8560   0.974248       4.181074\n",
       "4    300xx   8036   0.914610       5.095683"
      ]
     },
     "execution_count": 278,
     "metadata": {},
     "output_type": "execute_result"
    }
   ],
   "source": [
    "# zip code\n",
    "sdf_loan_clean = filter_and_cast('zip_code', 'string', sdf_loan_clean)\n",
    "\n",
    "tmp = sdf_loan_clean.groupBy('zip_code').count().orderBy(col('count').desc()).toPandas()\n",
    "tmp['count (%)'] = tmp['count'] / tmp['count'].sum() * 100\n",
    "tmp['count (cum %)'] = np.cumsum(tmp['count (%)'])\n",
    "\n",
    "print(len(tmp.loc[tmp['count (cum %)'] < 95, 'count']))\n",
    "tmp.head()"
   ]
  },
  {
   "cell_type": "markdown",
   "metadata": {},
   "source": [
    "## Modeling\n",
    "\n",
    "### Sample composition"
   ]
  },
  {
   "cell_type": "code",
   "execution_count": 206,
   "metadata": {
    "scrolled": false
   },
   "outputs": [
    {
     "data": {
      "text/plain": [
       "<matplotlib.axes._subplots.AxesSubplot at 0x7fe98c8c8240>"
      ]
     },
     "execution_count": 206,
     "metadata": {},
     "output_type": "execute_result"
    },
    {
     "data": {
      "image/png": "[encoded data removed]",
      "text/plain": [
       "<matplotlib.figure.Figure at 0x7fe98c8c5be0>"
      ]
     },
     "metadata": {},
     "output_type": "display_data"
    }
   ],
   "source": [
    "import pandas as pd\n",
    "import numpy as np\n",
    "import matplotlib.pyplot as plt\n",
    "%matplotlib inline\n",
    "\n",
    "tmp = sdf_loan_clean \\\n",
    "    .select('loan_status', col('issue_d_year').alias('year')) \\\n",
    "    .groupBy('loan_status', 'year').count() \\\n",
    "    .orderBy(col('count').asc()) \\\n",
    "    .toPandas()\n",
    "    \n",
    "def tmp_lambda(x):\n",
    "    x[np.isnan(x)] = 0.0\n",
    "    x = x / x.sum()\n",
    "    return x\n",
    "    \n",
    "tmp \\\n",
    "    .pivot(index='year', columns='loan_status', values='count') \\\n",
    "    .apply(tmp_lambda, axis=1) \\\n",
    "    .plot.bar(figsize=(13, 5))"
   ]
  },
  {
   "cell_type": "markdown",
   "metadata": {},
   "source": [
    "TODO: bias in number of loans... (number of loans and amount of money per year)  \n",
    "TODO: total structure of the classes"
   ]
  },
  {
   "cell_type": "markdown",
   "metadata": {},
   "source": [
    "#### Conclusions:\n",
    "\n",
    " - we cannot use date as this would simply reflect the loan structure"
   ]
  },
  {
   "cell_type": "markdown",
   "metadata": {},
   "source": [
    "### Book ROI"
   ]
  },
  {
   "cell_type": "code",
   "execution_count": 207,
   "metadata": {},
   "outputs": [
    {
     "data": {
      "text/html": [
       "<div>\n",
       "<style scoped>\n",
       "    .dataframe tbody tr th:only-of-type {\n",
       "        vertical-align: middle;\n",
       "    }\n",
       "\n",
       "    .dataframe tbody tr th {\n",
       "        vertical-align: top;\n",
       "    }\n",
       "\n",
       "    .dataframe thead th {\n",
       "        text-align: right;\n",
       "    }\n",
       "</style>\n",
       "<table border=\"1\" class=\"dataframe\">\n",
       "  <thead>\n",
       "    <tr style=\"text-align: right;\">\n",
       "      <th></th>\n",
       "      <th>issue_d_year</th>\n",
       "      <th>loan_amnt</th>\n",
       "      <th>total_pymnt</th>\n",
       "      <th>REVENUE</th>\n",
       "      <th>PROFIT</th>\n",
       "      <th>ROI</th>\n",
       "    </tr>\n",
       "  </thead>\n",
       "  <tbody>\n",
       "    <tr>\n",
       "      <th>0</th>\n",
       "      <td>2007</td>\n",
       "      <td>4.945100e+06</td>\n",
       "      <td>4.688276e+06</td>\n",
       "      <td>4.688276</td>\n",
       "      <td>-0.256824</td>\n",
       "      <td>-0.051935</td>\n",
       "    </tr>\n",
       "    <tr>\n",
       "      <th>8</th>\n",
       "      <td>2008</td>\n",
       "      <td>2.073080e+07</td>\n",
       "      <td>1.995242e+07</td>\n",
       "      <td>19.952424</td>\n",
       "      <td>-0.778376</td>\n",
       "      <td>-0.037547</td>\n",
       "    </tr>\n",
       "    <tr>\n",
       "      <th>5</th>\n",
       "      <td>2009</td>\n",
       "      <td>5.065520e+07</td>\n",
       "      <td>5.456492e+07</td>\n",
       "      <td>54.564924</td>\n",
       "      <td>3.909724</td>\n",
       "      <td>0.077183</td>\n",
       "    </tr>\n",
       "    <tr>\n",
       "      <th>6</th>\n",
       "      <td>2010</td>\n",
       "      <td>1.307162e+08</td>\n",
       "      <td>1.394485e+08</td>\n",
       "      <td>139.448501</td>\n",
       "      <td>8.732315</td>\n",
       "      <td>0.066804</td>\n",
       "    </tr>\n",
       "    <tr>\n",
       "      <th>7</th>\n",
       "      <td>2011</td>\n",
       "      <td>2.553960e+08</td>\n",
       "      <td>2.835202e+08</td>\n",
       "      <td>283.520239</td>\n",
       "      <td>28.124230</td>\n",
       "      <td>0.110120</td>\n",
       "    </tr>\n",
       "    <tr>\n",
       "      <th>4</th>\n",
       "      <td>2012</td>\n",
       "      <td>6.876583e+08</td>\n",
       "      <td>7.728441e+08</td>\n",
       "      <td>772.844089</td>\n",
       "      <td>85.185791</td>\n",
       "      <td>0.123878</td>\n",
       "    </tr>\n",
       "    <tr>\n",
       "      <th>2</th>\n",
       "      <td>2013</td>\n",
       "      <td>1.626120e+09</td>\n",
       "      <td>1.875183e+09</td>\n",
       "      <td>1875.182561</td>\n",
       "      <td>249.062767</td>\n",
       "      <td>0.153164</td>\n",
       "    </tr>\n",
       "    <tr>\n",
       "      <th>3</th>\n",
       "      <td>2014</td>\n",
       "      <td>1.917261e+09</td>\n",
       "      <td>2.227741e+09</td>\n",
       "      <td>2227.741103</td>\n",
       "      <td>310.480481</td>\n",
       "      <td>0.161940</td>\n",
       "    </tr>\n",
       "    <tr>\n",
       "      <th>1</th>\n",
       "      <td>2015</td>\n",
       "      <td>1.088727e+09</td>\n",
       "      <td>1.326212e+09</td>\n",
       "      <td>1326.212190</td>\n",
       "      <td>237.485223</td>\n",
       "      <td>0.218131</td>\n",
       "    </tr>\n",
       "  </tbody>\n",
       "</table>\n",
       "</div>"
      ],
      "text/plain": [
       "   issue_d_year     loan_amnt   total_pymnt      REVENUE      PROFIT       ROI\n",
       "0          2007  4.945100e+06  4.688276e+06     4.688276   -0.256824 -0.051935\n",
       "8          2008  2.073080e+07  1.995242e+07    19.952424   -0.778376 -0.037547\n",
       "5          2009  5.065520e+07  5.456492e+07    54.564924    3.909724  0.077183\n",
       "6          2010  1.307162e+08  1.394485e+08   139.448501    8.732315  0.066804\n",
       "7          2011  2.553960e+08  2.835202e+08   283.520239   28.124230  0.110120\n",
       "4          2012  6.876583e+08  7.728441e+08   772.844089   85.185791  0.123878\n",
       "2          2013  1.626120e+09  1.875183e+09  1875.182561  249.062767  0.153164\n",
       "3          2014  1.917261e+09  2.227741e+09  2227.741103  310.480481  0.161940\n",
       "1          2015  1.088727e+09  1.326212e+09  1326.212190  237.485223  0.218131"
      ]
     },
     "execution_count": 207,
     "metadata": {},
     "output_type": "execute_result"
    }
   ],
   "source": [
    "tmp = sdf_loan_clean \\\n",
    "        .withColumn('loan_amnt', \n",
    "                    when(col('loan_status') == 'Current', col('total_rec_prncp')).otherwise(col('loan_amnt'))) \\\n",
    "        .select('loan_default', 'total_pymnt', 'loan_amnt', 'issue_d_year') \\\n",
    "        .groupBy('issue_d_year') \\\n",
    "        .agg(sum(col('loan_amnt')).alias('loan_amnt'), sum(col('total_pymnt')).alias('total_pymnt')) \\\n",
    "        .toPandas()\n",
    "\n",
    "tmp['REVENUE'] = tmp['total_pymnt']  / 1e6       \n",
    "tmp['PROFIT'] = (tmp['total_pymnt'] - tmp['loan_amnt']) / 1e6\n",
    "tmp['ROI'] = tmp['total_pymnt'] / tmp['loan_amnt'] - 1.0\n",
    "\n",
    "tmp.sort_values('issue_d_year', ascending=True)"
   ]
  },
  {
   "cell_type": "code",
   "execution_count": 208,
   "metadata": {
    "scrolled": true
   },
   "outputs": [
    {
     "name": "stdout",
     "output_type": "stream",
     "text": [
      "+----------+------+\n",
      "|      term| count|\n",
      "+----------+------+\n",
      "| 36 months|614876|\n",
      "| 60 months|263750|\n",
      "+----------+------+\n",
      "\n"
     ]
    }
   ],
   "source": [
    "sdf_loan_clean.groupBy('term').count().show()"
   ]
  },
  {
   "cell_type": "code",
   "execution_count": 209,
   "metadata": {
    "scrolled": true
   },
   "outputs": [
    {
     "data": {
      "text/html": [
       "<div>\n",
       "<style scoped>\n",
       "    .dataframe tbody tr th:only-of-type {\n",
       "        vertical-align: middle;\n",
       "    }\n",
       "\n",
       "    .dataframe tbody tr th {\n",
       "        vertical-align: top;\n",
       "    }\n",
       "\n",
       "    .dataframe thead th {\n",
       "        text-align: right;\n",
       "    }\n",
       "</style>\n",
       "<table border=\"1\" class=\"dataframe\">\n",
       "  <thead>\n",
       "    <tr style=\"text-align: right;\">\n",
       "      <th></th>\n",
       "      <th>issue_d_year</th>\n",
       "      <th>loan_amnt</th>\n",
       "      <th>total_pymnt</th>\n",
       "      <th>n_defaults</th>\n",
       "      <th>n_loans</th>\n",
       "      <th>total_pymnt_def</th>\n",
       "      <th>loan_amnt_def</th>\n",
       "      <th>REVENUE</th>\n",
       "      <th>PROFIT</th>\n",
       "      <th>ROI</th>\n",
       "      <th>DRATE</th>\n",
       "      <th>LOSS</th>\n",
       "    </tr>\n",
       "  </thead>\n",
       "  <tbody>\n",
       "    <tr>\n",
       "      <th>0</th>\n",
       "      <td>2007</td>\n",
       "      <td>4.945100e+06</td>\n",
       "      <td>4.688276e+06</td>\n",
       "      <td>157</td>\n",
       "      <td>597</td>\n",
       "      <td>8.083652e+05</td>\n",
       "      <td>1549050.0</td>\n",
       "      <td>4.688276</td>\n",
       "      <td>-0.256824</td>\n",
       "      <td>-0.051935</td>\n",
       "      <td>0.262982</td>\n",
       "      <td>0.740685</td>\n",
       "    </tr>\n",
       "    <tr>\n",
       "      <th>8</th>\n",
       "      <td>2008</td>\n",
       "      <td>2.073080e+07</td>\n",
       "      <td>1.995242e+07</td>\n",
       "      <td>486</td>\n",
       "      <td>2352</td>\n",
       "      <td>2.343035e+06</td>\n",
       "      <td>4890725.0</td>\n",
       "      <td>19.952424</td>\n",
       "      <td>-0.778376</td>\n",
       "      <td>-0.037547</td>\n",
       "      <td>0.206633</td>\n",
       "      <td>2.547690</td>\n",
       "    </tr>\n",
       "    <tr>\n",
       "      <th>5</th>\n",
       "      <td>2009</td>\n",
       "      <td>5.065520e+07</td>\n",
       "      <td>5.456492e+07</td>\n",
       "      <td>702</td>\n",
       "      <td>5159</td>\n",
       "      <td>3.895991e+06</td>\n",
       "      <td>7401525.0</td>\n",
       "      <td>54.564924</td>\n",
       "      <td>3.909724</td>\n",
       "      <td>0.077183</td>\n",
       "      <td>0.136073</td>\n",
       "      <td>3.505534</td>\n",
       "    </tr>\n",
       "    <tr>\n",
       "      <th>6</th>\n",
       "      <td>2010</td>\n",
       "      <td>1.306300e+08</td>\n",
       "      <td>1.393281e+08</td>\n",
       "      <td>1745</td>\n",
       "      <td>12434</td>\n",
       "      <td>1.044114e+07</td>\n",
       "      <td>18419650.0</td>\n",
       "      <td>139.328097</td>\n",
       "      <td>8.698147</td>\n",
       "      <td>0.066586</td>\n",
       "      <td>0.140341</td>\n",
       "      <td>7.978511</td>\n",
       "    </tr>\n",
       "    <tr>\n",
       "      <th>7</th>\n",
       "      <td>2011</td>\n",
       "      <td>2.293101e+08</td>\n",
       "      <td>2.441772e+08</td>\n",
       "      <td>3259</td>\n",
       "      <td>19724</td>\n",
       "      <td>2.441386e+07</td>\n",
       "      <td>42674050.0</td>\n",
       "      <td>244.177160</td>\n",
       "      <td>14.867035</td>\n",
       "      <td>0.064834</td>\n",
       "      <td>0.165230</td>\n",
       "      <td>18.260190</td>\n",
       "    </tr>\n",
       "    <tr>\n",
       "      <th>4</th>\n",
       "      <td>2012</td>\n",
       "      <td>6.448179e+08</td>\n",
       "      <td>6.970534e+08</td>\n",
       "      <td>8334</td>\n",
       "      <td>49812</td>\n",
       "      <td>7.197315e+07</td>\n",
       "      <td>120365725.0</td>\n",
       "      <td>697.053381</td>\n",
       "      <td>52.235506</td>\n",
       "      <td>0.081008</td>\n",
       "      <td>0.167309</td>\n",
       "      <td>48.392571</td>\n",
       "    </tr>\n",
       "    <tr>\n",
       "      <th>2</th>\n",
       "      <td>2013</td>\n",
       "      <td>1.057072e+09</td>\n",
       "      <td>1.066971e+09</td>\n",
       "      <td>16798</td>\n",
       "      <td>73193</td>\n",
       "      <td>1.359862e+08</td>\n",
       "      <td>254241200.0</td>\n",
       "      <td>1066.971203</td>\n",
       "      <td>9.899703</td>\n",
       "      <td>0.009365</td>\n",
       "      <td>0.229503</td>\n",
       "      <td>118.254978</td>\n",
       "    </tr>\n",
       "    <tr>\n",
       "      <th>3</th>\n",
       "      <td>2014</td>\n",
       "      <td>1.061570e+09</td>\n",
       "      <td>9.552547e+08</td>\n",
       "      <td>19441</td>\n",
       "      <td>74154</td>\n",
       "      <td>1.041935e+08</td>\n",
       "      <td>293884575.0</td>\n",
       "      <td>955.254662</td>\n",
       "      <td>-106.315063</td>\n",
       "      <td>-0.100149</td>\n",
       "      <td>0.262171</td>\n",
       "      <td>189.691103</td>\n",
       "    </tr>\n",
       "    <tr>\n",
       "      <th>1</th>\n",
       "      <td>2015</td>\n",
       "      <td>4.520362e+08</td>\n",
       "      <td>3.633159e+08</td>\n",
       "      <td>7851</td>\n",
       "      <td>30835</td>\n",
       "      <td>1.854959e+07</td>\n",
       "      <td>120906075.0</td>\n",
       "      <td>363.315934</td>\n",
       "      <td>-88.720216</td>\n",
       "      <td>-0.196268</td>\n",
       "      <td>0.254613</td>\n",
       "      <td>102.356486</td>\n",
       "    </tr>\n",
       "  </tbody>\n",
       "</table>\n",
       "</div>"
      ],
      "text/plain": [
       "   issue_d_year     loan_amnt   total_pymnt  n_defaults  n_loans  \\\n",
       "0          2007  4.945100e+06  4.688276e+06         157      597   \n",
       "8          2008  2.073080e+07  1.995242e+07         486     2352   \n",
       "5          2009  5.065520e+07  5.456492e+07         702     5159   \n",
       "6          2010  1.306300e+08  1.393281e+08        1745    12434   \n",
       "7          2011  2.293101e+08  2.441772e+08        3259    19724   \n",
       "4          2012  6.448179e+08  6.970534e+08        8334    49812   \n",
       "2          2013  1.057072e+09  1.066971e+09       16798    73193   \n",
       "3          2014  1.061570e+09  9.552547e+08       19441    74154   \n",
       "1          2015  4.520362e+08  3.633159e+08        7851    30835   \n",
       "\n",
       "   total_pymnt_def  loan_amnt_def      REVENUE      PROFIT       ROI  \\\n",
       "0     8.083652e+05      1549050.0     4.688276   -0.256824 -0.051935   \n",
       "8     2.343035e+06      4890725.0    19.952424   -0.778376 -0.037547   \n",
       "5     3.895991e+06      7401525.0    54.564924    3.909724  0.077183   \n",
       "6     1.044114e+07     18419650.0   139.328097    8.698147  0.066586   \n",
       "7     2.441386e+07     42674050.0   244.177160   14.867035  0.064834   \n",
       "4     7.197315e+07    120365725.0   697.053381   52.235506  0.081008   \n",
       "2     1.359862e+08    254241200.0  1066.971203    9.899703  0.009365   \n",
       "3     1.041935e+08    293884575.0   955.254662 -106.315063 -0.100149   \n",
       "1     1.854959e+07    120906075.0   363.315934  -88.720216 -0.196268   \n",
       "\n",
       "      DRATE        LOSS  \n",
       "0  0.262982    0.740685  \n",
       "8  0.206633    2.547690  \n",
       "5  0.136073    3.505534  \n",
       "6  0.140341    7.978511  \n",
       "7  0.165230   18.260190  \n",
       "4  0.167309   48.392571  \n",
       "2  0.229503  118.254978  \n",
       "3  0.262171  189.691103  \n",
       "1  0.254613  102.356486  "
      ]
     },
     "execution_count": 209,
     "metadata": {},
     "output_type": "execute_result"
    }
   ],
   "source": [
    "# Statistics for expired contracts\n",
    "from pyspark.sql.functions import count\n",
    "\n",
    "tmp = sdf_loan_clean \\\n",
    "        .filter(col('loan_status') != 'Current') \\\n",
    "        .select('loan_default', 'total_pymnt', 'loan_amnt', 'issue_d_year') \\\n",
    "        .groupBy('issue_d_year') \\\n",
    "        .agg(sum(col('loan_amnt')).alias('loan_amnt'), \n",
    "             sum(col('total_pymnt')).alias('total_pymnt'),\n",
    "             sum(col('loan_default')).alias('n_defaults'),\n",
    "             count(col('loan_default')).alias('n_loans'),\n",
    "             sum(col('loan_default') * col('total_pymnt')).alias('total_pymnt_def'),\n",
    "             sum(col('loan_default') * col('loan_amnt')).alias('loan_amnt_def')\n",
    "            ) \\\n",
    "        .toPandas()\n",
    "\n",
    "tmp['REVENUE'] = tmp['total_pymnt']  / 1e6       \n",
    "tmp['PROFIT'] = (tmp['total_pymnt'] - tmp['loan_amnt']) / 1e6\n",
    "tmp['ROI'] = tmp['total_pymnt'] / tmp['loan_amnt'] - 1.0\n",
    "tmp['DRATE'] = tmp['n_defaults'] / tmp['n_loans']\n",
    "tmp['LOSS'] = -(tmp['total_pymnt_def'] - tmp['loan_amnt_def']) / 1e6\n",
    "\n",
    "tmp.sort_values('issue_d_year', ascending=True)"
   ]
  },
  {
   "cell_type": "markdown",
   "metadata": {},
   "source": [
    "http://www.lendingmemo.com/lending-club-prosper-default-rates/\n",
    "\n",
    "One of the main concerns people have in this investment is its average default rate, which means, the rate at which people fail to pay back these loans. This is a really valid issue considering the investor takes the full brunt of the loss when a borrower defaults. Risks like a platform bankruptcy or new regulatory burdens are important to keep in mind, but nothing has a more direct and negative impact upon our investment’s overall return than the rate at which our borrowers default on their loans."
   ]
  },
  {
   "cell_type": "markdown",
   "metadata": {},
   "source": [
    "### Balance classes"
   ]
  },
  {
   "cell_type": "code",
   "execution_count": 210,
   "metadata": {},
   "outputs": [
    {
     "name": "stdout",
     "output_type": "stream",
     "text": [
      "Class percentage before weighting: Y==1: 6.69%, Y==0: 93.31%\n",
      "Class percentage after balancing: Y==1: 50.00%, Y==0: 50.00%\n"
     ]
    }
   ],
   "source": [
    "from pyspark.sql.functions import lit, when\n",
    "\n",
    "sdf_loan_clean = sdf_loan_clean.withColumn('w', lit(1.0))\n",
    "\n",
    "tmp_0 = sdf_loan_clean.filter(col('loan_default') == 0).agg(sum(col('w')).alias('w')).collect()[0].w\n",
    "tmp_1 = sdf_loan_clean.filter(col('loan_default') == 1).agg(sum(col('w')).alias('w')).collect()[0].w\n",
    "p_0 = tmp_0 / (tmp_0 + tmp_1) * 100\n",
    "print('Class percentage before weighting: Y==1: {:2.2f}%, Y==0: {:2.2f}%'.format(100 - p_0, p_0))\n",
    "\n",
    "# class weights\n",
    "N = tmp_0 + tmp_1\n",
    "w_0 = N * .5 / tmp_0\n",
    "w_1 = N * .5 / tmp_1\n",
    "\n",
    "# create weight column\n",
    "sdf_loan_clean = sdf_loan_clean \\\n",
    "            .withColumn('w', when(col('loan_default') == 1, col('w') * w_1).otherwise(col('w') * w_0))\n",
    "    \n",
    "# sanity check\n",
    "tmp_0 = sdf_loan_clean.filter(col('loan_default') == 0).agg(sum(col('w')).alias('w')).collect()[0].w\n",
    "tmp_1 = sdf_loan_clean.filter(col('loan_default') == 1).agg(sum(col('w')).alias('w')).collect()[0].w\n",
    "p_0 = tmp_0 / (tmp_0 + tmp_1) * 100\n",
    "print('Class percentage after balancing: Y==1: {:2.2f}%, Y==0: {:2.2f}%'.format(100 - p_0, p_0))"
   ]
  },
  {
   "cell_type": "markdown",
   "metadata": {},
   "source": [
    "### Transfer data from Spark to h2o"
   ]
  },
  {
   "cell_type": "code",
   "execution_count": 211,
   "metadata": {},
   "outputs": [],
   "source": [
    "h2o.remove_all()"
   ]
  },
  {
   "cell_type": "code",
   "execution_count": 279,
   "metadata": {},
   "outputs": [],
   "source": [
    "sdf_ft = ['loan_default', \n",
    "            'installment', \n",
    "            'issue_d_month',\n",
    "            'loan_amnt', \n",
    "            'total_amnt_due',\n",
    "            'int_rate',\n",
    "            'grade',\n",
    "            'sub_grade',\n",
    "            'term_n',\n",
    "            'purpose',\n",
    "            'emp_length',\n",
    "            'home_ownership',\n",
    "            'annual_inc',\n",
    "            'loan_amnt_in_annual_inc',\n",
    "            'verification_status',\n",
    "            'zip_code',\n",
    "            'w']\n",
    "\n",
    "df = hc.as_h2o_frame(sdf_loan_clean \\\n",
    "                     .select('issue_d_year',\n",
    "                             'loan_status', \n",
    "                             'total_pymnt',\n",
    "                             'title_words_vec',\n",
    "                             'title_ngrams_vec',\n",
    "                             'emp_title_words_vec',\n",
    "                             *sdf_ft), framename='sdf_loan')"
   ]
  },
  {
   "cell_type": "code",
   "execution_count": 280,
   "metadata": {
    "scrolled": false
   },
   "outputs": [],
   "source": [
    "df['loan_default_fact'] = df['loan_default'].asfactor()\n",
    "df['term_n_fact'] = df['term_n'].asfactor()\n",
    "df['issue_d_month_fact'] = df['issue_d_month'].asfactor()\n",
    "df['purpose_fact'] = df['purpose'].asfactor()\n",
    "df['grade_fact'] = df['grade'].asfactor()\n",
    "df['sub_grade_fact'] = df['sub_grade'].asfactor()\n",
    "\n",
    "df['emp_length_fact'] = df['emp_length'].asfactor()\n",
    "df['home_ownership_fact'] = df['home_ownership'].asfactor()\n",
    "df['verification_status_fact'] = df['verification_status'].asfactor()\n",
    "df['zip_code_fact'] = df['zip_code'].asfactor()"
   ]
  },
  {
   "cell_type": "code",
   "execution_count": 281,
   "metadata": {},
   "outputs": [],
   "source": [
    "model_ft = ['loan_default_fact', \n",
    "            'installment', \n",
    "            'issue_d_month_fact',\n",
    "            'loan_amnt', \n",
    "            'total_amnt_due',\n",
    "            'int_rate',\n",
    "            'grade_fact',\n",
    "            'sub_grade_fact',\n",
    "            'term_n_fact',\n",
    "            'purpose_fact',\n",
    "            'emp_length_fact',\n",
    "            'home_ownership_fact',\n",
    "            'annual_inc',\n",
    "            'loan_amnt_in_annual_inc',\n",
    "            'verification_status_fact',\n",
    "            'zip_code_fact',\n",
    "            'w']"
   ]
  },
  {
   "cell_type": "code",
   "execution_count": 282,
   "metadata": {},
   "outputs": [],
   "source": [
    "nmes = df[1:10, :].as_data_frame()\n",
    "nmes = list(nmes.columns)"
   ]
  },
  {
   "cell_type": "code",
   "execution_count": 283,
   "metadata": {},
   "outputs": [],
   "source": [
    "ind = pd.DataFrame([(nme[0:15] == 'title_words_vec', nme) for nme in nmes], columns=['match', 'nme'])\n",
    "model_title_word_ft = list(ind[ind['match']]['nme'].values)\n",
    "\n",
    "ind = pd.DataFrame([(nme[0:16] == 'title_ngrams_vec', nme) for nme in nmes], columns=['match', 'nme'])\n",
    "model_title_ngram_ft = list(ind[ind['match']]['nme'].values)\n",
    "\n",
    "ind = pd.DataFrame([(nme[0:19] == 'emp_title_words_vec', nme) for nme in nmes], columns=['match', 'nme'])\n",
    "model_emp_title_ft = list(ind[ind['match']]['nme'].values)"
   ]
  },
  {
   "cell_type": "markdown",
   "metadata": {},
   "source": [
    "### Model building process\n",
    "\n",
    "We keep track of the progress with respect to the 'trivial model' to evaluate dimnishing returns of model exploration process:\n",
    "\n",
    "- majority class assignment for `y`\n",
    "- dataset average for `m`\n",
    "\n",
    "Note: We evaluate model bulding progress using validation set."
   ]
  },
  {
   "cell_type": "markdown",
   "metadata": {},
   "source": [
    "### Test, Train, Validate\n",
    "\n",
    "Few comments about splitting the dataset (date and Keyword are the key)"
   ]
  },
  {
   "cell_type": "code",
   "execution_count": 289,
   "metadata": {},
   "outputs": [
    {
     "data": {
      "text/plain": [
       "439516"
      ]
     },
     "execution_count": 289,
     "metadata": {},
     "output_type": "execute_result"
    }
   ],
   "source": [
    "train, validate, test = df.split_frame([.5, .2], seed=2014)\n",
    "\n",
    "test['w'] = 1.0\n",
    "\n",
    "predictors = model_ft[1:-1] + model_title_word_ft + model_title_ngram_ft + model_emp_title_ft\n",
    "response = 'loan_default_fact'\n",
    "weight = model_ft[-1]\n",
    "\n",
    "# TODO: print samlple sizes\n",
    "train.nrows"
   ]
  },
  {
   "cell_type": "markdown",
   "metadata": {},
   "source": [
    "### Baseline model: Lasso Logistic regression\n",
    "\n",
    "http://docs.h2o.ai/h2o/latest-stable/h2o-docs/booklets/GLMBooklet.pdf  \n",
    "http://docs.h2o.ai/h2o/latest-stable/h2o-docs/data-science/glm.html"
   ]
  },
  {
   "cell_type": "markdown",
   "metadata": {},
   "source": [
    "#### Tune lasso parameters"
   ]
  },
  {
   "cell_type": "code",
   "execution_count": 291,
   "metadata": {},
   "outputs": [
    {
     "name": "stdout",
     "output_type": "stream",
     "text": [
      "glm Grid Build progress: |████████████████████████████████████████████████| 100%\n"
     ]
    }
   ],
   "source": [
    "from h2o.grid import H2OGridSearch\n",
    "from h2o.estimators.glm import H2OGeneralizedLinearEstimator\n",
    "\n",
    "import numpy as np\n",
    "\n",
    "h2o.remove('glm_grid')\n",
    "lambda_grid = list(np.logspace(start=-7.0, stop=0.0, num=10, base=10.0))\n",
    "lambda_grid.append(0.0)\n",
    "\n",
    "glm_grid = H2OGridSearch(\n",
    "        model=H2OGeneralizedLinearEstimator(family=\"binomial\", alpha=1.0),\n",
    "        hyper_params={\"lambda\": lambda_grid},\n",
    "        grid_id='glm_grid'\n",
    "    )\n",
    "\n",
    "glm_grid.train(predictors, response, training_frame=train, validation_frame=validate, weights_column=weight)"
   ]
  },
  {
   "cell_type": "code",
   "execution_count": 292,
   "metadata": {
    "scrolled": false
   },
   "outputs": [
    {
     "data": {
      "text/html": [
       "<div>\n",
       "<style scoped>\n",
       "    .dataframe tbody tr th:only-of-type {\n",
       "        vertical-align: middle;\n",
       "    }\n",
       "\n",
       "    .dataframe tbody tr th {\n",
       "        vertical-align: top;\n",
       "    }\n",
       "\n",
       "    .dataframe thead th {\n",
       "        text-align: right;\n",
       "    }\n",
       "</style>\n",
       "<table border=\"1\" class=\"dataframe\">\n",
       "  <thead>\n",
       "    <tr style=\"text-align: right;\">\n",
       "      <th></th>\n",
       "      <th>Model_ID</th>\n",
       "      <th>AUC</th>\n",
       "      <th>lambda</th>\n",
       "    </tr>\n",
       "  </thead>\n",
       "  <tbody>\n",
       "    <tr>\n",
       "      <th>5</th>\n",
       "      <td>glm_grid_model_3</td>\n",
       "      <td>0.751399</td>\n",
       "      <td>2.154435e-05</td>\n",
       "    </tr>\n",
       "    <tr>\n",
       "      <th>2</th>\n",
       "      <td>glm_grid_model_4</td>\n",
       "      <td>0.750654</td>\n",
       "      <td>1.291550e-04</td>\n",
       "    </tr>\n",
       "    <tr>\n",
       "      <th>9</th>\n",
       "      <td>glm_grid_model_2</td>\n",
       "      <td>0.749649</td>\n",
       "      <td>3.593814e-06</td>\n",
       "    </tr>\n",
       "    <tr>\n",
       "      <th>4</th>\n",
       "      <td>glm_grid_model_10</td>\n",
       "      <td>0.749489</td>\n",
       "      <td>0.000000e+00</td>\n",
       "    </tr>\n",
       "    <tr>\n",
       "      <th>3</th>\n",
       "      <td>glm_grid_model_1</td>\n",
       "      <td>0.748945</td>\n",
       "      <td>5.994843e-07</td>\n",
       "    </tr>\n",
       "    <tr>\n",
       "      <th>7</th>\n",
       "      <td>glm_grid_model_0</td>\n",
       "      <td>0.748808</td>\n",
       "      <td>1.000000e-07</td>\n",
       "    </tr>\n",
       "    <tr>\n",
       "      <th>8</th>\n",
       "      <td>glm_grid_model_5</td>\n",
       "      <td>0.743777</td>\n",
       "      <td>7.742637e-04</td>\n",
       "    </tr>\n",
       "    <tr>\n",
       "      <th>6</th>\n",
       "      <td>glm_grid_model_6</td>\n",
       "      <td>0.731499</td>\n",
       "      <td>4.641589e-03</td>\n",
       "    </tr>\n",
       "    <tr>\n",
       "      <th>1</th>\n",
       "      <td>glm_grid_model_7</td>\n",
       "      <td>0.710020</td>\n",
       "      <td>2.782559e-02</td>\n",
       "    </tr>\n",
       "    <tr>\n",
       "      <th>0</th>\n",
       "      <td>glm_grid_model_9</td>\n",
       "      <td>0.500000</td>\n",
       "      <td>1.000000e+00</td>\n",
       "    </tr>\n",
       "    <tr>\n",
       "      <th>10</th>\n",
       "      <td>glm_grid_model_8</td>\n",
       "      <td>0.500000</td>\n",
       "      <td>1.668101e-01</td>\n",
       "    </tr>\n",
       "  </tbody>\n",
       "</table>\n",
       "</div>"
      ],
      "text/plain": [
       "             Model_ID       AUC        lambda\n",
       "5    glm_grid_model_3  0.751399  2.154435e-05\n",
       "2    glm_grid_model_4  0.750654  1.291550e-04\n",
       "9    glm_grid_model_2  0.749649  3.593814e-06\n",
       "4   glm_grid_model_10  0.749489  0.000000e+00\n",
       "3    glm_grid_model_1  0.748945  5.994843e-07\n",
       "7    glm_grid_model_0  0.748808  1.000000e-07\n",
       "8    glm_grid_model_5  0.743777  7.742637e-04\n",
       "6    glm_grid_model_6  0.731499  4.641589e-03\n",
       "1    glm_grid_model_7  0.710020  2.782559e-02\n",
       "0    glm_grid_model_9  0.500000  1.000000e+00\n",
       "10   glm_grid_model_8  0.500000  1.668101e-01"
      ]
     },
     "execution_count": 292,
     "metadata": {},
     "output_type": "execute_result"
    }
   ],
   "source": [
    "import pandas as pd\n",
    "\n",
    "# get the AUC on validation set:\n",
    "pd_auc = pd.DataFrame(list(glm_grid.auc(valid=True).items()), columns=['Model_ID', 'AUC']).sort_values('AUC', ascending=False)\n",
    "model_ids = pd_auc['Model_ID'].values\n",
    "pd_auc['lambda'] = np.array([glm_grid.get_hyperparams_dict(model, display=False)['lambda'] for model in model_ids])\n",
    "pd_auc = pd_auc.sort_values('AUC', ascending=False)\n",
    "\n",
    "# select best model hyperparameters\n",
    "glm_best_model_lambda = pd_auc['lambda'].values[0]\n",
    "glm_best_model_AUC = pd_auc['AUC'].values[0]\n",
    "\n",
    "pd_auc"
   ]
  },
  {
   "cell_type": "markdown",
   "metadata": {},
   "source": [
    "#### Final model\n",
    "\n",
    "- with 10 fold cross-validation for bulidng ensemble"
   ]
  },
  {
   "cell_type": "code",
   "execution_count": 295,
   "metadata": {},
   "outputs": [
    {
     "name": "stdout",
     "output_type": "stream",
     "text": [
      "glm Model Build progress: |███████████████████████████████████████████████| 100%\n"
     ]
    }
   ],
   "source": [
    "from h2o.estimators.glm import H2OGeneralizedLinearEstimator\n",
    "\n",
    "glm_model = H2OGeneralizedLinearEstimator(family=\"binomial\", \n",
    "                                          lambda_=glm_best_model_lambda, \n",
    "                                          standardize=True,\n",
    "                                          alpha=1.0,\n",
    "                                          max_iterations=100,\n",
    "                                          nfolds = 0,\n",
    "                                          seed = 2014,\n",
    "                                          keep_cross_validation_predictions=True\n",
    "                                         )\n",
    "\n",
    "glm_model.train(predictors, response, training_frame=train, validation_frame=validate, weights_column=weight)"
   ]
  },
  {
   "cell_type": "code",
   "execution_count": 296,
   "metadata": {
    "scrolled": false
   },
   "outputs": [
    {
     "name": "stdout",
     "output_type": "stream",
     "text": [
      "Could not find exact threshold 0.781; using closest threshold found 0.7819537116509976.\n",
      "Could not find exact threshold 0.782; using closest threshold found 0.7819537116509976.\n",
      "Could not find exact threshold 0.783; using closest threshold found 0.7839998647056828.\n",
      "Could not find exact threshold 0.784; using closest threshold found 0.7839998647056828.\n",
      "Could not find exact threshold 0.785; using closest threshold found 0.7855813604294631.\n",
      "Could not find exact threshold 0.786; using closest threshold found 0.7855813604294631.\n",
      "Could not find exact threshold 0.787; using closest threshold found 0.7879780901447413.\n",
      "Could not find exact threshold 0.788; using closest threshold found 0.7879780901447413.\n",
      "Could not find exact threshold 0.789; using closest threshold found 0.7879780901447413.\n",
      "Could not find exact threshold 0.79; using closest threshold found 0.7911953160478191.\n",
      "Could not find exact threshold 0.781; using closest threshold found 0.7819537116509976.\n",
      "Could not find exact threshold 0.782; using closest threshold found 0.7819537116509976.\n",
      "Could not find exact threshold 0.783; using closest threshold found 0.7839998647056828.\n",
      "Could not find exact threshold 0.784; using closest threshold found 0.7839998647056828.\n",
      "Could not find exact threshold 0.785; using closest threshold found 0.7855813604294631.\n",
      "Could not find exact threshold 0.786; using closest threshold found 0.7855813604294631.\n",
      "Could not find exact threshold 0.787; using closest threshold found 0.7879780901447413.\n",
      "Could not find exact threshold 0.788; using closest threshold found 0.7879780901447413.\n",
      "Could not find exact threshold 0.789; using closest threshold found 0.7879780901447413.\n",
      "Could not find exact threshold 0.79; using closest threshold found 0.7911953160478191.\n",
      "Could not find exact threshold 0.781; using closest threshold found 0.7805246210597053.\n",
      "Could not find exact threshold 0.782; using closest threshold found 0.7828481772367566.\n",
      "Could not find exact threshold 0.783; using closest threshold found 0.7828481772367566.\n",
      "Could not find exact threshold 0.784; using closest threshold found 0.7846227279352559.\n",
      "Could not find exact threshold 0.785; using closest threshold found 0.7846227279352559.\n",
      "Could not find exact threshold 0.786; using closest threshold found 0.7846227279352559.\n",
      "Could not find exact threshold 0.787; using closest threshold found 0.7877825973262269.\n",
      "Could not find exact threshold 0.788; using closest threshold found 0.7877825973262269.\n",
      "Could not find exact threshold 0.789; using closest threshold found 0.7900174694087563.\n",
      "Could not find exact threshold 0.79; using closest threshold found 0.7900174694087563.\n",
      "Could not find exact threshold 0.781; using closest threshold found 0.7805246210597053.\n",
      "Could not find exact threshold 0.782; using closest threshold found 0.7828481772367566.\n",
      "Could not find exact threshold 0.783; using closest threshold found 0.7828481772367566.\n",
      "Could not find exact threshold 0.784; using closest threshold found 0.7846227279352559.\n",
      "Could not find exact threshold 0.785; using closest threshold found 0.7846227279352559.\n",
      "Could not find exact threshold 0.786; using closest threshold found 0.7846227279352559.\n",
      "Could not find exact threshold 0.787; using closest threshold found 0.7877825973262269.\n",
      "Could not find exact threshold 0.788; using closest threshold found 0.7877825973262269.\n",
      "Could not find exact threshold 0.789; using closest threshold found 0.7900174694087563.\n",
      "Could not find exact threshold 0.79; using closest threshold found 0.7900174694087563.\n"
     ]
    },
    {
     "data": {
      "text/html": [
       "<div>\n",
       "<style scoped>\n",
       "    .dataframe tbody tr th:only-of-type {\n",
       "        vertical-align: middle;\n",
       "    }\n",
       "\n",
       "    .dataframe tbody tr th {\n",
       "        vertical-align: top;\n",
       "    }\n",
       "\n",
       "    .dataframe thead th {\n",
       "        text-align: right;\n",
       "    }\n",
       "</style>\n",
       "<table border=\"1\" class=\"dataframe\">\n",
       "  <thead>\n",
       "    <tr style=\"text-align: right;\">\n",
       "      <th></th>\n",
       "      <th>thr</th>\n",
       "      <th>RECALL</th>\n",
       "      <th>FPR</th>\n",
       "      <th>RECALL (valid)</th>\n",
       "      <th>FPR (valid)</th>\n",
       "      <th>&lt; min_error</th>\n",
       "    </tr>\n",
       "  </thead>\n",
       "  <tbody>\n",
       "    <tr>\n",
       "      <th>0</th>\n",
       "      <td>0.781</td>\n",
       "      <td>0.199757</td>\n",
       "      <td>0.052625</td>\n",
       "      <td>0.195955</td>\n",
       "      <td>0.054417</td>\n",
       "      <td>False</td>\n",
       "    </tr>\n",
       "    <tr>\n",
       "      <th>1</th>\n",
       "      <td>0.782</td>\n",
       "      <td>0.199757</td>\n",
       "      <td>0.052625</td>\n",
       "      <td>0.190361</td>\n",
       "      <td>0.052984</td>\n",
       "      <td>False</td>\n",
       "    </tr>\n",
       "    <tr>\n",
       "      <th>2</th>\n",
       "      <td>0.783</td>\n",
       "      <td>0.195463</td>\n",
       "      <td>0.051254</td>\n",
       "      <td>0.190361</td>\n",
       "      <td>0.052984</td>\n",
       "      <td>False</td>\n",
       "    </tr>\n",
       "    <tr>\n",
       "      <th>3</th>\n",
       "      <td>0.784</td>\n",
       "      <td>0.195463</td>\n",
       "      <td>0.051254</td>\n",
       "      <td>0.187780</td>\n",
       "      <td>0.051863</td>\n",
       "      <td>False</td>\n",
       "    </tr>\n",
       "    <tr>\n",
       "      <th>4</th>\n",
       "      <td>0.785</td>\n",
       "      <td>0.192759</td>\n",
       "      <td>0.050345</td>\n",
       "      <td>0.187780</td>\n",
       "      <td>0.051863</td>\n",
       "      <td>False</td>\n",
       "    </tr>\n",
       "    <tr>\n",
       "      <th>5</th>\n",
       "      <td>0.786</td>\n",
       "      <td>0.192759</td>\n",
       "      <td>0.050345</td>\n",
       "      <td>0.187780</td>\n",
       "      <td>0.051863</td>\n",
       "      <td>False</td>\n",
       "    </tr>\n",
       "    <tr>\n",
       "      <th>6</th>\n",
       "      <td>0.787</td>\n",
       "      <td>0.189987</td>\n",
       "      <td>0.049566</td>\n",
       "      <td>0.182186</td>\n",
       "      <td>0.050327</td>\n",
       "      <td>False</td>\n",
       "    </tr>\n",
       "    <tr>\n",
       "      <th>7</th>\n",
       "      <td>0.788</td>\n",
       "      <td>0.189987</td>\n",
       "      <td>0.049566</td>\n",
       "      <td>0.182186</td>\n",
       "      <td>0.050327</td>\n",
       "      <td>False</td>\n",
       "    </tr>\n",
       "    <tr>\n",
       "      <th>8</th>\n",
       "      <td>0.789</td>\n",
       "      <td>0.189987</td>\n",
       "      <td>0.049566</td>\n",
       "      <td>0.177625</td>\n",
       "      <td>0.048992</td>\n",
       "      <td>True</td>\n",
       "    </tr>\n",
       "    <tr>\n",
       "      <th>9</th>\n",
       "      <td>0.790</td>\n",
       "      <td>0.183564</td>\n",
       "      <td>0.047781</td>\n",
       "      <td>0.177625</td>\n",
       "      <td>0.048992</td>\n",
       "      <td>True</td>\n",
       "    </tr>\n",
       "  </tbody>\n",
       "</table>\n",
       "</div>"
      ],
      "text/plain": [
       "     thr    RECALL       FPR  RECALL (valid)  FPR (valid)  < min_error\n",
       "0  0.781  0.199757  0.052625        0.195955     0.054417        False\n",
       "1  0.782  0.199757  0.052625        0.190361     0.052984        False\n",
       "2  0.783  0.195463  0.051254        0.190361     0.052984        False\n",
       "3  0.784  0.195463  0.051254        0.187780     0.051863        False\n",
       "4  0.785  0.192759  0.050345        0.187780     0.051863        False\n",
       "5  0.786  0.192759  0.050345        0.187780     0.051863        False\n",
       "6  0.787  0.189987  0.049566        0.182186     0.050327        False\n",
       "7  0.788  0.189987  0.049566        0.182186     0.050327        False\n",
       "8  0.789  0.189987  0.049566        0.177625     0.048992         True\n",
       "9  0.790  0.183564  0.047781        0.177625     0.048992         True"
      ]
     },
     "execution_count": 296,
     "metadata": {},
     "output_type": "execute_result"
    }
   ],
   "source": [
    "thr_grid = [i / 1000 for i in range(781, 791)]\n",
    "thr_grid_recall_train = pd.DataFrame(glm_model.recall(thr_grid, train=True), columns=['thr', 'RECALL'])\n",
    "thr_grid_fpr_train = pd.DataFrame(glm_model.fpr(thr_grid, train=True), columns=['thr', 'FPR'])\n",
    "thr_grid_recall_valid = pd.DataFrame(glm_model.recall(thr_grid, valid=True), columns=['thr', 'RECALL (valid)'])\n",
    "thr_grid_fpr_valid = pd.DataFrame(glm_model.fpr(thr_grid, valid=True), columns=['thr', 'FPR (valid)'])\n",
    "\n",
    "thr_grid = thr_grid_recall_train.merge(thr_grid_fpr_train).merge(thr_grid_recall_valid).merge(thr_grid_fpr_valid)\n",
    "thr_grid['< min_error'] = thr_grid['FPR (valid)'] <= usr_min_error\n",
    "glm_thr_grid = thr_grid\n",
    "glm_sel_thr = thr_grid.loc[thr_grid['< min_error'], 'thr'].min()\n",
    "\n",
    "glm_thr_grid"
   ]
  },
  {
   "cell_type": "code",
   "execution_count": 297,
   "metadata": {
    "scrolled": true
   },
   "outputs": [
    {
     "data": {
      "text/plain": [
       "0.789"
      ]
     },
     "execution_count": 297,
     "metadata": {},
     "output_type": "execute_result"
    }
   ],
   "source": [
    "glm_sel_thr"
   ]
  },
  {
   "cell_type": "code",
   "execution_count": 298,
   "metadata": {
    "scrolled": false
   },
   "outputs": [
    {
     "name": "stdout",
     "output_type": "stream",
     "text": [
      "Could not find exact threshold 0.789; using closest threshold found 0.7893455227757797.\n",
      "Confusion Matrix (Act/Pred) @ threshold = 0.7893455227757797: \n"
     ]
    },
    {
     "data": {
      "text/html": [
       "<div style=\"overflow:auto\"><table style=\"width:50%\"><tr><td><b></b></td>\n",
       "<td><b>0</b></td>\n",
       "<td><b>1</b></td>\n",
       "<td><b>Error</b></td>\n",
       "<td><b>Rate</b></td></tr>\n",
       "<tr><td>0</td>\n",
       "<td>125185.0</td>\n",
       "<td>6562.0</td>\n",
       "<td>0.0498</td>\n",
       "<td> (6562.0/131747.0)</td></tr>\n",
       "<tr><td>1</td>\n",
       "<td>108196.0</td>\n",
       "<td>23149.0</td>\n",
       "<td>0.8238</td>\n",
       "<td> (108196.0/131345.0)</td></tr>\n",
       "<tr><td>Total</td>\n",
       "<td>233381.0</td>\n",
       "<td>29711.0</td>\n",
       "<td>0.4362</td>\n",
       "<td> (114758.0/263092.0)</td></tr></table></div>"
      ],
      "text/plain": [
       "       0       1      Error    Rate\n",
       "-----  ------  -----  -------  -------------------\n",
       "0      125185  6562   0.0498   (6562.0/131747.0)\n",
       "1      108196  23149  0.8238   (108196.0/131345.0)\n",
       "Total  233381  29711  0.4362   (114758.0/263092.0)"
      ]
     },
     "metadata": {},
     "output_type": "display_data"
    },
    {
     "data": {
      "text/plain": []
     },
     "execution_count": 298,
     "metadata": {},
     "output_type": "execute_result"
    }
   ],
   "source": [
    "glm_model.model_performance(test) \\\n",
    "    .confusion_matrix(thresholds=[glm_sel_thr])"
   ]
  },
  {
   "cell_type": "code",
   "execution_count": 318,
   "metadata": {
    "scrolled": false
   },
   "outputs": [
    {
     "data": {
      "image/png": "[encoded data removed]",
      "text/plain": [
       "<matplotlib.figure.Figure at 0x7fe99298c080>"
      ]
     },
     "metadata": {},
     "output_type": "display_data"
    }
   ],
   "source": [
    "tmp = glm_model.model_performance(validate)\n",
    "from matplotlib import pyplot as plt\n",
    "plt.figure(figsize=(6, 6))\n",
    "tmp.plot()\n",
    "\n",
    "# TODO: in presentation add line at y = .95"
   ]
  },
  {
   "cell_type": "markdown",
   "metadata": {},
   "source": [
    "### Business Metrics"
   ]
  },
  {
   "cell_type": "code",
   "execution_count": 300,
   "metadata": {},
   "outputs": [],
   "source": [
    "from loan_utils import calc_roi"
   ]
  },
  {
   "cell_type": "code",
   "execution_count": 319,
   "metadata": {
    "scrolled": true
   },
   "outputs": [
    {
     "name": "stdout",
     "output_type": "stream",
     "text": [
      "glm prediction progress: |████████████████████████████████████████████████| 100%\n"
     ]
    }
   ],
   "source": [
    "# get porfolio stats with specific threshold for default detection\n",
    "res = validate.cbind(glm_model.predict(validate))\n",
    "res = res[res['loan_status'] != 'Current']"
   ]
  },
  {
   "cell_type": "code",
   "execution_count": 320,
   "metadata": {
    "scrolled": false
   },
   "outputs": [
    {
     "data": {
      "text/html": [
       "<table>\n",
       "<thead>\n",
       "<tr><th style=\"text-align: right;\">  Issue Year</th><th style=\"text-align: right;\">  REVENUE (in mln)</th><th style=\"text-align: right;\">  PROFIT (in mln)</th><th style=\"text-align: right;\">  ROI (%)</th><th style=\"text-align: right;\">  DEFAULT RATE(%)</th><th style=\"text-align: right;\">  LOSS (in mln)</th></tr>\n",
       "</thead>\n",
       "<tbody>\n",
       "<tr><td style=\"text-align: right;\">        2007</td><td style=\"text-align: right;\">              0.88</td><td style=\"text-align: right;\">            -0.1 </td><td style=\"text-align: right;\">   -10.62</td><td style=\"text-align: right;\">          28.0992</td><td style=\"text-align: right;\">       0.179108</td></tr>\n",
       "<tr><td style=\"text-align: right;\">        2008</td><td style=\"text-align: right;\">              3.82</td><td style=\"text-align: right;\">            -0.29</td><td style=\"text-align: right;\">    -6.96</td><td style=\"text-align: right;\">          20.3742</td><td style=\"text-align: right;\">       0.530278</td></tr>\n",
       "<tr><td style=\"text-align: right;\">        2009</td><td style=\"text-align: right;\">             10.79</td><td style=\"text-align: right;\">             0.87</td><td style=\"text-align: right;\">     8.8 </td><td style=\"text-align: right;\">          12.8937</td><td style=\"text-align: right;\">       0.630261</td></tr>\n",
       "<tr><td style=\"text-align: right;\">        2010</td><td style=\"text-align: right;\">             27.75</td><td style=\"text-align: right;\">             1.77</td><td style=\"text-align: right;\">     6.82</td><td style=\"text-align: right;\">          13.3921</td><td style=\"text-align: right;\">       1.52766 </td></tr>\n",
       "<tr><td style=\"text-align: right;\">        2011</td><td style=\"text-align: right;\">             49.26</td><td style=\"text-align: right;\">             3.08</td><td style=\"text-align: right;\">     6.67</td><td style=\"text-align: right;\">          16.3964</td><td style=\"text-align: right;\">       3.70813 </td></tr>\n",
       "<tr><td style=\"text-align: right;\">        2012</td><td style=\"text-align: right;\">            139.45</td><td style=\"text-align: right;\">            10.83</td><td style=\"text-align: right;\">     8.42</td><td style=\"text-align: right;\">          16.5881</td><td style=\"text-align: right;\">       9.35659 </td></tr>\n",
       "<tr><td style=\"text-align: right;\">        2013</td><td style=\"text-align: right;\">            213.95</td><td style=\"text-align: right;\">             1.89</td><td style=\"text-align: right;\">     0.89</td><td style=\"text-align: right;\">          23.0368</td><td style=\"text-align: right;\">      23.6249  </td></tr>\n",
       "<tr><td style=\"text-align: right;\">        2014</td><td style=\"text-align: right;\">            189.15</td><td style=\"text-align: right;\">           -20.89</td><td style=\"text-align: right;\">    -9.94</td><td style=\"text-align: right;\">          26.0443</td><td style=\"text-align: right;\">      37.4939  </td></tr>\n",
       "<tr><td style=\"text-align: right;\">        2015</td><td style=\"text-align: right;\">             73.25</td><td style=\"text-align: right;\">           -17.27</td><td style=\"text-align: right;\">   -19.07</td><td style=\"text-align: right;\">          24.668 </td><td style=\"text-align: right;\">      20.017   </td></tr>\n",
       "</tbody>\n",
       "</table>"
      ]
     },
     "metadata": {},
     "output_type": "display_data"
    },
    {
     "data": {
      "text/plain": []
     },
     "execution_count": 320,
     "metadata": {},
     "output_type": "execute_result"
    }
   ],
   "source": [
    "calc_roi(res, 1.0)"
   ]
  },
  {
   "cell_type": "code",
   "execution_count": 321,
   "metadata": {
    "scrolled": true
   },
   "outputs": [
    {
     "data": {
      "text/html": [
       "<table>\n",
       "<thead>\n",
       "<tr><th style=\"text-align: right;\">  Issue Year</th><th style=\"text-align: right;\">  REVENUE (in mln)</th><th style=\"text-align: right;\">  PROFIT (in mln)</th><th style=\"text-align: right;\">  ROI (%)</th><th style=\"text-align: right;\">  DEFAULT RATE(%)</th><th style=\"text-align: right;\">  LOSS (in mln)</th></tr>\n",
       "</thead>\n",
       "<tbody>\n",
       "<tr><td style=\"text-align: right;\">        2007</td><td style=\"text-align: right;\">              0.88</td><td style=\"text-align: right;\">            -0.1 </td><td style=\"text-align: right;\">   -10.66</td><td style=\"text-align: right;\">          28.3333</td><td style=\"text-align: right;\">       0.179108</td></tr>\n",
       "<tr><td style=\"text-align: right;\">        2008</td><td style=\"text-align: right;\">              3.75</td><td style=\"text-align: right;\">            -0.28</td><td style=\"text-align: right;\">    -6.92</td><td style=\"text-align: right;\">          20.5508</td><td style=\"text-align: right;\">       0.526796</td></tr>\n",
       "<tr><td style=\"text-align: right;\">        2009</td><td style=\"text-align: right;\">             10.01</td><td style=\"text-align: right;\">             0.8 </td><td style=\"text-align: right;\">     8.73</td><td style=\"text-align: right;\">          12.6059</td><td style=\"text-align: right;\">       0.585171</td></tr>\n",
       "<tr><td style=\"text-align: right;\">        2010</td><td style=\"text-align: right;\">             26.99</td><td style=\"text-align: right;\">             1.71</td><td style=\"text-align: right;\">     6.77</td><td style=\"text-align: right;\">          13.2099</td><td style=\"text-align: right;\">       1.48406 </td></tr>\n",
       "<tr><td style=\"text-align: right;\">        2011</td><td style=\"text-align: right;\">             47.55</td><td style=\"text-align: right;\">             3.22</td><td style=\"text-align: right;\">     7.26</td><td style=\"text-align: right;\">          15.5526</td><td style=\"text-align: right;\">       3.31872 </td></tr>\n",
       "<tr><td style=\"text-align: right;\">        2012</td><td style=\"text-align: right;\">            111.64</td><td style=\"text-align: right;\">             8.95</td><td style=\"text-align: right;\">     8.72</td><td style=\"text-align: right;\">          14.6647</td><td style=\"text-align: right;\">       6.40566 </td></tr>\n",
       "<tr><td style=\"text-align: right;\">        2013</td><td style=\"text-align: right;\">            165.96</td><td style=\"text-align: right;\">             3.44</td><td style=\"text-align: right;\">     2.11</td><td style=\"text-align: right;\">          19.5418</td><td style=\"text-align: right;\">      15.4194  </td></tr>\n",
       "<tr><td style=\"text-align: right;\">        2014</td><td style=\"text-align: right;\">            183.46</td><td style=\"text-align: right;\">           -19.17</td><td style=\"text-align: right;\">    -9.46</td><td style=\"text-align: right;\">          25.1545</td><td style=\"text-align: right;\">      35.1505  </td></tr>\n",
       "<tr><td style=\"text-align: right;\">        2015</td><td style=\"text-align: right;\">             71.46</td><td style=\"text-align: right;\">           -15.89</td><td style=\"text-align: right;\">   -18.19</td><td style=\"text-align: right;\">          23.7794</td><td style=\"text-align: right;\">      18.5164  </td></tr>\n",
       "</tbody>\n",
       "</table>"
      ]
     },
     "metadata": {},
     "output_type": "display_data"
    },
    {
     "data": {
      "text/plain": []
     },
     "execution_count": 321,
     "metadata": {},
     "output_type": "execute_result"
    }
   ],
   "source": [
    "calc_roi(res, glm_sel_thr)"
   ]
  },
  {
   "cell_type": "code",
   "execution_count": 322,
   "metadata": {},
   "outputs": [
    {
     "data": {
      "text/html": [
       "<div>\n",
       "<style scoped>\n",
       "    .dataframe tbody tr th:only-of-type {\n",
       "        vertical-align: middle;\n",
       "    }\n",
       "\n",
       "    .dataframe tbody tr th {\n",
       "        vertical-align: top;\n",
       "    }\n",
       "\n",
       "    .dataframe thead th {\n",
       "        text-align: right;\n",
       "    }\n",
       "</style>\n",
       "<table border=\"1\" class=\"dataframe\">\n",
       "  <thead>\n",
       "    <tr style=\"text-align: right;\">\n",
       "      <th></th>\n",
       "      <th>grade_fact</th>\n",
       "      <th>nrow</th>\n",
       "      <th>sum_pp</th>\n",
       "      <th>(%)</th>\n",
       "    </tr>\n",
       "  </thead>\n",
       "  <tbody>\n",
       "    <tr>\n",
       "      <th>0</th>\n",
       "      <td>A</td>\n",
       "      <td>8579</td>\n",
       "      <td>26</td>\n",
       "      <td>0.303066</td>\n",
       "    </tr>\n",
       "    <tr>\n",
       "      <th>1</th>\n",
       "      <td>B</td>\n",
       "      <td>15649</td>\n",
       "      <td>431</td>\n",
       "      <td>2.754170</td>\n",
       "    </tr>\n",
       "    <tr>\n",
       "      <th>2</th>\n",
       "      <td>C</td>\n",
       "      <td>13771</td>\n",
       "      <td>1526</td>\n",
       "      <td>11.081258</td>\n",
       "    </tr>\n",
       "    <tr>\n",
       "      <th>3</th>\n",
       "      <td>D</td>\n",
       "      <td>8971</td>\n",
       "      <td>2094</td>\n",
       "      <td>23.341879</td>\n",
       "    </tr>\n",
       "    <tr>\n",
       "      <th>4</th>\n",
       "      <td>E</td>\n",
       "      <td>4307</td>\n",
       "      <td>1178</td>\n",
       "      <td>27.350824</td>\n",
       "    </tr>\n",
       "    <tr>\n",
       "      <th>5</th>\n",
       "      <td>F</td>\n",
       "      <td>1788</td>\n",
       "      <td>662</td>\n",
       "      <td>37.024609</td>\n",
       "    </tr>\n",
       "    <tr>\n",
       "      <th>6</th>\n",
       "      <td>G</td>\n",
       "      <td>458</td>\n",
       "      <td>252</td>\n",
       "      <td>55.021834</td>\n",
       "    </tr>\n",
       "  </tbody>\n",
       "</table>\n",
       "</div>"
      ],
      "text/plain": [
       "  grade_fact   nrow  sum_pp        (%)\n",
       "0          A   8579      26   0.303066\n",
       "1          B  15649     431   2.754170\n",
       "2          C  13771    1526  11.081258\n",
       "3          D   8971    2094  23.341879\n",
       "4          E   4307    1178  27.350824\n",
       "5          F   1788     662  37.024609\n",
       "6          G    458     252  55.021834"
      ]
     },
     "execution_count": 322,
     "metadata": {},
     "output_type": "execute_result"
    }
   ],
   "source": [
    "res['pp'] = res['p1'] > glm_sel_thr\n",
    "tmp = res.group_by('grade_fact').sum('pp').count().get_frame()\n",
    "tmp['(%)'] = tmp['sum_pp'] /  tmp['nrow'] * 100.0\n",
    "tmp.as_data_frame()"
   ]
  },
  {
   "cell_type": "code",
   "execution_count": 323,
   "metadata": {},
   "outputs": [
    {
     "data": {
      "text/plain": [
       "2.789999999999992"
      ]
     },
     "execution_count": 323,
     "metadata": {},
     "output_type": "execute_result"
    }
   ],
   "source": [
    "tmp1 = calc_roi(res, glm_sel_thr)\n",
    "tmp2 = calc_roi(res, 1.1)\n",
    "tmp1['PROFIT (in mln)'].sum() - tmp2['PROFIT (in mln)'].sum()"
   ]
  },
  {
   "cell_type": "markdown",
   "metadata": {},
   "source": [
    "### Distributed Random Forest\n",
    "\n",
    "http://docs.h2o.ai/h2o/latest-stable/h2o-docs/booklets/GLMBooklet.pdf  \n",
    "http://docs.h2o.ai/h2o/latest-stable/h2o-docs/data-science/glm.html"
   ]
  },
  {
   "cell_type": "markdown",
   "metadata": {},
   "source": [
    "#### Tune Forest Parameters"
   ]
  },
  {
   "cell_type": "code",
   "execution_count": null,
   "metadata": {
    "scrolled": false
   },
   "outputs": [],
   "source": [
    "from h2o.grid import H2OGridSearch\n",
    "from h2o.estimators.random_forest import H2ORandomForestEstimator\n",
    "import numpy as np\n",
    "\n",
    "h2o.remove('drf_grid')\n",
    "ntrees_grid = [100, 150]\n",
    "depth_grid = [20, 30]\n",
    "\n",
    "drf_grid = H2OGridSearch(\n",
    "        model=H2ORandomForestEstimator(distribution='multinomial'),\n",
    "        hyper_params={'ntrees': ntrees_grid, \n",
    "                      'max_depth': depth_grid},\n",
    "        grid_id='drf_grid'\n",
    "    )\n",
    "\n",
    "drf_grid.train(predictors, response, training_frame=train, validation_frame=validate, weights_column = weight)"
   ]
  },
  {
   "cell_type": "code",
   "execution_count": 229,
   "metadata": {
    "scrolled": true
   },
   "outputs": [
    {
     "data": {
      "text/html": [
       "<div>\n",
       "<style scoped>\n",
       "    .dataframe tbody tr th:only-of-type {\n",
       "        vertical-align: middle;\n",
       "    }\n",
       "\n",
       "    .dataframe tbody tr th {\n",
       "        vertical-align: top;\n",
       "    }\n",
       "\n",
       "    .dataframe thead th {\n",
       "        text-align: right;\n",
       "    }\n",
       "</style>\n",
       "<table border=\"1\" class=\"dataframe\">\n",
       "  <thead>\n",
       "    <tr style=\"text-align: right;\">\n",
       "      <th></th>\n",
       "      <th>Model_ID</th>\n",
       "      <th>AUC</th>\n",
       "      <th>ntrees</th>\n",
       "      <th>max_depth</th>\n",
       "    </tr>\n",
       "  </thead>\n",
       "  <tbody>\n",
       "    <tr>\n",
       "      <th>3</th>\n",
       "      <td>drf_grid_model_3</td>\n",
       "      <td>0.749929</td>\n",
       "      <td>150</td>\n",
       "      <td>30</td>\n",
       "    </tr>\n",
       "    <tr>\n",
       "      <th>0</th>\n",
       "      <td>drf_grid_model_0</td>\n",
       "      <td>0.748486</td>\n",
       "      <td>100</td>\n",
       "      <td>20</td>\n",
       "    </tr>\n",
       "    <tr>\n",
       "      <th>2</th>\n",
       "      <td>drf_grid_model_1</td>\n",
       "      <td>0.748039</td>\n",
       "      <td>100</td>\n",
       "      <td>30</td>\n",
       "    </tr>\n",
       "    <tr>\n",
       "      <th>1</th>\n",
       "      <td>drf_grid_model_2</td>\n",
       "      <td>0.747322</td>\n",
       "      <td>150</td>\n",
       "      <td>20</td>\n",
       "    </tr>\n",
       "  </tbody>\n",
       "</table>\n",
       "</div>"
      ],
      "text/plain": [
       "           Model_ID       AUC  ntrees  max_depth\n",
       "3  drf_grid_model_3  0.749929     150         30\n",
       "0  drf_grid_model_0  0.748486     100         20\n",
       "2  drf_grid_model_1  0.748039     100         30\n",
       "1  drf_grid_model_2  0.747322     150         20"
      ]
     },
     "execution_count": 229,
     "metadata": {},
     "output_type": "execute_result"
    }
   ],
   "source": [
    "# get the AUC on validation set:\n",
    "pd_auc = pd.DataFrame(list(drf_grid.auc(valid=True).items()), columns=['Model_ID', 'AUC']).sort_values('AUC', ascending=False)\n",
    "model_ids = pd_auc['Model_ID'].values\n",
    "\n",
    "pd_auc['ntrees'] = np.array([drf_grid.get_hyperparams_dict(model, display=False)['ntrees'] for model in model_ids])\n",
    "pd_auc['max_depth'] = np.array([drf_grid.get_hyperparams_dict(model, display=False)['max_depth'] for model in model_ids])\n",
    "\n",
    "pd_auc = pd_auc.sort_values('AUC', ascending=False)\n",
    "\n",
    "# select best model hyperparameters and remove the grid\n",
    "drf_best_model_depth = pd_auc['max_depth'].values[0]\n",
    "drf_best_model_ntrees = pd_auc['ntrees'].values[0]\n",
    "drf_best_model_AUC = pd_auc['AUC'].values[0]\n",
    "\n",
    "pd_auc.head(10)"
   ]
  },
  {
   "cell_type": "markdown",
   "metadata": {},
   "source": [
    "#### Final model\n",
    "\n",
    "- with 10 fold cross-validation for bulidng ensemble"
   ]
  },
  {
   "cell_type": "code",
   "execution_count": 330,
   "metadata": {},
   "outputs": [
    {
     "name": "stdout",
     "output_type": "stream",
     "text": [
      "drf Model Build progress: |███████████████████████████████████████████████| 100%\n"
     ]
    }
   ],
   "source": [
    "from h2o.estimators.random_forest import H2ORandomForestEstimator\n",
    "\n",
    "drf_best_model_ntrees = 200\n",
    "drf_best_model_depth = 5\n",
    "\n",
    "drf_model = H2ORandomForestEstimator(distribution=\"multinomial\", \n",
    "                                    ntrees=int(drf_best_model_ntrees), \n",
    "                                    max_depth=int(drf_best_model_depth), \n",
    "                                    nfolds = 0,\n",
    "                                    seed = 2014,\n",
    "                                    keep_cross_validation_predictions=True\n",
    "                                    )\n",
    "\n",
    "drf_model.train(predictors, response, training_frame=train, validation_frame=validate, weights_column=weight)"
   ]
  },
  {
   "cell_type": "code",
   "execution_count": 338,
   "metadata": {},
   "outputs": [
    {
     "data": {
      "image/png": "[encoded data removed]",
      "text/plain": [
       "<matplotlib.figure.Figure at 0x7fe97bdac400>"
      ]
     },
     "metadata": {},
     "output_type": "display_data"
    }
   ],
   "source": [
    "drf_model.plot()"
   ]
  },
  {
   "cell_type": "code",
   "execution_count": 331,
   "metadata": {
    "scrolled": false
   },
   "outputs": [
    {
     "name": "stdout",
     "output_type": "stream",
     "text": [
      "Could not find exact threshold 0.4; using closest threshold found 0.40024029022875723.\n",
      "Could not find exact threshold 0.41; using closest threshold found 0.41033755688166884.\n",
      "Could not find exact threshold 0.42; using closest threshold found 0.42037686963310916.\n",
      "Could not find exact threshold 0.43; using closest threshold found 0.42987063952658155.\n",
      "Could not find exact threshold 0.44; using closest threshold found 0.44002050186334585.\n",
      "Could not find exact threshold 0.45; using closest threshold found 0.4497201609467468.\n",
      "Could not find exact threshold 0.46; using closest threshold found 0.46021658535891863.\n",
      "Could not find exact threshold 0.47; using closest threshold found 0.4704447438780321.\n",
      "Could not find exact threshold 0.48; using closest threshold found 0.4802587985977489.\n",
      "Could not find exact threshold 0.49; using closest threshold found 0.4902053173324334.\n",
      "Could not find exact threshold 0.5; using closest threshold found 0.5003004934642826.\n",
      "Could not find exact threshold 0.51; using closest threshold found 0.5102151471150946.\n",
      "Could not find exact threshold 0.52; using closest threshold found 0.5199655431138289.\n",
      "Could not find exact threshold 0.53; using closest threshold found 0.5301787674296434.\n",
      "Could not find exact threshold 0.54; using closest threshold found 0.5400231729666429.\n",
      "Could not find exact threshold 0.55; using closest threshold found 0.5503941193461016.\n",
      "Could not find exact threshold 0.56; using closest threshold found 0.5597864539087665.\n",
      "Could not find exact threshold 0.57; using closest threshold found 0.5703334486223972.\n",
      "Could not find exact threshold 0.58; using closest threshold found 0.5804625980800008.\n",
      "Could not find exact threshold 0.59; using closest threshold found 0.5899172149557854.\n",
      "Could not find exact threshold 0.4; using closest threshold found 0.40024029022875723.\n",
      "Could not find exact threshold 0.41; using closest threshold found 0.41033755688166884.\n",
      "Could not find exact threshold 0.42; using closest threshold found 0.42037686963310916.\n",
      "Could not find exact threshold 0.43; using closest threshold found 0.42987063952658155.\n",
      "Could not find exact threshold 0.44; using closest threshold found 0.44002050186334585.\n",
      "Could not find exact threshold 0.45; using closest threshold found 0.4497201609467468.\n",
      "Could not find exact threshold 0.46; using closest threshold found 0.46021658535891863.\n",
      "Could not find exact threshold 0.47; using closest threshold found 0.4704447438780321.\n",
      "Could not find exact threshold 0.48; using closest threshold found 0.4802587985977489.\n",
      "Could not find exact threshold 0.49; using closest threshold found 0.4902053173324334.\n",
      "Could not find exact threshold 0.5; using closest threshold found 0.5003004934642826.\n",
      "Could not find exact threshold 0.51; using closest threshold found 0.5102151471150946.\n",
      "Could not find exact threshold 0.52; using closest threshold found 0.5199655431138289.\n",
      "Could not find exact threshold 0.53; using closest threshold found 0.5301787674296434.\n",
      "Could not find exact threshold 0.54; using closest threshold found 0.5400231729666429.\n",
      "Could not find exact threshold 0.55; using closest threshold found 0.5503941193461016.\n",
      "Could not find exact threshold 0.56; using closest threshold found 0.5597864539087665.\n",
      "Could not find exact threshold 0.57; using closest threshold found 0.5703334486223972.\n",
      "Could not find exact threshold 0.58; using closest threshold found 0.5804625980800008.\n",
      "Could not find exact threshold 0.59; using closest threshold found 0.5899172149557854.\n",
      "Could not find exact threshold 0.4; using closest threshold found 0.4000748745071924.\n",
      "Could not find exact threshold 0.41; using closest threshold found 0.4095647025874466.\n",
      "Could not find exact threshold 0.42; using closest threshold found 0.4202782823486518.\n",
      "Could not find exact threshold 0.43; using closest threshold found 0.4295630067156133.\n",
      "Could not find exact threshold 0.44; using closest threshold found 0.43941638351527784.\n",
      "Could not find exact threshold 0.45; using closest threshold found 0.45025371298550493.\n",
      "Could not find exact threshold 0.46; using closest threshold found 0.45996613073375286.\n",
      "Could not find exact threshold 0.47; using closest threshold found 0.46974048008221947.\n",
      "Could not find exact threshold 0.48; using closest threshold found 0.47998250649947577.\n",
      "Could not find exact threshold 0.49; using closest threshold found 0.4896338846762555.\n",
      "Could not find exact threshold 0.5; using closest threshold found 0.49970239135801786.\n",
      "Could not find exact threshold 0.51; using closest threshold found 0.5105311827204432.\n",
      "Could not find exact threshold 0.52; using closest threshold found 0.5203422628808301.\n",
      "Could not find exact threshold 0.53; using closest threshold found 0.5297742321717496.\n",
      "Could not find exact threshold 0.54; using closest threshold found 0.5400165403068334.\n",
      "Could not find exact threshold 0.55; using closest threshold found 0.5497777466244116.\n",
      "Could not find exact threshold 0.56; using closest threshold found 0.56036414306767.\n",
      "Could not find exact threshold 0.57; using closest threshold found 0.5697414198046699.\n",
      "Could not find exact threshold 0.58; using closest threshold found 0.580055185593298.\n",
      "Could not find exact threshold 0.59; using closest threshold found 0.5895601650514145.\n",
      "Could not find exact threshold 0.4; using closest threshold found 0.4000748745071924.\n",
      "Could not find exact threshold 0.41; using closest threshold found 0.4095647025874466.\n",
      "Could not find exact threshold 0.42; using closest threshold found 0.4202782823486518.\n",
      "Could not find exact threshold 0.43; using closest threshold found 0.4295630067156133.\n",
      "Could not find exact threshold 0.44; using closest threshold found 0.43941638351527784.\n",
      "Could not find exact threshold 0.45; using closest threshold found 0.45025371298550493.\n",
      "Could not find exact threshold 0.46; using closest threshold found 0.45996613073375286.\n",
      "Could not find exact threshold 0.47; using closest threshold found 0.46974048008221947.\n",
      "Could not find exact threshold 0.48; using closest threshold found 0.47998250649947577.\n",
      "Could not find exact threshold 0.49; using closest threshold found 0.4896338846762555.\n",
      "Could not find exact threshold 0.5; using closest threshold found 0.49970239135801786.\n",
      "Could not find exact threshold 0.51; using closest threshold found 0.5105311827204432.\n",
      "Could not find exact threshold 0.52; using closest threshold found 0.5203422628808301.\n",
      "Could not find exact threshold 0.53; using closest threshold found 0.5297742321717496.\n",
      "Could not find exact threshold 0.54; using closest threshold found 0.5400165403068334.\n",
      "Could not find exact threshold 0.55; using closest threshold found 0.5497777466244116.\n",
      "Could not find exact threshold 0.56; using closest threshold found 0.56036414306767.\n",
      "Could not find exact threshold 0.57; using closest threshold found 0.5697414198046699.\n",
      "Could not find exact threshold 0.58; using closest threshold found 0.580055185593298.\n",
      "Could not find exact threshold 0.59; using closest threshold found 0.5895601650514145.\n"
     ]
    },
    {
     "data": {
      "text/html": [
       "<div>\n",
       "<style scoped>\n",
       "    .dataframe tbody tr th:only-of-type {\n",
       "        vertical-align: middle;\n",
       "    }\n",
       "\n",
       "    .dataframe tbody tr th {\n",
       "        vertical-align: top;\n",
       "    }\n",
       "\n",
       "    .dataframe thead th {\n",
       "        text-align: right;\n",
       "    }\n",
       "</style>\n",
       "<table border=\"1\" class=\"dataframe\">\n",
       "  <thead>\n",
       "    <tr style=\"text-align: right;\">\n",
       "      <th></th>\n",
       "      <th>thr</th>\n",
       "      <th>RECALL</th>\n",
       "      <th>FPR</th>\n",
       "      <th>RECALL (valid)</th>\n",
       "      <th>FPR (valid)</th>\n",
       "      <th>&gt; min_recall</th>\n",
       "    </tr>\n",
       "  </thead>\n",
       "  <tbody>\n",
       "    <tr>\n",
       "      <th>0</th>\n",
       "      <td>0.40</td>\n",
       "      <td>0.929989</td>\n",
       "      <td>0.716421</td>\n",
       "      <td>0.929604</td>\n",
       "      <td>0.715169</td>\n",
       "      <td>False</td>\n",
       "    </tr>\n",
       "    <tr>\n",
       "      <th>1</th>\n",
       "      <td>0.41</td>\n",
       "      <td>0.914506</td>\n",
       "      <td>0.677549</td>\n",
       "      <td>0.915921</td>\n",
       "      <td>0.678783</td>\n",
       "      <td>False</td>\n",
       "    </tr>\n",
       "    <tr>\n",
       "      <th>2</th>\n",
       "      <td>0.42</td>\n",
       "      <td>0.897671</td>\n",
       "      <td>0.642092</td>\n",
       "      <td>0.898623</td>\n",
       "      <td>0.640849</td>\n",
       "      <td>False</td>\n",
       "    </tr>\n",
       "    <tr>\n",
       "      <th>3</th>\n",
       "      <td>0.43</td>\n",
       "      <td>0.882932</td>\n",
       "      <td>0.611619</td>\n",
       "      <td>0.882788</td>\n",
       "      <td>0.612321</td>\n",
       "      <td>False</td>\n",
       "    </tr>\n",
       "    <tr>\n",
       "      <th>4</th>\n",
       "      <td>0.44</td>\n",
       "      <td>0.864981</td>\n",
       "      <td>0.580351</td>\n",
       "      <td>0.867298</td>\n",
       "      <td>0.582976</td>\n",
       "      <td>False</td>\n",
       "    </tr>\n",
       "    <tr>\n",
       "      <th>5</th>\n",
       "      <td>0.45</td>\n",
       "      <td>0.846016</td>\n",
       "      <td>0.552141</td>\n",
       "      <td>0.848451</td>\n",
       "      <td>0.549358</td>\n",
       "      <td>False</td>\n",
       "    </tr>\n",
       "    <tr>\n",
       "      <th>6</th>\n",
       "      <td>0.46</td>\n",
       "      <td>0.820560</td>\n",
       "      <td>0.518080</td>\n",
       "      <td>0.826850</td>\n",
       "      <td>0.519074</td>\n",
       "      <td>False</td>\n",
       "    </tr>\n",
       "    <tr>\n",
       "      <th>7</th>\n",
       "      <td>0.47</td>\n",
       "      <td>0.793989</td>\n",
       "      <td>0.485323</td>\n",
       "      <td>0.798451</td>\n",
       "      <td>0.486760</td>\n",
       "      <td>False</td>\n",
       "    </tr>\n",
       "    <tr>\n",
       "      <th>8</th>\n",
       "      <td>0.48</td>\n",
       "      <td>0.762956</td>\n",
       "      <td>0.452474</td>\n",
       "      <td>0.767384</td>\n",
       "      <td>0.451398</td>\n",
       "      <td>False</td>\n",
       "    </tr>\n",
       "    <tr>\n",
       "      <th>9</th>\n",
       "      <td>0.49</td>\n",
       "      <td>0.728170</td>\n",
       "      <td>0.418330</td>\n",
       "      <td>0.731842</td>\n",
       "      <td>0.418548</td>\n",
       "      <td>False</td>\n",
       "    </tr>\n",
       "    <tr>\n",
       "      <th>10</th>\n",
       "      <td>0.50</td>\n",
       "      <td>0.692945</td>\n",
       "      <td>0.385373</td>\n",
       "      <td>0.695783</td>\n",
       "      <td>0.384960</td>\n",
       "      <td>False</td>\n",
       "    </tr>\n",
       "    <tr>\n",
       "      <th>11</th>\n",
       "      <td>0.51</td>\n",
       "      <td>0.660018</td>\n",
       "      <td>0.352497</td>\n",
       "      <td>0.656713</td>\n",
       "      <td>0.351226</td>\n",
       "      <td>False</td>\n",
       "    </tr>\n",
       "    <tr>\n",
       "      <th>12</th>\n",
       "      <td>0.52</td>\n",
       "      <td>0.624218</td>\n",
       "      <td>0.323766</td>\n",
       "      <td>0.617642</td>\n",
       "      <td>0.322022</td>\n",
       "      <td>False</td>\n",
       "    </tr>\n",
       "    <tr>\n",
       "      <th>13</th>\n",
       "      <td>0.53</td>\n",
       "      <td>0.584463</td>\n",
       "      <td>0.291417</td>\n",
       "      <td>0.582014</td>\n",
       "      <td>0.293384</td>\n",
       "      <td>False</td>\n",
       "    </tr>\n",
       "    <tr>\n",
       "      <th>14</th>\n",
       "      <td>0.54</td>\n",
       "      <td>0.539637</td>\n",
       "      <td>0.258731</td>\n",
       "      <td>0.538898</td>\n",
       "      <td>0.258754</td>\n",
       "      <td>False</td>\n",
       "    </tr>\n",
       "    <tr>\n",
       "      <th>15</th>\n",
       "      <td>0.55</td>\n",
       "      <td>0.489774</td>\n",
       "      <td>0.221755</td>\n",
       "      <td>0.487866</td>\n",
       "      <td>0.223343</td>\n",
       "      <td>False</td>\n",
       "    </tr>\n",
       "    <tr>\n",
       "      <th>16</th>\n",
       "      <td>0.56</td>\n",
       "      <td>0.434806</td>\n",
       "      <td>0.185359</td>\n",
       "      <td>0.430723</td>\n",
       "      <td>0.182904</td>\n",
       "      <td>False</td>\n",
       "    </tr>\n",
       "    <tr>\n",
       "      <th>17</th>\n",
       "      <td>0.57</td>\n",
       "      <td>0.372739</td>\n",
       "      <td>0.146277</td>\n",
       "      <td>0.375301</td>\n",
       "      <td>0.148103</td>\n",
       "      <td>False</td>\n",
       "    </tr>\n",
       "    <tr>\n",
       "      <th>18</th>\n",
       "      <td>0.58</td>\n",
       "      <td>0.309185</td>\n",
       "      <td>0.111371</td>\n",
       "      <td>0.311102</td>\n",
       "      <td>0.111041</td>\n",
       "      <td>False</td>\n",
       "    </tr>\n",
       "    <tr>\n",
       "      <th>19</th>\n",
       "      <td>0.59</td>\n",
       "      <td>0.253034</td>\n",
       "      <td>0.083894</td>\n",
       "      <td>0.253959</td>\n",
       "      <td>0.083604</td>\n",
       "      <td>False</td>\n",
       "    </tr>\n",
       "  </tbody>\n",
       "</table>\n",
       "</div>"
      ],
      "text/plain": [
       "     thr    RECALL       FPR  RECALL (valid)  FPR (valid)  > min_recall\n",
       "0   0.40  0.929989  0.716421        0.929604     0.715169         False\n",
       "1   0.41  0.914506  0.677549        0.915921     0.678783         False\n",
       "2   0.42  0.897671  0.642092        0.898623     0.640849         False\n",
       "3   0.43  0.882932  0.611619        0.882788     0.612321         False\n",
       "4   0.44  0.864981  0.580351        0.867298     0.582976         False\n",
       "5   0.45  0.846016  0.552141        0.848451     0.549358         False\n",
       "6   0.46  0.820560  0.518080        0.826850     0.519074         False\n",
       "7   0.47  0.793989  0.485323        0.798451     0.486760         False\n",
       "8   0.48  0.762956  0.452474        0.767384     0.451398         False\n",
       "9   0.49  0.728170  0.418330        0.731842     0.418548         False\n",
       "10  0.50  0.692945  0.385373        0.695783     0.384960         False\n",
       "11  0.51  0.660018  0.352497        0.656713     0.351226         False\n",
       "12  0.52  0.624218  0.323766        0.617642     0.322022         False\n",
       "13  0.53  0.584463  0.291417        0.582014     0.293384         False\n",
       "14  0.54  0.539637  0.258731        0.538898     0.258754         False\n",
       "15  0.55  0.489774  0.221755        0.487866     0.223343         False\n",
       "16  0.56  0.434806  0.185359        0.430723     0.182904         False\n",
       "17  0.57  0.372739  0.146277        0.375301     0.148103         False\n",
       "18  0.58  0.309185  0.111371        0.311102     0.111041         False\n",
       "19  0.59  0.253034  0.083894        0.253959     0.083604         False"
      ]
     },
     "execution_count": 331,
     "metadata": {},
     "output_type": "execute_result"
    }
   ],
   "source": [
    "thr_grid = [i / 100 for i in range(40, 60)]\n",
    "thr_grid_recall_train = pd.DataFrame(drf_model.recall(thr_grid, train=True), columns=['thr', 'RECALL'])\n",
    "thr_grid_fpr_train = pd.DataFrame(drf_model.fpr(thr_grid, train=True), columns=['thr', 'FPR'])\n",
    "thr_grid_recall_valid = pd.DataFrame(drf_model.recall(thr_grid, valid=True), columns=['thr', 'RECALL (valid)'])\n",
    "thr_grid_fpr_valid = pd.DataFrame(drf_model.fpr(thr_grid, valid=True), columns=['thr', 'FPR (valid)'])\n",
    "\n",
    "thr_grid = thr_grid_recall_train.merge(thr_grid_fpr_train).merge(thr_grid_recall_valid).merge(thr_grid_fpr_valid)\n",
    "thr_grid['> min_recall'] = thr_grid['FPR (valid)'] <= usr_min_error\n",
    "drf_thr_grid = thr_grid\n",
    "drf_sel_thr = thr_grid.loc[thr_grid['> min_recall'], 'thr'].min()\n",
    "\n",
    "drf_thr_grid"
   ]
  },
  {
   "cell_type": "code",
   "execution_count": 326,
   "metadata": {
    "scrolled": true
   },
   "outputs": [
    {
     "data": {
      "text/plain": [
       "0.56"
      ]
     },
     "execution_count": 326,
     "metadata": {},
     "output_type": "execute_result"
    }
   ],
   "source": [
    "drf_sel_thr"
   ]
  },
  {
   "cell_type": "code",
   "execution_count": 327,
   "metadata": {
    "scrolled": false
   },
   "outputs": [
    {
     "name": "stdout",
     "output_type": "stream",
     "text": [
      "Could not find exact threshold 0.56; using closest threshold found 0.5600695916994567.\n",
      "Confusion Matrix (Act/Pred) @ threshold = 0.5600695916994567: \n"
     ]
    },
    {
     "data": {
      "text/html": [
       "<div style=\"overflow:auto\"><table style=\"width:50%\"><tr><td><b></b></td>\n",
       "<td><b>0</b></td>\n",
       "<td><b>1</b></td>\n",
       "<td><b>Error</b></td>\n",
       "<td><b>Rate</b></td></tr>\n",
       "<tr><td>0</td>\n",
       "<td>83721.0</td>\n",
       "<td>4182.0</td>\n",
       "<td>0.0476</td>\n",
       "<td> (4182.0/87903.0)</td></tr>\n",
       "<tr><td>1</td>\n",
       "<td>73469.0</td>\n",
       "<td>13387.0</td>\n",
       "<td>0.8459</td>\n",
       "<td> (73469.0/86856.0)</td></tr>\n",
       "<tr><td>Total</td>\n",
       "<td>157190.0</td>\n",
       "<td>17569.0</td>\n",
       "<td>0.4443</td>\n",
       "<td> (77651.0/174759.0)</td></tr></table></div>"
      ],
      "text/plain": [
       "       0       1      Error    Rate\n",
       "-----  ------  -----  -------  ------------------\n",
       "0      83721   4182   0.0476   (4182.0/87903.0)\n",
       "1      73469   13387  0.8459   (73469.0/86856.0)\n",
       "Total  157190  17569  0.4443   (77651.0/174759.0)"
      ]
     },
     "metadata": {},
     "output_type": "display_data"
    },
    {
     "data": {
      "text/plain": []
     },
     "execution_count": 327,
     "metadata": {},
     "output_type": "execute_result"
    }
   ],
   "source": [
    "drf_model.model_performance(validate).confusion_matrix(thresholds=[drf_sel_thr])"
   ]
  },
  {
   "cell_type": "code",
   "execution_count": 329,
   "metadata": {
    "scrolled": false
   },
   "outputs": [
    {
     "data": {
      "image/png": "[encoded data removed]",
      "text/plain": [
       "<matplotlib.figure.Figure at 0x7fe991cb2710>"
      ]
     },
     "metadata": {},
     "output_type": "display_data"
    }
   ],
   "source": [
    "tmp = drf_model.model_performance(validate)\n",
    "from matplotlib import pyplot as plt\n",
    "plt.figure(figsize=(6, 6))\n",
    "tmp.plot()\n",
    "\n",
    "# TODO: in presentation add line at y = .95"
   ]
  },
  {
   "cell_type": "markdown",
   "metadata": {},
   "source": [
    "### Business Metrics"
   ]
  },
  {
   "cell_type": "code",
   "execution_count": 313,
   "metadata": {
    "scrolled": true
   },
   "outputs": [
    {
     "name": "stdout",
     "output_type": "stream",
     "text": [
      "drf prediction progress: |████████████████████████████████████████████████| 100%\n"
     ]
    }
   ],
   "source": [
    "# get porfolio stats with specific threshold for default detection\n",
    "res = test.cbind(drf_model.predict(test))\n",
    "res = res[res['loan_status'] != 'Current']"
   ]
  },
  {
   "cell_type": "code",
   "execution_count": 314,
   "metadata": {
    "scrolled": false
   },
   "outputs": [
    {
     "data": {
      "text/html": [
       "<table>\n",
       "<thead>\n",
       "<tr><th style=\"text-align: right;\">  Issue Year</th><th style=\"text-align: right;\">  REVENUE (in mln)</th><th style=\"text-align: right;\">  PROFIT (in mln)</th><th style=\"text-align: right;\">  ROI (%)</th><th style=\"text-align: right;\">  DEFAULT RATE(%)</th><th style=\"text-align: right;\">  LOSS (in mln)</th></tr>\n",
       "</thead>\n",
       "<tbody>\n",
       "<tr><td style=\"text-align: right;\">        2007</td><td style=\"text-align: right;\">              1.4 </td><td style=\"text-align: right;\">            -0.13</td><td style=\"text-align: right;\">    -8.57</td><td style=\"text-align: right;\">          28.1915</td><td style=\"text-align: right;\">       0.28348 </td></tr>\n",
       "<tr><td style=\"text-align: right;\">        2008</td><td style=\"text-align: right;\">              5.72</td><td style=\"text-align: right;\">            -0.28</td><td style=\"text-align: right;\">    -4.66</td><td style=\"text-align: right;\">          23.6496</td><td style=\"text-align: right;\">       0.845662</td></tr>\n",
       "<tr><td style=\"text-align: right;\">        2009</td><td style=\"text-align: right;\">             16.18</td><td style=\"text-align: right;\">             1.14</td><td style=\"text-align: right;\">     7.56</td><td style=\"text-align: right;\">          13.7179</td><td style=\"text-align: right;\">       1.04297 </td></tr>\n",
       "<tr><td style=\"text-align: right;\">        2010</td><td style=\"text-align: right;\">             41.33</td><td style=\"text-align: right;\">             2.54</td><td style=\"text-align: right;\">     6.55</td><td style=\"text-align: right;\">          13.7763</td><td style=\"text-align: right;\">       2.4652  </td></tr>\n",
       "<tr><td style=\"text-align: right;\">        2011</td><td style=\"text-align: right;\">             72.99</td><td style=\"text-align: right;\">             4.71</td><td style=\"text-align: right;\">     6.9 </td><td style=\"text-align: right;\">          15.6909</td><td style=\"text-align: right;\">       5.23277 </td></tr>\n",
       "<tr><td style=\"text-align: right;\">        2012</td><td style=\"text-align: right;\">            208.79</td><td style=\"text-align: right;\">            15.36</td><td style=\"text-align: right;\">     7.94</td><td style=\"text-align: right;\">          16.8248</td><td style=\"text-align: right;\">      14.8045  </td></tr>\n",
       "<tr><td style=\"text-align: right;\">        2013</td><td style=\"text-align: right;\">            320.09</td><td style=\"text-align: right;\">             4.05</td><td style=\"text-align: right;\">     1.28</td><td style=\"text-align: right;\">          22.634 </td><td style=\"text-align: right;\">      34.4502  </td></tr>\n",
       "<tr><td style=\"text-align: right;\">        2014</td><td style=\"text-align: right;\">            287.18</td><td style=\"text-align: right;\">           -31.52</td><td style=\"text-align: right;\">    -9.89</td><td style=\"text-align: right;\">          26.1288</td><td style=\"text-align: right;\">      56.6991  </td></tr>\n",
       "<tr><td style=\"text-align: right;\">        2015</td><td style=\"text-align: right;\">            111.5 </td><td style=\"text-align: right;\">           -26.86</td><td style=\"text-align: right;\">   -19.41</td><td style=\"text-align: right;\">          25.4399</td><td style=\"text-align: right;\">      31.107   </td></tr>\n",
       "</tbody>\n",
       "</table>"
      ]
     },
     "metadata": {},
     "output_type": "display_data"
    },
    {
     "data": {
      "text/plain": []
     },
     "execution_count": 314,
     "metadata": {},
     "output_type": "execute_result"
    }
   ],
   "source": [
    "calc_roi(res, 1.0)"
   ]
  },
  {
   "cell_type": "code",
   "execution_count": 315,
   "metadata": {
    "scrolled": true
   },
   "outputs": [
    {
     "data": {
      "text/html": [
       "<table>\n",
       "<thead>\n",
       "<tr><th style=\"text-align: right;\">  Issue Year</th><th style=\"text-align: right;\">  REVENUE (in mln)</th><th style=\"text-align: right;\">  PROFIT (in mln)</th><th style=\"text-align: right;\">  ROI (%)</th><th style=\"text-align: right;\">  DEFAULT RATE(%)</th><th style=\"text-align: right;\">  LOSS (in mln)</th></tr>\n",
       "</thead>\n",
       "<tbody>\n",
       "<tr><td style=\"text-align: right;\">        2007</td><td style=\"text-align: right;\">              1.27</td><td style=\"text-align: right;\">            -0.1 </td><td style=\"text-align: right;\">    -7.06</td><td style=\"text-align: right;\">          26.1905</td><td style=\"text-align: right;\">       0.234054</td></tr>\n",
       "<tr><td style=\"text-align: right;\">        2008</td><td style=\"text-align: right;\">              4.98</td><td style=\"text-align: right;\">            -0.32</td><td style=\"text-align: right;\">    -5.98</td><td style=\"text-align: right;\">          23.6334</td><td style=\"text-align: right;\">       0.780013</td></tr>\n",
       "<tr><td style=\"text-align: right;\">        2009</td><td style=\"text-align: right;\">             14.25</td><td style=\"text-align: right;\">             0.96</td><td style=\"text-align: right;\">     7.24</td><td style=\"text-align: right;\">          13.1148</td><td style=\"text-align: right;\">       0.892974</td></tr>\n",
       "<tr><td style=\"text-align: right;\">        2010</td><td style=\"text-align: right;\">             35.71</td><td style=\"text-align: right;\">             2.12</td><td style=\"text-align: right;\">     6.32</td><td style=\"text-align: right;\">          12.4237</td><td style=\"text-align: right;\">       1.90186 </td></tr>\n",
       "<tr><td style=\"text-align: right;\">        2011</td><td style=\"text-align: right;\">             63.64</td><td style=\"text-align: right;\">             4.3 </td><td style=\"text-align: right;\">     7.25</td><td style=\"text-align: right;\">          14.2993</td><td style=\"text-align: right;\">       4.02676 </td></tr>\n",
       "<tr><td style=\"text-align: right;\">        2012</td><td style=\"text-align: right;\">            175.53</td><td style=\"text-align: right;\">            13.46</td><td style=\"text-align: right;\">     8.3 </td><td style=\"text-align: right;\">          15.2297</td><td style=\"text-align: right;\">      11.118   </td></tr>\n",
       "<tr><td style=\"text-align: right;\">        2013</td><td style=\"text-align: right;\">            274.49</td><td style=\"text-align: right;\">             5   </td><td style=\"text-align: right;\">     1.86</td><td style=\"text-align: right;\">          20.9367</td><td style=\"text-align: right;\">      27.0756  </td></tr>\n",
       "<tr><td style=\"text-align: right;\">        2014</td><td style=\"text-align: right;\">            275.06</td><td style=\"text-align: right;\">           -28.85</td><td style=\"text-align: right;\">    -9.49</td><td style=\"text-align: right;\">          25.3449</td><td style=\"text-align: right;\">      52.6516  </td></tr>\n",
       "<tr><td style=\"text-align: right;\">        2015</td><td style=\"text-align: right;\">            107.12</td><td style=\"text-align: right;\">           -24.72</td><td style=\"text-align: right;\">   -18.75</td><td style=\"text-align: right;\">          24.526 </td><td style=\"text-align: right;\">      28.7066  </td></tr>\n",
       "</tbody>\n",
       "</table>"
      ]
     },
     "metadata": {},
     "output_type": "display_data"
    },
    {
     "data": {
      "text/plain": []
     },
     "execution_count": 315,
     "metadata": {},
     "output_type": "execute_result"
    }
   ],
   "source": [
    "calc_roi(res, drf_sel_thr)"
   ]
  },
  {
   "cell_type": "code",
   "execution_count": 316,
   "metadata": {
    "scrolled": true
   },
   "outputs": [
    {
     "data": {
      "text/html": [
       "<div>\n",
       "<style scoped>\n",
       "    .dataframe tbody tr th:only-of-type {\n",
       "        vertical-align: middle;\n",
       "    }\n",
       "\n",
       "    .dataframe tbody tr th {\n",
       "        vertical-align: top;\n",
       "    }\n",
       "\n",
       "    .dataframe thead th {\n",
       "        text-align: right;\n",
       "    }\n",
       "</style>\n",
       "<table border=\"1\" class=\"dataframe\">\n",
       "  <thead>\n",
       "    <tr style=\"text-align: right;\">\n",
       "      <th></th>\n",
       "      <th>grade_fact</th>\n",
       "      <th>nrow</th>\n",
       "      <th>sum_pp</th>\n",
       "      <th>(%)</th>\n",
       "    </tr>\n",
       "  </thead>\n",
       "  <tbody>\n",
       "    <tr>\n",
       "      <th>0</th>\n",
       "      <td>A</td>\n",
       "      <td>12938</td>\n",
       "      <td>5</td>\n",
       "      <td>0.038646</td>\n",
       "    </tr>\n",
       "    <tr>\n",
       "      <th>1</th>\n",
       "      <td>B</td>\n",
       "      <td>23597</td>\n",
       "      <td>651</td>\n",
       "      <td>2.758825</td>\n",
       "    </tr>\n",
       "    <tr>\n",
       "      <th>2</th>\n",
       "      <td>C</td>\n",
       "      <td>20966</td>\n",
       "      <td>2250</td>\n",
       "      <td>10.731661</td>\n",
       "    </tr>\n",
       "    <tr>\n",
       "      <th>3</th>\n",
       "      <td>D</td>\n",
       "      <td>13244</td>\n",
       "      <td>2652</td>\n",
       "      <td>20.024162</td>\n",
       "    </tr>\n",
       "    <tr>\n",
       "      <th>4</th>\n",
       "      <td>E</td>\n",
       "      <td>6560</td>\n",
       "      <td>1566</td>\n",
       "      <td>23.871951</td>\n",
       "    </tr>\n",
       "    <tr>\n",
       "      <th>5</th>\n",
       "      <td>F</td>\n",
       "      <td>2642</td>\n",
       "      <td>793</td>\n",
       "      <td>30.015140</td>\n",
       "    </tr>\n",
       "    <tr>\n",
       "      <th>6</th>\n",
       "      <td>G</td>\n",
       "      <td>712</td>\n",
       "      <td>200</td>\n",
       "      <td>28.089888</td>\n",
       "    </tr>\n",
       "  </tbody>\n",
       "</table>\n",
       "</div>"
      ],
      "text/plain": [
       "  grade_fact   nrow  sum_pp        (%)\n",
       "0          A  12938       5   0.038646\n",
       "1          B  23597     651   2.758825\n",
       "2          C  20966    2250  10.731661\n",
       "3          D  13244    2652  20.024162\n",
       "4          E   6560    1566  23.871951\n",
       "5          F   2642     793  30.015140\n",
       "6          G    712     200  28.089888"
      ]
     },
     "execution_count": 316,
     "metadata": {},
     "output_type": "execute_result"
    }
   ],
   "source": [
    "res['pp'] = res['p1'] > drf_sel_thr\n",
    "tmp = res.group_by('grade_fact').sum('pp').count().get_frame()\n",
    "tmp['(%)'] = tmp['sum_pp'] /  tmp['nrow'] * 100.0\n",
    "tmp.as_data_frame()"
   ]
  },
  {
   "cell_type": "code",
   "execution_count": 317,
   "metadata": {},
   "outputs": [
    {
     "data": {
      "text/plain": [
       "2.840000000000007"
      ]
     },
     "execution_count": 317,
     "metadata": {},
     "output_type": "execute_result"
    }
   ],
   "source": [
    "tmp1 = calc_roi(res, drf_sel_thr)\n",
    "tmp2 = calc_roi(res, 1.1)\n",
    "tmp1['PROFIT (in mln)'].sum() - tmp2['PROFIT (in mln)'].sum()"
   ]
  },
  {
   "cell_type": "code",
   "execution_count": 274,
   "metadata": {},
   "outputs": [
    {
     "data": {
      "image/png": "[encoded data removed]",
      "text/plain": [
       "<matplotlib.figure.Figure at 0x7fe98baed5f8>"
      ]
     },
     "metadata": {},
     "output_type": "display_data"
    }
   ],
   "source": [
    "drf_model.varimp_plot(num_of_features=30)"
   ]
  },
  {
   "cell_type": "markdown",
   "metadata": {},
   "source": [
    "### Stacked Ensemble\n",
    "\n",
    "TODO: add the article about consitent learning using ensembles  \n",
    "http://docs.h2o.ai/h2o/latest-stable/h2o-docs/booklets/GLMBooklet.pdf  \n",
    "http://docs.h2o.ai/h2o/latest-stable/h2o-docs/data-science/glm.html"
   ]
  },
  {
   "cell_type": "code",
   "execution_count": 65,
   "metadata": {},
   "outputs": [
    {
     "name": "stdout",
     "output_type": "stream",
     "text": [
      "stackedensemble Model Build progress: |███████████████████████████████████| 100%\n"
     ]
    }
   ],
   "source": [
    "from h2o.estimators.stackedensemble import H2OStackedEnsembleEstimator\n",
    "\n",
    "ens_model = H2OStackedEnsembleEstimator(base_models=[drf_model, glm_model])\n",
    "\n",
    "ens_model.train(predictors, response, training_frame=train)"
   ]
  },
  {
   "cell_type": "code",
   "execution_count": 66,
   "metadata": {
    "scrolled": false
   },
   "outputs": [
    {
     "name": "stdout",
     "output_type": "stream",
     "text": [
      "Could not find exact threshold 0.01; using closest threshold found 0.009884723978702457.\n",
      "Could not find exact threshold 0.02; using closest threshold found 0.019907233088456322.\n",
      "Could not find exact threshold 0.03; using closest threshold found 0.029979134241519143.\n",
      "Could not find exact threshold 0.04; using closest threshold found 0.04006450661383323.\n",
      "Could not find exact threshold 0.05; using closest threshold found 0.05013523977468975.\n",
      "Could not find exact threshold 0.06; using closest threshold found 0.059815503161473174.\n",
      "Could not find exact threshold 0.07; using closest threshold found 0.0699057176815873.\n",
      "Could not find exact threshold 0.08; using closest threshold found 0.0799811100279259.\n",
      "Could not find exact threshold 0.09; using closest threshold found 0.08988817342606739.\n",
      "Could not find exact threshold 0.01; using closest threshold found 0.009884723978702457.\n",
      "Could not find exact threshold 0.02; using closest threshold found 0.019907233088456322.\n",
      "Could not find exact threshold 0.03; using closest threshold found 0.029979134241519143.\n",
      "Could not find exact threshold 0.04; using closest threshold found 0.04006450661383323.\n",
      "Could not find exact threshold 0.05; using closest threshold found 0.05013523977468975.\n",
      "Could not find exact threshold 0.06; using closest threshold found 0.059815503161473174.\n",
      "Could not find exact threshold 0.07; using closest threshold found 0.0699057176815873.\n",
      "Could not find exact threshold 0.08; using closest threshold found 0.0799811100279259.\n",
      "Could not find exact threshold 0.09; using closest threshold found 0.08988817342606739.\n",
      "Could not find exact threshold 0.01; using closest threshold found 0.00969065987104252.\n",
      "Could not find exact threshold 0.02; using closest threshold found 0.019929821871010625.\n",
      "Could not find exact threshold 0.03; using closest threshold found 0.030019319356088193.\n",
      "Could not find exact threshold 0.04; using closest threshold found 0.039871949729269114.\n",
      "Could not find exact threshold 0.05; using closest threshold found 0.05017564045621915.\n",
      "Could not find exact threshold 0.06; using closest threshold found 0.06007882349749163.\n",
      "Could not find exact threshold 0.07; using closest threshold found 0.07007056710008147.\n",
      "Could not find exact threshold 0.08; using closest threshold found 0.07997571239065085.\n",
      "Could not find exact threshold 0.09; using closest threshold found 0.08975214328082125.\n",
      "Could not find exact threshold 0.01; using closest threshold found 0.00969065987104252.\n",
      "Could not find exact threshold 0.02; using closest threshold found 0.019929821871010625.\n",
      "Could not find exact threshold 0.03; using closest threshold found 0.030019319356088193.\n",
      "Could not find exact threshold 0.04; using closest threshold found 0.039871949729269114.\n",
      "Could not find exact threshold 0.05; using closest threshold found 0.05017564045621915.\n",
      "Could not find exact threshold 0.06; using closest threshold found 0.06007882349749163.\n",
      "Could not find exact threshold 0.07; using closest threshold found 0.07007056710008147.\n",
      "Could not find exact threshold 0.08; using closest threshold found 0.07997571239065085.\n",
      "Could not find exact threshold 0.09; using closest threshold found 0.08975214328082125.\n"
     ]
    },
    {
     "data": {
      "text/html": [
       "<div>\n",
       "<style scoped>\n",
       "    .dataframe tbody tr th:only-of-type {\n",
       "        vertical-align: middle;\n",
       "    }\n",
       "\n",
       "    .dataframe tbody tr th {\n",
       "        vertical-align: top;\n",
       "    }\n",
       "\n",
       "    .dataframe thead th {\n",
       "        text-align: right;\n",
       "    }\n",
       "</style>\n",
       "<table border=\"1\" class=\"dataframe\">\n",
       "  <thead>\n",
       "    <tr style=\"text-align: right;\">\n",
       "      <th></th>\n",
       "      <th>thr</th>\n",
       "      <th>RECALL</th>\n",
       "      <th>FPR</th>\n",
       "      <th>RECALL (valid)</th>\n",
       "      <th>FPR (valid)</th>\n",
       "      <th>&gt; min_recall</th>\n",
       "    </tr>\n",
       "  </thead>\n",
       "  <tbody>\n",
       "    <tr>\n",
       "      <th>0</th>\n",
       "      <td>0.01</td>\n",
       "      <td>1.000000</td>\n",
       "      <td>1.000000</td>\n",
       "      <td>1.000000</td>\n",
       "      <td>1.000000</td>\n",
       "      <td>True</td>\n",
       "    </tr>\n",
       "    <tr>\n",
       "      <th>1</th>\n",
       "      <td>0.02</td>\n",
       "      <td>0.973484</td>\n",
       "      <td>0.828171</td>\n",
       "      <td>0.972604</td>\n",
       "      <td>0.829093</td>\n",
       "      <td>True</td>\n",
       "    </tr>\n",
       "    <tr>\n",
       "      <th>2</th>\n",
       "      <td>0.03</td>\n",
       "      <td>0.924164</td>\n",
       "      <td>0.681084</td>\n",
       "      <td>0.919593</td>\n",
       "      <td>0.681232</td>\n",
       "      <td>True</td>\n",
       "    </tr>\n",
       "    <tr>\n",
       "      <th>3</th>\n",
       "      <td>0.04</td>\n",
       "      <td>0.859526</td>\n",
       "      <td>0.563449</td>\n",
       "      <td>0.860051</td>\n",
       "      <td>0.566401</td>\n",
       "      <td>False</td>\n",
       "    </tr>\n",
       "    <tr>\n",
       "      <th>4</th>\n",
       "      <td>0.05</td>\n",
       "      <td>0.787808</td>\n",
       "      <td>0.472606</td>\n",
       "      <td>0.784987</td>\n",
       "      <td>0.473329</td>\n",
       "      <td>False</td>\n",
       "    </tr>\n",
       "    <tr>\n",
       "      <th>5</th>\n",
       "      <td>0.06</td>\n",
       "      <td>0.746622</td>\n",
       "      <td>0.430532</td>\n",
       "      <td>0.741137</td>\n",
       "      <td>0.429871</td>\n",
       "      <td>False</td>\n",
       "    </tr>\n",
       "    <tr>\n",
       "      <th>6</th>\n",
       "      <td>0.07</td>\n",
       "      <td>0.710814</td>\n",
       "      <td>0.390403</td>\n",
       "      <td>0.703562</td>\n",
       "      <td>0.391454</td>\n",
       "      <td>False</td>\n",
       "    </tr>\n",
       "    <tr>\n",
       "      <th>7</th>\n",
       "      <td>0.08</td>\n",
       "      <td>0.664692</td>\n",
       "      <td>0.344716</td>\n",
       "      <td>0.656573</td>\n",
       "      <td>0.346251</td>\n",
       "      <td>False</td>\n",
       "    </tr>\n",
       "    <tr>\n",
       "      <th>8</th>\n",
       "      <td>0.09</td>\n",
       "      <td>0.605909</td>\n",
       "      <td>0.295918</td>\n",
       "      <td>0.596862</td>\n",
       "      <td>0.297894</td>\n",
       "      <td>False</td>\n",
       "    </tr>\n",
       "  </tbody>\n",
       "</table>\n",
       "</div>"
      ],
      "text/plain": [
       "    thr    RECALL       FPR  RECALL (valid)  FPR (valid)  > min_recall\n",
       "0  0.01  1.000000  1.000000        1.000000     1.000000          True\n",
       "1  0.02  0.973484  0.828171        0.972604     0.829093          True\n",
       "2  0.03  0.924164  0.681084        0.919593     0.681232          True\n",
       "3  0.04  0.859526  0.563449        0.860051     0.566401         False\n",
       "4  0.05  0.787808  0.472606        0.784987     0.473329         False\n",
       "5  0.06  0.746622  0.430532        0.741137     0.429871         False\n",
       "6  0.07  0.710814  0.390403        0.703562     0.391454         False\n",
       "7  0.08  0.664692  0.344716        0.656573     0.346251         False\n",
       "8  0.09  0.605909  0.295918        0.596862     0.297894         False"
      ]
     },
     "execution_count": 66,
     "metadata": {},
     "output_type": "execute_result"
    }
   ],
   "source": [
    "thr_grid = [i / 100 for i in range(1, 10)]\n",
    "thr_grid_recall_train = pd.DataFrame(ens_model.recall(thr_grid, train=True), columns=['thr', 'RECALL'])\n",
    "thr_grid_fpr_train = pd.DataFrame(ens_model.fpr(thr_grid, train=True), columns=['thr', 'FPR'])\n",
    "thr_grid_recall_valid = pd.DataFrame(ens_model.model_performance(validate).recall(thr_grid), \n",
    "                                     columns=['thr', 'RECALL (valid)'])\n",
    "thr_grid_fpr_valid = pd.DataFrame(ens_model.model_performance(validate).fpr(thr_grid), \n",
    "                                  columns=['thr', 'FPR (valid)'])\n",
    "\n",
    "thr_grid = thr_grid_recall_train.merge(thr_grid_fpr_train).merge(thr_grid_recall_valid).merge(thr_grid_fpr_valid)\n",
    "thr_grid['> min_recall'] = thr_grid['RECALL'] >= usr_min_recall\n",
    "ens_thr_grid = thr_grid\n",
    "ens_sel_thr = thr_grid.loc[thr_grid['> min_recall'], 'thr'].max()\n",
    "\n",
    "ens_thr_grid"
   ]
  },
  {
   "cell_type": "code",
   "execution_count": 67,
   "metadata": {
    "scrolled": true
   },
   "outputs": [
    {
     "name": "stdout",
     "output_type": "stream",
     "text": [
      "Could not find exact threshold 0.03; using closest threshold found 0.030019319356088193.\n",
      "Confusion Matrix (Act/Pred) @ threshold = 0.030019319356088193: \n"
     ]
    },
    {
     "data": {
      "text/html": [
       "<div style=\"overflow:auto\"><table style=\"width:50%\"><tr><td><b></b></td>\n",
       "<td><b>0</b></td>\n",
       "<td><b>1</b></td>\n",
       "<td><b>Error</b></td>\n",
       "<td><b>Rate</b></td></tr>\n",
       "<tr><td>0</td>\n",
       "<td>52241.0</td>\n",
       "<td>111643.0</td>\n",
       "<td>0.6812</td>\n",
       "<td> (111643.0/163884.0)</td></tr>\n",
       "<tr><td>1</td>\n",
       "<td>948.0</td>\n",
       "<td>10842.0</td>\n",
       "<td>0.0804</td>\n",
       "<td> (948.0/11790.0)</td></tr>\n",
       "<tr><td>Total</td>\n",
       "<td>53189.0</td>\n",
       "<td>122485.0</td>\n",
       "<td>0.6409</td>\n",
       "<td> (112591.0/175674.0)</td></tr></table></div>"
      ],
      "text/plain": [
       "       0      1       Error    Rate\n",
       "-----  -----  ------  -------  -------------------\n",
       "0      52241  111643  0.6812   (111643.0/163884.0)\n",
       "1      948    10842   0.0804   (948.0/11790.0)\n",
       "Total  53189  122485  0.6409   (112591.0/175674.0)"
      ]
     },
     "metadata": {},
     "output_type": "display_data"
    },
    {
     "name": "stdout",
     "output_type": "stream",
     "text": [
      "Confusion Matrix (Act/Pred) for max accuracy @ threshold = 0.2544249612644192: \n"
     ]
    },
    {
     "data": {
      "text/html": [
       "<div style=\"overflow:auto\"><table style=\"width:50%\"><tr><td><b></b></td>\n",
       "<td><b>0</b></td>\n",
       "<td><b>1</b></td>\n",
       "<td><b>Error</b></td>\n",
       "<td><b>Rate</b></td></tr>\n",
       "<tr><td>0</td>\n",
       "<td>163882.0</td>\n",
       "<td>2.0</td>\n",
       "<td>0.0</td>\n",
       "<td> (2.0/163884.0)</td></tr>\n",
       "<tr><td>1</td>\n",
       "<td>11788.0</td>\n",
       "<td>2.0</td>\n",
       "<td>0.9998</td>\n",
       "<td> (11788.0/11790.0)</td></tr>\n",
       "<tr><td>Total</td>\n",
       "<td>175670.0</td>\n",
       "<td>4.0</td>\n",
       "<td>0.0671</td>\n",
       "<td> (11790.0/175674.0)</td></tr></table></div>"
      ],
      "text/plain": [
       "       0       1    Error    Rate\n",
       "-----  ------  ---  -------  ------------------\n",
       "0      163882  2    0        (2.0/163884.0)\n",
       "1      11788   2    0.9998   (11788.0/11790.0)\n",
       "Total  175670  4    0.0671   (11790.0/175674.0)"
      ]
     },
     "metadata": {},
     "output_type": "display_data"
    },
    {
     "data": {
      "text/plain": [
       "[, ]"
      ]
     },
     "execution_count": 67,
     "metadata": {},
     "output_type": "execute_result"
    }
   ],
   "source": [
    "ens_model.model_performance(validate).confusion_matrix(thresholds=ens_sel_thr, metrics='accuracy')"
   ]
  },
  {
   "cell_type": "code",
   "execution_count": 68,
   "metadata": {
    "scrolled": false
   },
   "outputs": [
    {
     "data": {
      "image/png": "[encoded data removed]",
      "text/plain": [
       "<matplotlib.figure.Figure at 0x7f119558c908>"
      ]
     },
     "metadata": {},
     "output_type": "display_data"
    }
   ],
   "source": [
    "tmp = ens_model.model_performance(validate)\n",
    "from matplotlib import pyplot as plt\n",
    "plt.figure(figsize=(6, 6))\n",
    "tmp.plot()\n",
    "\n",
    "# TODO: in presentation add line at y = .95"
   ]
  },
  {
   "cell_type": "markdown",
   "metadata": {},
   "source": [
    "### Business Metrics"
   ]
  },
  {
   "cell_type": "code",
   "execution_count": 71,
   "metadata": {
    "scrolled": true
   },
   "outputs": [
    {
     "name": "stdout",
     "output_type": "stream",
     "text": [
      "stackedensemble prediction progress: |████████████████████████████████████| 100%\n"
     ]
    },
    {
     "data": {
      "text/html": [
       "<table>\n",
       "<thead>\n",
       "<tr><th style=\"text-align: right;\">  issue_d_year</th><th style=\"text-align: right;\">  REVENUE (in mln)</th><th style=\"text-align: right;\">  PROFIT (in mln)</th><th style=\"text-align: right;\">  ROI (%)</th><th style=\"text-align: right;\">  REVENUE1 (in mln)</th><th style=\"text-align: right;\">  PROFIT1 (in mln)</th><th style=\"text-align: right;\">  ROI1 (%)</th><th style=\"text-align: right;\">  REVENUE2 (in mln)</th><th style=\"text-align: right;\">  PROFIT2 (in mln)</th><th style=\"text-align: right;\">  ROI2 (%)</th></tr>\n",
       "</thead>\n",
       "<tbody>\n",
       "<tr><td style=\"text-align: right;\">          2007</td><td style=\"text-align: right;\">              1.04</td><td style=\"text-align: right;\">            -0.07</td><td style=\"text-align: right;\">    -6.3 </td><td style=\"text-align: right;\">               0.73</td><td style=\"text-align: right;\">              0   </td><td style=\"text-align: right;\">     -0.65</td><td style=\"text-align: right;\">               0.31</td><td style=\"text-align: right;\">              0.04</td><td style=\"text-align: right;\">     12.56</td></tr>\n",
       "<tr><td style=\"text-align: right;\">          2008</td><td style=\"text-align: right;\">              3.96</td><td style=\"text-align: right;\">            -0.29</td><td style=\"text-align: right;\">    -6.78</td><td style=\"text-align: right;\">               2.65</td><td style=\"text-align: right;\">             -0.17</td><td style=\"text-align: right;\">     -6.06</td><td style=\"text-align: right;\">               0.4 </td><td style=\"text-align: right;\">             -0.04</td><td style=\"text-align: right;\">     -9.48</td></tr>\n",
       "<tr><td style=\"text-align: right;\">          2009</td><td style=\"text-align: right;\">             10.34</td><td style=\"text-align: right;\">             0.79</td><td style=\"text-align: right;\">     8.25</td><td style=\"text-align: right;\">               6.23</td><td style=\"text-align: right;\">              0.48</td><td style=\"text-align: right;\">      8.3 </td><td style=\"text-align: right;\">               1.81</td><td style=\"text-align: right;\">              0.14</td><td style=\"text-align: right;\">      8.52</td></tr>\n",
       "<tr><td style=\"text-align: right;\">          2010</td><td style=\"text-align: right;\">             28.64</td><td style=\"text-align: right;\">             1.58</td><td style=\"text-align: right;\">     5.85</td><td style=\"text-align: right;\">              17.3 </td><td style=\"text-align: right;\">              0.65</td><td style=\"text-align: right;\">      3.93</td><td style=\"text-align: right;\">               7.16</td><td style=\"text-align: right;\">             -0.1 </td><td style=\"text-align: right;\">     -1.35</td></tr>\n",
       "<tr><td style=\"text-align: right;\">          2011</td><td style=\"text-align: right;\">             47.4 </td><td style=\"text-align: right;\">             2.84</td><td style=\"text-align: right;\">     6.38</td><td style=\"text-align: right;\">              29.27</td><td style=\"text-align: right;\">              2.09</td><td style=\"text-align: right;\">      7.7 </td><td style=\"text-align: right;\">              13.98</td><td style=\"text-align: right;\">              0.91</td><td style=\"text-align: right;\">      6.99</td></tr>\n",
       "<tr><td style=\"text-align: right;\">          2012</td><td style=\"text-align: right;\">            141.27</td><td style=\"text-align: right;\">            10.88</td><td style=\"text-align: right;\">     8.34</td><td style=\"text-align: right;\">              67.21</td><td style=\"text-align: right;\">              5.39</td><td style=\"text-align: right;\">      8.71</td><td style=\"text-align: right;\">              28.88</td><td style=\"text-align: right;\">              2.07</td><td style=\"text-align: right;\">      7.74</td></tr>\n",
       "<tr><td style=\"text-align: right;\">          2013</td><td style=\"text-align: right;\">            214.15</td><td style=\"text-align: right;\">             1.81</td><td style=\"text-align: right;\">     0.85</td><td style=\"text-align: right;\">             103.86</td><td style=\"text-align: right;\">              3.76</td><td style=\"text-align: right;\">      3.76</td><td style=\"text-align: right;\">              38.83</td><td style=\"text-align: right;\">              1.44</td><td style=\"text-align: right;\">      3.85</td></tr>\n",
       "<tr><td style=\"text-align: right;\">          2014</td><td style=\"text-align: right;\">            189.11</td><td style=\"text-align: right;\">           -21.43</td><td style=\"text-align: right;\">   -10.18</td><td style=\"text-align: right;\">              99.01</td><td style=\"text-align: right;\">             -5.92</td><td style=\"text-align: right;\">     -5.64</td><td style=\"text-align: right;\">              37.07</td><td style=\"text-align: right;\">             -0.98</td><td style=\"text-align: right;\">     -2.56</td></tr>\n",
       "<tr><td style=\"text-align: right;\">          2015</td><td style=\"text-align: right;\">             71.12</td><td style=\"text-align: right;\">           -17.86</td><td style=\"text-align: right;\">   -20.07</td><td style=\"text-align: right;\">              38.95</td><td style=\"text-align: right;\">             -5.67</td><td style=\"text-align: right;\">    -12.71</td><td style=\"text-align: right;\">              17.64</td><td style=\"text-align: right;\">             -1.61</td><td style=\"text-align: right;\">     -8.36</td></tr>\n",
       "</tbody>\n",
       "</table>"
      ]
     },
     "metadata": {},
     "output_type": "display_data"
    },
    {
     "data": {
      "text/plain": []
     },
     "execution_count": 71,
     "metadata": {},
     "output_type": "execute_result"
    }
   ],
   "source": [
    "ens_res = validate.cbind(ens_model.predict(validate))\n",
    "ens_res = ens_res[['issue_d_year', 'loan_status', 'loan_amnt', 'total_pymnt', 'p1']]\n",
    "ens_res['pred1'] = ens_res['p1'] > ens_model.find_threshold_by_max_metric('f2')\n",
    "ens_res['pred2'] = ens_res['p1'] > ens_sel_thr\n",
    "ens_res = ens_res[ens_res['loan_status'] != 'Current']\n",
    "\n",
    "ens_res['loan_amnt1'] = ens_res['loan_amnt'] * (1.0 - ens_res['pred1'])\n",
    "ens_res['loan_amnt2'] = ens_res['loan_amnt'] * (1.0 - ens_res['pred2'])\n",
    "\n",
    "ens_res['total_pymnt1'] = ens_res['total_pymnt'] * (1.0 - ens_res['pred1'])\n",
    "ens_res['total_pymnt2'] = ens_res['total_pymnt'] * (1.0 - ens_res['pred2'])\n",
    "\n",
    "tmp = ens_res.group_by('issue_d_year') \\\n",
    "    .sum('loan_amnt2') \\\n",
    "    .sum('loan_amnt1') \\\n",
    "    .sum('loan_amnt') \\\n",
    "    .sum('total_pymnt2') \\\n",
    "    .sum('total_pymnt1') \\\n",
    "    .sum('total_pymnt') \\\n",
    "    .get_frame()\n",
    "\n",
    "tmp['REVENUE (in mln)'] = (tmp['sum_total_pymnt']  / 1e6).round(2)\n",
    "tmp['PROFIT (in mln)'] = ((tmp['sum_total_pymnt'] - tmp['sum_loan_amnt']) / 1e6).round(2)\n",
    "tmp['ROI (%)'] = ((tmp['sum_total_pymnt'] / tmp['sum_loan_amnt'] - 1.0) * 100.0).round(2)\n",
    "\n",
    "tmp['REVENUE1 (in mln)'] = (tmp['sum_total_pymnt1']  / 1e6).round(2)\n",
    "tmp['PROFIT1 (in mln)'] = ((tmp['sum_total_pymnt1'] - tmp['sum_loan_amnt1']) / 1e6).round(2)\n",
    "tmp['ROI1 (%)'] = ((tmp['sum_total_pymnt1'] / tmp['sum_loan_amnt1'] - 1.0) * 100.0).round(2)\n",
    "\n",
    "tmp['REVENUE2 (in mln)'] = (tmp['sum_total_pymnt2']  / 1e6).round(2)\n",
    "tmp['PROFIT2 (in mln)'] = ((tmp['sum_total_pymnt2'] - tmp['sum_loan_amnt2']) / 1e6).round(2)\n",
    "tmp['ROI2 (%)'] = ((tmp['sum_total_pymnt2'] / tmp['sum_loan_amnt2'] - 1.0) * 100.0).round(2)\n",
    "\n",
    "tmp[['issue_d_year', \n",
    "     'REVENUE (in mln)', 'PROFIT (in mln)', 'ROI (%)',\n",
    "     'REVENUE1 (in mln)', 'PROFIT1 (in mln)', 'ROI1 (%)',\n",
    "     'REVENUE2 (in mln)', 'PROFIT2 (in mln)', 'ROI2 (%)'\n",
    "    ]]\n",
    "\n",
    " "
   ]
  },
  {
   "cell_type": "code",
   "execution_count": 77,
   "metadata": {},
   "outputs": [
    {
     "data": {
      "text/plain": [
       "PROFIT (in mln)    -21.75\n",
       "PROFIT1 (in mln)     0.61\n",
       "PROFIT2 (in mln)     1.87\n",
       "dtype: float64"
      ]
     },
     "execution_count": 77,
     "metadata": {},
     "output_type": "execute_result"
    }
   ],
   "source": [
    "tmp[['PROFIT (in mln)', 'PROFIT1 (in mln)', 'PROFIT2 (in mln)']].as_data_frame().apply(lambda x: np.sum(x), axis=0)   "
   ]
  }
 ],
 "metadata": {
  "kernelspec": {
   "display_name": "Python 3",
   "language": "python",
   "name": "python3"
  },
  "language_info": {
   "codemirror_mode": {
    "name": "ipython",
    "version": 3
   },
   "file_extension": ".py",
   "mimetype": "text/x-python",
   "name": "python",
   "nbconvert_exporter": "python",
   "pygments_lexer": "ipython3",
   "version": "3.5.2"
  }
 },
 "nbformat": 4,
 "nbformat_minor": 2
}
